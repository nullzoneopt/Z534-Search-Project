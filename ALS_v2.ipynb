{
  "nbformat": 4,
  "nbformat_minor": 0,
  "metadata": {
    "colab": {
      "name": "ALS_v2.ipynb",
      "provenance": [],
      "collapsed_sections": []
    },
    "kernelspec": {
      "name": "python3",
      "display_name": "Python 3"
    },
    "accelerator": "GPU",
    "widgets": {
      "application/vnd.jupyter.widget-state+json": {
        "18ff2e1cc5464a899e4dc96a8f5d2d67": {
          "model_module": "@jupyter-widgets/controls",
          "model_name": "HBoxModel",
          "state": {
            "_view_name": "HBoxView",
            "_dom_classes": [],
            "_model_name": "HBoxModel",
            "_view_module": "@jupyter-widgets/controls",
            "_model_module_version": "1.5.0",
            "_view_count": null,
            "_view_module_version": "1.5.0",
            "box_style": "",
            "layout": "IPY_MODEL_bc670689d0454a0a8927a30cacfb56ad",
            "_model_module": "@jupyter-widgets/controls",
            "children": [
              "IPY_MODEL_d270c366ce264969bd344706ee99c897",
              "IPY_MODEL_cadfc0bfa1ae498cbff4ec9f10365970"
            ]
          }
        },
        "bc670689d0454a0a8927a30cacfb56ad": {
          "model_module": "@jupyter-widgets/base",
          "model_name": "LayoutModel",
          "state": {
            "_view_name": "LayoutView",
            "grid_template_rows": null,
            "right": null,
            "justify_content": null,
            "_view_module": "@jupyter-widgets/base",
            "overflow": null,
            "_model_module_version": "1.2.0",
            "_view_count": null,
            "flex_flow": null,
            "width": null,
            "min_width": null,
            "border": null,
            "align_items": null,
            "bottom": null,
            "_model_module": "@jupyter-widgets/base",
            "top": null,
            "grid_column": null,
            "overflow_y": null,
            "overflow_x": null,
            "grid_auto_flow": null,
            "grid_area": null,
            "grid_template_columns": null,
            "flex": null,
            "_model_name": "LayoutModel",
            "justify_items": null,
            "grid_row": null,
            "max_height": null,
            "align_content": null,
            "visibility": null,
            "align_self": null,
            "height": null,
            "min_height": null,
            "padding": null,
            "grid_auto_rows": null,
            "grid_gap": null,
            "max_width": null,
            "order": null,
            "_view_module_version": "1.2.0",
            "grid_template_areas": null,
            "object_position": null,
            "object_fit": null,
            "grid_auto_columns": null,
            "margin": null,
            "display": null,
            "left": null
          }
        },
        "d270c366ce264969bd344706ee99c897": {
          "model_module": "@jupyter-widgets/controls",
          "model_name": "FloatProgressModel",
          "state": {
            "_view_name": "ProgressView",
            "style": "IPY_MODEL_fd8fc89da73f4337b370c7c128cce5bf",
            "_dom_classes": [],
            "description": "100%",
            "_model_name": "FloatProgressModel",
            "bar_style": "success",
            "max": 50,
            "_view_module": "@jupyter-widgets/controls",
            "_model_module_version": "1.5.0",
            "value": 50,
            "_view_count": null,
            "_view_module_version": "1.5.0",
            "orientation": "horizontal",
            "min": 0,
            "description_tooltip": null,
            "_model_module": "@jupyter-widgets/controls",
            "layout": "IPY_MODEL_28e0ce061bb34707bf8da6486abcd3f5"
          }
        },
        "cadfc0bfa1ae498cbff4ec9f10365970": {
          "model_module": "@jupyter-widgets/controls",
          "model_name": "HTMLModel",
          "state": {
            "_view_name": "HTMLView",
            "style": "IPY_MODEL_c8ba63ff9a844b0da2145cd798e0b02d",
            "_dom_classes": [],
            "description": "",
            "_model_name": "HTMLModel",
            "placeholder": "​",
            "_view_module": "@jupyter-widgets/controls",
            "_model_module_version": "1.5.0",
            "value": " 50/50 [00:01&lt;00:00, 39.94it/s]",
            "_view_count": null,
            "_view_module_version": "1.5.0",
            "description_tooltip": null,
            "_model_module": "@jupyter-widgets/controls",
            "layout": "IPY_MODEL_e040bb7b48f344e1a71e92aebf32f74e"
          }
        },
        "fd8fc89da73f4337b370c7c128cce5bf": {
          "model_module": "@jupyter-widgets/controls",
          "model_name": "ProgressStyleModel",
          "state": {
            "_view_name": "StyleView",
            "_model_name": "ProgressStyleModel",
            "description_width": "initial",
            "_view_module": "@jupyter-widgets/base",
            "_model_module_version": "1.5.0",
            "_view_count": null,
            "_view_module_version": "1.2.0",
            "bar_color": null,
            "_model_module": "@jupyter-widgets/controls"
          }
        },
        "28e0ce061bb34707bf8da6486abcd3f5": {
          "model_module": "@jupyter-widgets/base",
          "model_name": "LayoutModel",
          "state": {
            "_view_name": "LayoutView",
            "grid_template_rows": null,
            "right": null,
            "justify_content": null,
            "_view_module": "@jupyter-widgets/base",
            "overflow": null,
            "_model_module_version": "1.2.0",
            "_view_count": null,
            "flex_flow": null,
            "width": null,
            "min_width": null,
            "border": null,
            "align_items": null,
            "bottom": null,
            "_model_module": "@jupyter-widgets/base",
            "top": null,
            "grid_column": null,
            "overflow_y": null,
            "overflow_x": null,
            "grid_auto_flow": null,
            "grid_area": null,
            "grid_template_columns": null,
            "flex": null,
            "_model_name": "LayoutModel",
            "justify_items": null,
            "grid_row": null,
            "max_height": null,
            "align_content": null,
            "visibility": null,
            "align_self": null,
            "height": null,
            "min_height": null,
            "padding": null,
            "grid_auto_rows": null,
            "grid_gap": null,
            "max_width": null,
            "order": null,
            "_view_module_version": "1.2.0",
            "grid_template_areas": null,
            "object_position": null,
            "object_fit": null,
            "grid_auto_columns": null,
            "margin": null,
            "display": null,
            "left": null
          }
        },
        "c8ba63ff9a844b0da2145cd798e0b02d": {
          "model_module": "@jupyter-widgets/controls",
          "model_name": "DescriptionStyleModel",
          "state": {
            "_view_name": "StyleView",
            "_model_name": "DescriptionStyleModel",
            "description_width": "",
            "_view_module": "@jupyter-widgets/base",
            "_model_module_version": "1.5.0",
            "_view_count": null,
            "_view_module_version": "1.2.0",
            "_model_module": "@jupyter-widgets/controls"
          }
        },
        "e040bb7b48f344e1a71e92aebf32f74e": {
          "model_module": "@jupyter-widgets/base",
          "model_name": "LayoutModel",
          "state": {
            "_view_name": "LayoutView",
            "grid_template_rows": null,
            "right": null,
            "justify_content": null,
            "_view_module": "@jupyter-widgets/base",
            "overflow": null,
            "_model_module_version": "1.2.0",
            "_view_count": null,
            "flex_flow": null,
            "width": null,
            "min_width": null,
            "border": null,
            "align_items": null,
            "bottom": null,
            "_model_module": "@jupyter-widgets/base",
            "top": null,
            "grid_column": null,
            "overflow_y": null,
            "overflow_x": null,
            "grid_auto_flow": null,
            "grid_area": null,
            "grid_template_columns": null,
            "flex": null,
            "_model_name": "LayoutModel",
            "justify_items": null,
            "grid_row": null,
            "max_height": null,
            "align_content": null,
            "visibility": null,
            "align_self": null,
            "height": null,
            "min_height": null,
            "padding": null,
            "grid_auto_rows": null,
            "grid_gap": null,
            "max_width": null,
            "order": null,
            "_view_module_version": "1.2.0",
            "grid_template_areas": null,
            "object_position": null,
            "object_fit": null,
            "grid_auto_columns": null,
            "margin": null,
            "display": null,
            "left": null
          }
        },
        "25b2da54329f4795a36de79064f5f019": {
          "model_module": "@jupyter-widgets/controls",
          "model_name": "HBoxModel",
          "state": {
            "_view_name": "HBoxView",
            "_dom_classes": [],
            "_model_name": "HBoxModel",
            "_view_module": "@jupyter-widgets/controls",
            "_model_module_version": "1.5.0",
            "_view_count": null,
            "_view_module_version": "1.5.0",
            "box_style": "",
            "layout": "IPY_MODEL_ecd635f815dc4ff48581f589adfff5e2",
            "_model_module": "@jupyter-widgets/controls",
            "children": [
              "IPY_MODEL_ffb5b3b333d34122aa36d947ff974990",
              "IPY_MODEL_e9927ee263ce4b988d0815dfbea4e9d6"
            ]
          }
        },
        "ecd635f815dc4ff48581f589adfff5e2": {
          "model_module": "@jupyter-widgets/base",
          "model_name": "LayoutModel",
          "state": {
            "_view_name": "LayoutView",
            "grid_template_rows": null,
            "right": null,
            "justify_content": null,
            "_view_module": "@jupyter-widgets/base",
            "overflow": null,
            "_model_module_version": "1.2.0",
            "_view_count": null,
            "flex_flow": null,
            "width": null,
            "min_width": null,
            "border": null,
            "align_items": null,
            "bottom": null,
            "_model_module": "@jupyter-widgets/base",
            "top": null,
            "grid_column": null,
            "overflow_y": null,
            "overflow_x": null,
            "grid_auto_flow": null,
            "grid_area": null,
            "grid_template_columns": null,
            "flex": null,
            "_model_name": "LayoutModel",
            "justify_items": null,
            "grid_row": null,
            "max_height": null,
            "align_content": null,
            "visibility": null,
            "align_self": null,
            "height": null,
            "min_height": null,
            "padding": null,
            "grid_auto_rows": null,
            "grid_gap": null,
            "max_width": null,
            "order": null,
            "_view_module_version": "1.2.0",
            "grid_template_areas": null,
            "object_position": null,
            "object_fit": null,
            "grid_auto_columns": null,
            "margin": null,
            "display": null,
            "left": null
          }
        },
        "ffb5b3b333d34122aa36d947ff974990": {
          "model_module": "@jupyter-widgets/controls",
          "model_name": "FloatProgressModel",
          "state": {
            "_view_name": "ProgressView",
            "style": "IPY_MODEL_96ffc42f5c6e4a58971035ba229eb58b",
            "_dom_classes": [],
            "description": "100%",
            "_model_name": "FloatProgressModel",
            "bar_style": "success",
            "max": 20,
            "_view_module": "@jupyter-widgets/controls",
            "_model_module_version": "1.5.0",
            "value": 20,
            "_view_count": null,
            "_view_module_version": "1.5.0",
            "orientation": "horizontal",
            "min": 0,
            "description_tooltip": null,
            "_model_module": "@jupyter-widgets/controls",
            "layout": "IPY_MODEL_7550ebbb554f4bdc89a5fc7906be92c5"
          }
        },
        "e9927ee263ce4b988d0815dfbea4e9d6": {
          "model_module": "@jupyter-widgets/controls",
          "model_name": "HTMLModel",
          "state": {
            "_view_name": "HTMLView",
            "style": "IPY_MODEL_90204e28d965445994a60eca1e0e3c1e",
            "_dom_classes": [],
            "description": "",
            "_model_name": "HTMLModel",
            "placeholder": "​",
            "_view_module": "@jupyter-widgets/controls",
            "_model_module_version": "1.5.0",
            "value": " 20/20 [08:07&lt;00:00, 24.39s/it]",
            "_view_count": null,
            "_view_module_version": "1.5.0",
            "description_tooltip": null,
            "_model_module": "@jupyter-widgets/controls",
            "layout": "IPY_MODEL_9a5938dfcfcb4d1b8aff523e8dc410e7"
          }
        },
        "96ffc42f5c6e4a58971035ba229eb58b": {
          "model_module": "@jupyter-widgets/controls",
          "model_name": "ProgressStyleModel",
          "state": {
            "_view_name": "StyleView",
            "_model_name": "ProgressStyleModel",
            "description_width": "initial",
            "_view_module": "@jupyter-widgets/base",
            "_model_module_version": "1.5.0",
            "_view_count": null,
            "_view_module_version": "1.2.0",
            "bar_color": null,
            "_model_module": "@jupyter-widgets/controls"
          }
        },
        "7550ebbb554f4bdc89a5fc7906be92c5": {
          "model_module": "@jupyter-widgets/base",
          "model_name": "LayoutModel",
          "state": {
            "_view_name": "LayoutView",
            "grid_template_rows": null,
            "right": null,
            "justify_content": null,
            "_view_module": "@jupyter-widgets/base",
            "overflow": null,
            "_model_module_version": "1.2.0",
            "_view_count": null,
            "flex_flow": null,
            "width": null,
            "min_width": null,
            "border": null,
            "align_items": null,
            "bottom": null,
            "_model_module": "@jupyter-widgets/base",
            "top": null,
            "grid_column": null,
            "overflow_y": null,
            "overflow_x": null,
            "grid_auto_flow": null,
            "grid_area": null,
            "grid_template_columns": null,
            "flex": null,
            "_model_name": "LayoutModel",
            "justify_items": null,
            "grid_row": null,
            "max_height": null,
            "align_content": null,
            "visibility": null,
            "align_self": null,
            "height": null,
            "min_height": null,
            "padding": null,
            "grid_auto_rows": null,
            "grid_gap": null,
            "max_width": null,
            "order": null,
            "_view_module_version": "1.2.0",
            "grid_template_areas": null,
            "object_position": null,
            "object_fit": null,
            "grid_auto_columns": null,
            "margin": null,
            "display": null,
            "left": null
          }
        },
        "90204e28d965445994a60eca1e0e3c1e": {
          "model_module": "@jupyter-widgets/controls",
          "model_name": "DescriptionStyleModel",
          "state": {
            "_view_name": "StyleView",
            "_model_name": "DescriptionStyleModel",
            "description_width": "",
            "_view_module": "@jupyter-widgets/base",
            "_model_module_version": "1.5.0",
            "_view_count": null,
            "_view_module_version": "1.2.0",
            "_model_module": "@jupyter-widgets/controls"
          }
        },
        "9a5938dfcfcb4d1b8aff523e8dc410e7": {
          "model_module": "@jupyter-widgets/base",
          "model_name": "LayoutModel",
          "state": {
            "_view_name": "LayoutView",
            "grid_template_rows": null,
            "right": null,
            "justify_content": null,
            "_view_module": "@jupyter-widgets/base",
            "overflow": null,
            "_model_module_version": "1.2.0",
            "_view_count": null,
            "flex_flow": null,
            "width": null,
            "min_width": null,
            "border": null,
            "align_items": null,
            "bottom": null,
            "_model_module": "@jupyter-widgets/base",
            "top": null,
            "grid_column": null,
            "overflow_y": null,
            "overflow_x": null,
            "grid_auto_flow": null,
            "grid_area": null,
            "grid_template_columns": null,
            "flex": null,
            "_model_name": "LayoutModel",
            "justify_items": null,
            "grid_row": null,
            "max_height": null,
            "align_content": null,
            "visibility": null,
            "align_self": null,
            "height": null,
            "min_height": null,
            "padding": null,
            "grid_auto_rows": null,
            "grid_gap": null,
            "max_width": null,
            "order": null,
            "_view_module_version": "1.2.0",
            "grid_template_areas": null,
            "object_position": null,
            "object_fit": null,
            "grid_auto_columns": null,
            "margin": null,
            "display": null,
            "left": null
          }
        },
        "7d9fb33ba0e448bebce679da7cf7554c": {
          "model_module": "@jupyter-widgets/controls",
          "model_name": "HBoxModel",
          "state": {
            "_view_name": "HBoxView",
            "_dom_classes": [],
            "_model_name": "HBoxModel",
            "_view_module": "@jupyter-widgets/controls",
            "_model_module_version": "1.5.0",
            "_view_count": null,
            "_view_module_version": "1.5.0",
            "box_style": "",
            "layout": "IPY_MODEL_183fbfe972e34170a658ab0a7626ccf4",
            "_model_module": "@jupyter-widgets/controls",
            "children": [
              "IPY_MODEL_1c04bcb0ad5c4d4a9605d9ab32b26cde",
              "IPY_MODEL_2b1fdf81830847f48fd60554033b32d7"
            ]
          }
        },
        "183fbfe972e34170a658ab0a7626ccf4": {
          "model_module": "@jupyter-widgets/base",
          "model_name": "LayoutModel",
          "state": {
            "_view_name": "LayoutView",
            "grid_template_rows": null,
            "right": null,
            "justify_content": null,
            "_view_module": "@jupyter-widgets/base",
            "overflow": null,
            "_model_module_version": "1.2.0",
            "_view_count": null,
            "flex_flow": null,
            "width": null,
            "min_width": null,
            "border": null,
            "align_items": null,
            "bottom": null,
            "_model_module": "@jupyter-widgets/base",
            "top": null,
            "grid_column": null,
            "overflow_y": null,
            "overflow_x": null,
            "grid_auto_flow": null,
            "grid_area": null,
            "grid_template_columns": null,
            "flex": null,
            "_model_name": "LayoutModel",
            "justify_items": null,
            "grid_row": null,
            "max_height": null,
            "align_content": null,
            "visibility": null,
            "align_self": null,
            "height": null,
            "min_height": null,
            "padding": null,
            "grid_auto_rows": null,
            "grid_gap": null,
            "max_width": null,
            "order": null,
            "_view_module_version": "1.2.0",
            "grid_template_areas": null,
            "object_position": null,
            "object_fit": null,
            "grid_auto_columns": null,
            "margin": null,
            "display": null,
            "left": null
          }
        },
        "1c04bcb0ad5c4d4a9605d9ab32b26cde": {
          "model_module": "@jupyter-widgets/controls",
          "model_name": "FloatProgressModel",
          "state": {
            "_view_name": "ProgressView",
            "style": "IPY_MODEL_712d5e0d1d684b03999161e84342ef09",
            "_dom_classes": [],
            "description": "100%",
            "_model_name": "FloatProgressModel",
            "bar_style": "success",
            "max": 30,
            "_view_module": "@jupyter-widgets/controls",
            "_model_module_version": "1.5.0",
            "value": 30,
            "_view_count": null,
            "_view_module_version": "1.5.0",
            "orientation": "horizontal",
            "min": 0,
            "description_tooltip": null,
            "_model_module": "@jupyter-widgets/controls",
            "layout": "IPY_MODEL_173b02cf81b24f8d81819cd412767f2a"
          }
        },
        "2b1fdf81830847f48fd60554033b32d7": {
          "model_module": "@jupyter-widgets/controls",
          "model_name": "HTMLModel",
          "state": {
            "_view_name": "HTMLView",
            "style": "IPY_MODEL_0e5cc0ed4ce54ff7bb5101e54b43e551",
            "_dom_classes": [],
            "description": "",
            "_model_name": "HTMLModel",
            "placeholder": "​",
            "_view_module": "@jupyter-widgets/controls",
            "_model_module_version": "1.5.0",
            "value": " 30/30 [00:13&lt;00:00,  2.17it/s]",
            "_view_count": null,
            "_view_module_version": "1.5.0",
            "description_tooltip": null,
            "_model_module": "@jupyter-widgets/controls",
            "layout": "IPY_MODEL_502c3956cb70494aa58063afc82593cf"
          }
        },
        "712d5e0d1d684b03999161e84342ef09": {
          "model_module": "@jupyter-widgets/controls",
          "model_name": "ProgressStyleModel",
          "state": {
            "_view_name": "StyleView",
            "_model_name": "ProgressStyleModel",
            "description_width": "initial",
            "_view_module": "@jupyter-widgets/base",
            "_model_module_version": "1.5.0",
            "_view_count": null,
            "_view_module_version": "1.2.0",
            "bar_color": null,
            "_model_module": "@jupyter-widgets/controls"
          }
        },
        "173b02cf81b24f8d81819cd412767f2a": {
          "model_module": "@jupyter-widgets/base",
          "model_name": "LayoutModel",
          "state": {
            "_view_name": "LayoutView",
            "grid_template_rows": null,
            "right": null,
            "justify_content": null,
            "_view_module": "@jupyter-widgets/base",
            "overflow": null,
            "_model_module_version": "1.2.0",
            "_view_count": null,
            "flex_flow": null,
            "width": null,
            "min_width": null,
            "border": null,
            "align_items": null,
            "bottom": null,
            "_model_module": "@jupyter-widgets/base",
            "top": null,
            "grid_column": null,
            "overflow_y": null,
            "overflow_x": null,
            "grid_auto_flow": null,
            "grid_area": null,
            "grid_template_columns": null,
            "flex": null,
            "_model_name": "LayoutModel",
            "justify_items": null,
            "grid_row": null,
            "max_height": null,
            "align_content": null,
            "visibility": null,
            "align_self": null,
            "height": null,
            "min_height": null,
            "padding": null,
            "grid_auto_rows": null,
            "grid_gap": null,
            "max_width": null,
            "order": null,
            "_view_module_version": "1.2.0",
            "grid_template_areas": null,
            "object_position": null,
            "object_fit": null,
            "grid_auto_columns": null,
            "margin": null,
            "display": null,
            "left": null
          }
        },
        "0e5cc0ed4ce54ff7bb5101e54b43e551": {
          "model_module": "@jupyter-widgets/controls",
          "model_name": "DescriptionStyleModel",
          "state": {
            "_view_name": "StyleView",
            "_model_name": "DescriptionStyleModel",
            "description_width": "",
            "_view_module": "@jupyter-widgets/base",
            "_model_module_version": "1.5.0",
            "_view_count": null,
            "_view_module_version": "1.2.0",
            "_model_module": "@jupyter-widgets/controls"
          }
        },
        "502c3956cb70494aa58063afc82593cf": {
          "model_module": "@jupyter-widgets/base",
          "model_name": "LayoutModel",
          "state": {
            "_view_name": "LayoutView",
            "grid_template_rows": null,
            "right": null,
            "justify_content": null,
            "_view_module": "@jupyter-widgets/base",
            "overflow": null,
            "_model_module_version": "1.2.0",
            "_view_count": null,
            "flex_flow": null,
            "width": null,
            "min_width": null,
            "border": null,
            "align_items": null,
            "bottom": null,
            "_model_module": "@jupyter-widgets/base",
            "top": null,
            "grid_column": null,
            "overflow_y": null,
            "overflow_x": null,
            "grid_auto_flow": null,
            "grid_area": null,
            "grid_template_columns": null,
            "flex": null,
            "_model_name": "LayoutModel",
            "justify_items": null,
            "grid_row": null,
            "max_height": null,
            "align_content": null,
            "visibility": null,
            "align_self": null,
            "height": null,
            "min_height": null,
            "padding": null,
            "grid_auto_rows": null,
            "grid_gap": null,
            "max_width": null,
            "order": null,
            "_view_module_version": "1.2.0",
            "grid_template_areas": null,
            "object_position": null,
            "object_fit": null,
            "grid_auto_columns": null,
            "margin": null,
            "display": null,
            "left": null
          }
        },
        "2bd2e58c61bc45289d94a56650568d3f": {
          "model_module": "@jupyter-widgets/controls",
          "model_name": "HBoxModel",
          "state": {
            "_view_name": "HBoxView",
            "_dom_classes": [],
            "_model_name": "HBoxModel",
            "_view_module": "@jupyter-widgets/controls",
            "_model_module_version": "1.5.0",
            "_view_count": null,
            "_view_module_version": "1.5.0",
            "box_style": "",
            "layout": "IPY_MODEL_1bbe593dbf7847fe987d22793d34888e",
            "_model_module": "@jupyter-widgets/controls",
            "children": [
              "IPY_MODEL_8229e8ff65a048e1bfe9a877ecaa2958",
              "IPY_MODEL_36eafc9c455444c4bc218fe303f9ce42"
            ]
          }
        },
        "1bbe593dbf7847fe987d22793d34888e": {
          "model_module": "@jupyter-widgets/base",
          "model_name": "LayoutModel",
          "state": {
            "_view_name": "LayoutView",
            "grid_template_rows": null,
            "right": null,
            "justify_content": null,
            "_view_module": "@jupyter-widgets/base",
            "overflow": null,
            "_model_module_version": "1.2.0",
            "_view_count": null,
            "flex_flow": null,
            "width": null,
            "min_width": null,
            "border": null,
            "align_items": null,
            "bottom": null,
            "_model_module": "@jupyter-widgets/base",
            "top": null,
            "grid_column": null,
            "overflow_y": null,
            "overflow_x": null,
            "grid_auto_flow": null,
            "grid_area": null,
            "grid_template_columns": null,
            "flex": null,
            "_model_name": "LayoutModel",
            "justify_items": null,
            "grid_row": null,
            "max_height": null,
            "align_content": null,
            "visibility": null,
            "align_self": null,
            "height": null,
            "min_height": null,
            "padding": null,
            "grid_auto_rows": null,
            "grid_gap": null,
            "max_width": null,
            "order": null,
            "_view_module_version": "1.2.0",
            "grid_template_areas": null,
            "object_position": null,
            "object_fit": null,
            "grid_auto_columns": null,
            "margin": null,
            "display": null,
            "left": null
          }
        },
        "8229e8ff65a048e1bfe9a877ecaa2958": {
          "model_module": "@jupyter-widgets/controls",
          "model_name": "FloatProgressModel",
          "state": {
            "_view_name": "ProgressView",
            "style": "IPY_MODEL_c575f2513b3342f9a392afabce085e5e",
            "_dom_classes": [],
            "description": "100%",
            "_model_name": "FloatProgressModel",
            "bar_style": "success",
            "max": 50,
            "_view_module": "@jupyter-widgets/controls",
            "_model_module_version": "1.5.0",
            "value": 50,
            "_view_count": null,
            "_view_module_version": "1.5.0",
            "orientation": "horizontal",
            "min": 0,
            "description_tooltip": null,
            "_model_module": "@jupyter-widgets/controls",
            "layout": "IPY_MODEL_bfac37ba58994be780225f77a2b8c1cf"
          }
        },
        "36eafc9c455444c4bc218fe303f9ce42": {
          "model_module": "@jupyter-widgets/controls",
          "model_name": "HTMLModel",
          "state": {
            "_view_name": "HTMLView",
            "style": "IPY_MODEL_9f796fb9ebf748b2a5c2979969983f36",
            "_dom_classes": [],
            "description": "",
            "_model_name": "HTMLModel",
            "placeholder": "​",
            "_view_module": "@jupyter-widgets/controls",
            "_model_module_version": "1.5.0",
            "value": " 50/50 [00:07&lt;00:00,  6.74it/s]",
            "_view_count": null,
            "_view_module_version": "1.5.0",
            "description_tooltip": null,
            "_model_module": "@jupyter-widgets/controls",
            "layout": "IPY_MODEL_acc97e2349374abf938a874b2bb22d72"
          }
        },
        "c575f2513b3342f9a392afabce085e5e": {
          "model_module": "@jupyter-widgets/controls",
          "model_name": "ProgressStyleModel",
          "state": {
            "_view_name": "StyleView",
            "_model_name": "ProgressStyleModel",
            "description_width": "initial",
            "_view_module": "@jupyter-widgets/base",
            "_model_module_version": "1.5.0",
            "_view_count": null,
            "_view_module_version": "1.2.0",
            "bar_color": null,
            "_model_module": "@jupyter-widgets/controls"
          }
        },
        "bfac37ba58994be780225f77a2b8c1cf": {
          "model_module": "@jupyter-widgets/base",
          "model_name": "LayoutModel",
          "state": {
            "_view_name": "LayoutView",
            "grid_template_rows": null,
            "right": null,
            "justify_content": null,
            "_view_module": "@jupyter-widgets/base",
            "overflow": null,
            "_model_module_version": "1.2.0",
            "_view_count": null,
            "flex_flow": null,
            "width": null,
            "min_width": null,
            "border": null,
            "align_items": null,
            "bottom": null,
            "_model_module": "@jupyter-widgets/base",
            "top": null,
            "grid_column": null,
            "overflow_y": null,
            "overflow_x": null,
            "grid_auto_flow": null,
            "grid_area": null,
            "grid_template_columns": null,
            "flex": null,
            "_model_name": "LayoutModel",
            "justify_items": null,
            "grid_row": null,
            "max_height": null,
            "align_content": null,
            "visibility": null,
            "align_self": null,
            "height": null,
            "min_height": null,
            "padding": null,
            "grid_auto_rows": null,
            "grid_gap": null,
            "max_width": null,
            "order": null,
            "_view_module_version": "1.2.0",
            "grid_template_areas": null,
            "object_position": null,
            "object_fit": null,
            "grid_auto_columns": null,
            "margin": null,
            "display": null,
            "left": null
          }
        },
        "9f796fb9ebf748b2a5c2979969983f36": {
          "model_module": "@jupyter-widgets/controls",
          "model_name": "DescriptionStyleModel",
          "state": {
            "_view_name": "StyleView",
            "_model_name": "DescriptionStyleModel",
            "description_width": "",
            "_view_module": "@jupyter-widgets/base",
            "_model_module_version": "1.5.0",
            "_view_count": null,
            "_view_module_version": "1.2.0",
            "_model_module": "@jupyter-widgets/controls"
          }
        },
        "acc97e2349374abf938a874b2bb22d72": {
          "model_module": "@jupyter-widgets/base",
          "model_name": "LayoutModel",
          "state": {
            "_view_name": "LayoutView",
            "grid_template_rows": null,
            "right": null,
            "justify_content": null,
            "_view_module": "@jupyter-widgets/base",
            "overflow": null,
            "_model_module_version": "1.2.0",
            "_view_count": null,
            "flex_flow": null,
            "width": null,
            "min_width": null,
            "border": null,
            "align_items": null,
            "bottom": null,
            "_model_module": "@jupyter-widgets/base",
            "top": null,
            "grid_column": null,
            "overflow_y": null,
            "overflow_x": null,
            "grid_auto_flow": null,
            "grid_area": null,
            "grid_template_columns": null,
            "flex": null,
            "_model_name": "LayoutModel",
            "justify_items": null,
            "grid_row": null,
            "max_height": null,
            "align_content": null,
            "visibility": null,
            "align_self": null,
            "height": null,
            "min_height": null,
            "padding": null,
            "grid_auto_rows": null,
            "grid_gap": null,
            "max_width": null,
            "order": null,
            "_view_module_version": "1.2.0",
            "grid_template_areas": null,
            "object_position": null,
            "object_fit": null,
            "grid_auto_columns": null,
            "margin": null,
            "display": null,
            "left": null
          }
        }
      }
    }
  },
  "cells": [
    {
      "cell_type": "code",
      "metadata": {
        "id": "MBewdYuSi9mH"
      },
      "source": [
        "import pandas as pd\n",
        "import numpy as np\n",
        "import random\n",
        "import scipy.sparse as sparse\n",
        "from scipy.sparse.linalg import spsolve\n",
        "from sklearn import metrics\n",
        "from sklearn.preprocessing import MinMaxScaler\n",
        "import itertools\n",
        "from collections import defaultdict"
      ],
      "execution_count": 1,
      "outputs": []
    },
    {
      "cell_type": "code",
      "metadata": {
        "colab": {
          "base_uri": "https://localhost:8080/"
        },
        "id": "juXpNaxU2-ZZ",
        "outputId": "76a68069-5a8d-41da-bf52-0abf3c4219ad"
      },
      "source": [
        "!pip install pickle5\n",
        "import pickle5"
      ],
      "execution_count": 2,
      "outputs": [
        {
          "output_type": "stream",
          "text": [
            "Requirement already satisfied: pickle5 in /usr/local/lib/python3.6/dist-packages (0.0.11)\n"
          ],
          "name": "stdout"
        }
      ]
    },
    {
      "cell_type": "code",
      "metadata": {
        "colab": {
          "base_uri": "https://localhost:8080/"
        },
        "id": "4fcnpMnDjCq8",
        "outputId": "25bb4e43-9ec6-4e99-84ab-5fc7e6d2c2e7"
      },
      "source": [
        "!pip install implicit\n",
        "import implicit\n",
        "from implicit.evaluation import train_test_split, precision_at_k, mean_average_precision_at_k"
      ],
      "execution_count": 3,
      "outputs": [
        {
          "output_type": "stream",
          "text": [
            "Requirement already satisfied: implicit in /usr/local/lib/python3.6/dist-packages (0.4.4)\n",
            "Requirement already satisfied: scipy>=0.16 in /usr/local/lib/python3.6/dist-packages (from implicit) (1.4.1)\n",
            "Requirement already satisfied: numpy in /usr/local/lib/python3.6/dist-packages (from implicit) (1.18.5)\n",
            "Requirement already satisfied: tqdm>=4.27 in /usr/local/lib/python3.6/dist-packages (from implicit) (4.41.1)\n"
          ],
          "name": "stdout"
        }
      ]
    },
    {
      "cell_type": "code",
      "metadata": {
        "id": "ymCMjeUsjFM2"
      },
      "source": [
        "# user_review = pd.read_csv(\"/content/drive/My Drive/archive/user_review_mat_food_rest_v2.csv/\")\n",
        "with open('/content/drive/My Drive/archive/user_review_mat_v3.pkl','rb') as file:\n",
        "    user_review = pickle5.load(file)"
      ],
      "execution_count": 4,
      "outputs": []
    },
    {
      "cell_type": "code",
      "metadata": {
        "colab": {
          "base_uri": "https://localhost:8080/",
          "height": 199
        },
        "id": "KlZLXXJiBSy9",
        "outputId": "df1d4724-effc-4b1d-bb67-d1f687e11112"
      },
      "source": [
        "user_review.head()"
      ],
      "execution_count": 5,
      "outputs": [
        {
          "output_type": "execute_result",
          "data": {
            "text/html": [
              "<div>\n",
              "<style scoped>\n",
              "    .dataframe tbody tr th:only-of-type {\n",
              "        vertical-align: middle;\n",
              "    }\n",
              "\n",
              "    .dataframe tbody tr th {\n",
              "        vertical-align: top;\n",
              "    }\n",
              "\n",
              "    .dataframe thead th {\n",
              "        text-align: right;\n",
              "    }\n",
              "</style>\n",
              "<table border=\"1\" class=\"dataframe\">\n",
              "  <thead>\n",
              "    <tr style=\"text-align: right;\">\n",
              "      <th></th>\n",
              "      <th>user_id</th>\n",
              "      <th>business_id</th>\n",
              "      <th>user_stars</th>\n",
              "      <th>name</th>\n",
              "    </tr>\n",
              "  </thead>\n",
              "  <tbody>\n",
              "    <tr>\n",
              "      <th>0</th>\n",
              "      <td>UgMW8bLE0QMJDCkQ1Ax5Mg</td>\n",
              "      <td>IS4cv902ykd8wj1TR0N3-A</td>\n",
              "      <td>4.0</td>\n",
              "      <td>aising Cane's Chicken Finger</td>\n",
              "    </tr>\n",
              "    <tr>\n",
              "      <th>1</th>\n",
              "      <td>5vD2kmE25YBrbayKhykNxQ</td>\n",
              "      <td>nlxHRv1zXGT0c0K51q3jDg</td>\n",
              "      <td>5.0</td>\n",
              "      <td>Firehouse Subs</td>\n",
              "    </tr>\n",
              "    <tr>\n",
              "      <th>2</th>\n",
              "      <td>aq_ZxGHiri48TUXJlpRkCQ</td>\n",
              "      <td>Pthe4qk5xh4n-ef-9bvMSg</td>\n",
              "      <td>5.0</td>\n",
              "      <td>Chon Thai Food</td>\n",
              "    </tr>\n",
              "    <tr>\n",
              "      <th>3</th>\n",
              "      <td>P6apihD4ASf1vpPxHODxAQ</td>\n",
              "      <td>e_BiI4ej1CW1F0EyVLr-FQ</td>\n",
              "      <td>5.0</td>\n",
              "      <td>Casa Mia</td>\n",
              "    </tr>\n",
              "    <tr>\n",
              "      <th>4</th>\n",
              "      <td>HJECayULRM-6xh2GCCvLiA</td>\n",
              "      <td>l-nL4BmhzpZjcavooO48PQ</td>\n",
              "      <td>4.0</td>\n",
              "      <td>The Wokker Restaurant</td>\n",
              "    </tr>\n",
              "  </tbody>\n",
              "</table>\n",
              "</div>"
            ],
            "text/plain": [
              "                  user_id  ...                          name\n",
              "0  UgMW8bLE0QMJDCkQ1Ax5Mg  ...  aising Cane's Chicken Finger\n",
              "1  5vD2kmE25YBrbayKhykNxQ  ...                Firehouse Subs\n",
              "2  aq_ZxGHiri48TUXJlpRkCQ  ...                Chon Thai Food\n",
              "3  P6apihD4ASf1vpPxHODxAQ  ...                      Casa Mia\n",
              "4  HJECayULRM-6xh2GCCvLiA  ...         The Wokker Restaurant\n",
              "\n",
              "[5 rows x 4 columns]"
            ]
          },
          "metadata": {
            "tags": []
          },
          "execution_count": 5
        }
      ]
    },
    {
      "cell_type": "code",
      "metadata": {
        "colab": {
          "base_uri": "https://localhost:8080/"
        },
        "id": "2ezF5PdaS_IS",
        "outputId": "4a6b828d-095f-4a16-aa56-7d2274759bc0"
      },
      "source": [
        "## need to remove the duplicate reviews based on date and not just the last one ##\n",
        "user_review = user_review.drop_duplicates(subset=['user_id', 'business_id'], keep='last')\n",
        "len(user_review)"
      ],
      "execution_count": 6,
      "outputs": [
        {
          "output_type": "execute_result",
          "data": {
            "text/plain": [
              "3305941"
            ]
          },
          "metadata": {
            "tags": []
          },
          "execution_count": 6
        }
      ]
    },
    {
      "cell_type": "code",
      "metadata": {
        "id": "Ua7fDCF9jKyh"
      },
      "source": [
        "# Cleaning the user and business ids\n",
        "# user_review['user_id'] = user_review.user_id.str[2:-1]\n",
        "# user_review['user_id'] = user_review['user_id'].str.strip()\n",
        "# user_review['business_id'] = user_review.business_id.str[2:-1]\n",
        "# user_review['business_id'] = user_review['business_id'].str.strip( )\n",
        "# user_review['name'] = user_review.name.str[2:-1]\n",
        "# user_review['name'] = user_review['name'].str.strip()\n",
        "\n",
        "## remove users having less than 10 ratings to avoid coldstarts ##\n",
        "## need to try different 'n' and check accuracy ##\n",
        "users = user_review[['user_id','business_id']].groupby('user_id').count().sort_values(by='business_id',ascending=False).reset_index()\n",
        "users = users[users.business_id >= 25]"
      ],
      "execution_count": 7,
      "outputs": []
    },
    {
      "cell_type": "code",
      "metadata": {
        "id": "WZQOmnkXjNgW"
      },
      "source": [
        "## joining with the user_review table to filter out the users with more than 15 reviews ##\n",
        "user_review = pd.merge(user_review,users['user_id'],how='inner', on='user_id')\n",
        "\n",
        "business_lookup = user_review[['business_id', 'name']].drop_duplicates()\n",
        "business_lookup['business_id'] = business_lookup.business_id.astype(str)\n",
        "\n",
        "user_review = user_review[['user_id','business_id','name','user_stars']]"
      ],
      "execution_count": 8,
      "outputs": []
    },
    {
      "cell_type": "code",
      "metadata": {
        "id": "F3JyMPy6jPkz",
        "colab": {
          "base_uri": "https://localhost:8080/",
          "height": 199
        },
        "outputId": "01e50cfd-f1c5-4357-bfc0-368d80961301"
      },
      "source": [
        "user_review.head()"
      ],
      "execution_count": 9,
      "outputs": [
        {
          "output_type": "execute_result",
          "data": {
            "text/html": [
              "<div>\n",
              "<style scoped>\n",
              "    .dataframe tbody tr th:only-of-type {\n",
              "        vertical-align: middle;\n",
              "    }\n",
              "\n",
              "    .dataframe tbody tr th {\n",
              "        vertical-align: top;\n",
              "    }\n",
              "\n",
              "    .dataframe thead th {\n",
              "        text-align: right;\n",
              "    }\n",
              "</style>\n",
              "<table border=\"1\" class=\"dataframe\">\n",
              "  <thead>\n",
              "    <tr style=\"text-align: right;\">\n",
              "      <th></th>\n",
              "      <th>user_id</th>\n",
              "      <th>business_id</th>\n",
              "      <th>name</th>\n",
              "      <th>user_stars</th>\n",
              "    </tr>\n",
              "  </thead>\n",
              "  <tbody>\n",
              "    <tr>\n",
              "      <th>0</th>\n",
              "      <td>UgMW8bLE0QMJDCkQ1Ax5Mg</td>\n",
              "      <td>IS4cv902ykd8wj1TR0N3-A</td>\n",
              "      <td>aising Cane's Chicken Finger</td>\n",
              "      <td>4.0</td>\n",
              "    </tr>\n",
              "    <tr>\n",
              "      <th>1</th>\n",
              "      <td>UgMW8bLE0QMJDCkQ1Ax5Mg</td>\n",
              "      <td>QoKn3zRpDrBj3hCPYGDCSA</td>\n",
              "      <td>El Pollo Loco</td>\n",
              "      <td>3.0</td>\n",
              "    </tr>\n",
              "    <tr>\n",
              "      <th>2</th>\n",
              "      <td>UgMW8bLE0QMJDCkQ1Ax5Mg</td>\n",
              "      <td>_t8B7bb-Q7kmn50kvGEKzw</td>\n",
              "      <td>iller's Ale House - Henderso</td>\n",
              "      <td>4.0</td>\n",
              "    </tr>\n",
              "    <tr>\n",
              "      <th>3</th>\n",
              "      <td>UgMW8bLE0QMJDCkQ1Ax5Mg</td>\n",
              "      <td>VIG1MhUSl5FFBJ1KtCFqBg</td>\n",
              "      <td>apa John's Pizz</td>\n",
              "      <td>5.0</td>\n",
              "    </tr>\n",
              "    <tr>\n",
              "      <th>4</th>\n",
              "      <td>UgMW8bLE0QMJDCkQ1Ax5Mg</td>\n",
              "      <td>blBZJ_UbVb2ieOcktYRuZg</td>\n",
              "      <td>Smashburger</td>\n",
              "      <td>4.0</td>\n",
              "    </tr>\n",
              "  </tbody>\n",
              "</table>\n",
              "</div>"
            ],
            "text/plain": [
              "                  user_id  ... user_stars\n",
              "0  UgMW8bLE0QMJDCkQ1Ax5Mg  ...        4.0\n",
              "1  UgMW8bLE0QMJDCkQ1Ax5Mg  ...        3.0\n",
              "2  UgMW8bLE0QMJDCkQ1Ax5Mg  ...        4.0\n",
              "3  UgMW8bLE0QMJDCkQ1Ax5Mg  ...        5.0\n",
              "4  UgMW8bLE0QMJDCkQ1Ax5Mg  ...        4.0\n",
              "\n",
              "[5 rows x 4 columns]"
            ]
          },
          "metadata": {
            "tags": []
          },
          "execution_count": 9
        }
      ]
    },
    {
      "cell_type": "code",
      "metadata": {
        "id": "ZmFFThh6jVq0"
      },
      "source": [
        "# Create a numeric user_id and artist_id column for row,column accessing\n",
        "user_review['user_id'] = user_review['user_id'].astype(\"category\")\n",
        "user_review['business_id'] = user_review['business_id'].astype(\"category\")\n",
        "user_review['user_code'] = user_review['user_id'].cat.codes\n",
        "user_review['business_code'] = user_review['business_id'].cat.codes"
      ],
      "execution_count": 10,
      "outputs": []
    },
    {
      "cell_type": "code",
      "metadata": {
        "colab": {
          "base_uri": "https://localhost:8080/",
          "height": 199
        },
        "id": "OaFKVjzxqLrs",
        "outputId": "5c4d37ca-7432-42bf-c970-ce595a283d18"
      },
      "source": [
        "user_review.head()"
      ],
      "execution_count": 11,
      "outputs": [
        {
          "output_type": "execute_result",
          "data": {
            "text/html": [
              "<div>\n",
              "<style scoped>\n",
              "    .dataframe tbody tr th:only-of-type {\n",
              "        vertical-align: middle;\n",
              "    }\n",
              "\n",
              "    .dataframe tbody tr th {\n",
              "        vertical-align: top;\n",
              "    }\n",
              "\n",
              "    .dataframe thead th {\n",
              "        text-align: right;\n",
              "    }\n",
              "</style>\n",
              "<table border=\"1\" class=\"dataframe\">\n",
              "  <thead>\n",
              "    <tr style=\"text-align: right;\">\n",
              "      <th></th>\n",
              "      <th>user_id</th>\n",
              "      <th>business_id</th>\n",
              "      <th>name</th>\n",
              "      <th>user_stars</th>\n",
              "      <th>user_code</th>\n",
              "      <th>business_code</th>\n",
              "    </tr>\n",
              "  </thead>\n",
              "  <tbody>\n",
              "    <tr>\n",
              "      <th>0</th>\n",
              "      <td>UgMW8bLE0QMJDCkQ1Ax5Mg</td>\n",
              "      <td>IS4cv902ykd8wj1TR0N3-A</td>\n",
              "      <td>aising Cane's Chicken Finger</td>\n",
              "      <td>4.0</td>\n",
              "      <td>7294</td>\n",
              "      <td>13141</td>\n",
              "    </tr>\n",
              "    <tr>\n",
              "      <th>1</th>\n",
              "      <td>UgMW8bLE0QMJDCkQ1Ax5Mg</td>\n",
              "      <td>QoKn3zRpDrBj3hCPYGDCSA</td>\n",
              "      <td>El Pollo Loco</td>\n",
              "      <td>3.0</td>\n",
              "      <td>7294</td>\n",
              "      <td>18769</td>\n",
              "    </tr>\n",
              "    <tr>\n",
              "      <th>2</th>\n",
              "      <td>UgMW8bLE0QMJDCkQ1Ax5Mg</td>\n",
              "      <td>_t8B7bb-Q7kmn50kvGEKzw</td>\n",
              "      <td>iller's Ale House - Henderso</td>\n",
              "      <td>4.0</td>\n",
              "      <td>7294</td>\n",
              "      <td>25525</td>\n",
              "    </tr>\n",
              "    <tr>\n",
              "      <th>3</th>\n",
              "      <td>UgMW8bLE0QMJDCkQ1Ax5Mg</td>\n",
              "      <td>VIG1MhUSl5FFBJ1KtCFqBg</td>\n",
              "      <td>apa John's Pizz</td>\n",
              "      <td>5.0</td>\n",
              "      <td>7294</td>\n",
              "      <td>21757</td>\n",
              "    </tr>\n",
              "    <tr>\n",
              "      <th>4</th>\n",
              "      <td>UgMW8bLE0QMJDCkQ1Ax5Mg</td>\n",
              "      <td>blBZJ_UbVb2ieOcktYRuZg</td>\n",
              "      <td>Smashburger</td>\n",
              "      <td>4.0</td>\n",
              "      <td>7294</td>\n",
              "      <td>26792</td>\n",
              "    </tr>\n",
              "  </tbody>\n",
              "</table>\n",
              "</div>"
            ],
            "text/plain": [
              "                  user_id             business_id  ... user_code  business_code\n",
              "0  UgMW8bLE0QMJDCkQ1Ax5Mg  IS4cv902ykd8wj1TR0N3-A  ...      7294          13141\n",
              "1  UgMW8bLE0QMJDCkQ1Ax5Mg  QoKn3zRpDrBj3hCPYGDCSA  ...      7294          18769\n",
              "2  UgMW8bLE0QMJDCkQ1Ax5Mg  _t8B7bb-Q7kmn50kvGEKzw  ...      7294          25525\n",
              "3  UgMW8bLE0QMJDCkQ1Ax5Mg  VIG1MhUSl5FFBJ1KtCFqBg  ...      7294          21757\n",
              "4  UgMW8bLE0QMJDCkQ1Ax5Mg  blBZJ_UbVb2ieOcktYRuZg  ...      7294          26792\n",
              "\n",
              "[5 rows x 6 columns]"
            ]
          },
          "metadata": {
            "tags": []
          },
          "execution_count": 11
        }
      ]
    },
    {
      "cell_type": "code",
      "metadata": {
        "id": "LCH7XZvNk07w"
      },
      "source": [
        "# Create sparse matrix for the implicit library, one for user-business (recommending business to user) and second for business-user(finding similar businesses)\n",
        "sparse_user_business = sparse.csr_matrix((user_review['user_stars'].astype(float), (user_review['user_code'], user_review['business_code'])))\n",
        "sparse_business_user = sparse.csr_matrix((user_review['user_stars'].astype(float), (user_review['business_code'], user_review['user_code'])))"
      ],
      "execution_count": 12,
      "outputs": []
    },
    {
      "cell_type": "code",
      "metadata": {
        "id": "7xMy7ypuIJsl"
      },
      "source": [
        "# def make_train_test(sparse_mat,pct_train):\n",
        "#   '''\n",
        "#   This function will take in the sparse matrices (user-business/business-user) and separate a percentage of the original ratings as test dataset\n",
        "\n",
        "#   parameters: \n",
        "\n",
        "#   sparse_mat - the original ratings matrix from which we want to generate a train/test set. The new train \n",
        "#   and test datasets are in sparse csr_matrix form. \n",
        "\n",
        "#   pct_train - The percentage of user-business ratings that should be kept in the training data\n",
        "\n",
        "#   returns:\n",
        "\n",
        "#   train - The altered version of the original data with a certain percentage of the user-item pairs \n",
        "#   that originally had interaction set back to zero.\n",
        "\n",
        "#   test - A copy of the original ratings matrix, unaltered, so it can be used to see how the rank order \n",
        "#   compares with the actual interactions.\n",
        "#   '''\n",
        "#   # Divide data into train and test for evaluation\n",
        "#   train,test = train_test_split(sparse_mat,train_percentage=pct_train)\n",
        "#   return train, test"
      ],
      "execution_count": 13,
      "outputs": []
    },
    {
      "cell_type": "code",
      "metadata": {
        "id": "-omVVpEk6BzU"
      },
      "source": [
        "def make_train_test(sparse_user_business,test_samples=10):\n",
        "  '''\n",
        "  This function will take in the sparse matrices (user-business/business-user) and separate a percentage of the original ratings as test dataset\n",
        "\n",
        "  parameters: \n",
        "\n",
        "  sparse_mat - the original ratings matrix from which we want to generate a train/test set. The new train \n",
        "  and test datasets are in sparse csr_matrix form. \n",
        "\n",
        "  pct_train - The percentage of user-business ratings that should be kept in the training data\n",
        "\n",
        "  returns:\n",
        "\n",
        "  train - The altered version of the original data with a certain percentage of the user-item pairs \n",
        "  that originally had interaction set back to zero.\n",
        "\n",
        "  test - A copy of the original ratings matrix, unaltered, so it can be used to see how the rank order \n",
        "  compares with the actual interactions.\n",
        "  '''\n",
        "  #pct_test = 0.2\n",
        "  test_set = sparse_user_business.copy() # Make a copy of the original set to be the test set\n",
        "  test_set[test_set != 0] = 1 # Store the test set as a binary preference matrix\n",
        "  training_set = sparse_user_business.copy() # Make a copy of the original data we can alter as our training set\n",
        "  nonzero_inds = training_set.nonzero() # Find the indices in the ratings data where an interaction exists\n",
        "  #nonzero_pairs = list(zip(nonzero_inds[0], nonzero_inds[1])) # Zip these pairs together of user,business index into list\n",
        "  nonzero_pairs = defaultdict(list)\n",
        "  for a, b in zip(nonzero_inds[0], nonzero_inds[1]):\n",
        "    nonzero_pairs[a].append(b)\n",
        "  random.seed(0) # Set the random seed to zero for reproducibility\n",
        "\n",
        "  #num_samples = int(np.ceil(pct_test*len(nonzero_pairs))) # Round the number of samples needed to the nearest integer\n",
        "  samples = defaultdict(list)\n",
        "  for users in nonzero_pairs.keys():\n",
        "    samples[users] = random.sample(nonzero_pairs[users],test_samples)\n",
        "  # Generating all the user indices which need to be masked\n",
        "  lst = range(0,list(samples.keys())[-1]+1)\n",
        "  user_inds = list(itertools.chain.from_iterable(itertools.repeat(x,test_samples) for x in lst))\n",
        "  # Business indices to be masked\n",
        "  business_inds = []\n",
        "  for key,val in samples.items():\n",
        "    business_inds = business_inds + val\n",
        "  training_set[user_inds, business_inds] = 0 # Assign all of the randomly chosen user-business pairs to zero\n",
        "  return training_set, test_set, samples"
      ],
      "execution_count": 14,
      "outputs": []
    },
    {
      "cell_type": "code",
      "metadata": {
        "id": "CR4Gu4sDMuTl"
      },
      "source": [
        "def get_business_visited(user_code, train, user_review):\n",
        "  '''\n",
        "  This function returns the businesses rated by a specific user in the training set. \n",
        "\n",
        "  parameters: \n",
        "\n",
        "  user_id - Input the user's id number that you want to see prior visits of at least once\n",
        "\n",
        "  train - User-business matrix with ratings in the training  data\n",
        "  \n",
        "  user_review - original data with user and business codes to map the business ids to business names\n",
        "\n",
        "  returns:\n",
        "\n",
        "  A list of business IDs and names for a particular user that were already rated in the training data\n",
        "  '''\n",
        "\n",
        "  business_data = user_review[user_review.user_code == user_code] # Dataframe with business rated by the user\n",
        "  business_data[business_data['business_code'].isin(train[user_code,:].nonzero()[1].tolist())] # Ratings in the training dataset\n",
        "  business_data = business_data[['business_id','name']]\n",
        "  return business_data"
      ],
      "execution_count": 15,
      "outputs": []
    },
    {
      "cell_type": "code",
      "metadata": {
        "id": "U1b3IpbJM5TL"
      },
      "source": [
        "def rec_business(model, user_code, sparse_user_item, num_business = 10):\n",
        "  '''\n",
        "  This function will return the top recommended items to our users using the recommend function\n",
        "\n",
        "  parameters:\n",
        "\n",
        "  user_code - The user code (substitute for long the user ids) that you want to get recommendations for\n",
        "\n",
        "  sparse_user_item - The user_business training matrix used for matrix factorization fitting\n",
        "\n",
        "  num_business - The number of businesses you want to recommend in order of best recommendations. Default is 10. \n",
        "\n",
        "  returns:\n",
        "\n",
        "  - The top n recommendations chosen based on the user/business vectors for businesses that were never rated before\n",
        "  '''\n",
        "\n",
        "  all_recommendations = model.recommend(user_code, sparse_user_item,N=num_business)\n",
        "\n",
        "  businesses = []\n",
        "  scores = []\n",
        "\n",
        "  # Get business names from the ids\n",
        "  for rec in all_recommendations:\n",
        "      idx, score = rec\n",
        "      businesses.append(user_review.name.loc[user_review.business_code == idx].iloc[0])\n",
        "      scores.append(score)\n",
        "\n",
        "  recommendations = pd.DataFrame({'restaurants': businesses, 'score': scores})\n",
        "  return recommendations"
      ],
      "execution_count": 16,
      "outputs": []
    },
    {
      "cell_type": "code",
      "metadata": {
        "id": "JmbjVnBfOnbQ"
      },
      "source": [
        "train,test,masked_ind = make_train_test(sparse_user_business,test_samples=20)"
      ],
      "execution_count": 17,
      "outputs": []
    },
    {
      "cell_type": "code",
      "metadata": {
        "colab": {
          "base_uri": "https://localhost:8080/",
          "height": 184,
          "referenced_widgets": [
            "18ff2e1cc5464a899e4dc96a8f5d2d67",
            "bc670689d0454a0a8927a30cacfb56ad",
            "d270c366ce264969bd344706ee99c897",
            "cadfc0bfa1ae498cbff4ec9f10365970",
            "fd8fc89da73f4337b370c7c128cce5bf",
            "28e0ce061bb34707bf8da6486abcd3f5",
            "c8ba63ff9a844b0da2145cd798e0b02d",
            "e040bb7b48f344e1a71e92aebf32f74e",
            "25b2da54329f4795a36de79064f5f019",
            "ecd635f815dc4ff48581f589adfff5e2",
            "ffb5b3b333d34122aa36d947ff974990",
            "e9927ee263ce4b988d0815dfbea4e9d6",
            "96ffc42f5c6e4a58971035ba229eb58b",
            "7550ebbb554f4bdc89a5fc7906be92c5",
            "90204e28d965445994a60eca1e0e3c1e",
            "9a5938dfcfcb4d1b8aff523e8dc410e7",
            "7d9fb33ba0e448bebce679da7cf7554c",
            "183fbfe972e34170a658ab0a7626ccf4",
            "1c04bcb0ad5c4d4a9605d9ab32b26cde",
            "2b1fdf81830847f48fd60554033b32d7",
            "712d5e0d1d684b03999161e84342ef09",
            "173b02cf81b24f8d81819cd412767f2a",
            "0e5cc0ed4ce54ff7bb5101e54b43e551",
            "502c3956cb70494aa58063afc82593cf"
          ]
        },
        "id": "t-pAy4l1ILMs",
        "outputId": "6ff2edac-746a-4468-f265-14651f4b406b"
      },
      "source": [
        "# Initialize the als model and fit it using the sparse item-user matrix\n",
        "model = implicit.als.AlternatingLeastSquares(factors=64, regularization=0.05, iterations=50)\n",
        "model.fit(train*10)\n",
        "model2 = implicit.als.AlternatingLeastSquares(factors=32, regularization=0.1, iterations=20)\n",
        "model2.fit(train*10)\n",
        "model3 = implicit.als.AlternatingLeastSquares(factors=64, regularization=0.9, iterations=30)\n",
        "model3.fit(train*5)"
      ],
      "execution_count": 18,
      "outputs": [
        {
          "output_type": "stream",
          "text": [
            "WARNING:root:OpenBLAS detected. Its highly recommend to set the environment variable 'export OPENBLAS_NUM_THREADS=1' to disable its internal multithreading\n"
          ],
          "name": "stderr"
        },
        {
          "output_type": "display_data",
          "data": {
            "application/vnd.jupyter.widget-view+json": {
              "model_id": "18ff2e1cc5464a899e4dc96a8f5d2d67",
              "version_minor": 0,
              "version_major": 2
            },
            "text/plain": [
              "HBox(children=(FloatProgress(value=0.0, max=50.0), HTML(value='')))"
            ]
          },
          "metadata": {
            "tags": []
          }
        },
        {
          "output_type": "stream",
          "text": [
            "\n"
          ],
          "name": "stdout"
        },
        {
          "output_type": "display_data",
          "data": {
            "application/vnd.jupyter.widget-view+json": {
              "model_id": "25b2da54329f4795a36de79064f5f019",
              "version_minor": 0,
              "version_major": 2
            },
            "text/plain": [
              "HBox(children=(FloatProgress(value=0.0, max=20.0), HTML(value='')))"
            ]
          },
          "metadata": {
            "tags": []
          }
        },
        {
          "output_type": "stream",
          "text": [
            "\n"
          ],
          "name": "stdout"
        },
        {
          "output_type": "display_data",
          "data": {
            "application/vnd.jupyter.widget-view+json": {
              "model_id": "7d9fb33ba0e448bebce679da7cf7554c",
              "version_minor": 0,
              "version_major": 2
            },
            "text/plain": [
              "HBox(children=(FloatProgress(value=0.0, max=30.0), HTML(value='')))"
            ]
          },
          "metadata": {
            "tags": []
          }
        },
        {
          "output_type": "stream",
          "text": [
            "\n"
          ],
          "name": "stdout"
        }
      ]
    },
    {
      "cell_type": "code",
      "metadata": {
        "id": "fxWtmnhFNa7f"
      },
      "source": [
        "all_preds = np.dot(model.item_factors,model.user_factors.T)\n",
        "all_preds2 = np.dot(model2.item_factors,model2.user_factors.T)\n",
        "all_preds3 = np.dot(model3.item_factors,model3.user_factors.T)"
      ],
      "execution_count": 19,
      "outputs": []
    },
    {
      "cell_type": "markdown",
      "metadata": {
        "id": "KpmggZhwmB3Y"
      },
      "source": [
        "# Evaluation metrics"
      ]
    },
    {
      "cell_type": "code",
      "metadata": {
        "id": "yG5VAYqf_Nhn"
      },
      "source": [
        "def mean_precision_k(all_preds,masked_ind,k=5):\n",
        "  '''\n",
        "  This function returns the average precision for all the users calculated on the test dataset. The top k recommended restaurants \n",
        "  are assumed to have positive predicted ratings. Precision is calculated as (actual and predicted positives)/(predicted positives).\n",
        "  Highest value will be 1 \n",
        "  \n",
        "  parameters\n",
        "  \n",
        "  masked_ind: the indexes which were masked during the train and test split. These indexes will be used to compare the predictions \n",
        "  against the actual ratings\n",
        "\n",
        "  k: Top k recommendations\n",
        "\n",
        "  Returns\n",
        "\n",
        "  Mean of precision array which holds precision values for all users for k recommendations\n",
        "\n",
        "  '''\n",
        "  precision = []\n",
        "  test_samples = len(list(masked_ind.values())[0]) # number of ratings masked for test data per user\n",
        "  for key,vals in masked_ind.items():\n",
        "    user_inds = [key]*test_samples # repeat to get the same user code\n",
        "    business_inds = vals\n",
        "    sorted_val = np.argsort(all_preds[user_inds,business_inds])[::-1] #Sort the restaurants according to the scores\n",
        "    sorted_ind = np.array(business_inds)[sorted_val][:k] # Filter top k restaurants as the recommendations\n",
        "    actual_ratings = sparse_user_business[key].toarray()[0][sorted_ind] #Get the actual ratings for the top recommended restaurants\n",
        "    postive_ratings = np.where(actual_ratings >= 3)[0].shape[0]  #Get the number of restaurants with actual rating >=3\n",
        "    precision.append(postive_ratings/k) #Calculate precision per user and return the mean precision\n",
        "  return np.mean(precision)  "
      ],
      "execution_count": 20,
      "outputs": []
    },
    {
      "cell_type": "code",
      "metadata": {
        "id": "aeQUYI6aANz7"
      },
      "source": [
        "def ndcg_k(all_preds,masked_ind, k=5):\n",
        "  '''\n",
        "  This function returns the mean binary NDCG for all the users calculated on the test dataset. The top k recommended restaurants \n",
        "  are assumed to have positive predicted ratings. NDCG is calculated as (relevancy)/(log2(position+1)).\n",
        "  So the NDCG score will be higher if positively rated restaurants are recommended first. \n",
        "  \n",
        "  parameters\n",
        "  \n",
        "  masked_ind: the indexes which were masked during the train and test split. These indexes will be used to compare the predictions \n",
        "  against the actual ratings\n",
        "\n",
        "  k: Top k recommendations\n",
        "\n",
        "  Returns\n",
        "\n",
        "  Mean of NDCG array which holds ndcg values for all users for k recommendations\n",
        "\n",
        "  '''  \n",
        "  ndcg = []\n",
        "  test_samples = len(list(masked_ind.values())[0]) # number of ratings masked for test data per user\n",
        "  for key,vals in masked_ind.items():\n",
        "    user_inds = [key]*test_samples # repeat to get the same user code\n",
        "    business_inds = vals\n",
        "    sorted_val = np.argsort(all_preds[user_inds,business_inds])[::-1] #Sort the restaurants according to the scores\n",
        "    sorted_ind = np.array(business_inds)[sorted_val][:k] # Filter top k restaurants as the recommendations\n",
        "    actual_ratings = sparse_user_business[key].toarray()[0][sorted_ind] #Get the actual ratings for the top recommended restaurants\n",
        "    ndcg_num = np.where(actual_ratings >= 3, 1, 0)  # numerator will be 1 if the restaurant was rated postive by the user, 0 otherwise similar to relevancy\n",
        "    ndcg_deno = np.log2(np.arange(k)+2) # denominator is log(position + 1) and NDCG is (relevancy)/(log2(position+1))\n",
        "    ndcg.append(np.sum(ndcg_num/ndcg_deno)) # NDCG is calculated as the sum of all the recommended restaurants\n",
        "  return np.mean(ndcg)"
      ],
      "execution_count": 21,
      "outputs": []
    },
    {
      "cell_type": "code",
      "metadata": {
        "id": "5FZZ7TLzD57a"
      },
      "source": [
        "def mrr(all_preds,masked_ind,k=5):\n",
        "  '''\n",
        "  This function returns the Mean Reciprocal Rank(MRR) for all the users calculated on the test dataset. The top k recommended restaurants \n",
        "  are assumed to have positive predicted ratings. MRR is the reciprocal for the position of first positively recommended restaurant\n",
        "  Highest value will be 1 \n",
        "  \n",
        "  parameters\n",
        "  \n",
        "  masked_ind: the indexes which were masked during the train and test split. These indexes will be used to compare the predictions \n",
        "  against the actual ratings\n",
        "\n",
        "  k: Top k recommendations\n",
        "\n",
        "  Returns\n",
        "\n",
        "  Mean of reciprocal rank array which holds reciprocal rank values for all users for k recommendations\n",
        "\n",
        "  '''\n",
        "  reci_rank = []\n",
        "  test_samples = len(list(masked_ind.values())[0]) # number of ratings masked for test data per user\n",
        "  for key,vals in masked_ind.items():\n",
        "    user_inds = [key]*test_samples # repeat to get the same user code\n",
        "    business_inds = vals\n",
        "    sorted_val = np.argsort(all_preds[user_inds,business_inds])[::-1] #Sort the restaurants according to the scores\n",
        "    sorted_ind = np.array(business_inds)[sorted_val][:k] # Filter top k restaurants as the recommendations\n",
        "    actual_ratings = sparse_user_business[key].toarray()[0][sorted_ind] #Get the actual ratings for the top recommended restaurants\n",
        "    first_positive = np.argmax(actual_ratings >= 3)+1  # position of first positive\n",
        "    reci_rank.append(1/first_positive)\n",
        "  return np.mean(reci_rank)"
      ],
      "execution_count": 22,
      "outputs": []
    },
    {
      "cell_type": "markdown",
      "metadata": {
        "id": "hrSZsHcOJWR9"
      },
      "source": [
        "# Metrics at 10"
      ]
    },
    {
      "cell_type": "code",
      "metadata": {
        "colab": {
          "base_uri": "https://localhost:8080/"
        },
        "id": "F8I26SQ9_02E",
        "outputId": "4795765b-c9f1-4333-c381-c6e293af0a40"
      },
      "source": [
        "print('Precision@10: ',mean_precision_k(all_preds,masked_ind,k=10))\n",
        "print('NDCG@10: ',ndcg_k(all_preds,masked_ind,k=10))\n",
        "print('MRR@10: ',mrr(all_preds,masked_ind,k=10))"
      ],
      "execution_count": 23,
      "outputs": [
        {
          "output_type": "stream",
          "text": [
            "Precision@K:  0.8574865031094102\n",
            "NDCG@K:  3.92406696130144\n",
            "MRR@K:  0.9367379558488695\n"
          ],
          "name": "stdout"
        }
      ]
    },
    {
      "cell_type": "code",
      "metadata": {
        "colab": {
          "base_uri": "https://localhost:8080/"
        },
        "id": "tgop6Oub4wc2",
        "outputId": "141051b3-2f21-48e0-d038-f5a4b20fc5f0"
      },
      "source": [
        "print('Precision@10: ',mean_precision_k(all_preds2,masked_ind,k=10))\n",
        "print('NDCG@10: ',ndcg_k(all_preds2,masked_ind,k=10))\n",
        "print('MRR@10: ',mrr(all_preds2,masked_ind,k=10))"
      ],
      "execution_count": 24,
      "outputs": [
        {
          "output_type": "stream",
          "text": [
            "Precision@K:  0.8610401148089936\n",
            "NDCG@K:  3.9408045770128206\n",
            "MRR@K:  0.9387109371186457\n"
          ],
          "name": "stdout"
        }
      ]
    },
    {
      "cell_type": "code",
      "metadata": {
        "colab": {
          "base_uri": "https://localhost:8080/"
        },
        "id": "YuUh6ak3A58G",
        "outputId": "f1d26950-4301-4ecb-e88f-47b2b67f71ae"
      },
      "source": [
        "print('Precision@10: ',mean_precision_k(all_preds3,masked_ind,k=10))\n",
        "print('NDCG@10: ',ndcg_k(all_preds3,masked_ind,k=10))\n",
        "print('MRR@10: ',mrr(all_preds3,masked_ind,k=10))"
      ],
      "execution_count": 25,
      "outputs": [
        {
          "output_type": "stream",
          "text": [
            "Precision@K:  0.8586414269117748\n",
            "NDCG@K:  3.9307673387294466\n",
            "MRR@K:  0.9380633467081905\n"
          ],
          "name": "stdout"
        }
      ]
    },
    {
      "cell_type": "markdown",
      "metadata": {
        "id": "awbVR6GUJbh0"
      },
      "source": [
        "# Metrics at 5"
      ]
    },
    {
      "cell_type": "code",
      "metadata": {
        "colab": {
          "base_uri": "https://localhost:8080/"
        },
        "id": "KyL6MPMoJem7",
        "outputId": "462190b4-dec5-46ba-c8a1-03798f343b71"
      },
      "source": [
        "print('Precision@5: ',mean_precision_k(all_preds,masked_ind,k=5))\n",
        "print('NDCG@5: ',ndcg_k(all_preds,masked_ind,k=5))\n",
        "print('MRR@5: ',mrr(all_preds,masked_ind,k=5))"
      ],
      "execution_count": 26,
      "outputs": [
        {
          "output_type": "stream",
          "text": [
            "Precision@K:  0.8698011344221963\n",
            "NDCG@K:  2.575077418349114\n",
            "MRR@K:  0.9387867605184628\n"
          ],
          "name": "stdout"
        }
      ]
    },
    {
      "cell_type": "code",
      "metadata": {
        "colab": {
          "base_uri": "https://localhost:8080/"
        },
        "id": "1QZtnHfjJpac",
        "outputId": "9632e9a4-8e06-43b8-d6cf-d8e3498097c3"
      },
      "source": [
        "print('Precision@5: ',mean_precision_k(all_preds2,masked_ind,k=5))\n",
        "print('NDCG@5: ',ndcg_k(all_preds2,masked_ind,k=5))\n",
        "print('MRR@5: ',mrr(all_preds2,masked_ind,k=5))"
      ],
      "execution_count": 27,
      "outputs": [
        {
          "output_type": "stream",
          "text": [
            "Precision@K:  0.8743661586824302\n",
            "NDCG@K:  2.5876882197780118\n",
            "MRR@K:  0.9402970454907856\n"
          ],
          "name": "stdout"
        }
      ]
    },
    {
      "cell_type": "code",
      "metadata": {
        "colab": {
          "base_uri": "https://localhost:8080/"
        },
        "id": "jzMKVnxCJppx",
        "outputId": "b0bab15d-8cbb-4060-d3cf-5f6beaefb30a"
      },
      "source": [
        "print('Precision@5: ',mean_precision_k(all_preds3,masked_ind,k=5))\n",
        "print('NDCG@5: ',ndcg_k(all_preds3,masked_ind,k=5))\n",
        "print('MRR@5: ',mrr(all_preds3,masked_ind,k=5))"
      ],
      "execution_count": 28,
      "outputs": [
        {
          "output_type": "stream",
          "text": [
            "Precision@K:  0.8723433335611289\n",
            "NDCG@K:  2.582122325827708\n",
            "MRR@K:  0.9394143374564341\n"
          ],
          "name": "stdout"
        }
      ]
    },
    {
      "cell_type": "markdown",
      "metadata": {
        "id": "1lPg2ZqlFVME"
      },
      "source": [
        "# Recommendations for a specific user"
      ]
    },
    {
      "cell_type": "code",
      "metadata": {
        "colab": {
          "base_uri": "https://localhost:8080/",
          "height": 1000
        },
        "id": "hoLRVxY-LAhh",
        "outputId": "356a84f6-e0d9-4b2e-a9f8-3ab554838157"
      },
      "source": [
        "get_business_visited(user_code=10,train=train,user_review=user_review)"
      ],
      "execution_count": 29,
      "outputs": [
        {
          "output_type": "execute_result",
          "data": {
            "text/html": [
              "<div>\n",
              "<style scoped>\n",
              "    .dataframe tbody tr th:only-of-type {\n",
              "        vertical-align: middle;\n",
              "    }\n",
              "\n",
              "    .dataframe tbody tr th {\n",
              "        vertical-align: top;\n",
              "    }\n",
              "\n",
              "    .dataframe thead th {\n",
              "        text-align: right;\n",
              "    }\n",
              "</style>\n",
              "<table border=\"1\" class=\"dataframe\">\n",
              "  <thead>\n",
              "    <tr style=\"text-align: right;\">\n",
              "      <th></th>\n",
              "      <th>business_id</th>\n",
              "      <th>name</th>\n",
              "    </tr>\n",
              "  </thead>\n",
              "  <tbody>\n",
              "    <tr>\n",
              "      <th>537589</th>\n",
              "      <td>0FUtlsQrJI7LhqDPxLumEw</td>\n",
              "      <td>oe's Farm Gril</td>\n",
              "    </tr>\n",
              "    <tr>\n",
              "      <th>537590</th>\n",
              "      <td>kctSmjXXK_1laQV7J8-3Cg</td>\n",
              "      <td>.T. O'Sullivan'</td>\n",
              "    </tr>\n",
              "    <tr>\n",
              "      <th>537591</th>\n",
              "      <td>IEVrILZ7bkuJMYKsbAfWaQ</td>\n",
              "      <td>Sushi San</td>\n",
              "    </tr>\n",
              "    <tr>\n",
              "      <th>537592</th>\n",
              "      <td>u2q_84hHvKGl5hKnAE7zNw</td>\n",
              "      <td>Sushi Ave</td>\n",
              "    </tr>\n",
              "    <tr>\n",
              "      <th>537593</th>\n",
              "      <td>D2_y52mbmTrNLHux6aCrIg</td>\n",
              "      <td>Texas Roadhouse</td>\n",
              "    </tr>\n",
              "    <tr>\n",
              "      <th>537594</th>\n",
              "      <td>S37sKRRfkhFZRpxaYzWo_A</td>\n",
              "      <td>China Magic Noodle House</td>\n",
              "    </tr>\n",
              "    <tr>\n",
              "      <th>537595</th>\n",
              "      <td>ALn_0f-Usn3n0a9WBcjhhg</td>\n",
              "      <td>anny'</td>\n",
              "    </tr>\n",
              "    <tr>\n",
              "      <th>537596</th>\n",
              "      <td>DymZ5vpm7vkSsR__-4sflw</td>\n",
              "      <td>Roka Akor - Scottsdale</td>\n",
              "    </tr>\n",
              "    <tr>\n",
              "      <th>537597</th>\n",
              "      <td>BS2nj4dQKvC5oi6ikKvX0A</td>\n",
              "      <td>Korean BBQ</td>\n",
              "    </tr>\n",
              "    <tr>\n",
              "      <th>537598</th>\n",
              "      <td>6oKZoCI_0ePyzfRqSFMBig</td>\n",
              "      <td>oy's Restauran</td>\n",
              "    </tr>\n",
              "    <tr>\n",
              "      <th>537599</th>\n",
              "      <td>yTur95e-pqQCYGGyVp6rAw</td>\n",
              "      <td>Mekong Plaza</td>\n",
              "    </tr>\n",
              "    <tr>\n",
              "      <th>537600</th>\n",
              "      <td>Wpd_2mn5d792KgPZUOOMHQ</td>\n",
              "      <td>The Mint Ultra Lounge</td>\n",
              "    </tr>\n",
              "    <tr>\n",
              "      <th>537601</th>\n",
              "      <td>5LNZ67Yw9RD6nf4_UhXOjw</td>\n",
              "      <td>The Cosmopolitan of Las Vegas</td>\n",
              "    </tr>\n",
              "    <tr>\n",
              "      <th>537602</th>\n",
              "      <td>hDDh3dtuFZyty5KOUN0JmA</td>\n",
              "      <td>Gordon Biersch Brewery Restaurant</td>\n",
              "    </tr>\n",
              "    <tr>\n",
              "      <th>537603</th>\n",
              "      <td>NMk5Y-QA43YoLftgiDlang</td>\n",
              "      <td>pplebee's Grill + Ba</td>\n",
              "    </tr>\n",
              "    <tr>\n",
              "      <th>537604</th>\n",
              "      <td>qFqueIKCVF5PlXmjl1YY9Q</td>\n",
              "      <td>Frost Gelato</td>\n",
              "    </tr>\n",
              "    <tr>\n",
              "      <th>537605</th>\n",
              "      <td>_9vGmNrEcLWFOnUzeUdfag</td>\n",
              "      <td>oe's Real BB</td>\n",
              "    </tr>\n",
              "    <tr>\n",
              "      <th>537606</th>\n",
              "      <td>A26EdvXPLzDXWg0AYVAdAA</td>\n",
              "      <td>Red Lobster</td>\n",
              "    </tr>\n",
              "    <tr>\n",
              "      <th>537607</th>\n",
              "      <td>E25-2ssHwsajyGtsllMXaA</td>\n",
              "      <td>rs White's Golden Rule Caf</td>\n",
              "    </tr>\n",
              "    <tr>\n",
              "      <th>537608</th>\n",
              "      <td>UHPjDgiEHnTe7-MP-b2kyQ</td>\n",
              "      <td>Veneto Trattoria</td>\n",
              "    </tr>\n",
              "    <tr>\n",
              "      <th>537609</th>\n",
              "      <td>GWnhc3MO4XjsKIpyExV--Q</td>\n",
              "      <td>Four Seasons Sushi Bar &amp; Grill</td>\n",
              "    </tr>\n",
              "    <tr>\n",
              "      <th>537610</th>\n",
              "      <td>wZukjLaf1V2dLRQap_Zriw</td>\n",
              "      <td>Postino East</td>\n",
              "    </tr>\n",
              "    <tr>\n",
              "      <th>537611</th>\n",
              "      <td>InIlgxqH3Aonm3E7-SLMsg</td>\n",
              "      <td>Big Lots</td>\n",
              "    </tr>\n",
              "    <tr>\n",
              "      <th>537612</th>\n",
              "      <td>O_J5e6aoskxhGx8meOm1Og</td>\n",
              "      <td>Dragon Wok</td>\n",
              "    </tr>\n",
              "    <tr>\n",
              "      <th>537613</th>\n",
              "      <td>V7nossAF0dFj_mSPYj6SSQ</td>\n",
              "      <td>Buffalo Wild Wings</td>\n",
              "    </tr>\n",
              "    <tr>\n",
              "      <th>537614</th>\n",
              "      <td>e0LINZuyY7-tw8RVhePCMA</td>\n",
              "      <td>cDonald'</td>\n",
              "    </tr>\n",
              "    <tr>\n",
              "      <th>537615</th>\n",
              "      <td>o1SDx95NHJY47dkSCvRnGQ</td>\n",
              "      <td>Chipotle Mexican Grill</td>\n",
              "    </tr>\n",
              "    <tr>\n",
              "      <th>537616</th>\n",
              "      <td>nGqj3Hjx_daTMzFke7g6aQ</td>\n",
              "      <td>Straight A Cafe</td>\n",
              "    </tr>\n",
              "    <tr>\n",
              "      <th>537617</th>\n",
              "      <td>nlwomMElt7sDwF_njfEEIw</td>\n",
              "      <td>Ah-So Teppanyaki &amp; Sushi House of Japan</td>\n",
              "    </tr>\n",
              "    <tr>\n",
              "      <th>537618</th>\n",
              "      <td>952sPfTt0huZfUqsnkaDsw</td>\n",
              "      <td>ina's Ethiopian Caf</td>\n",
              "    </tr>\n",
              "    <tr>\n",
              "      <th>537619</th>\n",
              "      <td>DgZ-pZUo3drzpiCDlDr9IQ</td>\n",
              "      <td>unPhogettable</td>\n",
              "    </tr>\n",
              "    <tr>\n",
              "      <th>537620</th>\n",
              "      <td>cOZLg1c-UcB2Yj3baQDKkA</td>\n",
              "      <td>The Keg Steakhouse + Bar - Gilbert</td>\n",
              "    </tr>\n",
              "    <tr>\n",
              "      <th>537621</th>\n",
              "      <td>09psTuUYhUMA2ZRzQlm30Q</td>\n",
              "      <td>Five Guys</td>\n",
              "    </tr>\n",
              "    <tr>\n",
              "      <th>537622</th>\n",
              "      <td>YPavuOh2XsnRbLfl0DH2lQ</td>\n",
              "      <td>o-Lo's Chicken &amp; Waffle</td>\n",
              "    </tr>\n",
              "    <tr>\n",
              "      <th>537623</th>\n",
              "      <td>HI56ArpYEbhEUeRx9Curpw</td>\n",
              "      <td>Asian Cafe Express</td>\n",
              "    </tr>\n",
              "    <tr>\n",
              "      <th>537624</th>\n",
              "      <td>7o2BZbRWeBIInSCf5b_SvA</td>\n",
              "      <td>'Vine Bistro &amp; Wine Ba</td>\n",
              "    </tr>\n",
              "    <tr>\n",
              "      <th>537625</th>\n",
              "      <td>makqSKZaz1aUipoWBW0BsA</td>\n",
              "      <td>The Westin Las Vegas Hotel &amp; Spa</td>\n",
              "    </tr>\n",
              "    <tr>\n",
              "      <th>537626</th>\n",
              "      <td>HLNN5QdJZzWKdrcpLrEaNw</td>\n",
              "      <td>Target</td>\n",
              "    </tr>\n",
              "    <tr>\n",
              "      <th>537627</th>\n",
              "      <td>P3mMZktYxyYUgnzBUqy_2w</td>\n",
              "      <td>Subway Restaurants</td>\n",
              "    </tr>\n",
              "    <tr>\n",
              "      <th>537628</th>\n",
              "      <td>gAT3p2Ooou4lUYiF4OKj7g</td>\n",
              "      <td>Yen Ching</td>\n",
              "    </tr>\n",
              "    <tr>\n",
              "      <th>537629</th>\n",
              "      <td>QBLOdeMk7pd9IiH2zu79Ig</td>\n",
              "      <td>ahama Buck'</td>\n",
              "    </tr>\n",
              "    <tr>\n",
              "      <th>537630</th>\n",
              "      <td>3N9U549Zse8UP-MwKZAjAQ</td>\n",
              "      <td>Liberty Market</td>\n",
              "    </tr>\n",
              "    <tr>\n",
              "      <th>537631</th>\n",
              "      <td>925GiWzJ_cxQaUT870xW7A</td>\n",
              "      <td>Kazimierz Wine &amp; Whiskey Bar</td>\n",
              "    </tr>\n",
              "    <tr>\n",
              "      <th>537632</th>\n",
              "      <td>-xqLQUMKottKg5ytGjWuQA</td>\n",
              "      <td>Cactus Yards</td>\n",
              "    </tr>\n",
              "    <tr>\n",
              "      <th>537633</th>\n",
              "      <td>M3P8cBifSwY-orQU38Dqpg</td>\n",
              "      <td>The Brush Bar</td>\n",
              "    </tr>\n",
              "    <tr>\n",
              "      <th>537634</th>\n",
              "      <td>m9aFZk1f8tSv248YErbpQA</td>\n",
              "      <td>Chez Vous</td>\n",
              "    </tr>\n",
              "    <tr>\n",
              "      <th>537635</th>\n",
              "      <td>L192hPeosT4Z1qRO8jQbfQ</td>\n",
              "      <td>Yard House</td>\n",
              "    </tr>\n",
              "    <tr>\n",
              "      <th>537636</th>\n",
              "      <td>vMnB2Cz3c1Io1IEyeLLVOA</td>\n",
              "      <td>Tum Nak Thai</td>\n",
              "    </tr>\n",
              "  </tbody>\n",
              "</table>\n",
              "</div>"
            ],
            "text/plain": [
              "                   business_id                                     name\n",
              "537589  0FUtlsQrJI7LhqDPxLumEw                           oe's Farm Gril\n",
              "537590  kctSmjXXK_1laQV7J8-3Cg                          .T. O'Sullivan'\n",
              "537591  IEVrILZ7bkuJMYKsbAfWaQ                                Sushi San\n",
              "537592  u2q_84hHvKGl5hKnAE7zNw                                Sushi Ave\n",
              "537593  D2_y52mbmTrNLHux6aCrIg                          Texas Roadhouse\n",
              "537594  S37sKRRfkhFZRpxaYzWo_A                 China Magic Noodle House\n",
              "537595  ALn_0f-Usn3n0a9WBcjhhg                                    anny'\n",
              "537596  DymZ5vpm7vkSsR__-4sflw                   Roka Akor - Scottsdale\n",
              "537597  BS2nj4dQKvC5oi6ikKvX0A                               Korean BBQ\n",
              "537598  6oKZoCI_0ePyzfRqSFMBig                           oy's Restauran\n",
              "537599  yTur95e-pqQCYGGyVp6rAw                             Mekong Plaza\n",
              "537600  Wpd_2mn5d792KgPZUOOMHQ                    The Mint Ultra Lounge\n",
              "537601  5LNZ67Yw9RD6nf4_UhXOjw            The Cosmopolitan of Las Vegas\n",
              "537602  hDDh3dtuFZyty5KOUN0JmA        Gordon Biersch Brewery Restaurant\n",
              "537603  NMk5Y-QA43YoLftgiDlang                     pplebee's Grill + Ba\n",
              "537604  qFqueIKCVF5PlXmjl1YY9Q                             Frost Gelato\n",
              "537605  _9vGmNrEcLWFOnUzeUdfag                             oe's Real BB\n",
              "537606  A26EdvXPLzDXWg0AYVAdAA                              Red Lobster\n",
              "537607  E25-2ssHwsajyGtsllMXaA               rs White's Golden Rule Caf\n",
              "537608  UHPjDgiEHnTe7-MP-b2kyQ                         Veneto Trattoria\n",
              "537609  GWnhc3MO4XjsKIpyExV--Q           Four Seasons Sushi Bar & Grill\n",
              "537610  wZukjLaf1V2dLRQap_Zriw                             Postino East\n",
              "537611  InIlgxqH3Aonm3E7-SLMsg                                 Big Lots\n",
              "537612  O_J5e6aoskxhGx8meOm1Og                               Dragon Wok\n",
              "537613  V7nossAF0dFj_mSPYj6SSQ                       Buffalo Wild Wings\n",
              "537614  e0LINZuyY7-tw8RVhePCMA                                 cDonald'\n",
              "537615  o1SDx95NHJY47dkSCvRnGQ                   Chipotle Mexican Grill\n",
              "537616  nGqj3Hjx_daTMzFke7g6aQ                          Straight A Cafe\n",
              "537617  nlwomMElt7sDwF_njfEEIw  Ah-So Teppanyaki & Sushi House of Japan\n",
              "537618  952sPfTt0huZfUqsnkaDsw                      ina's Ethiopian Caf\n",
              "537619  DgZ-pZUo3drzpiCDlDr9IQ                            unPhogettable\n",
              "537620  cOZLg1c-UcB2Yj3baQDKkA       The Keg Steakhouse + Bar - Gilbert\n",
              "537621  09psTuUYhUMA2ZRzQlm30Q                                Five Guys\n",
              "537622  YPavuOh2XsnRbLfl0DH2lQ                  o-Lo's Chicken & Waffle\n",
              "537623  HI56ArpYEbhEUeRx9Curpw                       Asian Cafe Express\n",
              "537624  7o2BZbRWeBIInSCf5b_SvA                   'Vine Bistro & Wine Ba\n",
              "537625  makqSKZaz1aUipoWBW0BsA         The Westin Las Vegas Hotel & Spa\n",
              "537626  HLNN5QdJZzWKdrcpLrEaNw                                   Target\n",
              "537627  P3mMZktYxyYUgnzBUqy_2w                       Subway Restaurants\n",
              "537628  gAT3p2Ooou4lUYiF4OKj7g                                Yen Ching\n",
              "537629  QBLOdeMk7pd9IiH2zu79Ig                              ahama Buck'\n",
              "537630  3N9U549Zse8UP-MwKZAjAQ                           Liberty Market\n",
              "537631  925GiWzJ_cxQaUT870xW7A             Kazimierz Wine & Whiskey Bar\n",
              "537632  -xqLQUMKottKg5ytGjWuQA                             Cactus Yards\n",
              "537633  M3P8cBifSwY-orQU38Dqpg                            The Brush Bar\n",
              "537634  m9aFZk1f8tSv248YErbpQA                                Chez Vous\n",
              "537635  L192hPeosT4Z1qRO8jQbfQ                               Yard House\n",
              "537636  vMnB2Cz3c1Io1IEyeLLVOA                             Tum Nak Thai"
            ]
          },
          "metadata": {
            "tags": []
          },
          "execution_count": 29
        }
      ]
    },
    {
      "cell_type": "code",
      "metadata": {
        "colab": {
          "base_uri": "https://localhost:8080/",
          "height": 350
        },
        "id": "mpjv6HoBImCF",
        "outputId": "1f9105e7-7c44-4890-b9fa-e53217d4ff88"
      },
      "source": [
        "rec_business(model3,user_code=10,sparse_user_item=sparse_user_business)"
      ],
      "execution_count": 30,
      "outputs": [
        {
          "output_type": "execute_result",
          "data": {
            "text/html": [
              "<div>\n",
              "<style scoped>\n",
              "    .dataframe tbody tr th:only-of-type {\n",
              "        vertical-align: middle;\n",
              "    }\n",
              "\n",
              "    .dataframe tbody tr th {\n",
              "        vertical-align: top;\n",
              "    }\n",
              "\n",
              "    .dataframe thead th {\n",
              "        text-align: right;\n",
              "    }\n",
              "</style>\n",
              "<table border=\"1\" class=\"dataframe\">\n",
              "  <thead>\n",
              "    <tr style=\"text-align: right;\">\n",
              "      <th></th>\n",
              "      <th>restaurants</th>\n",
              "      <th>score</th>\n",
              "    </tr>\n",
              "  </thead>\n",
              "  <tbody>\n",
              "    <tr>\n",
              "      <th>0</th>\n",
              "      <td>Bowl of Greens</td>\n",
              "      <td>0.489055</td>\n",
              "    </tr>\n",
              "    <tr>\n",
              "      <th>1</th>\n",
              "      <td>Red Ribbon Bakeshop</td>\n",
              "      <td>0.476898</td>\n",
              "    </tr>\n",
              "    <tr>\n",
              "      <th>2</th>\n",
              "      <td>JJ Madisons All American Grill</td>\n",
              "      <td>0.411548</td>\n",
              "    </tr>\n",
              "    <tr>\n",
              "      <th>3</th>\n",
              "      <td>Kailash Parbat</td>\n",
              "      <td>0.391263</td>\n",
              "    </tr>\n",
              "    <tr>\n",
              "      <th>4</th>\n",
              "      <td>Scoop and Joy Lounge</td>\n",
              "      <td>0.383012</td>\n",
              "    </tr>\n",
              "    <tr>\n",
              "      <th>5</th>\n",
              "      <td>Staples -Richmond Hill</td>\n",
              "      <td>0.380174</td>\n",
              "    </tr>\n",
              "    <tr>\n",
              "      <th>6</th>\n",
              "      <td>Shoppers Drug Mart</td>\n",
              "      <td>0.376408</td>\n",
              "    </tr>\n",
              "    <tr>\n",
              "      <th>7</th>\n",
              "      <td>endy'</td>\n",
              "      <td>0.370781</td>\n",
              "    </tr>\n",
              "    <tr>\n",
              "      <th>8</th>\n",
              "      <td>Uddin Jewelry</td>\n",
              "      <td>0.366056</td>\n",
              "    </tr>\n",
              "    <tr>\n",
              "      <th>9</th>\n",
              "      <td>Mariscos Y Barbacoa La Bella</td>\n",
              "      <td>0.354249</td>\n",
              "    </tr>\n",
              "  </tbody>\n",
              "</table>\n",
              "</div>"
            ],
            "text/plain": [
              "                      restaurants     score\n",
              "0                  Bowl of Greens  0.489055\n",
              "1             Red Ribbon Bakeshop  0.476898\n",
              "2  JJ Madisons All American Grill  0.411548\n",
              "3                  Kailash Parbat  0.391263\n",
              "4            Scoop and Joy Lounge  0.383012\n",
              "5          Staples -Richmond Hill  0.380174\n",
              "6              Shoppers Drug Mart  0.376408\n",
              "7                           endy'  0.370781\n",
              "8                   Uddin Jewelry  0.366056\n",
              "9    Mariscos Y Barbacoa La Bella  0.354249"
            ]
          },
          "metadata": {
            "tags": []
          },
          "execution_count": 30
        }
      ]
    },
    {
      "cell_type": "markdown",
      "metadata": {
        "id": "xPWg_623pUpf"
      },
      "source": [
        "# Finding similar businesses"
      ]
    },
    {
      "cell_type": "code",
      "metadata": {
        "id": "ECs91gInoURs"
      },
      "source": [
        "# Find the 10 most similar to Deagan's Kitchen & Bar\"\n",
        "business_code = 7688 #some restaurant\n",
        "n_similar = 10\n",
        "\n",
        "# Get the user and item vectors from our trained model\n",
        "user_vecs = model.user_factors\n",
        "business_vecs = model.item_factors\n",
        "\n",
        "# Calculate the vector norms\n",
        "business_norms = np.sqrt((business_vecs * business_vecs).sum(axis=1))"
      ],
      "execution_count": 25,
      "outputs": []
    },
    {
      "cell_type": "code",
      "metadata": {
        "id": "DibfA6sWoUPP"
      },
      "source": [
        "# Calculate the similarity score, grab the top N items and\n",
        "# create a list of item-score tuples of most similar artists\n",
        "scores = business_vecs.dot(business_vecs[business_code]) / business_norms\n",
        "top_idx = np.argpartition(scores, -n_similar)[-n_similar:]\n",
        "similar = sorted(zip(top_idx, scores[top_idx] / business_norms[business_code]), key=lambda x: -x[1])"
      ],
      "execution_count": 27,
      "outputs": []
    },
    {
      "cell_type": "code",
      "metadata": {
        "id": "TuNUWpezk1CH"
      },
      "source": [
        "# Print the names of our most similar artists\n",
        "for business in similar:\n",
        "    idx, score = business\n",
        "    print(user_review.name.loc[user_review.business_code == idx].iloc[0])"
      ],
      "execution_count": 27,
      "outputs": []
    },
    {
      "cell_type": "code",
      "metadata": {
        "id": "moBdZXLZk04G"
      },
      "source": [
        ""
      ],
      "execution_count": null,
      "outputs": []
    },
    {
      "cell_type": "markdown",
      "metadata": {
        "id": "0dgbex7J0u8c"
      },
      "source": [
        "# Adding Social context\n",
        "Including the restaurants reviewed the most by the friends of the users. The chances of a user visiting the restaurants that his friends have reviewed is very high."
      ]
    },
    {
      "cell_type": "markdown",
      "metadata": {
        "id": "OzkXaPV82noi"
      },
      "source": [
        "## Data preprocessing"
      ]
    },
    {
      "cell_type": "code",
      "metadata": {
        "id": "rk2L01f317yH"
      },
      "source": [
        "with open('/content/drive/My Drive/archive/user_curtailed.pkl','rb') as file:\n",
        "    data = pickle5.load(file)"
      ],
      "execution_count": 4,
      "outputs": []
    },
    {
      "cell_type": "code",
      "metadata": {
        "id": "OuwGVTTg19uy"
      },
      "source": [
        "data = data.assign(**{'friends':data['friends'].str.split(',')})\n",
        "data = data.explode('friends')\n",
        "data = data[['user_id','friends']]\n",
        "# removing user without friends\n",
        "data = data[~data.friends.isin(['None'])]\n",
        "data['friends'] = data['friends'].str.strip()"
      ],
      "execution_count": null,
      "outputs": []
    },
    {
      "cell_type": "code",
      "metadata": {
        "id": "zaf6ZJoS2BJ9"
      },
      "source": [
        "### Import user reviews directly instead of business and reviews separately everytime ###\n",
        "user_review = pd.read_csv('/N/u/abbane/Carbonate/Downloads/user_review_mat.csv')\n",
        "user_review['user_id'] = user_review.user_id.str[2:-1]\n",
        "user_review['user_id'] = user_review['user_id'].str.strip()"
      ],
      "execution_count": null,
      "outputs": []
    },
    {
      "cell_type": "code",
      "metadata": {
        "id": "y1EzSsvX2FOh"
      },
      "source": [
        "user_friends = pd.merge(data,user_review,left_on='friends',right_on='user_id')\n",
        "user_friends = user_friends[['user_id_x','friends','business_id','user_stars','name']]"
      ],
      "execution_count": null,
      "outputs": []
    },
    {
      "cell_type": "code",
      "metadata": {
        "id": "kmQj8cLq2Lk7"
      },
      "source": [
        "user_friends = user_friends.groupby(by=['user_id_x','business_id','name']).count()\n",
        "user_friends = user_friends.reset_index()"
      ],
      "execution_count": null,
      "outputs": []
    },
    {
      "cell_type": "code",
      "metadata": {
        "id": "VefnF61r2QpH"
      },
      "source": [
        "## Need to reduce number of users from 800k. Pick users whose friends have rated more than 50 businesses\n",
        "users = user_friends[['user_id_x','business_id']].groupby(by=['user_id_x']).count()\n",
        "users = users.reset_index()\n",
        "users = users[users.business_id > 50]\n",
        "user_friends = pd.merge(users['user_id_x'],user_friends,left_on='user_id_x',right_on='user_id_x',how='inner')"
      ],
      "execution_count": null,
      "outputs": []
    },
    {
      "cell_type": "markdown",
      "metadata": {
        "id": "0wwRNV2H2r6b"
      },
      "source": [
        "## Train and evaluate models on restaurants reviewed by friends"
      ]
    },
    {
      "cell_type": "code",
      "metadata": {
        "id": "50-Wp3KW20Fc"
      },
      "source": [
        "## Import the preprocessed data instead of running the previous code snippet and save time\n",
        "with open('/content/drive/My Drive/archive/user_friends_v2','rb') as file:\n",
        "    user_review_friends = pickle5.load(file)"
      ],
      "execution_count": 23,
      "outputs": []
    },
    {
      "cell_type": "code",
      "metadata": {
        "colab": {
          "base_uri": "https://localhost:8080/"
        },
        "id": "dGGiNgtMBRC3",
        "outputId": "f0799d46-c98a-447f-9797-b308e539899d"
      },
      "source": [
        "len(user_review_friends)"
      ],
      "execution_count": 24,
      "outputs": [
        {
          "output_type": "execute_result",
          "data": {
            "text/plain": [
              "5302251"
            ]
          },
          "metadata": {
            "tags": []
          },
          "execution_count": 24
        }
      ]
    },
    {
      "cell_type": "code",
      "metadata": {
        "id": "CzNgYj5H3EFR"
      },
      "source": [
        "## Optional step since Colab would only support 85 million rows\n",
        "#user_review_friends = user_review_friends[:60000000]\n",
        "user_review_friends.columns = ['user_id','business_id','name','friends','user_stars']\n",
        "# Cleaning the user and business ids\n",
        "user_review_friends['user_id'] = user_review_friends['user_id'].str.strip()\n",
        "user_review_friends['business_id'] = user_review_friends['business_id'].str.strip( )\n",
        "user_review_friends['name'] = user_review_friends['name'].str.strip()"
      ],
      "execution_count": 25,
      "outputs": []
    },
    {
      "cell_type": "code",
      "metadata": {
        "id": "dca-tcXq3bqr"
      },
      "source": [
        "# Create a numeric user_id and artist_id column for row,column accessing\n",
        "user_review_friends['user_id'] = user_review_friends['user_id'].astype(\"category\")\n",
        "user_review_friends['business_id'] = user_review_friends['business_id'].astype(\"category\")\n",
        "# user_review_friends['user_code'] = user_review_friends['user_id'].cat.codes\n",
        "# user_review_friends['business_code'] = user_review_friends['business_id'].cat.codes"
      ],
      "execution_count": 26,
      "outputs": []
    },
    {
      "cell_type": "markdown",
      "metadata": {
        "id": "847zKQ98TlCb"
      },
      "source": [
        "To test the  models joining the friends dataset with the existing dataset which has actual reviews. This will give us ratings that we can evaluate against. Importing already joined dataset from drive.\n",
        "The dataset is huge >100 million rows and needs to be worked with on Carbonate"
      ]
    },
    {
      "cell_type": "code",
      "metadata": {
        "id": "-je2rgPxUQD3"
      },
      "source": [
        "## Imorting the data instead of preprocessing\n",
        "with open('/content/drive/My Drive/archive/user_review_friends','rb') as file:\n",
        "    user_review_friends = pickle5.load(file)"
      ],
      "execution_count": 31,
      "outputs": []
    },
    {
      "cell_type": "markdown",
      "metadata": {
        "id": "u9-f6dNt4EwO"
      },
      "source": [
        "# Create Sparse matrices and models"
      ]
    },
    {
      "cell_type": "code",
      "metadata": {
        "id": "zfaLXCpW4D4t"
      },
      "source": [
        "# Create sparse matrix for the implicit library, one for user-business (recommending business to user) and second for business-user(finding similar businesses)\n",
        "sparse_user_business = sparse.csr_matrix((user_review_friends['friends'].astype(float), (user_review_friends['user_code'], user_review_friends['business_code'])))\n",
        "sparse_business_user = sparse.csr_matrix((user_review_friends['friends'].astype(float), (user_review_friends['business_code'], user_review_friends['user_code'])))\n",
        "\n",
        "## Simmultaneously create a sparse matrix for ratings so that we only select restaurants that have ratings in the test data\n",
        "# Create sparse matrix for the implicit library, one for user-business (recommending business to user) and second for business-user(finding similar businesses)\n",
        "sparse_user_business_stars = sparse.csr_matrix((user_review_friends['user_stars'].astype(float), (user_review_friends['user_code'], user_review_friends['business_code'])))\n",
        "sparse_business_user_stars = sparse.csr_matrix((user_review_friends['user_stars'].astype(float), (user_review_friends['business_code'], user_review_friends['user_code'])))"
      ],
      "execution_count": 32,
      "outputs": []
    },
    {
      "cell_type": "markdown",
      "metadata": {
        "id": "T3l-JIaGCYJX"
      },
      "source": [
        "## Functions for the user friends  review"
      ]
    },
    {
      "cell_type": "code",
      "metadata": {
        "id": "Z1OSfjIiRGaL"
      },
      "source": [
        "def make_train_test_social(sparse_user_business, sparse_user_business_stars,test_samples=10):\n",
        "    '''\n",
        "    This function will take in the sparse matrices (user-business/business-user) and separate a percentage of the original ratings as test dataset\n",
        "\n",
        "    parameters: \n",
        "\n",
        "    sparse_mat - the original ratings matrix from which we want to generate a train/test set. The new train \n",
        "    and test datasets are in sparse csr_matrix form. \n",
        "\n",
        "    pct_train - The percentage of user-business ratings that should be kept in the training data\n",
        "\n",
        "    returns:\n",
        "\n",
        "    train - The altered version of the original data with a certain percentage of the user-item pairs \n",
        "    that originally had interaction set back to zero.\n",
        "\n",
        "    test - A copy of the original ratings matrix, unaltered, so it can be used to see how the rank order \n",
        "    compares with the actual interactions.\n",
        "    '''\n",
        "    test_set = sparse_user_business.copy() # Make a copy of the original set to be the test set\n",
        "    test_set[test_set != 0] = 1 # Store the test set as a binary preference matrix\n",
        "    training_set = sparse_user_business_stars.copy() # Make a copy of the original data we can alter as our training set\n",
        "    nonzero_inds = training_set.nonzero() # Find the indices in the ratings data where an interaction exists\n",
        "    #nonzero_pairs = list(zip(nonzero_inds[0], nonzero_inds[1])) # Zip these pairs together of user,business index into list\n",
        "    nonzero_pairs = defaultdict(list)\n",
        "    for a, b in zip(nonzero_inds[0], nonzero_inds[1]):\n",
        "        nonzero_pairs[a].append(b)\n",
        "    random.seed(0) # Set the random seed to zero for reproducibility\n",
        "\n",
        "    #num_samples = int(np.ceil(pct_test*len(nonzero_pairs))) # Round the number of samples needed to the nearest integer\n",
        "    samples = defaultdict(list)\n",
        "    for users in nonzero_pairs.keys():\n",
        "        samples[users] = random.sample(nonzero_pairs[users],test_samples)\n",
        "    # Generating all the user indices which need to be masked\n",
        "    lst = range(0,list(samples.keys())[-1]+1)\n",
        "    user_inds = list(itertools.chain.from_iterable(itertools.repeat(x,test_samples) for x in lst)) #repeating user ids \n",
        "    business_inds = []     # Business indices to be masked\n",
        "    for key,val in samples.items():\n",
        "        business_inds = business_inds + val\n",
        "    training_set[user_inds, business_inds] = 0 # Assign all of the randomly chosen user-business pairs to zero\n",
        "    ## New steps for social data \n",
        "    sparse_user_business[user_inds,business_inds] = 0 #Make the friend ratings for test data 0\n",
        "    return sparse_user_business, test_set, samples"
      ],
      "execution_count": 33,
      "outputs": []
    },
    {
      "cell_type": "code",
      "metadata": {
        "id": "PuofAg85CiKj"
      },
      "source": [
        "train,test,masked_ind = make_train_test_social(sparse_user_business,sparse_user_business_stars,test_samples=5)"
      ],
      "execution_count": 34,
      "outputs": []
    },
    {
      "cell_type": "code",
      "metadata": {
        "id": "FxdGJrkHRMup",
        "colab": {
          "base_uri": "https://localhost:8080/",
          "height": 67,
          "referenced_widgets": [
            "2bd2e58c61bc45289d94a56650568d3f",
            "1bbe593dbf7847fe987d22793d34888e",
            "8229e8ff65a048e1bfe9a877ecaa2958",
            "36eafc9c455444c4bc218fe303f9ce42",
            "c575f2513b3342f9a392afabce085e5e",
            "bfac37ba58994be780225f77a2b8c1cf",
            "9f796fb9ebf748b2a5c2979969983f36",
            "acc97e2349374abf938a874b2bb22d72"
          ]
        },
        "outputId": "88653bed-dd5d-4562-8831-43d7ce9f034a"
      },
      "source": [
        "# Initialize the als model and fit it using the sparse item-user matrix\n",
        "model = implicit.als.AlternatingLeastSquares(factors=32, regularization=0.01, iterations=50)\n",
        "model.fit(train*10)"
      ],
      "execution_count": 35,
      "outputs": [
        {
          "output_type": "display_data",
          "data": {
            "application/vnd.jupyter.widget-view+json": {
              "model_id": "2bd2e58c61bc45289d94a56650568d3f",
              "version_minor": 0,
              "version_major": 2
            },
            "text/plain": [
              "HBox(children=(FloatProgress(value=0.0, max=50.0), HTML(value='')))"
            ]
          },
          "metadata": {
            "tags": []
          }
        },
        {
          "output_type": "stream",
          "text": [
            "\n"
          ],
          "name": "stdout"
        }
      ]
    },
    {
      "cell_type": "code",
      "metadata": {
        "id": "IdPDoatB4ymz"
      },
      "source": [
        "# All predictions\n",
        "all_preds = np.dot(model.item_factors,model.user_factors.T)"
      ],
      "execution_count": 36,
      "outputs": []
    },
    {
      "cell_type": "markdown",
      "metadata": {
        "id": "Oc-JBhPX31Gf"
      },
      "source": [
        "## Evaluation metrics"
      ]
    },
    {
      "cell_type": "code",
      "metadata": {
        "id": "_r0oxYCu31Gf"
      },
      "source": [
        "def mean_precision_k_social(all_preds,masked_ind,k=5):\n",
        "  '''\n",
        "  This function returns the average precision for all the users calculated on the test dataset. The top k recommended restaurants \n",
        "  are assumed to have positive predicted ratings. Precision is calculated as (actual and predicted positives)/(predicted positives).\n",
        "  Highest value will be 1 \n",
        "  \n",
        "  parameters\n",
        "  \n",
        "  masked_ind: the indexes which were masked during the train and test split. These indexes will be used to compare the predictions \n",
        "  against the actual ratings\n",
        "\n",
        "  k: Top k recommendations\n",
        "\n",
        "  Returns\n",
        "\n",
        "  Mean of precision array which holds precision values for all users for k recommendations\n",
        "\n",
        "  '''\n",
        "  precision = []\n",
        "  test_samples = len(list(masked_ind.values())[0]) # number of ratings masked for test data per user\n",
        "  for key,vals in masked_ind.items():\n",
        "    user_inds = [key]*test_samples # repeat to get the same user code\n",
        "    business_inds = vals #businesses in test samples\n",
        "    sorted_val = np.argsort(all_preds[user_inds,business_inds])[::-1] #Sort the restaurants according to the scores\n",
        "    sorted_ind = np.array(business_inds)[sorted_val][:k] # Filter top k restaurants as the recommendations\n",
        "    actual_ratings = sparse_user_business_stars[key].toarray()[0][sorted_ind] #Get the actual ratings for the top recommended restaurants\n",
        "    postive_ratings = np.where(actual_ratings >= 3)[0].shape[0]  #Get the number of restaurants with actual rating >=3\n",
        "    precision.append(postive_ratings/k) #Calculate precision per user and return the mean precision\n",
        "  return np.mean(precision)  "
      ],
      "execution_count": 37,
      "outputs": []
    },
    {
      "cell_type": "code",
      "metadata": {
        "id": "PkT6ZHZy_UiZ"
      },
      "source": [
        "def ndcg_k_social(all_preds,masked_ind, k=5):\n",
        "  '''\n",
        "  This function returns the mean binary NDCG for all the users calculated on the test dataset. The top k recommended restaurants \n",
        "  are assumed to have positive predicted ratings. NDCG is calculated as (relevancy)/(log2(position+1)).\n",
        "  So the NDCG score will be higher if positively rated restaurants are recommended first. \n",
        "  \n",
        "  parameters\n",
        "  \n",
        "  masked_ind: the indexes which were masked during the train and test split. These indexes will be used to compare the predictions \n",
        "  against the actual ratings\n",
        "\n",
        "  k: Top k recommendations\n",
        "\n",
        "  Returns\n",
        "\n",
        "  Mean of NDCG array which holds ndcg values for all users for k recommendations\n",
        "\n",
        "  '''  \n",
        "  ndcg = []\n",
        "  test_samples = len(list(masked_ind.values())[0]) # number of ratings masked for test data per user\n",
        "  for key,vals in masked_ind.items():\n",
        "    user_inds = [key]*test_samples # repeat to get the same user code\n",
        "    business_inds = vals\n",
        "    sorted_val = np.argsort(all_preds[user_inds,business_inds])[::-1] #Sort the restaurants according to the scores\n",
        "    sorted_ind = np.array(business_inds)[sorted_val][:k] # Filter top k restaurants as the recommendations\n",
        "    actual_ratings = sparse_user_business_stars[key].toarray()[0][sorted_ind] #Get the actual ratings for the top recommended restaurants\n",
        "    ndcg_num = np.where(actual_ratings >= 3, 1, 0)  # numerator will be 1 if the restaurant was rated postive by the user, 0 otherwise similar to relevancy\n",
        "    ndcg_deno = np.log2(np.arange(k)+2) # denominator is log(position + 1) and NDCG is (relevancy)/(log2(position+1))\n",
        "    ndcg.append(np.sum(ndcg_num/ndcg_deno)) # NDCG is calculated as the sum of all the recommended restaurants\n",
        "  return np.mean(ndcg)"
      ],
      "execution_count": 38,
      "outputs": []
    },
    {
      "cell_type": "code",
      "metadata": {
        "id": "DF0HZrOj_3BE"
      },
      "source": [
        "def mrr_k_social(all_preds,masked_ind,k=5):\n",
        "  '''\n",
        "  This function returns the Mean Reciprocal Rank(MRR) for all the users calculated on the test dataset. The top k recommended restaurants \n",
        "  are assumed to have positive predicted ratings. MRR is the reciprocal for the position of first positively recommended restaurant\n",
        "  Highest value will be 1 \n",
        "  \n",
        "  parameters\n",
        "  \n",
        "  masked_ind: the indexes which were masked during the train and test split. These indexes will be used to compare the predictions \n",
        "  against the actual ratings\n",
        "\n",
        "  k: Top k recommendations\n",
        "\n",
        "  Returns\n",
        "\n",
        "  Mean of reciprocal rank array which holds reciprocal rank values for all users for k recommendations\n",
        "\n",
        "  '''\n",
        "  reci_rank = []\n",
        "  test_samples = len(list(masked_ind.values())[0]) # number of ratings masked for test data per user\n",
        "  for key,vals in masked_ind.items():\n",
        "    user_inds = [key]*test_samples # repeat to get the same user code\n",
        "    business_inds = vals\n",
        "    sorted_val = np.argsort(all_preds[user_inds,business_inds])[::-1] #Sort the restaurants according to the scores\n",
        "    sorted_ind = np.array(business_inds)[sorted_val][:k] # Filter top k restaurants as the recommendations\n",
        "    actual_ratings = sparse_user_business_stars[key].toarray()[0][sorted_ind] #Get the actual ratings for the top recommended restaurants\n",
        "    first_positive = np.argmax(actual_ratings >= 3)+1  # position of first positive\n",
        "    reci_rank.append(1/first_positive)\n",
        "  return np.mean(reci_rank)"
      ],
      "execution_count": 39,
      "outputs": []
    },
    {
      "cell_type": "code",
      "metadata": {
        "id": "iTLw5KlB31Gh",
        "colab": {
          "base_uri": "https://localhost:8080/"
        },
        "outputId": "f6baf377-e94a-4452-f986-97619a2ba434"
      },
      "source": [
        "print('Prcision@5: ',mean_precision_k_social(all_preds,masked_ind,k=5))\n",
        "print('NDCG@5: ',ndcg_k_social(all_preds,masked_ind,k=5))\n",
        "print('MRR@5: ',mrr_k_social(all_preds,masked_ind,k=5))"
      ],
      "execution_count": 42,
      "outputs": [
        {
          "output_type": "stream",
          "text": [
            "Prcision@5:  0.8882207697893973\n",
            "NDCG@5:  2.632632306007746\n",
            "MRR@5:  0.9515928346647302\n"
          ],
          "name": "stdout"
        }
      ]
    },
    {
      "cell_type": "code",
      "metadata": {
        "id": "WV_UkpolBsMF"
      },
      "source": [
        ""
      ],
      "execution_count": 44,
      "outputs": []
    },
    {
      "cell_type": "code",
      "metadata": {
        "id": "3vGNwa7X_AbU"
      },
      "source": [
        ""
      ],
      "execution_count": null,
      "outputs": []
    }
  ]
}