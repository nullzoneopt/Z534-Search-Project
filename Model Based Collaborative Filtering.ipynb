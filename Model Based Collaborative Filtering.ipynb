{
 "cells": [
  {
   "cell_type": "code",
   "execution_count": 47,
   "metadata": {
    "colab": {
     "base_uri": "https://localhost:8080/"
    },
    "id": "LNBOAzGaIspa",
    "outputId": "0717933e-b06d-4ff1-d598-ff37b301e04a"
   },
   "outputs": [],
   "source": [
    "# !pip install pickle5\n",
    "# !pip install scikit-surprise\n",
    "import pickle5\n",
    "# import pickle\n",
    "\n",
    "import pandas as pd\n",
    "import numpy as np\n",
    "from collections import defaultdict \n",
    "\n",
    "import matplotlib.pyplot as plt\n",
    "import seaborn as sns\n",
    "\n",
    "%matplotlib inline\n",
    "sns.set()\n",
    "\n",
    "# pd.set_option('display.max_columns', None)\n",
    "\n",
    "# from google.colab import drive\n",
    "# drive.mount('/content/drive')\n",
    "\n",
    "from surprise import Dataset\n",
    "from surprise import Reader\n",
    "from surprise import KNNWithMeans, KNNBasic\n",
    "from surprise import accuracy\n",
    "from surprise.model_selection import train_test_split\n",
    "from surprise.model_selection import GridSearchCV\n",
    "\n",
    "base_dir = ''"
   ]
  },
  {
   "cell_type": "markdown",
   "metadata": {},
   "source": [
    "## Utility functions"
   ]
  },
  {
   "cell_type": "code",
   "execution_count": 48,
   "metadata": {
    "id": "42vXlw4EOg5h"
   },
   "outputs": [],
   "source": [
    "# Read pickle objects using pickle5.\n",
    "# Not required for latest python version.\n",
    "def read_pickle(file):\n",
    "    with open(file, 'rb') as f:\n",
    "        data = pickle5.load(f)\n",
    "    return data\n",
    "def precision_recall_at_k(predictions, k=10, threshold=3.5):\n",
    "    \"\"\"Return precision and recall at k metrics for each user\"\"\"\n",
    "\n",
    "    # First map the predictions to each user.\n",
    "    user_est_true = defaultdict(list)\n",
    "    for uid, _, true_r, est, _ in predictions:\n",
    "        user_est_true[uid].append((est, true_r))\n",
    "\n",
    "    precisions = dict()\n",
    "    recalls = dict()\n",
    "    for uid, user_ratings in user_est_true.items():\n",
    "\n",
    "        # Sort user ratings by estimated value\n",
    "        user_ratings.sort(key=lambda x: x[0], reverse=True)\n",
    "\n",
    "        # Number of relevant items\n",
    "        n_rel = sum((true_r >= threshold) for (_, true_r) in user_ratings)\n",
    "\n",
    "        # Number of recommended items in top k\n",
    "        n_rec_k = sum((est >= threshold) for (est, _) in user_ratings[:k])\n",
    "\n",
    "        # Number of relevant and recommended items in top k\n",
    "        n_rel_and_rec_k = sum(((true_r >= threshold) and (est >= threshold))\n",
    "                              for (est, true_r) in user_ratings[:k])\n",
    "\n",
    "        # Precision@K: Proportion of recommended items that are relevant\n",
    "        # When n_rec_k is 0, Precision is undefined. We here set it to 0.\n",
    "\n",
    "        precisions[uid] = n_rel_and_rec_k / n_rec_k if n_rec_k != 0 else 0\n",
    "\n",
    "        # Recall@K: Proportion of relevant items that are recommended\n",
    "        # When n_rel is 0, Recall is undefined. We here set it to 0.\n",
    "\n",
    "        recalls[uid] = n_rel_and_rec_k / n_rel if n_rel != 0 else 0\n",
    "\n",
    "    return precisions, recalls\n",
    "\n",
    "def mrr_at_k(predictions, k=10, threshold=3.5):\n",
    "    user_est_true = defaultdict(list)\n",
    "    reci_rank = []\n",
    "    for uid, _, true_r, est, _ in predictions:\n",
    "        user_est_true[uid].append((est, true_r))\n",
    "    \n",
    "    for uid, user_ratings in user_est_true.items():\n",
    "        user_ratings.sort(key=lambda x: x[0], reverse=True)\n",
    "        top_k_recommeded = user_ratings[:k]\n",
    "        _, actual_ratings = zip(*top_k_recommeded)\n",
    "        first_positive = np.argmax(np.where(np.array(actual_ratings) >= 3, 1, 0)) + 1\n",
    "        reci_rank.append(1/first_positive)\n",
    "    return np.mean(reci_rank)"
   ]
  },
  {
   "cell_type": "markdown",
   "metadata": {},
   "source": [
    "## Reading Reviews pickle object"
   ]
  },
  {
   "cell_type": "code",
   "execution_count": 49,
   "metadata": {
    "id": "GlF0TvRXQfOB"
   },
   "outputs": [
    {
     "data": {
      "text/html": [
       "<div>\n",
       "<style scoped>\n",
       "    .dataframe tbody tr th:only-of-type {\n",
       "        vertical-align: middle;\n",
       "    }\n",
       "\n",
       "    .dataframe tbody tr th {\n",
       "        vertical-align: top;\n",
       "    }\n",
       "\n",
       "    .dataframe thead th {\n",
       "        text-align: right;\n",
       "    }\n",
       "</style>\n",
       "<table border=\"1\" class=\"dataframe\">\n",
       "  <thead>\n",
       "    <tr style=\"text-align: right;\">\n",
       "      <th></th>\n",
       "      <th>user_id</th>\n",
       "      <th>business_id</th>\n",
       "      <th>stars</th>\n",
       "    </tr>\n",
       "  </thead>\n",
       "  <tbody>\n",
       "    <tr>\n",
       "      <th>4</th>\n",
       "      <td>UgMW8bLE0QMJDCkQ1Ax5Mg</td>\n",
       "      <td>IS4cv902ykd8wj1TR0N3-A</td>\n",
       "      <td>4.0</td>\n",
       "    </tr>\n",
       "    <tr>\n",
       "      <th>5</th>\n",
       "      <td>5vD2kmE25YBrbayKhykNxQ</td>\n",
       "      <td>nlxHRv1zXGT0c0K51q3jDg</td>\n",
       "      <td>5.0</td>\n",
       "    </tr>\n",
       "    <tr>\n",
       "      <th>6</th>\n",
       "      <td>aq_ZxGHiri48TUXJlpRkCQ</td>\n",
       "      <td>Pthe4qk5xh4n-ef-9bvMSg</td>\n",
       "      <td>5.0</td>\n",
       "    </tr>\n",
       "    <tr>\n",
       "      <th>8</th>\n",
       "      <td>P6apihD4ASf1vpPxHODxAQ</td>\n",
       "      <td>e_BiI4ej1CW1F0EyVLr-FQ</td>\n",
       "      <td>5.0</td>\n",
       "    </tr>\n",
       "    <tr>\n",
       "      <th>11</th>\n",
       "      <td>HJECayULRM-6xh2GCCvLiA</td>\n",
       "      <td>l-nL4BmhzpZjcavooO48PQ</td>\n",
       "      <td>4.0</td>\n",
       "    </tr>\n",
       "  </tbody>\n",
       "</table>\n",
       "</div>"
      ],
      "text/plain": [
       "                   user_id             business_id  stars\n",
       "4   UgMW8bLE0QMJDCkQ1Ax5Mg  IS4cv902ykd8wj1TR0N3-A    4.0\n",
       "5   5vD2kmE25YBrbayKhykNxQ  nlxHRv1zXGT0c0K51q3jDg    5.0\n",
       "6   aq_ZxGHiri48TUXJlpRkCQ  Pthe4qk5xh4n-ef-9bvMSg    5.0\n",
       "8   P6apihD4ASf1vpPxHODxAQ  e_BiI4ej1CW1F0EyVLr-FQ    5.0\n",
       "11  HJECayULRM-6xh2GCCvLiA  l-nL4BmhzpZjcavooO48PQ    4.0"
      ]
     },
     "execution_count": 49,
     "metadata": {},
     "output_type": "execute_result"
    }
   ],
   "source": [
    "# Reading pickle object.\n",
    "# For latest python version, you can also use pd.read_pickle()\n",
    "reviews_df = read_pickle(base_dir + 'reviews_curtailed.pkl')\n",
    "reviews_df = reviews_df[['user_id', 'business_id', 'stars']]\n",
    "reviews_df.head()"
   ]
  },
  {
   "cell_type": "markdown",
   "metadata": {},
   "source": [
    "## Filtering users who have rated atleast 50 businesses."
   ]
  },
  {
   "cell_type": "code",
   "execution_count": 50,
   "metadata": {
    "colab": {
     "base_uri": "https://localhost:8080/"
    },
    "id": "9cfMWtcTouyp",
    "outputId": "3b4727fd-f4c5-4bb3-af13-de12fdbff0b7"
   },
   "outputs": [],
   "source": [
    "# Counting number of business_id per user_id\n",
    "reviews_df_group_by_count = reviews_df.groupby('user_id')['business_id'].count().sort_values(ascending = False)\n",
    "\n",
    "# Filtering users who have rated atleast 50 businesses.\n",
    "reviews_df = reviews_df[reviews_df.user_id.isin(reviews_df_group_by_count[reviews_df_group_by_count >= 50].reset_index().user_id)]\n",
    "\n",
    "# To prevent notebook from crashing because of memory limitations\n",
    "del(reviews_df_group_by_count)"
   ]
  },
  {
   "cell_type": "code",
   "execution_count": 51,
   "metadata": {
    "colab": {
     "base_uri": "https://localhost:8080/"
    },
    "id": "m515ZPm8Ispc",
    "outputId": "3e5f57b3-0622-4107-dab3-67d757cfaf9b"
   },
   "outputs": [
    {
     "name": "stdout",
     "output_type": "stream",
     "text": [
      "Total Number of Users:  5191\n",
      "Total Number of Businesses:  39277\n"
     ]
    }
   ],
   "source": [
    "print('Total Number of Users: ', reviews_df.user_id.nunique())\n",
    "print('Total Number of Businesses: ', reviews_df.business_id.nunique())"
   ]
  },
  {
   "cell_type": "markdown",
   "metadata": {},
   "source": [
    "## Train-Test splitting"
   ]
  },
  {
   "cell_type": "markdown",
   "metadata": {},
   "source": [
    "Splitting the data by randomly sampling 10 businesses per user and keepling them in the test set."
   ]
  },
  {
   "cell_type": "code",
   "execution_count": 52,
   "metadata": {},
   "outputs": [],
   "source": [
    "reader = Reader(rating_scale=(1, 5))\n",
    "# for each user, randomly sampling '#business_per_user' busineses\n",
    "trainset, testset = train_test_split(Dataset.load_from_df(reviews_df, reader), test_size=.25)"
   ]
  },
  {
   "cell_type": "code",
   "execution_count": 53,
   "metadata": {},
   "outputs": [],
   "source": [
    "# train_df = reviews_df.copy()\n",
    "# # for each user, randomly sampling '#business_per_user' busineses\n",
    "# test_df = reviews_df.groupby('user_id').sample(n = 10)#frac = 0.3 \n",
    "# # zeroing the ratings of such selected test_businesses in train set\n",
    "# train_df.loc[test_df.index, 'stars'] = 0.0"
   ]
  },
  {
   "cell_type": "code",
   "execution_count": 54,
   "metadata": {},
   "outputs": [],
   "source": [
    "# reader = Reader(rating_scale=(1, 5))\n",
    "# trainset = Dataset.load_from_df(train_df, reader).build_full_trainset()\n",
    "# testset = Dataset.load_from_df(test_df, reader).build_full_trainset().build_testset()"
   ]
  },
  {
   "cell_type": "code",
   "execution_count": 55,
   "metadata": {},
   "outputs": [],
   "source": [
    "# del(reviews_df)"
   ]
  },
  {
   "cell_type": "markdown",
   "metadata": {},
   "source": [
    "## User Based Collaborative Filtering"
   ]
  },
  {
   "cell_type": "markdown",
   "metadata": {},
   "source": [
    "### Without Bias"
   ]
  },
  {
   "cell_type": "markdown",
   "metadata": {},
   "source": [
    "#### Using metric square deviation"
   ]
  },
  {
   "cell_type": "code",
   "execution_count": 56,
   "metadata": {},
   "outputs": [],
   "source": [
    "results = []"
   ]
  },
  {
   "cell_type": "code",
   "execution_count": 57,
   "metadata": {},
   "outputs": [
    {
     "name": "stdout",
     "output_type": "stream",
     "text": [
      "Computing the msd similarity matrix...\n",
      "Done computing similarity matrix.\n"
     ]
    }
   ],
   "source": [
    "algo = KNNBasic(sim_options={'name': 'msd', 'user_based': True})\n",
    "algo.fit(trainset)\n",
    "predictions = algo.test(testset)"
   ]
  },
  {
   "cell_type": "code",
   "execution_count": 58,
   "metadata": {},
   "outputs": [
    {
     "name": "stdout",
     "output_type": "stream",
     "text": [
      "RMSE: 1.1085\n",
      "MAE:  0.8542\n",
      "Precision@5:  0.9147017273486359\n",
      "Recall@5:  0.29259591954116904\n",
      "MRR@5:  0.9558306042509472\n"
     ]
    }
   ],
   "source": [
    "rmse = accuracy.rmse(predictions, verbose=True)\n",
    "mae = accuracy.mae(predictions, verbose=True)\n",
    "results.append({'KNNBasic': {'similarity': 'msd', 'user_based': True, 'rmse': rmse, 'mae': mae}})\n",
    "precisions, recalls = precision_recall_at_k(predictions, k=5, threshold=3)\n",
    "print('Precision@5: ', sum(prec for prec in precisions.values()) / len(precisions))\n",
    "print('Recall@5: ', sum(rec for rec in recalls.values()) / len(recalls))\n",
    "print('MRR@5: ', mrr_at_k(predictions, k=5, threshold=3))"
   ]
  },
  {
   "cell_type": "markdown",
   "metadata": {},
   "source": [
    "#### Using Cosine Similarity"
   ]
  },
  {
   "cell_type": "code",
   "execution_count": 59,
   "metadata": {},
   "outputs": [
    {
     "name": "stdout",
     "output_type": "stream",
     "text": [
      "Computing the cosine similarity matrix...\n",
      "Done computing similarity matrix.\n"
     ]
    }
   ],
   "source": [
    "algo = KNNBasic(sim_options={'name': 'cosine', 'user_based': True})\n",
    "algo.fit(trainset)\n",
    "predictions = algo.test(testset)"
   ]
  },
  {
   "cell_type": "code",
   "execution_count": 60,
   "metadata": {},
   "outputs": [
    {
     "name": "stdout",
     "output_type": "stream",
     "text": [
      "RMSE: 1.1101\n",
      "MAE:  0.8594\n",
      "Precision@5:  0.9159346304501581\n",
      "Recall@5:  0.2932331821071501\n",
      "MRR@5:  0.9584312592307197\n"
     ]
    }
   ],
   "source": [
    "rmse = accuracy.rmse(predictions, verbose=True)\n",
    "mae = accuracy.mae(predictions, verbose=True)\n",
    "results.append({'KNNBasic': {'similarity': 'cosine', 'user_based': True, 'rmse': rmse, 'mae': mae}})\n",
    "precisions, recalls = precision_recall_at_k(predictions, k=5, threshold=3)\n",
    "print('Precision@5: ', sum(prec for prec in precisions.values()) / len(precisions))\n",
    "print('Recall@5: ', sum(rec for rec in recalls.values()) / len(recalls))\n",
    "print('MRR@5: ', mrr_at_k(predictions, k=5, threshold=3))"
   ]
  },
  {
   "cell_type": "markdown",
   "metadata": {},
   "source": [
    "#### Using Pearson Similarity"
   ]
  },
  {
   "cell_type": "code",
   "execution_count": 61,
   "metadata": {},
   "outputs": [
    {
     "name": "stdout",
     "output_type": "stream",
     "text": [
      "Estimating biases using als...\n",
      "Computing the pearson_baseline similarity matrix...\n",
      "Done computing similarity matrix.\n"
     ]
    }
   ],
   "source": [
    "algo = KNNBasic(sim_options={'name': 'pearson_baseline', 'user_based': True})\n",
    "algo.fit(trainset)\n",
    "predictions = algo.test(testset)"
   ]
  },
  {
   "cell_type": "code",
   "execution_count": 62,
   "metadata": {},
   "outputs": [
    {
     "name": "stdout",
     "output_type": "stream",
     "text": [
      "RMSE: 1.1690\n",
      "MAE:  0.8999\n",
      "Precision@5:  0.9007031400501087\n",
      "Recall@5:  0.2867870101788038\n",
      "MRR@5:  0.9491523791177038\n"
     ]
    }
   ],
   "source": [
    "rmse = accuracy.rmse(predictions, verbose=True)\n",
    "mae = accuracy.mae(predictions, verbose=True)\n",
    "results.append({'KNNBasic': {'similarity': 'pearson', 'user_based': True, 'rmse': rmse, 'mae': mae}})\n",
    "precisions, recalls = precision_recall_at_k(predictions, k=5, threshold=3)\n",
    "print('Precision@5: ', sum(prec for prec in precisions.values()) / len(precisions))\n",
    "print('Recall@5: ', sum(rec for rec in recalls.values()) / len(recalls))\n",
    "print('MRR@5: ', mrr_at_k(predictions, k=5, threshold=3))"
   ]
  },
  {
   "cell_type": "markdown",
   "metadata": {},
   "source": [
    "### With Bias"
   ]
  },
  {
   "cell_type": "markdown",
   "metadata": {},
   "source": [
    "#### Using metric square deviation"
   ]
  },
  {
   "cell_type": "code",
   "execution_count": 63,
   "metadata": {},
   "outputs": [
    {
     "name": "stdout",
     "output_type": "stream",
     "text": [
      "Computing the msd similarity matrix...\n",
      "Done computing similarity matrix.\n"
     ]
    }
   ],
   "source": [
    "algo = KNNWithMeans(sim_options={'name': 'msd', 'user_based': True})\n",
    "algo.fit(trainset)\n",
    "predictions = algo.test(testset)"
   ]
  },
  {
   "cell_type": "code",
   "execution_count": 64,
   "metadata": {},
   "outputs": [
    {
     "name": "stdout",
     "output_type": "stream",
     "text": [
      "RMSE: 1.0526\n",
      "MAE:  0.8085\n",
      "Precision@5:  0.9097347974057881\n",
      "Recall@5:  0.28686185558622723\n",
      "MRR@5:  0.9558402363064278\n"
     ]
    }
   ],
   "source": [
    "rmse = accuracy.rmse(predictions, verbose=True)\n",
    "mae = accuracy.mae(predictions, verbose=True)\n",
    "results.append({'KNNWithMeans': {'similarity': 'msd', 'user_based': True, 'rmse': rmse, 'mae': mae}})\n",
    "precisions, recalls = precision_recall_at_k(predictions, k=5, threshold=3)\n",
    "print('Precision@5: ', sum(prec for prec in precisions.values()) / len(precisions))\n",
    "print('Recall@5: ', sum(rec for rec in recalls.values()) / len(recalls))\n",
    "\n",
    "print('MRR@5: ', mrr_at_k(predictions, k=5, threshold=3))"
   ]
  },
  {
   "cell_type": "markdown",
   "metadata": {},
   "source": [
    "#### Using Cosine Similarity"
   ]
  },
  {
   "cell_type": "code",
   "execution_count": 65,
   "metadata": {},
   "outputs": [
    {
     "name": "stdout",
     "output_type": "stream",
     "text": [
      "Computing the cosine similarity matrix...\n",
      "Done computing similarity matrix.\n"
     ]
    }
   ],
   "source": [
    "algo = KNNWithMeans(sim_options={'name': 'cosine', 'user_based': True})\n",
    "algo.fit(trainset)\n",
    "predictions = algo.test(testset)"
   ]
  },
  {
   "cell_type": "code",
   "execution_count": 66,
   "metadata": {},
   "outputs": [
    {
     "name": "stdout",
     "output_type": "stream",
     "text": [
      "RMSE: 1.0474\n",
      "MAE:  0.8053\n",
      "Precision@5:  0.9115263597251866\n",
      "Recall@5:  0.28727269097344077\n",
      "MRR@5:  0.9583991523791178\n"
     ]
    }
   ],
   "source": [
    "rmse = accuracy.rmse(predictions, verbose=True)\n",
    "mae = accuracy.mae(predictions, verbose=True)\n",
    "results.append({'KNNWithMeans': {'similarity': 'cosine', 'user_based': True, 'rmse': rmse, 'mae': mae}})\n",
    "precisions, recalls = precision_recall_at_k(predictions, k=5, threshold=3)\n",
    "print('Precision@5: ', sum(prec for prec in precisions.values()) / len(precisions))\n",
    "print('Recall@5: ', sum(rec for rec in recalls.values()) / len(recalls))\n",
    "print('MRR@5: ', mrr_at_k(predictions, k=5, threshold=3))"
   ]
  },
  {
   "cell_type": "markdown",
   "metadata": {},
   "source": [
    "#### Using Pearson Similarity"
   ]
  },
  {
   "cell_type": "code",
   "execution_count": 67,
   "metadata": {},
   "outputs": [
    {
     "name": "stdout",
     "output_type": "stream",
     "text": [
      "Estimating biases using als...\n",
      "Computing the pearson_baseline similarity matrix...\n",
      "Done computing similarity matrix.\n"
     ]
    }
   ],
   "source": [
    "algo = KNNWithMeans(sim_options={'name': 'pearson_baseline', 'user_based': True})\n",
    "algo.fit(trainset)\n",
    "predictions = algo.test(testset)"
   ]
  },
  {
   "cell_type": "code",
   "execution_count": 68,
   "metadata": {},
   "outputs": [
    {
     "name": "stdout",
     "output_type": "stream",
     "text": [
      "RMSE: 1.1001\n",
      "MAE:  0.8422\n",
      "Precision@5:  0.9002568548128387\n",
      "Recall@5:  0.28335903026272097\n",
      "MRR@5:  0.9482919154947667\n"
     ]
    }
   ],
   "source": [
    "rmse = accuracy.rmse(predictions, verbose=True)\n",
    "mae = accuracy.mae(predictions, verbose=True)\n",
    "results.append({'KNNWithMeans': {'similarity': 'pearson', 'user_based': True, 'rmse': rmse, 'mae': mae}})\n",
    "precisions, recalls = precision_recall_at_k(predictions, k=5, threshold=3)\n",
    "print('Precision@5: ', sum(prec for prec in precisions.values()) / len(precisions))\n",
    "print('Recall@5: ', sum(rec for rec in recalls.values()) / len(recalls))\n",
    "print('MRR@5: ', mrr_at_k(predictions, k=5, threshold=3))"
   ]
  },
  {
   "cell_type": "markdown",
   "metadata": {},
   "source": [
    "## Item Based Collaborative Filtering"
   ]
  },
  {
   "cell_type": "markdown",
   "metadata": {},
   "source": [
    "### Without Bias"
   ]
  },
  {
   "cell_type": "markdown",
   "metadata": {},
   "source": [
    "#### Using metric square deviation"
   ]
  },
  {
   "cell_type": "code",
   "execution_count": 69,
   "metadata": {},
   "outputs": [
    {
     "name": "stdout",
     "output_type": "stream",
     "text": [
      "Computing the msd similarity matrix...\n",
      "Done computing similarity matrix.\n"
     ]
    }
   ],
   "source": [
    "algo = KNNBasic(sim_options={'name': 'msd', 'user_based': False})\n",
    "algo.fit(trainset)\n",
    "predictions = algo.test(testset)"
   ]
  },
  {
   "cell_type": "code",
   "execution_count": 70,
   "metadata": {},
   "outputs": [
    {
     "name": "stdout",
     "output_type": "stream",
     "text": [
      "RMSE: 1.0793\n",
      "MAE:  0.8335\n",
      "Precision@5:  0.8629262184550393\n",
      "Recall@5:  0.27113559704757756\n",
      "MRR@5:  0.9188884607975342\n"
     ]
    }
   ],
   "source": [
    "rmse = accuracy.rmse(predictions, verbose=True)\n",
    "mae = accuracy.mae(predictions, verbose=True)\n",
    "results.append({'KNNBasic': {'similarity': 'msd', 'user_based': False, 'rmse': rmse, 'mae': mae}})\n",
    "precisions, recalls = precision_recall_at_k(predictions, k=5, threshold=3)\n",
    "print('Precision@5: ', sum(prec for prec in precisions.values()) / len(precisions))\n",
    "print('Recall@5: ', sum(rec for rec in recalls.values()) / len(recalls))\n",
    "print('MRR@5: ', mrr_at_k(predictions, k=5, threshold=3))"
   ]
  },
  {
   "cell_type": "markdown",
   "metadata": {},
   "source": [
    "#### Using Cosine Similarity"
   ]
  },
  {
   "cell_type": "code",
   "execution_count": 71,
   "metadata": {},
   "outputs": [
    {
     "name": "stdout",
     "output_type": "stream",
     "text": [
      "Computing the cosine similarity matrix...\n",
      "Done computing similarity matrix.\n"
     ]
    }
   ],
   "source": [
    "algo = KNNBasic(sim_options={'name': 'cosine', 'user_based': False})\n",
    "algo.fit(trainset)\n",
    "predictions = algo.test(testset)"
   ]
  },
  {
   "cell_type": "code",
   "execution_count": 72,
   "metadata": {},
   "outputs": [
    {
     "name": "stdout",
     "output_type": "stream",
     "text": [
      "RMSE: 1.0838\n",
      "MAE:  0.8418\n",
      "Precision@5:  0.8545463301868823\n",
      "Recall@5:  0.2678944843968625\n",
      "MRR@5:  0.9147466769408591\n"
     ]
    }
   ],
   "source": [
    "rmse = accuracy.rmse(predictions, verbose=True)\n",
    "mae = accuracy.mae(predictions, verbose=True)\n",
    "results.append({'KNNBasic': {'similarity': 'cosine', 'user_based': False, 'rmse': rmse, 'mae': mae}})\n",
    "precisions, recalls = precision_recall_at_k(predictions, k=5, threshold=3)\n",
    "print('Precision@5: ', sum(prec for prec in precisions.values()) / len(precisions))\n",
    "print('Recall@5: ', sum(rec for rec in recalls.values()) / len(recalls))\n",
    "print('MRR@5: ', mrr_at_k(predictions, k=5, threshold=3))"
   ]
  },
  {
   "cell_type": "markdown",
   "metadata": {},
   "source": [
    "#### Using Pearson Similarity"
   ]
  },
  {
   "cell_type": "code",
   "execution_count": 73,
   "metadata": {},
   "outputs": [
    {
     "name": "stdout",
     "output_type": "stream",
     "text": [
      "Estimating biases using als...\n",
      "Computing the pearson_baseline similarity matrix...\n",
      "Done computing similarity matrix.\n"
     ]
    }
   ],
   "source": [
    "algo = KNNBasic(sim_options={'name': 'pearson_baseline', 'user_based': False})\n",
    "algo.fit(trainset)\n",
    "predictions = algo.test(testset)"
   ]
  },
  {
   "cell_type": "code",
   "execution_count": 74,
   "metadata": {},
   "outputs": [
    {
     "name": "stdout",
     "output_type": "stream",
     "text": [
      "RMSE: 1.1429\n",
      "MAE:  0.8719\n",
      "Precision@5:  0.8606697183464773\n",
      "Recall@5:  0.52694527767038\n",
      "MRR@5:  0.9195305978295769\n"
     ]
    }
   ],
   "source": [
    "rmse = accuracy.rmse(predictions, verbose=True)\n",
    "mae = accuracy.mae(predictions, verbose=True)\n",
    "results.append({'KNNBasic': {'similarity': 'pearson', 'user_based': False, 'rmse': rmse, 'mae': mae}})\n",
    "precisions, recalls = precision_recall_at_k(predictions, k=10, threshold=3)\n",
    "print('Precision@5: ', sum(prec for prec in precisions.values()) / len(precisions))\n",
    "print('Recall@5: ', sum(rec for rec in recalls.values()) / len(recalls))\n",
    "print('MRR@5: ', mrr_at_k(predictions, k=5, threshold=3))"
   ]
  },
  {
   "cell_type": "markdown",
   "metadata": {},
   "source": [
    "### With Bias"
   ]
  },
  {
   "cell_type": "markdown",
   "metadata": {},
   "source": [
    "#### Using metric square deviation"
   ]
  },
  {
   "cell_type": "code",
   "execution_count": 75,
   "metadata": {},
   "outputs": [
    {
     "name": "stdout",
     "output_type": "stream",
     "text": [
      "Computing the msd similarity matrix...\n",
      "Done computing similarity matrix.\n"
     ]
    }
   ],
   "source": [
    "algo = KNNWithMeans(sim_options={'name': 'msd', 'user_based': False})\n",
    "algo.fit(trainset)\n",
    "predictions = algo.test(testset)"
   ]
  },
  {
   "cell_type": "code",
   "execution_count": 76,
   "metadata": {},
   "outputs": [
    {
     "name": "stdout",
     "output_type": "stream",
     "text": [
      "RMSE: 1.0583\n",
      "MAE:  0.8102\n",
      "Precision@5:  0.912512040069371\n",
      "Recall@5:  0.28931584623897344\n",
      "MRR@5:  0.9555223784755668\n"
     ]
    }
   ],
   "source": [
    "rmse = accuracy.rmse(predictions, verbose=True)\n",
    "mae = accuracy.mae(predictions, verbose=True)\n",
    "results.append({'KNNWithMeans': {'similarity': 'msd', 'user_based': False, 'rmse': rmse, 'mae': mae}})\n",
    "precisions, recalls = precision_recall_at_k(predictions, k=5, threshold=3)\n",
    "print('Precision@5: ', sum(prec for prec in precisions.values()) / len(precisions))\n",
    "print('Recall@5: ', sum(rec for rec in recalls.values()) / len(recalls))\n",
    "print('MRR@5: ', mrr_at_k(predictions, k=5, threshold=3))"
   ]
  },
  {
   "cell_type": "markdown",
   "metadata": {},
   "source": [
    "#### Using Cosine Similarity"
   ]
  },
  {
   "cell_type": "code",
   "execution_count": 77,
   "metadata": {},
   "outputs": [
    {
     "name": "stdout",
     "output_type": "stream",
     "text": [
      "Computing the cosine similarity matrix...\n",
      "Done computing similarity matrix.\n"
     ]
    },
    {
     "data": {
      "text/plain": [
       "<surprise.prediction_algorithms.knns.KNNWithMeans at 0x7fb69ada4b10>"
      ]
     },
     "execution_count": 77,
     "metadata": {},
     "output_type": "execute_result"
    }
   ],
   "source": [
    "algo = KNNWithMeans(sim_options={'name': 'cosine', 'user_based': False})\n",
    "algo.fit(trainset)"
   ]
  },
  {
   "cell_type": "code",
   "execution_count": 78,
   "metadata": {},
   "outputs": [
    {
     "name": "stdout",
     "output_type": "stream",
     "text": [
      "RMSE: 1.0561\n",
      "MAE:  0.8087\n",
      "Precision@5:  0.9145604572015866\n",
      "Recall@5:  0.28999107060414714\n",
      "MRR@5:  0.9555705387529699\n"
     ]
    }
   ],
   "source": [
    "predictions = algo.test(testset)\n",
    "rmse = accuracy.rmse(predictions, verbose=True)\n",
    "mae = accuracy.mae(predictions, verbose=True)\n",
    "results.append({'KNNWithMeans': {'similarity': 'cosine', 'user_based': False, 'rmse': rmse, 'mae': mae}})\n",
    "precisions, recalls = precision_recall_at_k(predictions, k=5, threshold=3)\n",
    "print('Precision@5: ', sum(prec for prec in precisions.values()) / len(precisions))\n",
    "print('Recall@5: ', sum(rec for rec in recalls.values()) / len(recalls))\n",
    "print('MRR@5: ', mrr_at_k(predictions, k=5, threshold=3))"
   ]
  },
  {
   "cell_type": "markdown",
   "metadata": {},
   "source": [
    "#### Using Pearson Similarity"
   ]
  },
  {
   "cell_type": "code",
   "execution_count": 79,
   "metadata": {},
   "outputs": [
    {
     "name": "stdout",
     "output_type": "stream",
     "text": [
      "Estimating biases using als...\n",
      "Computing the pearson_baseline similarity matrix...\n",
      "Done computing similarity matrix.\n"
     ]
    }
   ],
   "source": [
    "algo = KNNWithMeans(sim_options={'name': 'pearson_baseline', 'user_based': False})\n",
    "algo.fit(trainset)\n",
    "predictions = algo.test(testset)"
   ]
  },
  {
   "cell_type": "code",
   "execution_count": 80,
   "metadata": {},
   "outputs": [
    {
     "name": "stdout",
     "output_type": "stream",
     "text": [
      "RMSE: 1.1124\n",
      "MAE:  0.8425\n",
      "Precision@5:  0.9062544146921139\n",
      "Recall@5:  0.2870207988818039\n",
      "MRR@5:  0.9501765876838117\n"
     ]
    }
   ],
   "source": [
    "rmse = accuracy.rmse(predictions, verbose=True)\n",
    "mae = accuracy.mae(predictions, verbose=True)\n",
    "results.append({'KNNWithMeans': {'similarity': 'pearson', 'user_based': False, 'rmse': rmse, 'mae': mae}})\n",
    "precisions, recalls = precision_recall_at_k(predictions, k=5, threshold=3)\n",
    "print('Precision@5: ', sum(prec for prec in precisions.values()) / len(precisions))\n",
    "print('Recall@5: ', sum(rec for rec in recalls.values()) / len(recalls))\n",
    "print('MRR@5: ', mrr_at_k(predictions, k=5, threshold=3))"
   ]
  },
  {
   "cell_type": "markdown",
   "metadata": {},
   "source": [
    "## Visualizing All Results"
   ]
  },
  {
   "cell_type": "markdown",
   "metadata": {},
   "source": [
    "### User Based Collaborative Filtering"
   ]
  },
  {
   "cell_type": "code",
   "execution_count": 81,
   "metadata": {},
   "outputs": [
    {
     "data": {
      "text/plain": [
       "<matplotlib.legend.Legend at 0x7fb6d0f0af50>"
      ]
     },
     "execution_count": 81,
     "metadata": {},
     "output_type": "execute_result"
    },
    {
     "data": {
      "image/png": "[encoded data removed]",
      "text/plain": [
       "<Figure size 1152x360 with 2 Axes>"
      ]
     },
     "metadata": {},
     "output_type": "display_data"
    }
   ],
   "source": [
    "fig, axes = plt.subplots(1, 2, figsize=(16, 5))\n",
    "\n",
    "res = [(res['KNNBasic']['similarity'], res['KNNBasic']['rmse'], res['KNNBasic']['mae']) for res in results if 'KNNBasic' in res and res['KNNBasic']['user_based']]\n",
    "res = list(zip(*res))\n",
    "metrics, rmse, mae = res[0], res[1], res[2]\n",
    "\n",
    "axes[0].set_title('KNN Basic')\n",
    "axes[0].plot(metrics, rmse, '-X', label='RMSE')\n",
    "axes[0].plot(metrics, mae, '-X', label='MAE')\n",
    "axes[0].legend()\n",
    "\n",
    "res = [(res['KNNWithMeans']['similarity'], res['KNNWithMeans']['rmse'], res['KNNWithMeans']['mae']) for res in results if 'KNNWithMeans' in res and res['KNNWithMeans']['user_based']]\n",
    "res = list(zip(*res))\n",
    "metrics, rmse, mae = res[0], res[1], res[2]\n",
    "\n",
    "axes[1].set_title('KNN With Bias');\n",
    "axes[1].plot(metrics, rmse, '-X', label='RMSE')\n",
    "axes[1].plot(metrics, mae, '-X', label='MAE')\n",
    "axes[1].legend()"
   ]
  },
  {
   "cell_type": "markdown",
   "metadata": {},
   "source": [
    "### Item Based Collaborative Filtering"
   ]
  },
  {
   "cell_type": "code",
   "execution_count": 82,
   "metadata": {},
   "outputs": [
    {
     "data": {
      "text/plain": [
       "<matplotlib.legend.Legend at 0x7fb6bce11e90>"
      ]
     },
     "execution_count": 82,
     "metadata": {},
     "output_type": "execute_result"
    },
    {
     "data": {
      "image/png": "[encoded data removed]",
      "text/plain": [
       "<Figure size 1152x360 with 2 Axes>"
      ]
     },
     "metadata": {},
     "output_type": "display_data"
    }
   ],
   "source": [
    "fig, axes = plt.subplots(1, 2, figsize=(16, 5))\n",
    "\n",
    "res = [(res['KNNBasic']['similarity'], res['KNNBasic']['rmse'], res['KNNBasic']['mae']) for res in results if 'KNNBasic' in res and not res['KNNBasic']['user_based']]\n",
    "res = list(zip(*res))\n",
    "metrics, rmse, mae = res[0], res[1], res[2]\n",
    "\n",
    "axes[0].set_title('KNN Basic')\n",
    "axes[0].plot(metrics, rmse, '-X', label='RMSE')\n",
    "axes[0].plot(metrics, mae, '-X', label='MAE')\n",
    "axes[0].legend()\n",
    "\n",
    "res = [(res['KNNWithMeans']['similarity'], res['KNNWithMeans']['rmse'], res['KNNWithMeans']['mae']) for res in results if 'KNNWithMeans' in res and not res['KNNWithMeans']['user_based']]\n",
    "res = list(zip(*res))\n",
    "metrics, rmse, mae = res[0], res[1], res[2]\n",
    "\n",
    "axes[1].set_title('KNN With Bias');\n",
    "axes[1].plot(metrics, rmse, '-X', label='RMSE')\n",
    "axes[1].plot(metrics, mae, '-X', label='MAE')\n",
    "axes[1].legend()"
   ]
  },
  {
   "cell_type": "markdown",
   "metadata": {},
   "source": [
    "## Paramter Tuning"
   ]
  },
  {
   "cell_type": "code",
   "execution_count": 12,
   "metadata": {},
   "outputs": [
    {
     "name": "stdout",
     "output_type": "stream",
     "text": [
      "Computing the msd similarity matrix...\n",
      "Done computing similarity matrix.\n",
      "Computing the msd similarity matrix...\n",
      "Done computing similarity matrix.\n",
      "Computing the msd similarity matrix...\n",
      "Done computing similarity matrix.\n",
      "Computing the msd similarity matrix...\n",
      "Done computing similarity matrix.\n",
      "Computing the msd similarity matrix...\n",
      "Done computing similarity matrix.\n",
      "Computing the msd similarity matrix...\n",
      "Done computing similarity matrix.\n",
      "Computing the msd similarity matrix...\n",
      "Done computing similarity matrix.\n",
      "Computing the msd similarity matrix...\n",
      "Done computing similarity matrix.\n",
      "Computing the msd similarity matrix...\n",
      "Done computing similarity matrix.\n",
      "Computing the msd similarity matrix...\n",
      "Done computing similarity matrix.\n",
      "Computing the msd similarity matrix...\n",
      "Done computing similarity matrix.\n",
      "Computing the msd similarity matrix...\n",
      "Done computing similarity matrix.\n",
      "Computing the msd similarity matrix...\n",
      "Done computing similarity matrix.\n",
      "Computing the msd similarity matrix...\n",
      "Done computing similarity matrix.\n",
      "Computing the msd similarity matrix...\n",
      "Done computing similarity matrix.\n",
      "Computing the msd similarity matrix...\n",
      "Done computing similarity matrix.\n",
      "Computing the msd similarity matrix...\n",
      "Done computing similarity matrix.\n",
      "Computing the msd similarity matrix...\n",
      "Done computing similarity matrix.\n",
      "Computing the msd similarity matrix...\n",
      "Done computing similarity matrix.\n",
      "Computing the msd similarity matrix...\n",
      "Done computing similarity matrix.\n",
      "Computing the msd similarity matrix...\n",
      "Done computing similarity matrix.\n",
      "Computing the msd similarity matrix...\n",
      "Done computing similarity matrix.\n",
      "Computing the msd similarity matrix...\n",
      "Done computing similarity matrix.\n",
      "Computing the msd similarity matrix...\n",
      "Done computing similarity matrix.\n",
      "Computing the msd similarity matrix...\n",
      "Done computing similarity matrix.\n",
      "Computing the msd similarity matrix...\n",
      "Done computing similarity matrix.\n",
      "Computing the msd similarity matrix...\n",
      "Done computing similarity matrix.\n",
      "Computing the msd similarity matrix...\n",
      "Done computing similarity matrix.\n",
      "Computing the msd similarity matrix...\n",
      "Done computing similarity matrix.\n",
      "Computing the msd similarity matrix...\n",
      "Done computing similarity matrix.\n",
      "Computing the cosine similarity matrix...\n",
      "Done computing similarity matrix.\n",
      "Computing the cosine similarity matrix...\n",
      "Done computing similarity matrix.\n",
      "Computing the cosine similarity matrix...\n",
      "Done computing similarity matrix.\n",
      "Computing the cosine similarity matrix...\n",
      "Done computing similarity matrix.\n",
      "Computing the cosine similarity matrix...\n",
      "Done computing similarity matrix.\n",
      "Computing the cosine similarity matrix...\n",
      "Done computing similarity matrix.\n",
      "Computing the cosine similarity matrix...\n",
      "Done computing similarity matrix.\n",
      "Computing the cosine similarity matrix...\n",
      "Done computing similarity matrix.\n",
      "Computing the cosine similarity matrix...\n",
      "Done computing similarity matrix.\n",
      "Computing the cosine similarity matrix...\n",
      "Done computing similarity matrix.\n",
      "Computing the cosine similarity matrix...\n",
      "Done computing similarity matrix.\n",
      "Computing the cosine similarity matrix...\n",
      "Done computing similarity matrix.\n",
      "Computing the cosine similarity matrix...\n",
      "Done computing similarity matrix.\n",
      "Computing the cosine similarity matrix...\n",
      "Done computing similarity matrix.\n",
      "Computing the cosine similarity matrix...\n",
      "Done computing similarity matrix.\n",
      "Computing the cosine similarity matrix...\n",
      "Done computing similarity matrix.\n",
      "Computing the cosine similarity matrix...\n",
      "Done computing similarity matrix.\n",
      "Computing the cosine similarity matrix...\n",
      "Done computing similarity matrix.\n",
      "Computing the cosine similarity matrix...\n",
      "Done computing similarity matrix.\n",
      "Computing the cosine similarity matrix...\n",
      "Done computing similarity matrix.\n",
      "Computing the cosine similarity matrix...\n",
      "Done computing similarity matrix.\n",
      "Computing the cosine similarity matrix...\n",
      "Done computing similarity matrix.\n",
      "Computing the cosine similarity matrix...\n",
      "Done computing similarity matrix.\n",
      "Computing the cosine similarity matrix...\n",
      "Done computing similarity matrix.\n",
      "Computing the cosine similarity matrix...\n",
      "Done computing similarity matrix.\n",
      "Computing the cosine similarity matrix...\n",
      "Done computing similarity matrix.\n",
      "Computing the cosine similarity matrix...\n",
      "Done computing similarity matrix.\n",
      "Computing the cosine similarity matrix...\n",
      "Done computing similarity matrix.\n",
      "Computing the cosine similarity matrix...\n",
      "Done computing similarity matrix.\n",
      "Computing the cosine similarity matrix...\n",
      "Done computing similarity matrix.\n",
      "Computing the pearson similarity matrix...\n",
      "Done computing similarity matrix.\n",
      "Computing the pearson similarity matrix...\n",
      "Done computing similarity matrix.\n",
      "Computing the pearson similarity matrix...\n",
      "Done computing similarity matrix.\n",
      "Computing the pearson similarity matrix...\n",
      "Done computing similarity matrix.\n",
      "Computing the pearson similarity matrix...\n",
      "Done computing similarity matrix.\n",
      "Computing the pearson similarity matrix...\n",
      "Done computing similarity matrix.\n",
      "Computing the pearson similarity matrix...\n",
      "Done computing similarity matrix.\n",
      "Computing the pearson similarity matrix...\n",
      "Done computing similarity matrix.\n",
      "Computing the pearson similarity matrix...\n",
      "Done computing similarity matrix.\n",
      "Computing the pearson similarity matrix...\n",
      "Done computing similarity matrix.\n",
      "Computing the pearson similarity matrix...\n",
      "Done computing similarity matrix.\n",
      "Computing the pearson similarity matrix...\n",
      "Done computing similarity matrix.\n",
      "Computing the pearson similarity matrix...\n",
      "Done computing similarity matrix.\n",
      "Computing the pearson similarity matrix...\n",
      "Done computing similarity matrix.\n",
      "Computing the pearson similarity matrix...\n",
      "Done computing similarity matrix.\n",
      "Computing the pearson similarity matrix...\n",
      "Done computing similarity matrix.\n",
      "Computing the pearson similarity matrix...\n",
      "Done computing similarity matrix.\n",
      "Computing the pearson similarity matrix...\n",
      "Done computing similarity matrix.\n",
      "Computing the pearson similarity matrix...\n",
      "Done computing similarity matrix.\n",
      "Computing the pearson similarity matrix...\n",
      "Done computing similarity matrix.\n",
      "Computing the pearson similarity matrix...\n",
      "Done computing similarity matrix.\n",
      "Computing the pearson similarity matrix...\n",
      "Done computing similarity matrix.\n",
      "Computing the pearson similarity matrix...\n",
      "Done computing similarity matrix.\n",
      "Computing the pearson similarity matrix...\n",
      "Done computing similarity matrix.\n",
      "Computing the pearson similarity matrix...\n",
      "Done computing similarity matrix.\n",
      "Computing the pearson similarity matrix...\n",
      "Done computing similarity matrix.\n",
      "Computing the pearson similarity matrix...\n",
      "Done computing similarity matrix.\n",
      "Computing the pearson similarity matrix...\n",
      "Done computing similarity matrix.\n",
      "Computing the pearson similarity matrix...\n",
      "Done computing similarity matrix.\n",
      "Computing the pearson similarity matrix...\n",
      "Done computing similarity matrix.\n",
      "1.0596959621796946\n",
      "{'sim_options': {'name': 'cosine', 'min_support': 3, 'user_based': True}}\n"
     ]
    }
   ],
   "source": [
    "param_grid = {\n",
    "    \"sim_options\": {\n",
    "        \"name\": [\"msd\", \"cosine\", \"pearson\"],\n",
    "        \"min_support\": [3, 4, 5],\n",
    "        \"user_based\": [True, False],\n",
    "    }\n",
    "}\n",
    "grid_search = GridSearchCV(KNNWithMeans, param_grid, measures = [\"rmse\", \"mae\"], cv = 5)\n",
    "grid_search.fit(Dataset.load_from_df(reviews_df, Reader(rating_scale=(1, 5))))\n",
    "\n",
    "print(grid_search.best_score[\"rmse\"])\n",
    "print(grid_search.best_params[\"rmse\"])"
   ]
  },
  {
   "cell_type": "markdown",
   "metadata": {},
   "source": [
    "## Recommending Businesses"
   ]
  },
  {
   "cell_type": "code",
   "execution_count": 53,
   "metadata": {},
   "outputs": [],
   "source": [
    "def get_top_n(predictions, n=10):\n",
    "    \"\"\"\n",
    "    This function returns the top n predictions for every user\n",
    "    \n",
    "    Parameters:\n",
    "    \n",
    "    predictions: ratings for every user predicted by the model\n",
    "     results\n",
    "    n: Number of restaurants to be recommended default is 10\n",
    "    \n",
    "    Returns:\n",
    "    A dictionary with key as the user id and a list of businesses as the value\n",
    "    \"\"\"\n",
    "    # First map the predictions to each user.\n",
    "    top_n = defaultdict(list)\n",
    "    for uid, iid, true_r, est, _ in predictions:\n",
    "        top_n[uid].append((iid, est))\n",
    "\n",
    "    # Then sort the predictions for each user and retrieve the k highest ones.\n",
    "    for uid, user_ratings in top_n.items():\n",
    "        user_ratings.sort(key=lambda x: x[1], reverse=True)\n",
    "        top_n[uid] = user_ratings[:n]\n",
    "\n",
    "    return top_n\n",
    "\n",
    "def build_anti_dataset(user_id, reviews_df):\n",
    "    businesses_already_rated_by_user = reviews_df[reviews_df['user_id'] == user_id]['business_id'].values\n",
    "    businesses_not_rated_by_user = reviews_df[~reviews_df.business_id.isin(businesses_already_rated_by_user)].business_id\n",
    "    \n",
    "    anti_user_df = pd.DataFrame(businesses_not_rated_by_user).assign(user_id = user_id).assign(stars = np.nan)\n",
    "    anti_user_df = anti_user_df[['user_id', 'business_id', 'stars']]\n",
    "    \n",
    "    return anti_user_df"
   ]
  },
  {
   "cell_type": "code",
   "execution_count": 54,
   "metadata": {},
   "outputs": [
    {
     "name": "stdout",
     "output_type": "stream",
     "text": [
      "Computing the cosine similarity matrix...\n",
      "Done computing similarity matrix.\n"
     ]
    },
    {
     "data": {
      "text/plain": [
       "<surprise.prediction_algorithms.knns.KNNWithMeans at 0x7f7c19366590>"
      ]
     },
     "execution_count": 54,
     "metadata": {},
     "output_type": "execute_result"
    }
   ],
   "source": [
    "## using a pandas dataframe ##\n",
    "reader = Reader(rating_scale = (1, 5))\n",
    "data = Dataset.load_from_df(reviews_df, reader)\n",
    "trainset = data.build_full_trainset()\n",
    "\n",
    "algo = KNNWithMeans(sim_options={'name': 'cosine', 'user_based': True, \"min_support\": 3})\n",
    "algo.fit(trainset)"
   ]
  },
  {
   "cell_type": "code",
   "execution_count": 55,
   "metadata": {},
   "outputs": [
    {
     "name": "stdout",
     "output_type": "stream",
     "text": [
      "RMSE: 0.8707\n",
      "Precision@5:  0.9592210877801426\n",
      "Recall@5:  0.557742414374102\n",
      "MRR@5:  0.8812881268862777\n",
      "MRR_with_threshold@5:  0.9941212354716497\n"
     ]
    }
   ],
   "source": [
    "predictions = algo.test(testset)\n",
    "precisions, recalls = precision_recall_at_k(predictions, k=5, threshold=3)\n",
    "accuracy.rmse(predictions, verbose=True)\n",
    "# print('RMSE: ', )\n",
    "print('Precision@5: ', sum(prec for prec in precisions.values()) / len(precisions))\n",
    "print('Recall@5: ', sum(rec for rec in recalls.values()) / len(recalls))\n",
    "\n",
    "print('MRR@5: ', mrr_at_k(predictions, k=5, threshold=3))\n",
    "print('MRR_with_threshold@5: ', mrr_at_k_with_threshold(predictions, k=5, threshold=3))"
   ]
  },
  {
   "cell_type": "code",
   "execution_count": 56,
   "metadata": {},
   "outputs": [
    {
     "data": {
      "text/plain": [
       "defaultdict(list,\n",
       "            {'UgMW8bLE0QMJDCkQ1Ax5Mg': [('swX3Vj3dQsz1YlCRmwNQEQ', 5),\n",
       "              ('Xs2iTWxbczvfEapAFH3cyw', 5),\n",
       "              ('C9QNd6qXSRgSy8n4OBf2mA', 5),\n",
       "              ('swX3Vj3dQsz1YlCRmwNQEQ', 5),\n",
       "              ('cUGFEQOu3_VsOpbvHGx8ZQ', 5),\n",
       "              ('cj_9eTPR0JBqk9qt2VmzFw', 5),\n",
       "              ('g9cKOi-6XzQne3s5TqA2fQ', 5),\n",
       "              ('C9QNd6qXSRgSy8n4OBf2mA', 5),\n",
       "              ('0CElIQnJdQYF2bmsAiWczg', 5),\n",
       "              ('c9AIsznk1BtEYZp0gZio6A', 5)]})"
      ]
     },
     "execution_count": 56,
     "metadata": {},
     "output_type": "execute_result"
    }
   ],
   "source": [
    "# Selecting a user_id to recommend businesses to\n",
    "user_id = reviews_df.iloc[0].user_id\n",
    "\n",
    "# Building anti test set, i.e, selecting all businesses which user has not rated\n",
    "anti_user_df = build_anti_dataset(user_id, reviews_df)\n",
    "\n",
    "# Estimating business ratings\n",
    "testset = Dataset.load_from_df(anti_user_df, reader).build_full_trainset().build_testset()\n",
    "predictions = algo.test(testset)\n",
    "\n",
    "# Recommending top 10 businesses wwith highest estimated ratings\n",
    "top_n_antitest = get_top_n(predictions, 10)\n",
    "top_n_antitest"
   ]
  },
  {
   "cell_type": "code",
   "execution_count": null,
   "metadata": {},
   "outputs": [],
   "source": []
  }
 ],
 "metadata": {
  "environment": {
   "name": "tf2-2-3-gpu.2-3.m59",
   "type": "gcloud",
   "uri": "gcr.io/deeplearning-platform-release/tf2-2-3-gpu.2-3:m59"
  },
  "kernelspec": {
   "display_name": "Python [conda env:root] *",
   "language": "python",
   "name": "conda-root-py"
  },
  "language_info": {
   "codemirror_mode": {
    "name": "ipython",
    "version": 3
   },
   "file_extension": ".py",
   "mimetype": "text/x-python",
   "name": "python",
   "nbconvert_exporter": "python",
   "pygments_lexer": "ipython3",
   "version": "3.7.8"
  }
 },
 "nbformat": 4,
 "nbformat_minor": 4
}
