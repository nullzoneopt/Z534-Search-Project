{
  "nbformat": 4,
  "nbformat_minor": 0,
  "metadata": {
    "colab": {
      "name": "Search project_ALS.ipynb",
      "provenance": [],
      "collapsed_sections": []
    },
    "kernelspec": {
      "name": "python3",
      "display_name": "Python 3"
    },
    "accelerator": "GPU",
    "widgets": {
      "application/vnd.jupyter.widget-state+json": {
        "47098f962b4c40419240e6882962a6cb": {
          "model_module": "@jupyter-widgets/controls",
          "model_name": "HBoxModel",
          "state": {
            "_view_name": "HBoxView",
            "_dom_classes": [],
            "_model_name": "HBoxModel",
            "_view_module": "@jupyter-widgets/controls",
            "_model_module_version": "1.5.0",
            "_view_count": null,
            "_view_module_version": "1.5.0",
            "box_style": "",
            "layout": "IPY_MODEL_8411e057be264c0a865bf0e585405fbe",
            "_model_module": "@jupyter-widgets/controls",
            "children": [
              "IPY_MODEL_3479b3a1b8c948ac958b50733241e871",
              "IPY_MODEL_99b59c6931594e39a9f3b13eccdd7342"
            ]
          }
        },
        "8411e057be264c0a865bf0e585405fbe": {
          "model_module": "@jupyter-widgets/base",
          "model_name": "LayoutModel",
          "state": {
            "_view_name": "LayoutView",
            "grid_template_rows": null,
            "right": null,
            "justify_content": null,
            "_view_module": "@jupyter-widgets/base",
            "overflow": null,
            "_model_module_version": "1.2.0",
            "_view_count": null,
            "flex_flow": null,
            "width": null,
            "min_width": null,
            "border": null,
            "align_items": null,
            "bottom": null,
            "_model_module": "@jupyter-widgets/base",
            "top": null,
            "grid_column": null,
            "overflow_y": null,
            "overflow_x": null,
            "grid_auto_flow": null,
            "grid_area": null,
            "grid_template_columns": null,
            "flex": null,
            "_model_name": "LayoutModel",
            "justify_items": null,
            "grid_row": null,
            "max_height": null,
            "align_content": null,
            "visibility": null,
            "align_self": null,
            "height": null,
            "min_height": null,
            "padding": null,
            "grid_auto_rows": null,
            "grid_gap": null,
            "max_width": null,
            "order": null,
            "_view_module_version": "1.2.0",
            "grid_template_areas": null,
            "object_position": null,
            "object_fit": null,
            "grid_auto_columns": null,
            "margin": null,
            "display": null,
            "left": null
          }
        },
        "3479b3a1b8c948ac958b50733241e871": {
          "model_module": "@jupyter-widgets/controls",
          "model_name": "FloatProgressModel",
          "state": {
            "_view_name": "ProgressView",
            "style": "IPY_MODEL_dbb123f8fca2493b8622b43a07d383cb",
            "_dom_classes": [],
            "description": "100%",
            "_model_name": "FloatProgressModel",
            "bar_style": "success",
            "max": 50,
            "_view_module": "@jupyter-widgets/controls",
            "_model_module_version": "1.5.0",
            "value": 50,
            "_view_count": null,
            "_view_module_version": "1.5.0",
            "orientation": "horizontal",
            "min": 0,
            "description_tooltip": null,
            "_model_module": "@jupyter-widgets/controls",
            "layout": "IPY_MODEL_8dccf0a9510c4c9fbf0e8f41beebde71"
          }
        },
        "99b59c6931594e39a9f3b13eccdd7342": {
          "model_module": "@jupyter-widgets/controls",
          "model_name": "HTMLModel",
          "state": {
            "_view_name": "HTMLView",
            "style": "IPY_MODEL_c0408869efa247a6a1e634eb32b7b455",
            "_dom_classes": [],
            "description": "",
            "_model_name": "HTMLModel",
            "placeholder": "​",
            "_view_module": "@jupyter-widgets/controls",
            "_model_module_version": "1.5.0",
            "value": " 50/50 [00:33&lt;00:00,  1.48it/s]",
            "_view_count": null,
            "_view_module_version": "1.5.0",
            "description_tooltip": null,
            "_model_module": "@jupyter-widgets/controls",
            "layout": "IPY_MODEL_06f0a29ab6a146b59c484c2001c24e67"
          }
        },
        "dbb123f8fca2493b8622b43a07d383cb": {
          "model_module": "@jupyter-widgets/controls",
          "model_name": "ProgressStyleModel",
          "state": {
            "_view_name": "StyleView",
            "_model_name": "ProgressStyleModel",
            "description_width": "initial",
            "_view_module": "@jupyter-widgets/base",
            "_model_module_version": "1.5.0",
            "_view_count": null,
            "_view_module_version": "1.2.0",
            "bar_color": null,
            "_model_module": "@jupyter-widgets/controls"
          }
        },
        "8dccf0a9510c4c9fbf0e8f41beebde71": {
          "model_module": "@jupyter-widgets/base",
          "model_name": "LayoutModel",
          "state": {
            "_view_name": "LayoutView",
            "grid_template_rows": null,
            "right": null,
            "justify_content": null,
            "_view_module": "@jupyter-widgets/base",
            "overflow": null,
            "_model_module_version": "1.2.0",
            "_view_count": null,
            "flex_flow": null,
            "width": null,
            "min_width": null,
            "border": null,
            "align_items": null,
            "bottom": null,
            "_model_module": "@jupyter-widgets/base",
            "top": null,
            "grid_column": null,
            "overflow_y": null,
            "overflow_x": null,
            "grid_auto_flow": null,
            "grid_area": null,
            "grid_template_columns": null,
            "flex": null,
            "_model_name": "LayoutModel",
            "justify_items": null,
            "grid_row": null,
            "max_height": null,
            "align_content": null,
            "visibility": null,
            "align_self": null,
            "height": null,
            "min_height": null,
            "padding": null,
            "grid_auto_rows": null,
            "grid_gap": null,
            "max_width": null,
            "order": null,
            "_view_module_version": "1.2.0",
            "grid_template_areas": null,
            "object_position": null,
            "object_fit": null,
            "grid_auto_columns": null,
            "margin": null,
            "display": null,
            "left": null
          }
        },
        "c0408869efa247a6a1e634eb32b7b455": {
          "model_module": "@jupyter-widgets/controls",
          "model_name": "DescriptionStyleModel",
          "state": {
            "_view_name": "StyleView",
            "_model_name": "DescriptionStyleModel",
            "description_width": "",
            "_view_module": "@jupyter-widgets/base",
            "_model_module_version": "1.5.0",
            "_view_count": null,
            "_view_module_version": "1.2.0",
            "_model_module": "@jupyter-widgets/controls"
          }
        },
        "06f0a29ab6a146b59c484c2001c24e67": {
          "model_module": "@jupyter-widgets/base",
          "model_name": "LayoutModel",
          "state": {
            "_view_name": "LayoutView",
            "grid_template_rows": null,
            "right": null,
            "justify_content": null,
            "_view_module": "@jupyter-widgets/base",
            "overflow": null,
            "_model_module_version": "1.2.0",
            "_view_count": null,
            "flex_flow": null,
            "width": null,
            "min_width": null,
            "border": null,
            "align_items": null,
            "bottom": null,
            "_model_module": "@jupyter-widgets/base",
            "top": null,
            "grid_column": null,
            "overflow_y": null,
            "overflow_x": null,
            "grid_auto_flow": null,
            "grid_area": null,
            "grid_template_columns": null,
            "flex": null,
            "_model_name": "LayoutModel",
            "justify_items": null,
            "grid_row": null,
            "max_height": null,
            "align_content": null,
            "visibility": null,
            "align_self": null,
            "height": null,
            "min_height": null,
            "padding": null,
            "grid_auto_rows": null,
            "grid_gap": null,
            "max_width": null,
            "order": null,
            "_view_module_version": "1.2.0",
            "grid_template_areas": null,
            "object_position": null,
            "object_fit": null,
            "grid_auto_columns": null,
            "margin": null,
            "display": null,
            "left": null
          }
        }
      }
    }
  },
  "cells": [
    {
      "cell_type": "code",
      "metadata": {
        "id": "L4Ya_Ibt01ie"
      },
      "source": [
        "import pandas as pd\n",
        "import numpy as np\n",
        "import random\n",
        "import scipy.sparse as sparse\n",
        "from scipy.sparse.linalg import spsolve\n",
        "from sklearn import metrics\n",
        "from sklearn.preprocessing import MinMaxScaler"
      ],
      "execution_count": 1,
      "outputs": []
    },
    {
      "cell_type": "code",
      "metadata": {
        "colab": {
          "base_uri": "https://localhost:8080/"
        },
        "id": "enzOP8ptspmf",
        "outputId": "5504073f-af5c-41ba-8db7-e482ea47d13e"
      },
      "source": [
        "!pip install implicit\n",
        "import implicit"
      ],
      "execution_count": 2,
      "outputs": [
        {
          "output_type": "stream",
          "text": [
            "Requirement already satisfied: implicit in /usr/local/lib/python3.6/dist-packages (0.4.4)\n",
            "Requirement already satisfied: scipy>=0.16 in /usr/local/lib/python3.6/dist-packages (from implicit) (1.4.1)\n",
            "Requirement already satisfied: tqdm>=4.27 in /usr/local/lib/python3.6/dist-packages (from implicit) (4.41.1)\n",
            "Requirement already satisfied: numpy in /usr/local/lib/python3.6/dist-packages (from implicit) (1.18.5)\n"
          ],
          "name": "stdout"
        }
      ]
    },
    {
      "cell_type": "code",
      "metadata": {
        "id": "ybZMwKyE2fHA"
      },
      "source": [
        "user_review = pd.read_csv(\"/content/drive/My Drive/archive/user_review_mat_food_rest.csv\")"
      ],
      "execution_count": 3,
      "outputs": []
    },
    {
      "cell_type": "code",
      "metadata": {
        "colab": {
          "base_uri": "https://localhost:8080/",
          "height": 199
        },
        "id": "PBuntC2ife6z",
        "outputId": "bcf7f4ff-c6e2-4be3-8756-db218f6a95b2"
      },
      "source": [
        "user_review.head()"
      ],
      "execution_count": 4,
      "outputs": [
        {
          "output_type": "execute_result",
          "data": {
            "text/html": [
              "<div>\n",
              "<style scoped>\n",
              "    .dataframe tbody tr th:only-of-type {\n",
              "        vertical-align: middle;\n",
              "    }\n",
              "\n",
              "    .dataframe tbody tr th {\n",
              "        vertical-align: top;\n",
              "    }\n",
              "\n",
              "    .dataframe thead th {\n",
              "        text-align: right;\n",
              "    }\n",
              "</style>\n",
              "<table border=\"1\" class=\"dataframe\">\n",
              "  <thead>\n",
              "    <tr style=\"text-align: right;\">\n",
              "      <th></th>\n",
              "      <th>Unnamed: 0</th>\n",
              "      <th>user_id</th>\n",
              "      <th>business_id</th>\n",
              "      <th>user_stars</th>\n",
              "      <th>name</th>\n",
              "      <th>city</th>\n",
              "      <th>business_stars</th>\n",
              "    </tr>\n",
              "  </thead>\n",
              "  <tbody>\n",
              "    <tr>\n",
              "      <th>0</th>\n",
              "      <td>0</td>\n",
              "      <td>b'V34qejxNsCbcgD8C0HVk-Q'</td>\n",
              "      <td>b'HQl28KMwrEKHqhFrrDqVNQ'</td>\n",
              "      <td>5.0</td>\n",
              "      <td>b\"Deagan's Kitchen &amp; Bar\"</td>\n",
              "      <td>b'Lakewood'</td>\n",
              "      <td>4.0</td>\n",
              "    </tr>\n",
              "    <tr>\n",
              "      <th>1</th>\n",
              "      <td>1</td>\n",
              "      <td>b'zFCuveEe6M-ijY1iy23IJg'</td>\n",
              "      <td>b'HQl28KMwrEKHqhFrrDqVNQ'</td>\n",
              "      <td>5.0</td>\n",
              "      <td>b\"Deagan's Kitchen &amp; Bar\"</td>\n",
              "      <td>b'Lakewood'</td>\n",
              "      <td>4.0</td>\n",
              "    </tr>\n",
              "    <tr>\n",
              "      <th>2</th>\n",
              "      <td>2</td>\n",
              "      <td>b'4V985R3RG-rv0B7WCPQzeQ'</td>\n",
              "      <td>b'HQl28KMwrEKHqhFrrDqVNQ'</td>\n",
              "      <td>1.0</td>\n",
              "      <td>b\"Deagan's Kitchen &amp; Bar\"</td>\n",
              "      <td>b'Lakewood'</td>\n",
              "      <td>4.0</td>\n",
              "    </tr>\n",
              "    <tr>\n",
              "      <th>3</th>\n",
              "      <td>3</td>\n",
              "      <td>b'nFGcoL6wuPQzxsNJVSfGrA'</td>\n",
              "      <td>b'HQl28KMwrEKHqhFrrDqVNQ'</td>\n",
              "      <td>4.0</td>\n",
              "      <td>b\"Deagan's Kitchen &amp; Bar\"</td>\n",
              "      <td>b'Lakewood'</td>\n",
              "      <td>4.0</td>\n",
              "    </tr>\n",
              "    <tr>\n",
              "      <th>4</th>\n",
              "      <td>4</td>\n",
              "      <td>b'CJqgUQeWhdgbDyLAFy7xvQ'</td>\n",
              "      <td>b'HQl28KMwrEKHqhFrrDqVNQ'</td>\n",
              "      <td>4.0</td>\n",
              "      <td>b\"Deagan's Kitchen &amp; Bar\"</td>\n",
              "      <td>b'Lakewood'</td>\n",
              "      <td>4.0</td>\n",
              "    </tr>\n",
              "  </tbody>\n",
              "</table>\n",
              "</div>"
            ],
            "text/plain": [
              "   Unnamed: 0                    user_id  ...         city  business_stars\n",
              "0           0  b'V34qejxNsCbcgD8C0HVk-Q'  ...  b'Lakewood'             4.0\n",
              "1           1  b'zFCuveEe6M-ijY1iy23IJg'  ...  b'Lakewood'             4.0\n",
              "2           2  b'4V985R3RG-rv0B7WCPQzeQ'  ...  b'Lakewood'             4.0\n",
              "3           3  b'nFGcoL6wuPQzxsNJVSfGrA'  ...  b'Lakewood'             4.0\n",
              "4           4  b'CJqgUQeWhdgbDyLAFy7xvQ'  ...  b'Lakewood'             4.0\n",
              "\n",
              "[5 rows x 7 columns]"
            ]
          },
          "metadata": {
            "tags": []
          },
          "execution_count": 4
        }
      ]
    },
    {
      "cell_type": "code",
      "metadata": {
        "id": "wDpfQSGntY15"
      },
      "source": [
        "## remove users having less than 15 ratings to avoid coldstarts ##\n",
        "## need to try different 'n' and check accuracy ##\n",
        "users = user_review[['user_id','business_id']].groupby('user_id').count().sort_values(by='business_id',ascending=False).reset_index()\n",
        "users = users[users.business_id >= 15]"
      ],
      "execution_count": 5,
      "outputs": []
    },
    {
      "cell_type": "code",
      "metadata": {
        "id": "Gc2cgXImwMji"
      },
      "source": [
        "## joining with the user_review table to filter out the users with more than 15 reviews ##\n",
        "user_review = pd.merge(user_review,users['user_id'],how='inner', on='user_id')\n",
        "\n",
        "business_lookup = user_review[['business_id', 'name']].drop_duplicates()\n",
        "business_lookup['business_id'] = business_lookup.business_id.astype(str)\n",
        "\n",
        "user_review = user_review[['user_id','business_id','user_stars']]"
      ],
      "execution_count": 6,
      "outputs": []
    },
    {
      "cell_type": "code",
      "metadata": {
        "colab": {
          "base_uri": "https://localhost:8080/",
          "height": 199
        },
        "id": "twmazJEewURN",
        "outputId": "57aed62e-e375-4bdc-a0f2-fef9f328c93b"
      },
      "source": [
        "user_review.head()"
      ],
      "execution_count": 7,
      "outputs": [
        {
          "output_type": "execute_result",
          "data": {
            "text/html": [
              "<div>\n",
              "<style scoped>\n",
              "    .dataframe tbody tr th:only-of-type {\n",
              "        vertical-align: middle;\n",
              "    }\n",
              "\n",
              "    .dataframe tbody tr th {\n",
              "        vertical-align: top;\n",
              "    }\n",
              "\n",
              "    .dataframe thead th {\n",
              "        text-align: right;\n",
              "    }\n",
              "</style>\n",
              "<table border=\"1\" class=\"dataframe\">\n",
              "  <thead>\n",
              "    <tr style=\"text-align: right;\">\n",
              "      <th></th>\n",
              "      <th>user_id</th>\n",
              "      <th>business_id</th>\n",
              "      <th>user_stars</th>\n",
              "    </tr>\n",
              "  </thead>\n",
              "  <tbody>\n",
              "    <tr>\n",
              "      <th>0</th>\n",
              "      <td>b'V34qejxNsCbcgD8C0HVk-Q'</td>\n",
              "      <td>b'HQl28KMwrEKHqhFrrDqVNQ'</td>\n",
              "      <td>5.0</td>\n",
              "    </tr>\n",
              "    <tr>\n",
              "      <th>1</th>\n",
              "      <td>b'V34qejxNsCbcgD8C0HVk-Q'</td>\n",
              "      <td>b'ErxACeMyF4hSQyGhpEt4Tw'</td>\n",
              "      <td>5.0</td>\n",
              "    </tr>\n",
              "    <tr>\n",
              "      <th>2</th>\n",
              "      <td>b'V34qejxNsCbcgD8C0HVk-Q'</td>\n",
              "      <td>b'eoJfl5vG7X87QhcKb0nt5Q'</td>\n",
              "      <td>4.0</td>\n",
              "    </tr>\n",
              "    <tr>\n",
              "      <th>3</th>\n",
              "      <td>b'V34qejxNsCbcgD8C0HVk-Q'</td>\n",
              "      <td>b'VH2BjFjc9usDquDgoHhptA'</td>\n",
              "      <td>4.0</td>\n",
              "    </tr>\n",
              "    <tr>\n",
              "      <th>4</th>\n",
              "      <td>b'V34qejxNsCbcgD8C0HVk-Q'</td>\n",
              "      <td>b'0youcKV6-eE3F2MQj1l6Fw'</td>\n",
              "      <td>4.0</td>\n",
              "    </tr>\n",
              "  </tbody>\n",
              "</table>\n",
              "</div>"
            ],
            "text/plain": [
              "                     user_id                business_id  user_stars\n",
              "0  b'V34qejxNsCbcgD8C0HVk-Q'  b'HQl28KMwrEKHqhFrrDqVNQ'         5.0\n",
              "1  b'V34qejxNsCbcgD8C0HVk-Q'  b'ErxACeMyF4hSQyGhpEt4Tw'         5.0\n",
              "2  b'V34qejxNsCbcgD8C0HVk-Q'  b'eoJfl5vG7X87QhcKb0nt5Q'         4.0\n",
              "3  b'V34qejxNsCbcgD8C0HVk-Q'  b'VH2BjFjc9usDquDgoHhptA'         4.0\n",
              "4  b'V34qejxNsCbcgD8C0HVk-Q'  b'0youcKV6-eE3F2MQj1l6Fw'         4.0"
            ]
          },
          "metadata": {
            "tags": []
          },
          "execution_count": 7
        }
      ]
    },
    {
      "cell_type": "code",
      "metadata": {
        "colab": {
          "base_uri": "https://localhost:8080/"
        },
        "id": "ocI7tEMFwtbx",
        "outputId": "3aef230f-6646-4f6e-bb07-3ce401827273"
      },
      "source": [
        "len(user_review)"
      ],
      "execution_count": 8,
      "outputs": [
        {
          "output_type": "execute_result",
          "data": {
            "text/plain": [
              "1641120"
            ]
          },
          "metadata": {
            "tags": []
          },
          "execution_count": 8
        }
      ]
    },
    {
      "cell_type": "code",
      "metadata": {
        "colab": {
          "base_uri": "https://localhost:8080/"
        },
        "id": "St1NgVFn3-nU",
        "outputId": "7f16347b-9674-40dd-a40a-cbcaefd8b06f"
      },
      "source": [
        "## need to remove the duplicate reviews based on date and not just the last one ##\n",
        "user_review = user_review.drop_duplicates(subset=['user_id', 'business_id'], keep='last')\n",
        "len(user_review)"
      ],
      "execution_count": 9,
      "outputs": [
        {
          "output_type": "execute_result",
          "data": {
            "text/plain": [
              "1546995"
            ]
          },
          "metadata": {
            "tags": []
          },
          "execution_count": 9
        }
      ]
    },
    {
      "cell_type": "code",
      "metadata": {
        "id": "SPKtI0TGyk0Y"
      },
      "source": [
        "users = list(np.sort(user_review.user_id.unique())) # Get unique users\n",
        "business = list(user_review.business_id.unique()) # Get unique businesses\n",
        "ratings = list(user_review.user_stars) # All ratings\n",
        "\n",
        "# Get the associated row indices\n",
        "rows = user_review.user_id.astype('category').cat.codes \n",
        "#rows = pd.Categorical(user_review['user_id'], categories=users)\n",
        "# Get the associated column indices\n",
        "cols = user_review.business_id.astype('category').cat.codes\n",
        "\n",
        "\n",
        "ratings_sparse = sparse.csr_matrix((ratings, (rows, cols)), shape=(len(users), len(business)))"
      ],
      "execution_count": 10,
      "outputs": []
    },
    {
      "cell_type": "code",
      "metadata": {
        "colab": {
          "base_uri": "https://localhost:8080/"
        },
        "id": "7yamoM8B1LoW",
        "outputId": "08d24120-ad16-4e3e-e784-1fd7fa81ec1a"
      },
      "source": [
        "ratings_sparse"
      ],
      "execution_count": 11,
      "outputs": [
        {
          "output_type": "execute_result",
          "data": {
            "text/plain": [
              "<42985x50106 sparse matrix of type '<class 'numpy.float64'>'\n",
              "\twith 1546995 stored elements in Compressed Sparse Row format>"
            ]
          },
          "metadata": {
            "tags": []
          },
          "execution_count": 11
        }
      ]
    },
    {
      "cell_type": "code",
      "metadata": {
        "colab": {
          "base_uri": "https://localhost:8080/"
        },
        "id": "Vm30Imps218j",
        "outputId": "31c3a296-e6a3-4c43-e858-d7691040c852"
      },
      "source": [
        "# The matrix is very sparse which might be a problem\n",
        "matrix_size = ratings_sparse.shape[0]*ratings_sparse.shape[1] # Number of possible interactions in the matrix\n",
        "num_ratings = len(ratings_sparse.nonzero()[0]) # Number of businesses interacted with\n",
        "sparsity = 100*(1 - (num_ratings/matrix_size))\n",
        "sparsity"
      ],
      "execution_count": 12,
      "outputs": [
        {
          "output_type": "execute_result",
          "data": {
            "text/plain": [
              "99.92817390677186"
            ]
          },
          "metadata": {
            "tags": []
          },
          "execution_count": 12
        }
      ]
    },
    {
      "cell_type": "code",
      "metadata": {
        "colab": {
          "base_uri": "https://localhost:8080/"
        },
        "id": "T9e_4yelqQ1U",
        "outputId": "47b85c69-915c-4556-cf44-b20ebb2951a8"
      },
      "source": [
        "ratings_sparse.nonzero()[1].shape\n"
      ],
      "execution_count": 13,
      "outputs": [
        {
          "output_type": "execute_result",
          "data": {
            "text/plain": [
              "(1546995,)"
            ]
          },
          "metadata": {
            "tags": []
          },
          "execution_count": 13
        }
      ]
    },
    {
      "cell_type": "code",
      "metadata": {
        "id": "zwmC_9fP4PSX"
      },
      "source": [
        "## need to make this training and test dataset better for evaluating recall and precision \n",
        "def make_train(ratings, pct_test = 0.2):\n",
        "    '''\n",
        "    This function will take in the original user-business matrix and \"mask\" a percentage of the original ratings where a\n",
        "    user-business rating has taken place for use as a test set. The test set will contain all of the original ratings, \n",
        "    while the training set replaces the specified percentage of them with a zero in the original ratings matrix. \n",
        "    \n",
        "    parameters: \n",
        "    \n",
        "    ratings - the original ratings matrix from which you want to generate a train/test set. Test is just a complete\n",
        "    copy of the original set. This is in the form of a sparse csr_matrix. \n",
        "    \n",
        "    pct_test - The percentage of user-item interactions where an interaction took place that you want to mask in the \n",
        "    training set for later comparison to the test set, which contains all of the original ratings. \n",
        "    \n",
        "    returns:\n",
        "    \n",
        "    training_set - The altered version of the original data with a certain percentage of the user-item pairs \n",
        "    that originally had interaction set back to zero.\n",
        "    \n",
        "    test_set - A copy of the original ratings matrix, unaltered, so it can be used to see how the rank order \n",
        "    compares with the actual interactions.\n",
        "    \n",
        "    user_inds - From the randomly selected user-item indices, which user rows were altered in the training data.\n",
        "    This will be necessary later when evaluating the performance via AUC.\n",
        "    '''\n",
        "    test_set = ratings.copy() # Make a copy of the original set to be the test set. \n",
        "    test_set[test_set != 0] = 1 # Store the test set as a binary preference matrix\n",
        "    training_set = ratings.copy() # Make a copy of the original data we can alter as our training set. \n",
        "    nonzero_inds = training_set.nonzero() # Find the indices in the ratings data where an interaction exists\n",
        "    nonzero_pairs = list(zip(nonzero_inds[0], nonzero_inds[1])) # Zip these pairs together of user,business index into list\n",
        "    random.seed(0) # Set the random seed to zero for reproducibility\n",
        "    num_samples = int(np.ceil(pct_test*len(nonzero_pairs))) # Round the number of samples needed to the nearest integer\n",
        "    samples = random.sample(nonzero_pairs, num_samples) # Sample a random number of user-business pairs without replacement\n",
        "    user_inds = [index[0] for index in samples] # Get the user row indices\n",
        "    business_inds = [index[1] for index in samples] # Get the item column indices\n",
        "    training_set[user_inds, business_inds] = 0 # Assign all of the randomly chosen user-business pairs to zero\n",
        "    training_set.eliminate_zeros() # Get rid of zeros in sparse array storage after update to save space\n",
        "    return training_set, test_set, list(set(user_inds)) # Output the unique list of user rows that were altered  "
      ],
      "execution_count": 18,
      "outputs": []
    },
    {
      "cell_type": "code",
      "metadata": {
        "id": "xeIwn2Pr44R5"
      },
      "source": [
        "ratings_train, ratings_test, users_business_altered = make_train(ratings_sparse, pct_test = 0.2)"
      ],
      "execution_count": 19,
      "outputs": []
    },
    {
      "cell_type": "code",
      "metadata": {
        "colab": {
          "base_uri": "https://localhost:8080/",
          "height": 103,
          "referenced_widgets": [
            "47098f962b4c40419240e6882962a6cb",
            "8411e057be264c0a865bf0e585405fbe",
            "3479b3a1b8c948ac958b50733241e871",
            "99b59c6931594e39a9f3b13eccdd7342",
            "dbb123f8fca2493b8622b43a07d383cb",
            "8dccf0a9510c4c9fbf0e8f41beebde71",
            "c0408869efa247a6a1e634eb32b7b455",
            "06f0a29ab6a146b59c484c2001c24e67"
          ]
        },
        "id": "UceVaat55HLK",
        "outputId": "e3e14249-b69a-46b4-effb-0e6e04c9d3bd"
      },
      "source": [
        "## keep trying different values of alpha\n",
        "alpha = 1\n",
        "user_vecs, business_vecs = implicit.alternating_least_squares((ratings_train*alpha).astype('double'), \n",
        "                                                          factors=20, \n",
        "                                                          regularization = 0.1, \n",
        "                                                         iterations = 50)"
      ],
      "execution_count": 20,
      "outputs": [
        {
          "output_type": "stream",
          "text": [
            "WARNING:implicit:This method is deprecated. Please use the AlternatingLeastSquares class instead\n",
            "WARNING:implicit:GPU training requires factor size to be a multiple of 32. Increasing factors from 20 to 32.\n"
          ],
          "name": "stderr"
        },
        {
          "output_type": "display_data",
          "data": {
            "application/vnd.jupyter.widget-view+json": {
              "model_id": "47098f962b4c40419240e6882962a6cb",
              "version_minor": 0,
              "version_major": 2
            },
            "text/plain": [
              "HBox(children=(FloatProgress(value=0.0, max=50.0), HTML(value='')))"
            ]
          },
          "metadata": {
            "tags": []
          }
        },
        {
          "output_type": "stream",
          "text": [
            "\n"
          ],
          "name": "stdout"
        }
      ]
    },
    {
      "cell_type": "code",
      "metadata": {
        "colab": {
          "base_uri": "https://localhost:8080/"
        },
        "id": "eUjf9Wlb5RRM",
        "outputId": "90585a45-80b3-43f3-96f1-fc7bd94a89e1"
      },
      "source": [
        "user_vecs.shape"
      ],
      "execution_count": 21,
      "outputs": [
        {
          "output_type": "execute_result",
          "data": {
            "text/plain": [
              "(42985, 32)"
            ]
          },
          "metadata": {
            "tags": []
          },
          "execution_count": 21
        }
      ]
    },
    {
      "cell_type": "code",
      "metadata": {
        "colab": {
          "base_uri": "https://localhost:8080/"
        },
        "id": "igIuG99H6ZXM",
        "outputId": "ff23467e-2b0f-4481-c693-ad8504208f2b"
      },
      "source": [
        "business_vecs.shape"
      ],
      "execution_count": 22,
      "outputs": [
        {
          "output_type": "execute_result",
          "data": {
            "text/plain": [
              "(50106, 32)"
            ]
          },
          "metadata": {
            "tags": []
          },
          "execution_count": 22
        }
      ]
    },
    {
      "cell_type": "code",
      "metadata": {
        "id": "xOh4CQNO6smP"
      },
      "source": [
        "# def auc_score(predictions, test):\n",
        "#     '''\n",
        "#     This simple function will output the area under the curve using sklearn's metrics. \n",
        "    \n",
        "#     parameters:\n",
        "    \n",
        "#     - predictions: your prediction output\n",
        "    \n",
        "#     - test: the actual target result you are comparing to\n",
        "    \n",
        "#     returns:\n",
        "    \n",
        "#     - AUC (area under the Receiver Operating Characterisic curve)\n",
        "#     '''\n",
        "#     fpr, tpr, thresholds = metrics.roc_curve(test, predictions)\n",
        "#     return metrics.auc(fpr, tpr)   "
      ],
      "execution_count": 23,
      "outputs": []
    },
    {
      "cell_type": "code",
      "metadata": {
        "id": "pOfx4ycT7If8"
      },
      "source": [
        "# def calc_mean_auc(training_set, altered_users, predictions, test_set):\n",
        "#     '''\n",
        "#     This function will calculate the mean AUC by user for any user that had their user-item matrix altered. \n",
        "    \n",
        "#     parameters:\n",
        "    \n",
        "#     training_set - The training set resulting from make_train, where a certain percentage of the original\n",
        "#     user/item interactions are reset to zero to hide them from the model \n",
        "    \n",
        "#     predictions - The matrix of your predicted ratings for each user/item pair as output from the implicit MF.\n",
        "#     These should be stored in a list, with user vectors as item zero and item vectors as item one. \n",
        "    \n",
        "#     altered_users - The indices of the users where at least one user/item pair was altered from make_train function\n",
        "    \n",
        "#     test_set - The test set constucted earlier from make_train function\n",
        "    \n",
        "    \n",
        "    \n",
        "#     returns:\n",
        "    \n",
        "#     The mean AUC (area under the Receiver Operator Characteristic curve) of the test set only on user-item interactions\n",
        "#     there were originally zero to test ranking ability in addition to the most popular items as a benchmark.\n",
        "#     '''\n",
        "    \n",
        "    \n",
        "#     store_auc = [] # An empty list to store the AUC for each user that had an item removed from the training set\n",
        "#     popularity_auc = [] # To store popular AUC scores\n",
        "#     pop_items = np.array(test_set.sum(axis = 0)).reshape(-1) # Get sum of item iteractions to find most popular\n",
        "#     item_vecs = predictions[1]\n",
        "#     for user in altered_users: # Iterate through each user that had an item altered\n",
        "#         training_row = training_set[user,:].toarray().reshape(-1) # Get the training set row\n",
        "#         zero_inds = np.where(training_row == 0) # Find where the interaction had not yet occurred\n",
        "#         # Get the predicted values based on our user/item vectors\n",
        "#         user_vec = predictions[0][user,:]\n",
        "#         pred = user_vec.dot(item_vecs).toarray()[0,zero_inds].reshape(-1)\n",
        "#         # Get only the items that were originally zero\n",
        "#         # Select all ratings from the MF prediction for this user that originally had no iteraction\n",
        "#         actual = test_set[user,:].toarray()[0,zero_inds].reshape(-1) \n",
        "#         # Select the binarized yes/no interaction pairs from the original full data\n",
        "#         # that align with the same pairs in training \n",
        "#         pop = pop_items[zero_inds] # Get the item popularity for our chosen items\n",
        "#         store_auc.append(auc_score(pred, actual)) # Calculate AUC for the given user and store\n",
        "#         popularity_auc.append(auc_score(pop, actual)) # Calculate AUC using most popular and score\n",
        "#     # End users iteration\n",
        "    \n",
        "#     return float('%.3f'%np.mean(store_auc)), float('%.3f'%np.mean(popularity_auc))  \n",
        "#    # Return the mean AUC rounded to three decimal places for both test and popularity benchmark"
      ],
      "execution_count": 24,
      "outputs": []
    },
    {
      "cell_type": "code",
      "metadata": {
        "id": "g1YA-O9a8Nx6"
      },
      "source": [
        "# AUC for our recommender system, mean AUC\n",
        "# calc_mean_auc(ratings_train, users_business_altered,[sparse.csr_matrix(user_vecs), sparse.csr_matrix(business_vecs.T)], ratings_test)"
      ],
      "execution_count": 25,
      "outputs": []
    },
    {
      "cell_type": "code",
      "metadata": {
        "id": "FOt7Phz88X-A"
      },
      "source": [
        "user_arr = np.array(users) # Array of user IDs from the ratings matrix\n",
        "business_arr = np.array(business)"
      ],
      "execution_count": 26,
      "outputs": []
    },
    {
      "cell_type": "code",
      "metadata": {
        "id": "gR3Ixi5U8Y5J"
      },
      "source": [
        "def get_business_visited(user_id, mf_train, user_list, business_list, business_lookup):\n",
        "    '''\n",
        "    This just tells me which items have been already purchased by a specific user in the training set. \n",
        "    \n",
        "    parameters: \n",
        "    \n",
        "    user_id - Input the user's id number that you want to see prior visits of at least once\n",
        "    \n",
        "    mf_train - The initial ratings training set used (without weights applied)\n",
        "    \n",
        "    user_list - The array of users used in the ratings matrix\n",
        "    \n",
        "    business_list - The array of businesses rated in the ratings matrix\n",
        "    \n",
        "    business_lookup - A simple pandas dataframe of the unique business/name descriptions\n",
        "    \n",
        "    returns:\n",
        "    \n",
        "    A list of business IDs and names for a particular user that were already rated\n",
        "    '''\n",
        "    user_ind = np.where(user_list == user_id)[0][0] # Returns the index row of our user id\n",
        "    business_ind = mf_train[user_ind,:].nonzero()[1] # Get column indices of purchased items\n",
        "    business_codes = business_list[business_ind] # Get the stock codes for our purchased items\n",
        "    return business_lookup.loc[business_lookup.business_id.isin(business_codes)]"
      ],
      "execution_count": 27,
      "outputs": []
    },
    {
      "cell_type": "code",
      "metadata": {
        "colab": {
          "base_uri": "https://localhost:8080/"
        },
        "id": "BDobLdzYtnY5",
        "outputId": "9f1d2de9-e83d-448c-c1dd-864052253244"
      },
      "source": [
        "## get user ids\n",
        "user_arr[:10]"
      ],
      "execution_count": 28,
      "outputs": [
        {
          "output_type": "execute_result",
          "data": {
            "text/plain": [
              "array([\"b'---1lKK3aKOuomHnwAkAow'\", \"b'--2HUmLkcNHZp0xw6AMBPg'\",\n",
              "       \"b'--4rAAfZnEIAKJE80aIiYg'\", \"b'--BumyUHiO_7YsHurb9Hkw'\",\n",
              "       \"b'--CIuK7sUpaNzalLAlHJKA'\", \"b'--NIc98RMssgy0mSZL3vpA'\",\n",
              "       \"b'--Nnm_506G_p8MxAOQna5w'\", \"b'--Qh8yKWAvIP4V4K8ZPfHA'\",\n",
              "       \"b'--RlSfc-QmcHFGHyX6aVjA'\", \"b'--UOvCH5qEgdNQ8lzR8QYQ'\"],\n",
              "      dtype='<U25')"
            ]
          },
          "metadata": {
            "tags": []
          },
          "execution_count": 28
        }
      ]
    },
    {
      "cell_type": "code",
      "metadata": {
        "colab": {
          "base_uri": "https://localhost:8080/",
          "height": 409
        },
        "id": "eQv3smcztZDV",
        "outputId": "d68545a0-1160-4244-c26f-0ffc4bcdb6d6"
      },
      "source": [
        "## businesses visited by the user\n",
        "get_business_visited(\"b'--2HUmLkcNHZp0xw6AMBPg'\", ratings_train, user_arr, business_arr, business_lookup)"
      ],
      "execution_count": 29,
      "outputs": [
        {
          "output_type": "execute_result",
          "data": {
            "text/html": [
              "<div>\n",
              "<style scoped>\n",
              "    .dataframe tbody tr th:only-of-type {\n",
              "        vertical-align: middle;\n",
              "    }\n",
              "\n",
              "    .dataframe tbody tr th {\n",
              "        vertical-align: top;\n",
              "    }\n",
              "\n",
              "    .dataframe thead th {\n",
              "        text-align: right;\n",
              "    }\n",
              "</style>\n",
              "<table border=\"1\" class=\"dataframe\">\n",
              "  <thead>\n",
              "    <tr style=\"text-align: right;\">\n",
              "      <th></th>\n",
              "      <th>business_id</th>\n",
              "      <th>name</th>\n",
              "    </tr>\n",
              "  </thead>\n",
              "  <tbody>\n",
              "    <tr>\n",
              "      <th>1045</th>\n",
              "      <td>b'yA8iKH7GNFzA8jgyvjAg3g'</td>\n",
              "      <td>b\"Dave &amp; Buster's\"</td>\n",
              "    </tr>\n",
              "    <tr>\n",
              "      <th>14781</th>\n",
              "      <td>b'icVcn0oIocwolDnf_CuPQA'</td>\n",
              "      <td>b'Thai House'</td>\n",
              "    </tr>\n",
              "    <tr>\n",
              "      <th>15935</th>\n",
              "      <td>b'ukCTLs6T8LY1eUBXiAlmCg'</td>\n",
              "      <td>b'Steak 44'</td>\n",
              "    </tr>\n",
              "    <tr>\n",
              "      <th>16055</th>\n",
              "      <td>b'JzOp695tclcNCNMuBl7oxA'</td>\n",
              "      <td>b'Four Peaks Brewing'</td>\n",
              "    </tr>\n",
              "    <tr>\n",
              "      <th>18524</th>\n",
              "      <td>b'o69XnnmtOaj6a2sjOTsGeg'</td>\n",
              "      <td>b\"Capriotti's Sandwich Shop\"</td>\n",
              "    </tr>\n",
              "    <tr>\n",
              "      <th>...</th>\n",
              "      <td>...</td>\n",
              "      <td>...</td>\n",
              "    </tr>\n",
              "    <tr>\n",
              "      <th>1267341</th>\n",
              "      <td>b'vXpRQBFvynulGZvXSO9Yhw'</td>\n",
              "      <td>b'Voltigeurs'</td>\n",
              "    </tr>\n",
              "    <tr>\n",
              "      <th>1338179</th>\n",
              "      <td>b'29qX-E8uPc9PyCz_eVWNjA'</td>\n",
              "      <td>b'New York Style Pizza &amp; Deli'</td>\n",
              "    </tr>\n",
              "    <tr>\n",
              "      <th>1441802</th>\n",
              "      <td>b'jFIevCnUJG4vuWzSIdhXxQ'</td>\n",
              "      <td>b'Dadam'</td>\n",
              "    </tr>\n",
              "    <tr>\n",
              "      <th>1539625</th>\n",
              "      <td>b'Jg5a0ltJYBx1tk1kAO0d8w'</td>\n",
              "      <td>b'Far East Chinese Food'</td>\n",
              "    </tr>\n",
              "    <tr>\n",
              "      <th>1550387</th>\n",
              "      <td>b'gcr5J-7Ql2IzbK7JSYfUZw'</td>\n",
              "      <td>b'Guys Pizza'</td>\n",
              "    </tr>\n",
              "  </tbody>\n",
              "</table>\n",
              "<p>66 rows × 2 columns</p>\n",
              "</div>"
            ],
            "text/plain": [
              "                       business_id                            name\n",
              "1045     b'yA8iKH7GNFzA8jgyvjAg3g'              b\"Dave & Buster's\"\n",
              "14781    b'icVcn0oIocwolDnf_CuPQA'                   b'Thai House'\n",
              "15935    b'ukCTLs6T8LY1eUBXiAlmCg'                     b'Steak 44'\n",
              "16055    b'JzOp695tclcNCNMuBl7oxA'           b'Four Peaks Brewing'\n",
              "18524    b'o69XnnmtOaj6a2sjOTsGeg'    b\"Capriotti's Sandwich Shop\"\n",
              "...                            ...                             ...\n",
              "1267341  b'vXpRQBFvynulGZvXSO9Yhw'                   b'Voltigeurs'\n",
              "1338179  b'29qX-E8uPc9PyCz_eVWNjA'  b'New York Style Pizza & Deli'\n",
              "1441802  b'jFIevCnUJG4vuWzSIdhXxQ'                        b'Dadam'\n",
              "1539625  b'Jg5a0ltJYBx1tk1kAO0d8w'        b'Far East Chinese Food'\n",
              "1550387  b'gcr5J-7Ql2IzbK7JSYfUZw'                   b'Guys Pizza'\n",
              "\n",
              "[66 rows x 2 columns]"
            ]
          },
          "metadata": {
            "tags": []
          },
          "execution_count": 29
        }
      ]
    },
    {
      "cell_type": "code",
      "metadata": {
        "id": "z99piv48wDGM"
      },
      "source": [
        ""
      ],
      "execution_count": 29,
      "outputs": []
    },
    {
      "cell_type": "code",
      "metadata": {
        "id": "4WFpJt9Ats-C"
      },
      "source": [
        "def rec_business(user_id, mf_train, user_vecs, business_vecs, user_list, business_list, business_lookup, num_business = 10):\n",
        "    '''\n",
        "    This function will return the top recommended items to our users \n",
        "    \n",
        "    parameters:\n",
        "    \n",
        "    user_id - Input the user's id that you want to get recommendations for\n",
        "    \n",
        "    mf_train - The training matrix used for matrix factorization fitting\n",
        "    \n",
        "    user_vecs - the user vectors from fitted matrix factorization\n",
        "    \n",
        "    business_vecs - the business vectors from fitted matrix factorization\n",
        "    \n",
        "    user_list - an array of the user's IDs that make up the rows of ratings matrix \n",
        "    \n",
        "    business_list - an array of the businesses that make up the columns of ratings matrix\n",
        "    \n",
        "    business_lookup - A simple pandas dataframe of the unique business/name description\n",
        "    \n",
        "    num_business - The number of businesses you want to recommend in order of best recommendations. Default is 10. \n",
        "    \n",
        "    returns:\n",
        "    \n",
        "    - The top n recommendations chosen based on the user/business vectors for businesses that were never rated before\n",
        "    '''\n",
        "    \n",
        "    user_ind = np.where(user_list == user_id)[0][0] # Returns the index row of our user id\n",
        "    pref_vec = mf_train[user_ind,:].toarray() # Get the ratings from the training set ratings matrix\n",
        "    pref_vec = pref_vec.reshape(-1) + 1 # Add 1 to everything, so that business not yet rated become equal to 1\n",
        "    pref_vec[pref_vec > 1] = 0 # Make everything already rated as zero\n",
        "    rec_vector = user_vecs[user_ind,:].dot(business_vecs.T) # Get dot product of user vector and the business vectors\n",
        "    # Scale this recommendation vector between 0 and 1\n",
        "    min_max = MinMaxScaler()\n",
        "    rec_vector_scaled = min_max.fit_transform(rec_vector.reshape(-1,1))[:,0] # makes it an array instead of matrix\n",
        "    recommend_vector = pref_vec*rec_vector_scaled   # Businesses already rated have their recommendation multiplied by zero\n",
        "    business_idx = np.argsort(recommend_vector)[::-1][:num_business] # Sort the indices of the business and select top N\n",
        "    rec_list = [] # start empty list to store items\n",
        "    for index in business_idx:\n",
        "        bus_id = business_list[index]\n",
        "        rec_list.append([bus_id, business_lookup.name.loc[business_lookup.business_id == bus_id].iloc[0]]) \n",
        "        # Append our descriptions to the list\n",
        "    bus_ids = [item[0] for item in rec_list]\n",
        "    descriptions = [item[1] for item in rec_list]\n",
        "    final_frame = pd.DataFrame({'business_id': bus_ids, 'name': descriptions}) # Create a dataframe \n",
        "    return final_frame[['business_id', 'name']] # Switch order of columns around"
      ],
      "execution_count": 30,
      "outputs": []
    },
    {
      "cell_type": "code",
      "metadata": {
        "colab": {
          "base_uri": "https://localhost:8080/",
          "height": 350
        },
        "id": "lp0TXhR6vxRg",
        "outputId": "1ce76e40-66eb-480a-9b52-c56f1f6f6ecb"
      },
      "source": [
        "rec_business(\"b'--2HUmLkcNHZp0xw6AMBPg'\", ratings_train, user_vecs, business_vecs, user_arr, business_arr, business_lookup, num_business=10)"
      ],
      "execution_count": 32,
      "outputs": [
        {
          "output_type": "execute_result",
          "data": {
            "text/html": [
              "<div>\n",
              "<style scoped>\n",
              "    .dataframe tbody tr th:only-of-type {\n",
              "        vertical-align: middle;\n",
              "    }\n",
              "\n",
              "    .dataframe tbody tr th {\n",
              "        vertical-align: top;\n",
              "    }\n",
              "\n",
              "    .dataframe thead th {\n",
              "        text-align: right;\n",
              "    }\n",
              "</style>\n",
              "<table border=\"1\" class=\"dataframe\">\n",
              "  <thead>\n",
              "    <tr style=\"text-align: right;\">\n",
              "      <th></th>\n",
              "      <th>business_id</th>\n",
              "      <th>name</th>\n",
              "    </tr>\n",
              "  </thead>\n",
              "  <tbody>\n",
              "    <tr>\n",
              "      <th>0</th>\n",
              "      <td>b'c8rPUIgrXr92LHBvrFQd1Q'</td>\n",
              "      <td>b'Yin Ji Chang Fen'</td>\n",
              "    </tr>\n",
              "    <tr>\n",
              "      <th>1</th>\n",
              "      <td>b'KOQw4e1rwCY5e0RnmB5rgQ'</td>\n",
              "      <td>b'The Grapevine Restaurant &amp; Karaoke Bar'</td>\n",
              "    </tr>\n",
              "    <tr>\n",
              "      <th>2</th>\n",
              "      <td>b'znaF77z3hCOqpLNEPhi1yg'</td>\n",
              "      <td>b\"McDonald's\"</td>\n",
              "    </tr>\n",
              "    <tr>\n",
              "      <th>3</th>\n",
              "      <td>b'h0fQdldYxuG1Utc_ZK1z0A'</td>\n",
              "      <td>b'Einstein Bros'</td>\n",
              "    </tr>\n",
              "    <tr>\n",
              "      <th>4</th>\n",
              "      <td>b'bUbKPCN1RQcykWHj6jZCig'</td>\n",
              "      <td>b\"Wendy's\"</td>\n",
              "    </tr>\n",
              "    <tr>\n",
              "      <th>5</th>\n",
              "      <td>b'rwKqYbWkseELVVSAZ3ogpA'</td>\n",
              "      <td>b\"Dom's Pizzeria\"</td>\n",
              "    </tr>\n",
              "    <tr>\n",
              "      <th>6</th>\n",
              "      <td>b'BD-OOJ8PXSpYTgTHHhXt3g'</td>\n",
              "      <td>b'First Watch'</td>\n",
              "    </tr>\n",
              "    <tr>\n",
              "      <th>7</th>\n",
              "      <td>b'NMFWunCA1_7-_UoiExtoTA'</td>\n",
              "      <td>b\"Quintealia's Tea Parlor\"</td>\n",
              "    </tr>\n",
              "    <tr>\n",
              "      <th>8</th>\n",
              "      <td>b'1I8XRD2bf2nfRgjQjgeIOQ'</td>\n",
              "      <td>b'7-Eleven'</td>\n",
              "    </tr>\n",
              "    <tr>\n",
              "      <th>9</th>\n",
              "      <td>b'eFoKqhHf-jxwKVB69iEbrw'</td>\n",
              "      <td>b'Punto Gelato'</td>\n",
              "    </tr>\n",
              "  </tbody>\n",
              "</table>\n",
              "</div>"
            ],
            "text/plain": [
              "                 business_id                                       name\n",
              "0  b'c8rPUIgrXr92LHBvrFQd1Q'                        b'Yin Ji Chang Fen'\n",
              "1  b'KOQw4e1rwCY5e0RnmB5rgQ'  b'The Grapevine Restaurant & Karaoke Bar'\n",
              "2  b'znaF77z3hCOqpLNEPhi1yg'                              b\"McDonald's\"\n",
              "3  b'h0fQdldYxuG1Utc_ZK1z0A'                           b'Einstein Bros'\n",
              "4  b'bUbKPCN1RQcykWHj6jZCig'                                 b\"Wendy's\"\n",
              "5  b'rwKqYbWkseELVVSAZ3ogpA'                          b\"Dom's Pizzeria\"\n",
              "6  b'BD-OOJ8PXSpYTgTHHhXt3g'                             b'First Watch'\n",
              "7  b'NMFWunCA1_7-_UoiExtoTA'                 b\"Quintealia's Tea Parlor\"\n",
              "8  b'1I8XRD2bf2nfRgjQjgeIOQ'                                b'7-Eleven'\n",
              "9  b'eFoKqhHf-jxwKVB69iEbrw'                            b'Punto Gelato'"
            ]
          },
          "metadata": {
            "tags": []
          },
          "execution_count": 32
        }
      ]
    },
    {
      "cell_type": "code",
      "metadata": {
        "id": "L0NBZQFmwA0E"
      },
      "source": [
        ""
      ],
      "execution_count": null,
      "outputs": []
    },
    {
      "cell_type": "markdown",
      "metadata": {
        "id": "rjHlO_0AZA7V"
      },
      "source": [
        "## Implement evaluation "
      ]
    },
    {
      "cell_type": "code",
      "metadata": {
        "id": "_TXISo4qZCpn"
      },
      "source": [
        ""
      ],
      "execution_count": null,
      "outputs": []
    }
  ]
}