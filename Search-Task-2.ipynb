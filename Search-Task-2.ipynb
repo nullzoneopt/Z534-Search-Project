{
 "cells": [
  {
   "cell_type": "markdown",
   "metadata": {},
   "source": [
    "# Task 2\n",
    "\n",
    "## Can we predict the ratings from the text features taken from reviews?"
   ]
  },
  {
   "cell_type": "code",
   "execution_count": 12,
   "metadata": {
    "colab": {
     "base_uri": "https://localhost:8080/"
    },
    "id": "113SKYIWCM6m",
    "outputId": "f95d361b-1de9-44b0-f6fa-badd0659d6fd"
   },
   "outputs": [
    {
     "name": "stdout",
     "output_type": "stream",
     "text": [
      "Requirement already satisfied: pickle5 in /opt/conda/lib/python3.7/site-packages (0.0.11)\n"
     ]
    }
   ],
   "source": [
    "!pip install pickle5\n",
    "import pickle5\n",
    "# import pickle\n",
    "import pandas as pd\n",
    "import numpy as np\n",
    "from sklearn import model_selection, preprocessing, linear_model, naive_bayes, metrics, svm\n",
    "from sklearn.feature_extraction.text import TfidfVectorizer, CountVectorizer\n",
    "from tensorflow.keras.losses import SparseCategoricalCrossentropy\n",
    "from sklearn import decomposition, ensemble\n",
    "from tensorflow.keras.layers import Dense, Input, LSTM, Embedding, Dropout, Activation, SpatialDropout1D, GRU, Flatten\n",
    "from tensorflow.keras.layers import Bidirectional, GlobalAveragePooling1D, GlobalMaxPooling1D, concatenate\n",
    "from tensorflow.keras.models import Model\n",
    "from tensorflow.keras.callbacks import EarlyStopping, ModelCheckpoint\n",
    "\n",
    "import pandas, xgboost, numpy, textblob, string\n",
    "from tensorflow.keras.preprocessing import text, sequence\n",
    "from tensorflow.keras import layers, models, optimizers\n",
    "import multiprocessing\n",
    "pd.set_option('display.max_columns', None)\n",
    "\n",
    "base_dir = './'"
   ]
  },
  {
   "cell_type": "code",
   "execution_count": 16,
   "metadata": {
    "id": "dAJzP7joCX36"
   },
   "outputs": [],
   "source": [
    "def read_pickle(file):\n",
    "    with open(file, 'rb') as f:\n",
    "        data = pickle5.load(f)\n",
    "    return data"
   ]
  },
  {
   "cell_type": "code",
   "execution_count": 18,
   "metadata": {
    "colab": {
     "base_uri": "https://localhost:8080/",
     "height": 195
    },
    "id": "h7pJ91KUCZPi",
    "outputId": "79dd6a39-7399-49e1-c9a7-bb826cf26999"
   },
   "outputs": [
    {
     "data": {
      "text/html": [
       "<div>\n",
       "<style scoped>\n",
       "    .dataframe tbody tr th:only-of-type {\n",
       "        vertical-align: middle;\n",
       "    }\n",
       "\n",
       "    .dataframe tbody tr th {\n",
       "        vertical-align: top;\n",
       "    }\n",
       "\n",
       "    .dataframe thead th {\n",
       "        text-align: right;\n",
       "    }\n",
       "</style>\n",
       "<table border=\"1\" class=\"dataframe\">\n",
       "  <thead>\n",
       "    <tr style=\"text-align: right;\">\n",
       "      <th></th>\n",
       "      <th>text</th>\n",
       "      <th>stars</th>\n",
       "    </tr>\n",
       "  </thead>\n",
       "  <tbody>\n",
       "    <tr>\n",
       "      <th>0</th>\n",
       "      <td>I love Deagan's. I do. I really do. The atmosp...</td>\n",
       "      <td>5.0</td>\n",
       "    </tr>\n",
       "    <tr>\n",
       "      <th>1</th>\n",
       "      <td>Oh happy day, finally have a Canes near my cas...</td>\n",
       "      <td>4.0</td>\n",
       "    </tr>\n",
       "    <tr>\n",
       "      <th>2</th>\n",
       "      <td>This is definitely my favorite fast food sub s...</td>\n",
       "      <td>5.0</td>\n",
       "    </tr>\n",
       "    <tr>\n",
       "      <th>3</th>\n",
       "      <td>Really good place with simple decor, amazing f...</td>\n",
       "      <td>5.0</td>\n",
       "    </tr>\n",
       "    <tr>\n",
       "      <th>4</th>\n",
       "      <td>Awesome office and staff, very professional an...</td>\n",
       "      <td>5.0</td>\n",
       "    </tr>\n",
       "  </tbody>\n",
       "</table>\n",
       "</div>"
      ],
      "text/plain": [
       "                                                text  stars\n",
       "0  I love Deagan's. I do. I really do. The atmosp...    5.0\n",
       "1  Oh happy day, finally have a Canes near my cas...    4.0\n",
       "2  This is definitely my favorite fast food sub s...    5.0\n",
       "3  Really good place with simple decor, amazing f...    5.0\n",
       "4  Awesome office and staff, very professional an...    5.0"
      ]
     },
     "execution_count": 18,
     "metadata": {},
     "output_type": "execute_result"
    }
   ],
   "source": [
    "reviews_df = read_pickle(base_dir + 'reviews_curtailed_4gb.pkl').reset_index()\n",
    "\n",
    "# Following line is for debugging purposes to reduce the data set size.\n",
    "# reviews_df = reviews_df[reviews_df.user_id.isin(reviews_df.groupby('user_id')['business_id'].count().sort_values(ascending=False).nlargest(50).reset_index().user_id)]\n",
    "\n",
    "reviews_df = reviews_df[['text', 'stars']]\n",
    "reviews_df.head()"
   ]
  },
  {
   "cell_type": "markdown",
   "metadata": {},
   "source": [
    "**Distribution of review ratings**"
   ]
  },
  {
   "cell_type": "code",
   "execution_count": 19,
   "metadata": {
    "colab": {
     "base_uri": "https://localhost:8080/"
    },
    "id": "f1HwY6qLURMZ",
    "outputId": "fefaad7b-3afd-4dfe-8a91-26a79f26a672"
   },
   "outputs": [
    {
     "data": {
      "text/plain": [
       "stars\n",
       "1.0     958596\n",
       "2.0     419709\n",
       "3.0     534070\n",
       "4.0    1085187\n",
       "5.0    2726027\n",
       "Name: text, dtype: int64"
      ]
     },
     "execution_count": 19,
     "metadata": {},
     "output_type": "execute_result"
    }
   ],
   "source": [
    "reviews_df.groupby('stars')['text'].count()"
   ]
  },
  {
   "cell_type": "code",
   "execution_count": 20,
   "metadata": {},
   "outputs": [
    {
     "data": {
      "image/png": "[encoded data removed]",
      "text/plain": [
       "<Figure size 432x288 with 1 Axes>"
      ]
     },
     "metadata": {
      "needs_background": "light"
     },
     "output_type": "display_data"
    }
   ],
   "source": [
    "_ = reviews_df['stars'].plot(kind='hist',subplots=True,sharex=True,sharey=True,title=\"Count of all the ratings\")"
   ]
  },
  {
   "cell_type": "code",
   "execution_count": 21,
   "metadata": {},
   "outputs": [],
   "source": [
    "downsampling_n = sorted(list(reviews_df.stars.value_counts()))[0]\n",
    "fn = lambda row: row.loc[np.random.choice(row.index, downsampling_n, replace=True),:]\n",
    "reviews_df = reviews_df.groupby('stars', as_index=False).apply(fn)"
   ]
  },
  {
   "cell_type": "code",
   "execution_count": 22,
   "metadata": {
    "colab": {
     "base_uri": "https://localhost:8080/"
    },
    "id": "xIMXe3O7UbF4",
    "jupyter": {
     "source_hidden": true
    },
    "outputId": "9667987e-8ca6-45b1-9524-572dcc2ccf6d"
   },
   "outputs": [
    {
     "data": {
      "text/plain": [
       "stars\n",
       "1.0    419709\n",
       "2.0    419709\n",
       "3.0    419709\n",
       "4.0    419709\n",
       "5.0    419709\n",
       "Name: text, dtype: int64"
      ]
     },
     "execution_count": 22,
     "metadata": {},
     "output_type": "execute_result"
    }
   ],
   "source": [
    "reviews_df.groupby('stars')['text'].count()"
   ]
  },
  {
   "cell_type": "code",
   "execution_count": 23,
   "metadata": {},
   "outputs": [
    {
     "data": {
      "image/png": "[encoded data removed]",
      "text/plain": [
       "<Figure size 432x288 with 1 Axes>"
      ]
     },
     "metadata": {
      "needs_background": "light"
     },
     "output_type": "display_data"
    }
   ],
   "source": [
    "_ = reviews_df['stars'].plot(kind='hist',subplots=True,sharex=True,sharey=True,title=\"Count of all the ratings\")"
   ]
  },
  {
   "cell_type": "markdown",
   "metadata": {},
   "source": [
    "Splitting the data into train and test sets\n",
    "\n",
    "Converting the labels into one hot encodings"
   ]
  },
  {
   "cell_type": "code",
   "execution_count": 24,
   "metadata": {},
   "outputs": [],
   "source": [
    "train_x, valid_x, train_y, valid_y = model_selection.train_test_split(reviews_df['text'], reviews_df['stars'])\n",
    "\n",
    "encoder = preprocessing.LabelEncoder()\n",
    "train_y = encoder.fit_transform(train_y)\n",
    "valid_y = encoder.fit_transform(valid_y)"
   ]
  },
  {
   "cell_type": "markdown",
   "metadata": {},
   "source": [
    "Generating the combination of TF-IDF features parallelly (to save time)"
   ]
  },
  {
   "cell_type": "code",
   "execution_count": 25,
   "metadata": {
    "colab": {
     "base_uri": "https://localhost:8080/"
    },
    "id": "zsDYpCsMFyS8",
    "outputId": "7ff5e681-c40c-4d22-8ae9-1df918aa43aa"
   },
   "outputs": [
    {
     "name": "stdout",
     "output_type": "stream",
     "text": [
      "f4\n",
      "f1\n",
      "f2\n"
     ]
    },
    {
     "name": "stderr",
     "output_type": "stream",
     "text": [
      "/opt/conda/lib/python3.7/site-packages/sklearn/feature_extraction/text.py:501: UserWarning: The parameter 'token_pattern' will not be used since 'analyzer' != 'word'\n",
      "  warnings.warn(\"The parameter 'token_pattern' will not be used\"\n"
     ]
    },
    {
     "name": "stdout",
     "output_type": "stream",
     "text": [
      "f3\n"
     ]
    }
   ],
   "source": [
    "import multiprocessing\n",
    "manager = multiprocessing.Manager()\n",
    "data_dict = manager.dict({})\n",
    "def f1(data_dict):\n",
    "    # word level tf-idf\n",
    "    tfidf_vect = TfidfVectorizer(analyzer='word', token_pattern=r'\\w{1,}', max_features=5000)\n",
    "    tfidf_vect.fit(reviews_df['text'])\n",
    "    xtrain_tfidf =  tfidf_vect.transform(train_x)\n",
    "    xvalid_tfidf =  tfidf_vect.transform(valid_x)\n",
    "    data_dict[\"xtrain_tfidf\"] = xtrain_tfidf\n",
    "    data_dict[\"xvalid_tfidf\"] = xvalid_tfidf\n",
    "    print(\"f1\")\n",
    "\n",
    "def f2(data_dict):\n",
    "    # ngram level tf-idf \n",
    "    tfidf_vect_ngram = TfidfVectorizer(analyzer='word', token_pattern=r'\\w{1,}', ngram_range=(2,3), max_features=5000)\n",
    "    tfidf_vect_ngram.fit(reviews_df['text'])\n",
    "    xtrain_tfidf_ngram =  tfidf_vect_ngram.transform(train_x)\n",
    "    xvalid_tfidf_ngram =  tfidf_vect_ngram.transform(valid_x)\n",
    "    data_dict[\"xtrain_tfidf_ngram\"] = xtrain_tfidf_ngram\n",
    "    data_dict[\"xvalid_tfidf_ngram\"] = xvalid_tfidf_ngram\n",
    "    print(\"f2\")\n",
    "\n",
    "def f4(data_dict):\n",
    "    # create a count vectorizer object \n",
    "    count_vect = CountVectorizer(analyzer='word', token_pattern=r'\\w{1,}')\n",
    "    count_vect.fit(reviews_df['text'])\n",
    "    # transform the training and validation data using count vectorizer object\n",
    "    xtrain_count =  count_vect.transform(train_x)\n",
    "    xvalid_count =  count_vect.transform(valid_x)\n",
    "    data_dict[\"xtrain_count\"] = xtrain_count\n",
    "    data_dict[\"xvalid_count\"] = xvalid_count\n",
    "    print(\"f4\")\n",
    "\n",
    "p1 = multiprocessing.Process(target=f1, args=(data_dict,))\n",
    "p2 = multiprocessing.Process(target=f2, args=(data_dict,))\n",
    "p4 = multiprocessing.Process(target=f4, args=(data_dict,))\n",
    "\n",
    "p1.start()\n",
    "p2.start()\n",
    "p4.start()\n",
    "\n",
    "p1.join()\n",
    "p2.join()\n",
    "p4.join()\n",
    "\n",
    "# Can't process the Character level in background because the output vector is too large to store in Manager dictionary.\n",
    "tfidf_vect_ngram_chars = TfidfVectorizer(analyzer='char', token_pattern=r'\\w{1,}', ngram_range=(2,3), max_features=5000)\n",
    "tfidf_vect_ngram_chars.fit(reviews_df['text'])\n",
    "xtrain_tfidf_ngram_chars =  tfidf_vect_ngram_chars.transform(train_x) \n",
    "xvalid_tfidf_ngram_chars =  tfidf_vect_ngram_chars.transform(valid_x)\n",
    "\n",
    "print(\"f3\")"
   ]
  },
  {
   "cell_type": "markdown",
   "metadata": {},
   "source": [
    "Extract the parallely generated TF-IDF features"
   ]
  },
  {
   "cell_type": "code",
   "execution_count": 26,
   "metadata": {},
   "outputs": [],
   "source": [
    "xtrain_tfidf = data_dict[\"xtrain_tfidf\"]\n",
    "xvalid_tfidf = data_dict[\"xvalid_tfidf\"]\n",
    "\n",
    "xtrain_tfidf_ngram = data_dict[\"xtrain_tfidf_ngram\"]\n",
    "xvalid_tfidf_ngram = data_dict[\"xvalid_tfidf_ngram\"]\n",
    "\n",
    "xtrain_count = data_dict[\"xtrain_count\"]\n",
    "xvalid_count = data_dict[\"xvalid_count\"]"
   ]
  },
  {
   "cell_type": "markdown",
   "metadata": {},
   "source": [
    "Generate the Embedding matrix and document vectors"
   ]
  },
  {
   "cell_type": "code",
   "execution_count": null,
   "metadata": {},
   "outputs": [],
   "source": [
    "embeddings_index = {}\n",
    "for i, line in enumerate(open(base_dir + 'wiki-news-300d-1M.vec', encoding=\"utf8\")):\n",
    "    values = line.split()\n",
    "    embeddings_index[values[0]] = numpy.asarray(values[1:], dtype='float32')\n",
    "\n",
    "token = text.Tokenizer()\n",
    "token.fit_on_texts(reviews_df['text'])\n",
    "word_index = token.word_index\n",
    "\n",
    "# converting text into numerical features of vector length = 70\n",
    "train_seq_x = sequence.pad_sequences(token.texts_to_sequences(train_x), maxlen=70)\n",
    "valid_seq_x = sequence.pad_sequences(token.texts_to_sequences(valid_x), maxlen=70)\n",
    "\n",
    "embedding_matrix = numpy.zeros((len(word_index) + 1, 300))\n",
    "for word, i in word_index.items():\n",
    "    embedding_vector = embeddings_index.get(word)\n",
    "    if embedding_vector is not None:\n",
    "        embedding_matrix[i] = embedding_vector"
   ]
  },
  {
   "cell_type": "markdown",
   "metadata": {},
   "source": [
    "Freeing up memory"
   ]
  },
  {
   "cell_type": "code",
   "execution_count": 10,
   "metadata": {},
   "outputs": [
    {
     "data": {
      "text/plain": [
       "20"
      ]
     },
     "execution_count": 10,
     "metadata": {},
     "output_type": "execute_result"
    }
   ],
   "source": [
    "del reviews_df\n",
    "import gc\n",
    "gc.collect()"
   ]
  },
  {
   "cell_type": "markdown",
   "metadata": {},
   "source": [
    "##### Train method for all the Traditional Machine Learning based models"
   ]
  },
  {
   "cell_type": "code",
   "execution_count": 27,
   "metadata": {},
   "outputs": [],
   "source": [
    "def train_model(classifier, feature_vector_train, label, feature_vector_valid):\n",
    "    classifier.fit(feature_vector_train, label)\n",
    "    predictions = classifier.predict(feature_vector_valid)    \n",
    "    return metrics.accuracy_score(predictions, valid_y)"
   ]
  },
  {
   "cell_type": "markdown",
   "metadata": {},
   "source": [
    "Saving all the necessary variables in pickle format to restart training quicker in future (in cases of a failure)"
   ]
  },
  {
   "cell_type": "code",
   "execution_count": 28,
   "metadata": {},
   "outputs": [],
   "source": [
    "with open(\"tuple_data.pkl\", \"wb\") as f:\n",
    "    pickle5.dump((xtrain_tfidf,xvalid_tfidf,xtrain_tfidf_ngram,xvalid_tfidf_ngram,xtrain_tfidf_ngram_chars,xvalid_tfidf_ngram_chars,xtrain_count,xvalid_count, train_y, valid_y), f)"
   ]
  },
  {
   "cell_type": "code",
   "execution_count": 11,
   "metadata": {},
   "outputs": [],
   "source": [
    "with open(\"tuple_data.pkl\", \"rb\") as f:\n",
    "    (xtrain_tfidf,xvalid_tfidf,xtrain_tfidf_ngram,xvalid_tfidf_ngram,xtrain_tfidf_ngram_chars,xvalid_tfidf_ngram_chars,xtrain_count,xvalid_count, train_y, valid_y) = pickle5.load(f)"
   ]
  },
  {
   "cell_type": "markdown",
   "metadata": {},
   "source": [
    "### Traditional Machine Learning Models"
   ]
  },
  {
   "cell_type": "code",
   "execution_count": 29,
   "metadata": {
    "colab": {
     "base_uri": "https://localhost:8080/"
    },
    "id": "n2tO7snRWH2z",
    "outputId": "14c46dda-43e2-496b-e722-6cd1db3318c7"
   },
   "outputs": [
    {
     "name": "stdout",
     "output_type": "stream",
     "text": [
      "NB, Count Vectors:  0.5550485383226879\n",
      "NB, WordLevel TF-IDF:  0.5492273705438236\n",
      "NB, N-Gram Vectors:  0.5565772143405822\n",
      "NB, CharLevel Vectors:  0.5360906684050115\n"
     ]
    }
   ],
   "source": [
    "accuracy = train_model(naive_bayes.MultinomialNB(), xtrain_count, train_y, xvalid_count)\n",
    "print(\"NB, Count Vectors: \", accuracy)\n",
    "\n",
    "accuracy = train_model(naive_bayes.MultinomialNB(), xtrain_tfidf, train_y, xvalid_tfidf)\n",
    "print(\"NB, WordLevel TF-IDF: \", accuracy)\n",
    "\n",
    "accuracy = train_model(naive_bayes.MultinomialNB(), xtrain_tfidf_ngram, train_y, xvalid_tfidf_ngram)\n",
    "print(\"NB, N-Gram Vectors: \", accuracy)\n",
    "\n",
    "accuracy = train_model(naive_bayes.MultinomialNB(), xtrain_tfidf_ngram_chars, train_y, xvalid_tfidf_ngram_chars)\n",
    "print(\"NB, CharLevel Vectors: \", accuracy)"
   ]
  },
  {
   "cell_type": "code",
   "execution_count": null,
   "metadata": {},
   "outputs": [],
   "source": []
  },
  {
   "cell_type": "code",
   "execution_count": 19,
   "metadata": {
    "colab": {
     "base_uri": "https://localhost:8080/"
    },
    "id": "hu0jKIf5WSMy",
    "outputId": "4f35ecab-5b06-413d-9487-77c2cc457e82"
   },
   "outputs": [
    {
     "name": "stderr",
     "output_type": "stream",
     "text": [
      "/N/u/rrokde/Carbonate/.conda/envs/search/lib/python3.8/site-packages/sklearn/linear_model/_logistic.py:762: ConvergenceWarning: lbfgs failed to converge (status=1):\n",
      "STOP: TOTAL NO. of ITERATIONS REACHED LIMIT.\n",
      "\n",
      "Increase the number of iterations (max_iter) or scale the data as shown in:\n",
      "    https://scikit-learn.org/stable/modules/preprocessing.html\n",
      "Please also refer to the documentation for alternative solver options:\n",
      "    https://scikit-learn.org/stable/modules/linear_model.html#logistic-regression\n",
      "  n_iter_i = _check_optimize_result(\n"
     ]
    },
    {
     "name": "stdout",
     "output_type": "stream",
     "text": [
      "LR, Count Vectors:  0.6088667021197514\n"
     ]
    },
    {
     "name": "stderr",
     "output_type": "stream",
     "text": [
      "/N/u/rrokde/Carbonate/.conda/envs/search/lib/python3.8/site-packages/sklearn/linear_model/_logistic.py:762: ConvergenceWarning: lbfgs failed to converge (status=1):\n",
      "STOP: TOTAL NO. of ITERATIONS REACHED LIMIT.\n",
      "\n",
      "Increase the number of iterations (max_iter) or scale the data as shown in:\n",
      "    https://scikit-learn.org/stable/modules/preprocessing.html\n",
      "Please also refer to the documentation for alternative solver options:\n",
      "    https://scikit-learn.org/stable/modules/linear_model.html#logistic-regression\n",
      "  n_iter_i = _check_optimize_result(\n"
     ]
    },
    {
     "name": "stdout",
     "output_type": "stream",
     "text": [
      "LR, WordLevel TF-IDF:  0.6230422177619954\n"
     ]
    },
    {
     "name": "stderr",
     "output_type": "stream",
     "text": [
      "/N/u/rrokde/Carbonate/.conda/envs/search/lib/python3.8/site-packages/sklearn/linear_model/_logistic.py:762: ConvergenceWarning: lbfgs failed to converge (status=1):\n",
      "STOP: TOTAL NO. of ITERATIONS REACHED LIMIT.\n",
      "\n",
      "Increase the number of iterations (max_iter) or scale the data as shown in:\n",
      "    https://scikit-learn.org/stable/modules/preprocessing.html\n",
      "Please also refer to the documentation for alternative solver options:\n",
      "    https://scikit-learn.org/stable/modules/linear_model.html#logistic-regression\n",
      "  n_iter_i = _check_optimize_result(\n"
     ]
    },
    {
     "name": "stdout",
     "output_type": "stream",
     "text": [
      "LR, N-Gram Vectors:  0.6048372493743293\n"
     ]
    },
    {
     "name": "stderr",
     "output_type": "stream",
     "text": [
      "/N/u/rrokde/Carbonate/.conda/envs/search/lib/python3.8/site-packages/sklearn/linear_model/_logistic.py:762: ConvergenceWarning: lbfgs failed to converge (status=1):\n",
      "STOP: TOTAL NO. of ITERATIONS REACHED LIMIT.\n",
      "\n",
      "Increase the number of iterations (max_iter) or scale the data as shown in:\n",
      "    https://scikit-learn.org/stable/modules/preprocessing.html\n",
      "Please also refer to the documentation for alternative solver options:\n",
      "    https://scikit-learn.org/stable/modules/linear_model.html#logistic-regression\n",
      "  n_iter_i = _check_optimize_result(\n"
     ]
    },
    {
     "name": "stdout",
     "output_type": "stream",
     "text": [
      "LR, CharLevel Vectors:  0.6080261209178918\n"
     ]
    }
   ],
   "source": [
    "accuracy = train_model(linear_model.LogisticRegression(), xtrain_count, train_y, xvalid_count)\n",
    "print(\"LR, Count Vectors: \", accuracy)\n",
    "\n",
    "accuracy = train_model(linear_model.LogisticRegression(), xtrain_tfidf, train_y, xvalid_tfidf)\n",
    "print(\"LR, WordLevel TF-IDF: \", accuracy)\n",
    "\n",
    "accuracy = train_model(linear_model.LogisticRegression(), xtrain_tfidf_ngram, train_y, xvalid_tfidf_ngram)\n",
    "print(\"LR, N-Gram Vectors: \", accuracy)\n",
    "\n",
    "accuracy = train_model(linear_model.LogisticRegression(), xtrain_tfidf_ngram_chars, train_y, xvalid_tfidf_ngram_chars)\n",
    "print(\"LR, CharLevel Vectors: \", accuracy)"
   ]
  },
  {
   "cell_type": "code",
   "execution_count": 14,
   "metadata": {},
   "outputs": [
    {
     "name": "stdout",
     "output_type": "stream",
     "text": [
      "Xgb, WordLevel TF-IDF:  0.5983070199013795\n"
     ]
    }
   ],
   "source": [
    "accuracy = train_model(xgboost.XGBClassifier(), xtrain_tfidf.tocsc(), train_y, xvalid_tfidf.tocsc())\n",
    "print(\"Xgb, WordLevel TF-IDF: \", accuracy)"
   ]
  },
  {
   "cell_type": "code",
   "execution_count": null,
   "metadata": {},
   "outputs": [],
   "source": [
    "accuracy = train_model(xgboost.XGBClassifier(), xtrain_count.tocsc(), train_y, xvalid_count.tocsc())\n",
    "print(\"Xgb, Count Vectors: \", accuracy)\n",
    "\n",
    "accuracy = train_model(xgboost.XGBClassifier(), xtrain_tfidf_ngram_chars.tocsc(), train_y, xvalid_tfidf_ngram_chars.tocsc())\n",
    "print(\"Xgb, CharLevel Vectors: \", accuracy)\n",
    "\n",
    "accuracy = train_model(xgboost.XGBClassifier(), xtrain_tfidf_ngram.tocsc(), train_y, xvalid_tfidf_ngram.tocsc())\n",
    "print(\"Xgb, N-gram Vectors: \", accuracy)"
   ]
  },
  {
   "cell_type": "markdown",
   "metadata": {},
   "source": [
    "### Machine Learning based models"
   ]
  },
  {
   "cell_type": "code",
   "execution_count": null,
   "metadata": {},
   "outputs": [],
   "source": [
    "def train_model(classifier, feature_vector_train, label, feature_vector_valid, is_neural_net=False, epoch=10):\n",
    "    classifier.fit(feature_vector_train, label, epochs=10)\n",
    "    predictions = classifier.predict(feature_vector_valid)    \n",
    "    if is_neural_net:\n",
    "        predictions = predictions.argmax(axis=-1)\n",
    "    return metrics.accuracy_score(predictions, valid_y)"
   ]
  },
  {
   "cell_type": "code",
   "execution_count": 12,
   "metadata": {
    "colab": {
     "base_uri": "https://localhost:8080/"
    },
    "id": "WPN9OAxZYuAg",
    "outputId": "edbd1114-c8df-4468-c55e-fbebd6bab155"
   },
   "outputs": [
    {
     "name": "stdout",
     "output_type": "stream",
     "text": [
      "Train on 1573908 samples\n",
      "Epoch 1/10\n",
      "1573908/1573908 [==============================] - 312s 198us/sample - loss: 0.9030\n",
      "Epoch 2/10\n",
      "1573908/1573908 [==============================] - 321s 204us/sample - loss: 0.8558\n",
      "Epoch 3/10\n",
      "1573908/1573908 [==============================] - 317s 202us/sample - loss: 0.8446\n",
      "Epoch 4/10\n",
      "1573908/1573908 [==============================] - 313s 199us/sample - loss: 0.8391\n",
      "Epoch 5/10\n",
      "1573908/1573908 [==============================] - 312s 198us/sample - loss: 0.8351\n",
      "Epoch 6/10\n",
      "1573908/1573908 [==============================] - 300s 191us/sample - loss: 0.8323\n",
      "Epoch 7/10\n",
      "1573908/1573908 [==============================] - 299s 190us/sample - loss: 0.8306\n",
      "Epoch 8/10\n",
      "1573908/1573908 [==============================] - 301s 191us/sample - loss: 0.8287\n",
      "Epoch 9/10\n",
      "1573908/1573908 [==============================] - 301s 191us/sample - loss: 0.8272\n",
      "Epoch 10/10\n",
      "1573908/1573908 [==============================] - 299s 190us/sample - loss: 0.8259\n",
      "CNN, Word Embeddings 0.6560383655746735\n",
      "              precision    recall  f1-score   support\n",
      "\n",
      "           0       0.78      0.76      0.77    105077\n",
      "           1       0.56      0.65      0.60    104757\n",
      "           2       0.61      0.52      0.56    105280\n",
      "           3       0.61      0.53      0.57    105000\n",
      "           4       0.72      0.82      0.77    104523\n",
      "\n",
      "    accuracy                           0.66    524637\n",
      "   macro avg       0.66      0.66      0.65    524637\n",
      "weighted avg       0.66      0.66      0.65    524637\n",
      "\n"
     ]
    }
   ],
   "source": [
    "def CNN():\n",
    "    #Input Layer\n",
    "    input_layer = layers.Input((250, ))\n",
    "\n",
    "    #Word embedding Layer\n",
    "    embedding_layer = layers.Embedding(len(word_index) + 1, 300, weights=[embedding_matrix], trainable=False)(input_layer)\n",
    "    embedding_layer = layers.SpatialDropout1D(0.3)(embedding_layer)\n",
    "\n",
    "    #Convolutional Layer\n",
    "    conv_layer = layers.Convolution1D(100, 3, activation=\"relu\")(embedding_layer)\n",
    "\n",
    "    #Pooling Layer\n",
    "    pooling_layer = layers.GlobalMaxPool1D()(conv_layer)\n",
    "\n",
    "    output_layer1 = layers.Dense(50, activation=\"relu\")(pooling_layer)\n",
    "    output_layer1 = layers.Dropout(0.25)(output_layer1)\n",
    "    output_layer2 = layers.Dense(5, activation=\"softmax\")(output_layer1)\n",
    "    model = models.Model(inputs=input_layer, outputs=output_layer2)\n",
    "    model.compile(optimizer=optimizers.Adam(), loss=SparseCategoricalCrossentropy())\n",
    "    return model\n",
    "\n",
    "classifier = CNN()\n",
    "accuracy = train_model(classifier, train_seq_x, train_y, valid_seq_x, is_neural_net=True)\n",
    "print(\"CNN, Word Embeddings\",  accuracy)\n",
    "preds = classifier.predict(valid_seq_x)\n",
    "v = metrics.classification_report(valid_y, np.argmax(preds, axis = 1))\n",
    "print(v)"
   ]
  },
  {
   "cell_type": "code",
   "execution_count": 11,
   "metadata": {
    "colab": {
     "base_uri": "https://localhost:8080/"
    },
    "id": "HdDgziQYY9Vn",
    "outputId": "e6fae327-1329-4123-fe26-150132170ac6",
    "scrolled": true
   },
   "outputs": [
    {
     "name": "stdout",
     "output_type": "stream",
     "text": [
      "Train on 1573908 samples\n",
      "Epoch 1/10\n",
      "1573908/1573908 [==============================] - 273s 174us/sample - loss: 0.9481\n",
      "Epoch 2/10\n",
      "1573908/1573908 [==============================] - 271s 172us/sample - loss: 0.8769\n",
      "Epoch 3/10\n",
      "1573908/1573908 [==============================] - 270s 172us/sample - loss: 0.8621\n",
      "Epoch 4/10\n",
      "1573908/1573908 [==============================] - 272s 173us/sample - loss: 0.8552\n",
      "Epoch 5/10\n",
      "1573908/1573908 [==============================] - 271s 172us/sample - loss: 0.8509\n",
      "Epoch 6/10\n",
      "1573908/1573908 [==============================] - 272s 173us/sample - loss: 0.8471\n",
      "Epoch 7/10\n",
      "1573908/1573908 [==============================] - 271s 172us/sample - loss: 0.8452\n",
      "Epoch 8/10\n",
      "1573908/1573908 [==============================] - 270s 172us/sample - loss: 0.8433\n",
      "Epoch 9/10\n",
      "1573908/1573908 [==============================] - 270s 172us/sample - loss: 0.8418\n",
      "Epoch 10/10\n",
      "1573908/1573908 [==============================] - 272s 173us/sample - loss: 0.8403\n",
      "RNN-GRU, Word Embeddings 0.6458122473252935\n",
      "              precision    recall  f1-score   support\n",
      "\n",
      "           0       0.75      0.74      0.75    105075\n",
      "           1       0.56      0.57      0.56    105113\n",
      "           2       0.58      0.57      0.57    104963\n",
      "           3       0.60      0.58      0.59    104518\n",
      "           4       0.75      0.77      0.76    104968\n",
      "\n",
      "    accuracy                           0.65    524637\n",
      "   macro avg       0.65      0.65      0.65    524637\n",
      "weighted avg       0.65      0.65      0.65    524637\n",
      "\n"
     ]
    }
   ],
   "source": [
    "def GRU():\n",
    "    # Input Layer\n",
    "    input_layer = layers.Input((70, ))\n",
    "\n",
    "    # Embedding Layer\n",
    "    embedding_layer = layers.Embedding(len(word_index) + 1, 300, weights=[embedding_matrix], trainable=False)(input_layer)\n",
    "    embedding_layer = layers.SpatialDropout1D(0.3)(embedding_layer)\n",
    "\n",
    "    # GRU Layer\n",
    "    lstm_layer = layers.GRU(100)(embedding_layer)\n",
    "\n",
    "    output_layer1 = layers.Dense(50, activation=\"relu\")(lstm_layer)\n",
    "    output_layer1 = layers.Dropout(0.25)(output_layer1)\n",
    "    output_layer2 = layers.Dense(5, activation=\"softmax\")(output_layer1)\n",
    "    model = models.Model(inputs=input_layer, outputs=output_layer2)\n",
    "    model.compile(optimizer=optimizers.Adam(), loss=SparseCategoricalCrossentropy())\n",
    "    return model\n",
    "\n",
    "classifier = GRU()\n",
    "accuracy = train_model(classifier, train_seq_x, train_y, valid_seq_x, is_neural_net=True)\n",
    "print(\"RNN-GRU, Word Embeddings\",  accuracy)\n",
    "preds = classifier.predict(valid_seq_x)\n",
    "v = metrics.classification_report(valid_y, np.argmax(preds, axis = 1))\n",
    "print(v)"
   ]
  },
  {
   "cell_type": "code",
   "execution_count": 9,
   "metadata": {
    "colab": {
     "base_uri": "https://localhost:8080/"
    },
    "id": "GXeoCP4sarVY",
    "outputId": "a4f285e1-14d3-4876-dd62-33a36d0d37f2"
   },
   "outputs": [
    {
     "name": "stdout",
     "output_type": "stream",
     "text": [
      "Train on 1573908 samples\n",
      "Epoch 1/10\n",
      "1573908/1573908 [==============================] - 432s 274us/sample - loss: 0.9409\n",
      "Epoch 2/10\n",
      "1573908/1573908 [==============================] - 419s 266us/sample - loss: 0.8639\n",
      "Epoch 3/10\n",
      "1573908/1573908 [==============================] - 442s 281us/sample - loss: 0.8475\n",
      "Epoch 4/10\n",
      "1573908/1573908 [==============================] - 463s 294us/sample - loss: 0.8386\n",
      "Epoch 5/10\n",
      "1573908/1573908 [==============================] - 460s 292us/sample - loss: 0.8337\n",
      "Epoch 6/10\n",
      "1573908/1573908 [==============================] - 441s 280us/sample - loss: 0.8294\n",
      "Epoch 7/10\n",
      "1573908/1573908 [==============================] - 419s 266us/sample - loss: 0.8272\n",
      "Epoch 8/10\n",
      "1573908/1573908 [==============================] - 420s 267us/sample - loss: 0.8251\n",
      "Epoch 9/10\n",
      "1573908/1573908 [==============================] - 422s 268us/sample - loss: 0.8240\n",
      "Epoch 10/10\n",
      "1573908/1573908 [==============================] - 421s 267us/sample - loss: 0.8232\n",
      "RNN-Bidirectional, Word Embeddings 0.6463268888774524\n",
      "              precision    recall  f1-score   support\n",
      "\n",
      "           0       0.71      0.81      0.76    104516\n",
      "           1       0.54      0.60      0.57    104670\n",
      "           2       0.63      0.44      0.52    105104\n",
      "           3       0.60      0.59      0.60    105439\n",
      "           4       0.74      0.78      0.76    104908\n",
      "\n",
      "    accuracy                           0.65    524637\n",
      "   macro avg       0.64      0.65      0.64    524637\n",
      "weighted avg       0.64      0.65      0.64    524637\n",
      "\n"
     ]
    }
   ],
   "source": [
    "def GRU_bidirectional():\n",
    "    # Input Layer\n",
    "    input_layer = layers.Input((70, ))\n",
    "\n",
    "    # Word embedding Layer\n",
    "    embedding_layer = layers.Embedding(len(word_index) + 1, 300, weights=[embedding_matrix], trainable=False)(input_layer)\n",
    "    embedding_layer = layers.SpatialDropout1D(0.3)(embedding_layer)\n",
    "\n",
    "    # LSTM Layer\n",
    "    lstm_layer = layers.Bidirectional(layers.GRU(100))(embedding_layer)\n",
    "\n",
    "    # Output Layers\n",
    "    output_layer1 = layers.Dense(50, activation=\"relu\")(lstm_layer)\n",
    "    output_layer1 = layers.Dropout(0.25)(output_layer1)\n",
    "    output_layer2 = layers.Dense(5, activation=\"softmax\")(output_layer1)\n",
    "    model = models.Model(inputs=input_layer, outputs=output_layer2)\n",
    "    model.compile(optimizer=optimizers.Adam(), loss=SparseCategoricalCrossentropy())\n",
    "    return model\n",
    "\n",
    "classifier = GRU_bidirectional()\n",
    "accuracy = train_model(classifier, train_seq_x, train_y, valid_seq_x, is_neural_net=True)\n",
    "print(\"RNN-Bidirectional, Word Embeddings\",  accuracy)\n",
    "preds = classifier.predict(valid_seq_x)\n",
    "v = metrics.classification_report(valid_y, np.argmax(preds, axis = 1))\n",
    "print(v)"
   ]
  },
  {
   "cell_type": "code",
   "execution_count": 10,
   "metadata": {
    "colab": {
     "base_uri": "https://localhost:8080/"
    },
    "id": "v7yqJ781avSZ",
    "outputId": "43815a30-fd8f-4178-d1f2-c4e5a5689914"
   },
   "outputs": [
    {
     "name": "stdout",
     "output_type": "stream",
     "text": [
      "Train on 1573908 samples\n",
      "Epoch 1/10\n",
      "1573908/1573908 [==============================] - 171s 109us/sample - loss: 0.9803\n",
      "Epoch 2/10\n",
      "1573908/1573908 [==============================] - 170s 108us/sample - loss: 0.9328\n",
      "Epoch 3/10\n",
      "1573908/1573908 [==============================] - 163s 103us/sample - loss: 0.9221\n",
      "Epoch 4/10\n",
      "1573908/1573908 [==============================] - 170s 108us/sample - loss: 0.9154\n",
      "Epoch 5/10\n",
      "1573908/1573908 [==============================] - 170s 108us/sample - loss: 0.9119\n",
      "Epoch 6/10\n",
      "1573908/1573908 [==============================] - 167s 106us/sample - loss: 0.9098\n",
      "Epoch 7/10\n",
      "1573908/1573908 [==============================] - 161s 102us/sample - loss: 0.9077\n",
      "Epoch 8/10\n",
      "1573908/1573908 [==============================] - 165s 105us/sample - loss: 0.9058\n",
      "Epoch 9/10\n",
      "1573908/1573908 [==============================] - 162s 103us/sample - loss: 0.9044\n",
      "Epoch 10/10\n",
      "1573908/1573908 [==============================] - 160s 102us/sample - loss: 0.9033\n",
      "CNN, Word Embeddings 0.62032605401449\n",
      "              precision    recall  f1-score   support\n",
      "\n",
      "           0       0.68      0.81      0.74    104516\n",
      "           1       0.56      0.42      0.48    104670\n",
      "           2       0.54      0.56      0.55    105104\n",
      "           3       0.57      0.55      0.56    105439\n",
      "           4       0.72      0.76      0.74    104908\n",
      "\n",
      "    accuracy                           0.62    524637\n",
      "   macro avg       0.61      0.62      0.61    524637\n",
      "weighted avg       0.61      0.62      0.61    524637\n",
      "\n"
     ]
    }
   ],
   "source": [
    "def GRU_CNN():\n",
    "    # Input Layer\n",
    "    input_layer = layers.Input((70, ))\n",
    "\n",
    "    # Word embedding Layer\n",
    "    embedding_layer = layers.Embedding(len(word_index) + 1, 300, weights=[embedding_matrix], trainable=False)(input_layer)\n",
    "    embedding_layer = layers.SpatialDropout1D(0.3)(embedding_layer)\n",
    "    \n",
    "    # GRU Bidirectional layer\n",
    "    rnn_layer = layers.Bidirectional(layers.GRU(50, return_sequences=True))(embedding_layer)\n",
    "    \n",
    "    # Convolutional Layer\n",
    "    conv_layer = layers.Convolution1D(100, 3, activation=\"relu\")(embedding_layer)\n",
    "\n",
    "    # Pooling Layer\n",
    "    pooling_layer = layers.GlobalMaxPool1D()(conv_layer)\n",
    "\n",
    "    output_layer1 = layers.Dense(50, activation=\"relu\")(pooling_layer)\n",
    "    output_layer1 = layers.Dropout(0.25)(output_layer1)\n",
    "    output_layer2 = layers.Dense(5, activation=\"softmax\")(output_layer1)\n",
    "    model = models.Model(inputs=input_layer, outputs=output_layer2)\n",
    "    model.compile(optimizer=optimizers.Adam(), loss=SparseCategoricalCrossentropy())\n",
    "    return model\n",
    "\n",
    "classifier = GRU_CNN()\n",
    "accuracy = train_model(classifier, train_seq_x, train_y, valid_seq_x, is_neural_net=True)\n",
    "print(\"CNN, Word Embeddings\",  accuracy)\n",
    "preds = classifier.predict(valid_seq_x)\n",
    "v = metrics.classification_report(valid_y, np.argmax(preds, axis = 1))\n",
    "print(v)"
   ]
  },
  {
   "cell_type": "markdown",
   "metadata": {},
   "source": [
    "**Deep LSTM model**"
   ]
  },
  {
   "cell_type": "code",
   "execution_count": 11,
   "metadata": {},
   "outputs": [
    {
     "name": "stdout",
     "output_type": "stream",
     "text": [
      "Train on 1573908 samples\n",
      "Epoch 1/10\n",
      "1573908/1573908 [==============================] - 675s 429us/sample - loss: 0.9698\n",
      "Epoch 2/10\n",
      "1573908/1573908 [==============================] - 649s 413us/sample - loss: 0.8742\n",
      "Epoch 3/10\n",
      "1573908/1573908 [==============================] - 665s 422us/sample - loss: 0.8517\n",
      "Epoch 4/10\n",
      "1573908/1573908 [==============================] - 664s 422us/sample - loss: 0.8393\n",
      "Epoch 5/10\n",
      "1573908/1573908 [==============================] - 670s 426us/sample - loss: 0.8320\n",
      "Epoch 6/10\n",
      "1573908/1573908 [==============================] - 672s 427us/sample - loss: 0.8270\n",
      "Epoch 7/10\n",
      "1573908/1573908 [==============================] - 654s 416us/sample - loss: 0.8233\n",
      "Epoch 8/10\n",
      "1573908/1573908 [==============================] - 666s 423us/sample - loss: 0.8201\n",
      "Epoch 9/10\n",
      "1573908/1573908 [==============================] - 681s 433us/sample - loss: 0.8176\n",
      "Epoch 10/10\n",
      "1573908/1573908 [==============================] - 672s 427us/sample - loss: 0.8158\n",
      "RNN-LSTM, Word Embeddings 0.6573897761690464\n",
      "              precision    recall  f1-score   support\n",
      "\n",
      "           0       0.74      0.78      0.76    104516\n",
      "           1       0.57      0.59      0.58    104670\n",
      "           2       0.61      0.54      0.57    105104\n",
      "           3       0.61      0.59      0.60    105439\n",
      "           4       0.75      0.79      0.77    104908\n",
      "\n",
      "    accuracy                           0.66    524637\n",
      "   macro avg       0.65      0.66      0.66    524637\n",
      "weighted avg       0.65      0.66      0.66    524637\n",
      "\n"
     ]
    }
   ],
   "source": [
    "def LSTM_LSTM():\n",
    "    # Input Layer\n",
    "    input_layer = layers.Input((70, ))\n",
    "\n",
    "    # Word embedding Layer\n",
    "    embedding_layer = layers.Embedding(len(word_index) + 1, 300, weights=[embedding_matrix], trainable=False)(input_layer)\n",
    "    embedding_layer = layers.SpatialDropout1D(0.3)(embedding_layer)\n",
    "\n",
    "    # LSTM Layer\n",
    "    lstm_layer = Bidirectional(layers.LSTM(60, return_sequences=True))(embedding_layer)\n",
    "\n",
    "    embedding_layer2 = layers.SpatialDropout1D(0.3)(lstm_layer)\n",
    "    lstm_layer1 = Bidirectional(layers.LSTM(50))(embedding_layer2)\n",
    "\n",
    "    # Add the output Layers\n",
    "    output_layer1 = layers.Dense(50, activation=\"relu\")(lstm_layer1)\n",
    "    output_layer1 = layers.Dropout(0.25)(output_layer1)\n",
    "    output_layer2 = layers.Dense(5, activation=\"softmax\")(output_layer1)\n",
    "    model = models.Model(inputs=input_layer, outputs=output_layer2)\n",
    "    model.compile(optimizer=optimizers.Adam(), loss=SparseCategoricalCrossentropy())\n",
    "    return model\n",
    "\n",
    "classifier = LSTM_LSTM()\n",
    "accuracy = train_model(classifier, train_seq_x, train_y, valid_seq_x, is_neural_net=True)\n",
    "print(\"RNN-LSTM, Word Embeddings\",  accuracy)\n",
    "preds = classifier.predict(valid_seq_x)\n",
    "v = metrics.classification_report(valid_y, np.argmax(preds, axis = 1))\n",
    "print(v)"
   ]
  }
 ],
 "metadata": {
  "environment": {
   "name": "tf2-2-3-gpu.2-3.m59",
   "type": "gcloud",
   "uri": "gcr.io/deeplearning-platform-release/tf2-2-3-gpu.2-3:m59"
  },
  "kernelspec": {
   "display_name": "Python [conda env:root] *",
   "language": "python",
   "name": "conda-root-py"
  },
  "language_info": {
   "codemirror_mode": {
    "name": "ipython",
    "version": 3
   },
   "file_extension": ".py",
   "mimetype": "text/x-python",
   "name": "python",
   "nbconvert_exporter": "python",
   "pygments_lexer": "ipython3",
   "version": "3.7.8"
  }
 },
 "nbformat": 4,
 "nbformat_minor": 4
}
