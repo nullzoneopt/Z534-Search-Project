{
 "cells": [
  {
   "cell_type": "code",
   "execution_count": 1,
   "metadata": {
    "ExecuteTime": {
     "end_time": "2020-11-05T07:01:39.938081Z",
     "start_time": "2020-11-05T07:01:28.452239Z"
    },
    "colab": {
     "base_uri": "https://localhost:8080/"
    },
    "id": "3WGgWqh-F1Rc",
    "outputId": "04d4f5a4-7b7c-49bb-bc45-ab6fd40b3aab"
   },
   "outputs": [],
   "source": [
    "import pandas as pd\n",
    "pd.set_option('display.max_columns', None)\n",
    "\n",
    "import re\n",
    "import math\n",
    "from docx2python import docx2python\n",
    "\n",
    "import matplotlib.pyplot as plt\n",
    "import seaborn as sns\n",
    "sns.set()\n",
    "%matplotlib inline\n",
    "# plt.rcParams['figure.figsize'] = (12, 6)\n",
    "\n",
    "# from google.colab import drive\n",
    "# drive.mount('/content/drive')\n",
    "\n",
    "data_dir = '../dataset/'"
   ]
  },
  {
   "cell_type": "markdown",
   "metadata": {
    "id": "IwTyzugmH11t"
   },
   "source": [
    "## Exploring Businesses"
   ]
  },
  {
   "cell_type": "code",
   "execution_count": 52,
   "metadata": {
    "ExecuteTime": {
     "end_time": "2020-11-05T07:01:49.294086Z",
     "start_time": "2020-11-05T07:01:44.006455Z"
    },
    "colab": {
     "base_uri": "https://localhost:8080/"
    },
    "id": "c2pORgqsF9Hf",
    "outputId": "42a2a8a0-c26c-4fa0-9200-4675cdc3ec42",
    "scrolled": true
   },
   "outputs": [
    {
     "name": "stderr",
     "output_type": "stream",
     "text": [
      "/geode2/home/u100/vimohan/Carbonate/env/lib/python3.8/site-packages/IPython/core/interactiveshell.py:3146: DtypeWarning: Columns (2,9,26,27,32,38,44,59,80,93,104) have mixed types.Specify dtype option on import or set low_memory=False.\n",
      "  has_raised = await self.run_ast_nodes(code_ast.body, cell_name,\n"
     ]
    },
    {
     "data": {
      "text/html": [
       "<div>\n",
       "<style scoped>\n",
       "    .dataframe tbody tr th:only-of-type {\n",
       "        vertical-align: middle;\n",
       "    }\n",
       "\n",
       "    .dataframe tbody tr th {\n",
       "        vertical-align: top;\n",
       "    }\n",
       "\n",
       "    .dataframe thead th {\n",
       "        text-align: right;\n",
       "    }\n",
       "</style>\n",
       "<table border=\"1\" class=\"dataframe\">\n",
       "  <thead>\n",
       "    <tr style=\"text-align: right;\">\n",
       "      <th></th>\n",
       "      <th>attributes.Ambience.intimate</th>\n",
       "      <th>attributes.DietaryRestrictions.gluten-free</th>\n",
       "      <th>attributes.Ambience.touristy</th>\n",
       "      <th>attributes.HairSpecializesIn.perms</th>\n",
       "      <th>state</th>\n",
       "      <th>attributes.GoodForMeal.dinner</th>\n",
       "      <th>hours.Saturday</th>\n",
       "      <th>attributes.HairSpecializesIn.straightperms</th>\n",
       "      <th>attributes.DietaryRestrictions.kosher</th>\n",
       "      <th>attributes.RestaurantsReservations</th>\n",
       "      <th>attributes.BestNights.thursday</th>\n",
       "      <th>attributes.HasTV</th>\n",
       "      <th>attributes.HappyHour</th>\n",
       "      <th>attributes.Ambience.upscale</th>\n",
       "      <th>attributes.Ambience.divey</th>\n",
       "      <th>attributes.GoodForDancing</th>\n",
       "      <th>is_open</th>\n",
       "      <th>attributes.Music.background_music</th>\n",
       "      <th>attributes.BestNights</th>\n",
       "      <th>postal_code</th>\n",
       "      <th>attributes.RestaurantsPriceRange2</th>\n",
       "      <th>attributes.Corkage</th>\n",
       "      <th>attributes.Ambience</th>\n",
       "      <th>attributes.Music.dj</th>\n",
       "      <th>attributes.GoodForKids</th>\n",
       "      <th>attributes.AgesAllowed</th>\n",
       "      <th>attributes.DietaryRestrictions.soy-free</th>\n",
       "      <th>attributes.HairSpecializesIn.kids</th>\n",
       "      <th>hours.Friday</th>\n",
       "      <th>latitude</th>\n",
       "      <th>attributes.BusinessAcceptsBitcoin</th>\n",
       "      <th>attributes.RestaurantsCounterService</th>\n",
       "      <th>attributes.BestNights.wednesday</th>\n",
       "      <th>attributes.HairSpecializesIn.africanamerican</th>\n",
       "      <th>attributes.RestaurantsGoodForGroups</th>\n",
       "      <th>business_id</th>\n",
       "      <th>attributes.DriveThru</th>\n",
       "      <th>attributes.DietaryRestrictions.dairy-free</th>\n",
       "      <th>attributes.Caters</th>\n",
       "      <th>attributes.RestaurantsAttire</th>\n",
       "      <th>attributes.BestNights.tuesday</th>\n",
       "      <th>attributes.Ambience.trendy</th>\n",
       "      <th>attributes.BYOB</th>\n",
       "      <th>attributes.DietaryRestrictions.halal</th>\n",
       "      <th>attributes.Music.no_music</th>\n",
       "      <th>name</th>\n",
       "      <th>attributes.Music.karaoke</th>\n",
       "      <th>attributes.ByAppointmentOnly</th>\n",
       "      <th>attributes.BestNights.friday</th>\n",
       "      <th>attributes.Ambience.romantic</th>\n",
       "      <th>review_count</th>\n",
       "      <th>attributes.GoodForMeal.brunch</th>\n",
       "      <th>hours.Thursday</th>\n",
       "      <th>city</th>\n",
       "      <th>attributes.Music.video</th>\n",
       "      <th>attributes.OutdoorSeating</th>\n",
       "      <th>attributes.RestaurantsTableService</th>\n",
       "      <th>attributes.Ambience.classy</th>\n",
       "      <th>attributes.Open24Hours</th>\n",
       "      <th>attributes.GoodForMeal.lunch</th>\n",
       "      <th>attributes.BusinessParking</th>\n",
       "      <th>hours.Wednesday</th>\n",
       "      <th>longitude</th>\n",
       "      <th>attributes.HairSpecializesIn.extensions</th>\n",
       "      <th>attributes.GoodForMeal</th>\n",
       "      <th>attributes.NoiseLevel</th>\n",
       "      <th>attributes.BusinessParking.street</th>\n",
       "      <th>attributes.GoodForMeal.breakfast</th>\n",
       "      <th>categories</th>\n",
       "      <th>stars</th>\n",
       "      <th>attributes.DogsAllowed</th>\n",
       "      <th>hours.Monday</th>\n",
       "      <th>attributes.HairSpecializesIn.curly</th>\n",
       "      <th>attributes.BusinessParking.lot</th>\n",
       "      <th>attributes.BYOBCorkage</th>\n",
       "      <th>hours.Tuesday</th>\n",
       "      <th>attributes.GoodForMeal.latenight</th>\n",
       "      <th>attributes.WheelchairAccessible</th>\n",
       "      <th>attributes.DietaryRestrictions.vegan</th>\n",
       "      <th>attributes.BusinessParking.valet</th>\n",
       "      <th>address</th>\n",
       "      <th>attributes.BusinessParking.garage</th>\n",
       "      <th>attributes.BikeParking</th>\n",
       "      <th>attributes.RestaurantsTakeOut</th>\n",
       "      <th>attributes.CoatCheck</th>\n",
       "      <th>attributes.BusinessAcceptsCreditCards</th>\n",
       "      <th>attributes.Music.jukebox</th>\n",
       "      <th>attributes.Music</th>\n",
       "      <th>attributes.GoodForMeal.dessert</th>\n",
       "      <th>attributes.BestNights.saturday</th>\n",
       "      <th>attributes.DietaryRestrictions.vegetarian</th>\n",
       "      <th>attributes.Ambience.hipster</th>\n",
       "      <th>attributes.HairSpecializesIn.asian</th>\n",
       "      <th>attributes.HairSpecializesIn.coloring</th>\n",
       "      <th>attributes.AcceptsInsurance</th>\n",
       "      <th>attributes.Ambience.casual</th>\n",
       "      <th>hours.Sunday</th>\n",
       "      <th>attributes.WiFi</th>\n",
       "      <th>attributes.Music.live</th>\n",
       "      <th>attributes.HairSpecializesIn</th>\n",
       "      <th>attributes.RestaurantsDelivery</th>\n",
       "      <th>attributes.DietaryRestrictions</th>\n",
       "      <th>attributes.BestNights.sunday</th>\n",
       "      <th>attributes.Smoking</th>\n",
       "      <th>attributes.BestNights.monday</th>\n",
       "      <th>attributes.Alcohol</th>\n",
       "      <th>attributes.BusinessParking.validated</th>\n",
       "    </tr>\n",
       "  </thead>\n",
       "  <tbody>\n",
       "    <tr>\n",
       "      <th>0</th>\n",
       "      <td>NaN</td>\n",
       "      <td>NaN</td>\n",
       "      <td>NaN</td>\n",
       "      <td>NaN</td>\n",
       "      <td>NC</td>\n",
       "      <td>NaN</td>\n",
       "      <td>11:0-20:0</td>\n",
       "      <td>NaN</td>\n",
       "      <td>NaN</td>\n",
       "      <td>NaN</td>\n",
       "      <td>NaN</td>\n",
       "      <td>NaN</td>\n",
       "      <td>NaN</td>\n",
       "      <td>NaN</td>\n",
       "      <td>NaN</td>\n",
       "      <td>NaN</td>\n",
       "      <td>1</td>\n",
       "      <td>NaN</td>\n",
       "      <td>NaN</td>\n",
       "      <td>28031</td>\n",
       "      <td>3</td>\n",
       "      <td>NaN</td>\n",
       "      <td>NaN</td>\n",
       "      <td>NaN</td>\n",
       "      <td>False</td>\n",
       "      <td>NaN</td>\n",
       "      <td>NaN</td>\n",
       "      <td>NaN</td>\n",
       "      <td>11:0-20:0</td>\n",
       "      <td>35.462724</td>\n",
       "      <td>NaN</td>\n",
       "      <td>NaN</td>\n",
       "      <td>NaN</td>\n",
       "      <td>NaN</td>\n",
       "      <td>NaN</td>\n",
       "      <td>f9NumwFMBDn751xgFiRbNA</td>\n",
       "      <td>NaN</td>\n",
       "      <td>NaN</td>\n",
       "      <td>NaN</td>\n",
       "      <td>NaN</td>\n",
       "      <td>NaN</td>\n",
       "      <td>NaN</td>\n",
       "      <td>NaN</td>\n",
       "      <td>NaN</td>\n",
       "      <td>NaN</td>\n",
       "      <td>The Range At Lake Norman</td>\n",
       "      <td>NaN</td>\n",
       "      <td>False</td>\n",
       "      <td>NaN</td>\n",
       "      <td>NaN</td>\n",
       "      <td>36</td>\n",
       "      <td>NaN</td>\n",
       "      <td>11:0-20:0</td>\n",
       "      <td>Cornelius</td>\n",
       "      <td>NaN</td>\n",
       "      <td>NaN</td>\n",
       "      <td>NaN</td>\n",
       "      <td>NaN</td>\n",
       "      <td>NaN</td>\n",
       "      <td>NaN</td>\n",
       "      <td>'garage': False, 'street': False, 'validated':...</td>\n",
       "      <td>10:0-18:0</td>\n",
       "      <td>-80.852612</td>\n",
       "      <td>NaN</td>\n",
       "      <td>NaN</td>\n",
       "      <td>NaN</td>\n",
       "      <td>False</td>\n",
       "      <td>NaN</td>\n",
       "      <td>Active Life, Gun/Rifle Ranges, Guns &amp; Ammo, Sh...</td>\n",
       "      <td>3.5</td>\n",
       "      <td>NaN</td>\n",
       "      <td>10:0-18:0</td>\n",
       "      <td>NaN</td>\n",
       "      <td>True</td>\n",
       "      <td>NaN</td>\n",
       "      <td>11:0-20:0</td>\n",
       "      <td>NaN</td>\n",
       "      <td>NaN</td>\n",
       "      <td>NaN</td>\n",
       "      <td>False</td>\n",
       "      <td>10913 Bailey Rd</td>\n",
       "      <td>False</td>\n",
       "      <td>True</td>\n",
       "      <td>NaN</td>\n",
       "      <td>NaN</td>\n",
       "      <td>True</td>\n",
       "      <td>NaN</td>\n",
       "      <td>NaN</td>\n",
       "      <td>NaN</td>\n",
       "      <td>NaN</td>\n",
       "      <td>NaN</td>\n",
       "      <td>NaN</td>\n",
       "      <td>NaN</td>\n",
       "      <td>NaN</td>\n",
       "      <td>NaN</td>\n",
       "      <td>NaN</td>\n",
       "      <td>13:0-18:0</td>\n",
       "      <td>NaN</td>\n",
       "      <td>NaN</td>\n",
       "      <td>NaN</td>\n",
       "      <td>NaN</td>\n",
       "      <td>NaN</td>\n",
       "      <td>NaN</td>\n",
       "      <td>NaN</td>\n",
       "      <td>NaN</td>\n",
       "      <td>NaN</td>\n",
       "      <td>False</td>\n",
       "    </tr>\n",
       "    <tr>\n",
       "      <th>1</th>\n",
       "      <td>NaN</td>\n",
       "      <td>NaN</td>\n",
       "      <td>NaN</td>\n",
       "      <td>NaN</td>\n",
       "      <td>AZ</td>\n",
       "      <td>NaN</td>\n",
       "      <td>NaN</td>\n",
       "      <td>NaN</td>\n",
       "      <td>NaN</td>\n",
       "      <td>NaN</td>\n",
       "      <td>NaN</td>\n",
       "      <td>NaN</td>\n",
       "      <td>NaN</td>\n",
       "      <td>NaN</td>\n",
       "      <td>NaN</td>\n",
       "      <td>NaN</td>\n",
       "      <td>1</td>\n",
       "      <td>NaN</td>\n",
       "      <td>NaN</td>\n",
       "      <td>85258</td>\n",
       "      <td>NaN</td>\n",
       "      <td>NaN</td>\n",
       "      <td>NaN</td>\n",
       "      <td>NaN</td>\n",
       "      <td>True</td>\n",
       "      <td>NaN</td>\n",
       "      <td>NaN</td>\n",
       "      <td>NaN</td>\n",
       "      <td>NaN</td>\n",
       "      <td>33.569404</td>\n",
       "      <td>NaN</td>\n",
       "      <td>NaN</td>\n",
       "      <td>NaN</td>\n",
       "      <td>NaN</td>\n",
       "      <td>NaN</td>\n",
       "      <td>Yzvjg0SayhoZgCljUJRF9Q</td>\n",
       "      <td>NaN</td>\n",
       "      <td>NaN</td>\n",
       "      <td>NaN</td>\n",
       "      <td>NaN</td>\n",
       "      <td>NaN</td>\n",
       "      <td>NaN</td>\n",
       "      <td>NaN</td>\n",
       "      <td>NaN</td>\n",
       "      <td>NaN</td>\n",
       "      <td>Carlos Santo, NMD</td>\n",
       "      <td>NaN</td>\n",
       "      <td>True</td>\n",
       "      <td>NaN</td>\n",
       "      <td>NaN</td>\n",
       "      <td>4</td>\n",
       "      <td>NaN</td>\n",
       "      <td>NaN</td>\n",
       "      <td>Scottsdale</td>\n",
       "      <td>NaN</td>\n",
       "      <td>NaN</td>\n",
       "      <td>NaN</td>\n",
       "      <td>NaN</td>\n",
       "      <td>NaN</td>\n",
       "      <td>NaN</td>\n",
       "      <td>NaN</td>\n",
       "      <td>NaN</td>\n",
       "      <td>-111.890264</td>\n",
       "      <td>NaN</td>\n",
       "      <td>NaN</td>\n",
       "      <td>NaN</td>\n",
       "      <td>NaN</td>\n",
       "      <td>NaN</td>\n",
       "      <td>Health &amp; Medical, Fitness &amp; Instruction, Yoga,...</td>\n",
       "      <td>5.0</td>\n",
       "      <td>NaN</td>\n",
       "      <td>NaN</td>\n",
       "      <td>NaN</td>\n",
       "      <td>NaN</td>\n",
       "      <td>NaN</td>\n",
       "      <td>NaN</td>\n",
       "      <td>NaN</td>\n",
       "      <td>NaN</td>\n",
       "      <td>NaN</td>\n",
       "      <td>NaN</td>\n",
       "      <td>8880 E Via Linda, Ste 107</td>\n",
       "      <td>NaN</td>\n",
       "      <td>NaN</td>\n",
       "      <td>NaN</td>\n",
       "      <td>NaN</td>\n",
       "      <td>NaN</td>\n",
       "      <td>NaN</td>\n",
       "      <td>NaN</td>\n",
       "      <td>NaN</td>\n",
       "      <td>NaN</td>\n",
       "      <td>NaN</td>\n",
       "      <td>NaN</td>\n",
       "      <td>NaN</td>\n",
       "      <td>NaN</td>\n",
       "      <td>NaN</td>\n",
       "      <td>NaN</td>\n",
       "      <td>NaN</td>\n",
       "      <td>NaN</td>\n",
       "      <td>NaN</td>\n",
       "      <td>NaN</td>\n",
       "      <td>NaN</td>\n",
       "      <td>NaN</td>\n",
       "      <td>NaN</td>\n",
       "      <td>NaN</td>\n",
       "      <td>NaN</td>\n",
       "      <td>NaN</td>\n",
       "      <td>NaN</td>\n",
       "    </tr>\n",
       "    <tr>\n",
       "      <th>2</th>\n",
       "      <td>NaN</td>\n",
       "      <td>NaN</td>\n",
       "      <td>NaN</td>\n",
       "      <td>NaN</td>\n",
       "      <td>QC</td>\n",
       "      <td>NaN</td>\n",
       "      <td>NaN</td>\n",
       "      <td>NaN</td>\n",
       "      <td>NaN</td>\n",
       "      <td>NaN</td>\n",
       "      <td>NaN</td>\n",
       "      <td>NaN</td>\n",
       "      <td>NaN</td>\n",
       "      <td>NaN</td>\n",
       "      <td>NaN</td>\n",
       "      <td>NaN</td>\n",
       "      <td>1</td>\n",
       "      <td>NaN</td>\n",
       "      <td>NaN</td>\n",
       "      <td>H4C 1P4</td>\n",
       "      <td>NaN</td>\n",
       "      <td>NaN</td>\n",
       "      <td>NaN</td>\n",
       "      <td>NaN</td>\n",
       "      <td>NaN</td>\n",
       "      <td>NaN</td>\n",
       "      <td>NaN</td>\n",
       "      <td>NaN</td>\n",
       "      <td>NaN</td>\n",
       "      <td>45.479984</td>\n",
       "      <td>NaN</td>\n",
       "      <td>NaN</td>\n",
       "      <td>NaN</td>\n",
       "      <td>NaN</td>\n",
       "      <td>NaN</td>\n",
       "      <td>XNoUzKckATkOD1hP6vghZg</td>\n",
       "      <td>NaN</td>\n",
       "      <td>NaN</td>\n",
       "      <td>NaN</td>\n",
       "      <td>NaN</td>\n",
       "      <td>NaN</td>\n",
       "      <td>NaN</td>\n",
       "      <td>NaN</td>\n",
       "      <td>NaN</td>\n",
       "      <td>NaN</td>\n",
       "      <td>Felinus</td>\n",
       "      <td>NaN</td>\n",
       "      <td>NaN</td>\n",
       "      <td>NaN</td>\n",
       "      <td>NaN</td>\n",
       "      <td>5</td>\n",
       "      <td>NaN</td>\n",
       "      <td>NaN</td>\n",
       "      <td>Montreal</td>\n",
       "      <td>NaN</td>\n",
       "      <td>NaN</td>\n",
       "      <td>NaN</td>\n",
       "      <td>NaN</td>\n",
       "      <td>NaN</td>\n",
       "      <td>NaN</td>\n",
       "      <td>NaN</td>\n",
       "      <td>NaN</td>\n",
       "      <td>-73.580070</td>\n",
       "      <td>NaN</td>\n",
       "      <td>NaN</td>\n",
       "      <td>NaN</td>\n",
       "      <td>NaN</td>\n",
       "      <td>NaN</td>\n",
       "      <td>Pets, Pet Services, Pet Groomers</td>\n",
       "      <td>5.0</td>\n",
       "      <td>NaN</td>\n",
       "      <td>NaN</td>\n",
       "      <td>NaN</td>\n",
       "      <td>NaN</td>\n",
       "      <td>NaN</td>\n",
       "      <td>NaN</td>\n",
       "      <td>NaN</td>\n",
       "      <td>NaN</td>\n",
       "      <td>NaN</td>\n",
       "      <td>NaN</td>\n",
       "      <td>3554 Rue Notre-Dame O</td>\n",
       "      <td>NaN</td>\n",
       "      <td>NaN</td>\n",
       "      <td>NaN</td>\n",
       "      <td>NaN</td>\n",
       "      <td>NaN</td>\n",
       "      <td>NaN</td>\n",
       "      <td>NaN</td>\n",
       "      <td>NaN</td>\n",
       "      <td>NaN</td>\n",
       "      <td>NaN</td>\n",
       "      <td>NaN</td>\n",
       "      <td>NaN</td>\n",
       "      <td>NaN</td>\n",
       "      <td>NaN</td>\n",
       "      <td>NaN</td>\n",
       "      <td>NaN</td>\n",
       "      <td>NaN</td>\n",
       "      <td>NaN</td>\n",
       "      <td>NaN</td>\n",
       "      <td>NaN</td>\n",
       "      <td>NaN</td>\n",
       "      <td>NaN</td>\n",
       "      <td>NaN</td>\n",
       "      <td>NaN</td>\n",
       "      <td>NaN</td>\n",
       "      <td>NaN</td>\n",
       "    </tr>\n",
       "    <tr>\n",
       "      <th>3</th>\n",
       "      <td>NaN</td>\n",
       "      <td>NaN</td>\n",
       "      <td>NaN</td>\n",
       "      <td>NaN</td>\n",
       "      <td>NV</td>\n",
       "      <td>NaN</td>\n",
       "      <td>NaN</td>\n",
       "      <td>NaN</td>\n",
       "      <td>NaN</td>\n",
       "      <td>NaN</td>\n",
       "      <td>NaN</td>\n",
       "      <td>NaN</td>\n",
       "      <td>NaN</td>\n",
       "      <td>NaN</td>\n",
       "      <td>NaN</td>\n",
       "      <td>NaN</td>\n",
       "      <td>0</td>\n",
       "      <td>NaN</td>\n",
       "      <td>NaN</td>\n",
       "      <td>89030</td>\n",
       "      <td>4</td>\n",
       "      <td>NaN</td>\n",
       "      <td>NaN</td>\n",
       "      <td>NaN</td>\n",
       "      <td>NaN</td>\n",
       "      <td>NaN</td>\n",
       "      <td>NaN</td>\n",
       "      <td>NaN</td>\n",
       "      <td>7:0-16:0</td>\n",
       "      <td>36.219728</td>\n",
       "      <td>NaN</td>\n",
       "      <td>NaN</td>\n",
       "      <td>NaN</td>\n",
       "      <td>NaN</td>\n",
       "      <td>NaN</td>\n",
       "      <td>6OAZjbxqM5ol29BuHsil3w</td>\n",
       "      <td>NaN</td>\n",
       "      <td>NaN</td>\n",
       "      <td>NaN</td>\n",
       "      <td>NaN</td>\n",
       "      <td>NaN</td>\n",
       "      <td>NaN</td>\n",
       "      <td>NaN</td>\n",
       "      <td>NaN</td>\n",
       "      <td>NaN</td>\n",
       "      <td>Nevada House of Hose</td>\n",
       "      <td>NaN</td>\n",
       "      <td>False</td>\n",
       "      <td>NaN</td>\n",
       "      <td>NaN</td>\n",
       "      <td>3</td>\n",
       "      <td>NaN</td>\n",
       "      <td>7:0-16:0</td>\n",
       "      <td>North Las Vegas</td>\n",
       "      <td>NaN</td>\n",
       "      <td>NaN</td>\n",
       "      <td>NaN</td>\n",
       "      <td>NaN</td>\n",
       "      <td>NaN</td>\n",
       "      <td>NaN</td>\n",
       "      <td>'garage': False, 'street': False, 'validated':...</td>\n",
       "      <td>7:0-16:0</td>\n",
       "      <td>-115.127725</td>\n",
       "      <td>NaN</td>\n",
       "      <td>NaN</td>\n",
       "      <td>NaN</td>\n",
       "      <td>False</td>\n",
       "      <td>NaN</td>\n",
       "      <td>Hardware Stores, Home Services, Building Suppl...</td>\n",
       "      <td>2.5</td>\n",
       "      <td>True</td>\n",
       "      <td>7:0-16:0</td>\n",
       "      <td>NaN</td>\n",
       "      <td>True</td>\n",
       "      <td>NaN</td>\n",
       "      <td>7:0-16:0</td>\n",
       "      <td>NaN</td>\n",
       "      <td>NaN</td>\n",
       "      <td>NaN</td>\n",
       "      <td>False</td>\n",
       "      <td>1015 Sharp Cir</td>\n",
       "      <td>False</td>\n",
       "      <td>True</td>\n",
       "      <td>NaN</td>\n",
       "      <td>NaN</td>\n",
       "      <td>True</td>\n",
       "      <td>NaN</td>\n",
       "      <td>NaN</td>\n",
       "      <td>NaN</td>\n",
       "      <td>NaN</td>\n",
       "      <td>NaN</td>\n",
       "      <td>NaN</td>\n",
       "      <td>NaN</td>\n",
       "      <td>NaN</td>\n",
       "      <td>NaN</td>\n",
       "      <td>NaN</td>\n",
       "      <td>NaN</td>\n",
       "      <td>NaN</td>\n",
       "      <td>NaN</td>\n",
       "      <td>NaN</td>\n",
       "      <td>NaN</td>\n",
       "      <td>NaN</td>\n",
       "      <td>NaN</td>\n",
       "      <td>NaN</td>\n",
       "      <td>NaN</td>\n",
       "      <td>NaN</td>\n",
       "      <td>False</td>\n",
       "    </tr>\n",
       "    <tr>\n",
       "      <th>4</th>\n",
       "      <td>NaN</td>\n",
       "      <td>NaN</td>\n",
       "      <td>NaN</td>\n",
       "      <td>NaN</td>\n",
       "      <td>AZ</td>\n",
       "      <td>NaN</td>\n",
       "      <td>NaN</td>\n",
       "      <td>NaN</td>\n",
       "      <td>NaN</td>\n",
       "      <td>NaN</td>\n",
       "      <td>NaN</td>\n",
       "      <td>NaN</td>\n",
       "      <td>NaN</td>\n",
       "      <td>NaN</td>\n",
       "      <td>NaN</td>\n",
       "      <td>NaN</td>\n",
       "      <td>1</td>\n",
       "      <td>NaN</td>\n",
       "      <td>NaN</td>\n",
       "      <td>85205</td>\n",
       "      <td>NaN</td>\n",
       "      <td>NaN</td>\n",
       "      <td>NaN</td>\n",
       "      <td>NaN</td>\n",
       "      <td>NaN</td>\n",
       "      <td>NaN</td>\n",
       "      <td>NaN</td>\n",
       "      <td>NaN</td>\n",
       "      <td>9:0-16:0</td>\n",
       "      <td>33.428065</td>\n",
       "      <td>NaN</td>\n",
       "      <td>NaN</td>\n",
       "      <td>NaN</td>\n",
       "      <td>NaN</td>\n",
       "      <td>NaN</td>\n",
       "      <td>51M2Kk903DFYI6gnB5I6SQ</td>\n",
       "      <td>NaN</td>\n",
       "      <td>NaN</td>\n",
       "      <td>NaN</td>\n",
       "      <td>NaN</td>\n",
       "      <td>NaN</td>\n",
       "      <td>NaN</td>\n",
       "      <td>NaN</td>\n",
       "      <td>NaN</td>\n",
       "      <td>NaN</td>\n",
       "      <td>USE MY GUY SERVICES LLC</td>\n",
       "      <td>NaN</td>\n",
       "      <td>True</td>\n",
       "      <td>NaN</td>\n",
       "      <td>NaN</td>\n",
       "      <td>26</td>\n",
       "      <td>NaN</td>\n",
       "      <td>9:0-16:0</td>\n",
       "      <td>Mesa</td>\n",
       "      <td>NaN</td>\n",
       "      <td>NaN</td>\n",
       "      <td>NaN</td>\n",
       "      <td>NaN</td>\n",
       "      <td>NaN</td>\n",
       "      <td>NaN</td>\n",
       "      <td>NaN</td>\n",
       "      <td>9:0-16:0</td>\n",
       "      <td>-111.726648</td>\n",
       "      <td>NaN</td>\n",
       "      <td>NaN</td>\n",
       "      <td>NaN</td>\n",
       "      <td>NaN</td>\n",
       "      <td>NaN</td>\n",
       "      <td>Home Services, Plumbing, Electricians, Handyma...</td>\n",
       "      <td>4.5</td>\n",
       "      <td>NaN</td>\n",
       "      <td>0:0-0:0</td>\n",
       "      <td>NaN</td>\n",
       "      <td>NaN</td>\n",
       "      <td>NaN</td>\n",
       "      <td>9:0-16:0</td>\n",
       "      <td>NaN</td>\n",
       "      <td>NaN</td>\n",
       "      <td>NaN</td>\n",
       "      <td>NaN</td>\n",
       "      <td>4827 E Downing Cir</td>\n",
       "      <td>NaN</td>\n",
       "      <td>NaN</td>\n",
       "      <td>NaN</td>\n",
       "      <td>NaN</td>\n",
       "      <td>True</td>\n",
       "      <td>NaN</td>\n",
       "      <td>NaN</td>\n",
       "      <td>NaN</td>\n",
       "      <td>NaN</td>\n",
       "      <td>NaN</td>\n",
       "      <td>NaN</td>\n",
       "      <td>NaN</td>\n",
       "      <td>NaN</td>\n",
       "      <td>NaN</td>\n",
       "      <td>NaN</td>\n",
       "      <td>NaN</td>\n",
       "      <td>NaN</td>\n",
       "      <td>NaN</td>\n",
       "      <td>NaN</td>\n",
       "      <td>NaN</td>\n",
       "      <td>NaN</td>\n",
       "      <td>NaN</td>\n",
       "      <td>NaN</td>\n",
       "      <td>NaN</td>\n",
       "      <td>NaN</td>\n",
       "      <td>NaN</td>\n",
       "    </tr>\n",
       "  </tbody>\n",
       "</table>\n",
       "</div>"
      ],
      "text/plain": [
       "  attributes.Ambience.intimate attributes.DietaryRestrictions.gluten-free  \\\n",
       "0                          NaN                                        NaN   \n",
       "1                          NaN                                        NaN   \n",
       "2                          NaN                                        NaN   \n",
       "3                          NaN                                        NaN   \n",
       "4                          NaN                                        NaN   \n",
       "\n",
       "  attributes.Ambience.touristy attributes.HairSpecializesIn.perms state  \\\n",
       "0                          NaN                                NaN    NC   \n",
       "1                          NaN                                NaN    AZ   \n",
       "2                          NaN                                NaN    QC   \n",
       "3                          NaN                                NaN    NV   \n",
       "4                          NaN                                NaN    AZ   \n",
       "\n",
       "  attributes.GoodForMeal.dinner hours.Saturday  \\\n",
       "0                           NaN      11:0-20:0   \n",
       "1                           NaN            NaN   \n",
       "2                           NaN            NaN   \n",
       "3                           NaN            NaN   \n",
       "4                           NaN            NaN   \n",
       "\n",
       "  attributes.HairSpecializesIn.straightperms  \\\n",
       "0                                        NaN   \n",
       "1                                        NaN   \n",
       "2                                        NaN   \n",
       "3                                        NaN   \n",
       "4                                        NaN   \n",
       "\n",
       "  attributes.DietaryRestrictions.kosher attributes.RestaurantsReservations  \\\n",
       "0                                   NaN                                NaN   \n",
       "1                                   NaN                                NaN   \n",
       "2                                   NaN                                NaN   \n",
       "3                                   NaN                                NaN   \n",
       "4                                   NaN                                NaN   \n",
       "\n",
       "  attributes.BestNights.thursday attributes.HasTV attributes.HappyHour  \\\n",
       "0                            NaN              NaN                  NaN   \n",
       "1                            NaN              NaN                  NaN   \n",
       "2                            NaN              NaN                  NaN   \n",
       "3                            NaN              NaN                  NaN   \n",
       "4                            NaN              NaN                  NaN   \n",
       "\n",
       "  attributes.Ambience.upscale attributes.Ambience.divey  \\\n",
       "0                         NaN                       NaN   \n",
       "1                         NaN                       NaN   \n",
       "2                         NaN                       NaN   \n",
       "3                         NaN                       NaN   \n",
       "4                         NaN                       NaN   \n",
       "\n",
       "  attributes.GoodForDancing  is_open attributes.Music.background_music  \\\n",
       "0                       NaN        1                               NaN   \n",
       "1                       NaN        1                               NaN   \n",
       "2                       NaN        1                               NaN   \n",
       "3                       NaN        0                               NaN   \n",
       "4                       NaN        1                               NaN   \n",
       "\n",
       "  attributes.BestNights postal_code attributes.RestaurantsPriceRange2  \\\n",
       "0                   NaN       28031                                 3   \n",
       "1                   NaN       85258                               NaN   \n",
       "2                   NaN     H4C 1P4                               NaN   \n",
       "3                   NaN       89030                                 4   \n",
       "4                   NaN       85205                               NaN   \n",
       "\n",
       "  attributes.Corkage attributes.Ambience attributes.Music.dj  \\\n",
       "0                NaN                 NaN                 NaN   \n",
       "1                NaN                 NaN                 NaN   \n",
       "2                NaN                 NaN                 NaN   \n",
       "3                NaN                 NaN                 NaN   \n",
       "4                NaN                 NaN                 NaN   \n",
       "\n",
       "  attributes.GoodForKids attributes.AgesAllowed  \\\n",
       "0                  False                    NaN   \n",
       "1                   True                    NaN   \n",
       "2                    NaN                    NaN   \n",
       "3                    NaN                    NaN   \n",
       "4                    NaN                    NaN   \n",
       "\n",
       "  attributes.DietaryRestrictions.soy-free attributes.HairSpecializesIn.kids  \\\n",
       "0                                     NaN                               NaN   \n",
       "1                                     NaN                               NaN   \n",
       "2                                     NaN                               NaN   \n",
       "3                                     NaN                               NaN   \n",
       "4                                     NaN                               NaN   \n",
       "\n",
       "  hours.Friday   latitude attributes.BusinessAcceptsBitcoin  \\\n",
       "0    11:0-20:0  35.462724                               NaN   \n",
       "1          NaN  33.569404                               NaN   \n",
       "2          NaN  45.479984                               NaN   \n",
       "3     7:0-16:0  36.219728                               NaN   \n",
       "4     9:0-16:0  33.428065                               NaN   \n",
       "\n",
       "  attributes.RestaurantsCounterService attributes.BestNights.wednesday  \\\n",
       "0                                  NaN                             NaN   \n",
       "1                                  NaN                             NaN   \n",
       "2                                  NaN                             NaN   \n",
       "3                                  NaN                             NaN   \n",
       "4                                  NaN                             NaN   \n",
       "\n",
       "  attributes.HairSpecializesIn.africanamerican  \\\n",
       "0                                          NaN   \n",
       "1                                          NaN   \n",
       "2                                          NaN   \n",
       "3                                          NaN   \n",
       "4                                          NaN   \n",
       "\n",
       "  attributes.RestaurantsGoodForGroups             business_id  \\\n",
       "0                                 NaN  f9NumwFMBDn751xgFiRbNA   \n",
       "1                                 NaN  Yzvjg0SayhoZgCljUJRF9Q   \n",
       "2                                 NaN  XNoUzKckATkOD1hP6vghZg   \n",
       "3                                 NaN  6OAZjbxqM5ol29BuHsil3w   \n",
       "4                                 NaN  51M2Kk903DFYI6gnB5I6SQ   \n",
       "\n",
       "  attributes.DriveThru attributes.DietaryRestrictions.dairy-free  \\\n",
       "0                  NaN                                       NaN   \n",
       "1                  NaN                                       NaN   \n",
       "2                  NaN                                       NaN   \n",
       "3                  NaN                                       NaN   \n",
       "4                  NaN                                       NaN   \n",
       "\n",
       "  attributes.Caters attributes.RestaurantsAttire  \\\n",
       "0               NaN                          NaN   \n",
       "1               NaN                          NaN   \n",
       "2               NaN                          NaN   \n",
       "3               NaN                          NaN   \n",
       "4               NaN                          NaN   \n",
       "\n",
       "  attributes.BestNights.tuesday attributes.Ambience.trendy attributes.BYOB  \\\n",
       "0                           NaN                        NaN             NaN   \n",
       "1                           NaN                        NaN             NaN   \n",
       "2                           NaN                        NaN             NaN   \n",
       "3                           NaN                        NaN             NaN   \n",
       "4                           NaN                        NaN             NaN   \n",
       "\n",
       "  attributes.DietaryRestrictions.halal attributes.Music.no_music  \\\n",
       "0                                  NaN                       NaN   \n",
       "1                                  NaN                       NaN   \n",
       "2                                  NaN                       NaN   \n",
       "3                                  NaN                       NaN   \n",
       "4                                  NaN                       NaN   \n",
       "\n",
       "                       name attributes.Music.karaoke  \\\n",
       "0  The Range At Lake Norman                      NaN   \n",
       "1         Carlos Santo, NMD                      NaN   \n",
       "2                   Felinus                      NaN   \n",
       "3      Nevada House of Hose                      NaN   \n",
       "4   USE MY GUY SERVICES LLC                      NaN   \n",
       "\n",
       "  attributes.ByAppointmentOnly attributes.BestNights.friday  \\\n",
       "0                        False                          NaN   \n",
       "1                         True                          NaN   \n",
       "2                          NaN                          NaN   \n",
       "3                        False                          NaN   \n",
       "4                         True                          NaN   \n",
       "\n",
       "  attributes.Ambience.romantic  review_count attributes.GoodForMeal.brunch  \\\n",
       "0                          NaN            36                           NaN   \n",
       "1                          NaN             4                           NaN   \n",
       "2                          NaN             5                           NaN   \n",
       "3                          NaN             3                           NaN   \n",
       "4                          NaN            26                           NaN   \n",
       "\n",
       "  hours.Thursday             city attributes.Music.video  \\\n",
       "0      11:0-20:0        Cornelius                    NaN   \n",
       "1            NaN       Scottsdale                    NaN   \n",
       "2            NaN         Montreal                    NaN   \n",
       "3       7:0-16:0  North Las Vegas                    NaN   \n",
       "4       9:0-16:0             Mesa                    NaN   \n",
       "\n",
       "  attributes.OutdoorSeating attributes.RestaurantsTableService  \\\n",
       "0                       NaN                                NaN   \n",
       "1                       NaN                                NaN   \n",
       "2                       NaN                                NaN   \n",
       "3                       NaN                                NaN   \n",
       "4                       NaN                                NaN   \n",
       "\n",
       "  attributes.Ambience.classy attributes.Open24Hours  \\\n",
       "0                        NaN                    NaN   \n",
       "1                        NaN                    NaN   \n",
       "2                        NaN                    NaN   \n",
       "3                        NaN                    NaN   \n",
       "4                        NaN                    NaN   \n",
       "\n",
       "  attributes.GoodForMeal.lunch  \\\n",
       "0                          NaN   \n",
       "1                          NaN   \n",
       "2                          NaN   \n",
       "3                          NaN   \n",
       "4                          NaN   \n",
       "\n",
       "                          attributes.BusinessParking hours.Wednesday  \\\n",
       "0  'garage': False, 'street': False, 'validated':...       10:0-18:0   \n",
       "1                                                NaN             NaN   \n",
       "2                                                NaN             NaN   \n",
       "3  'garage': False, 'street': False, 'validated':...        7:0-16:0   \n",
       "4                                                NaN        9:0-16:0   \n",
       "\n",
       "    longitude attributes.HairSpecializesIn.extensions attributes.GoodForMeal  \\\n",
       "0  -80.852612                                     NaN                    NaN   \n",
       "1 -111.890264                                     NaN                    NaN   \n",
       "2  -73.580070                                     NaN                    NaN   \n",
       "3 -115.127725                                     NaN                    NaN   \n",
       "4 -111.726648                                     NaN                    NaN   \n",
       "\n",
       "  attributes.NoiseLevel attributes.BusinessParking.street  \\\n",
       "0                   NaN                             False   \n",
       "1                   NaN                               NaN   \n",
       "2                   NaN                               NaN   \n",
       "3                   NaN                             False   \n",
       "4                   NaN                               NaN   \n",
       "\n",
       "  attributes.GoodForMeal.breakfast  \\\n",
       "0                              NaN   \n",
       "1                              NaN   \n",
       "2                              NaN   \n",
       "3                              NaN   \n",
       "4                              NaN   \n",
       "\n",
       "                                          categories  stars  \\\n",
       "0  Active Life, Gun/Rifle Ranges, Guns & Ammo, Sh...    3.5   \n",
       "1  Health & Medical, Fitness & Instruction, Yoga,...    5.0   \n",
       "2                   Pets, Pet Services, Pet Groomers    5.0   \n",
       "3  Hardware Stores, Home Services, Building Suppl...    2.5   \n",
       "4  Home Services, Plumbing, Electricians, Handyma...    4.5   \n",
       "\n",
       "  attributes.DogsAllowed hours.Monday attributes.HairSpecializesIn.curly  \\\n",
       "0                    NaN    10:0-18:0                                NaN   \n",
       "1                    NaN          NaN                                NaN   \n",
       "2                    NaN          NaN                                NaN   \n",
       "3                   True     7:0-16:0                                NaN   \n",
       "4                    NaN      0:0-0:0                                NaN   \n",
       "\n",
       "  attributes.BusinessParking.lot attributes.BYOBCorkage hours.Tuesday  \\\n",
       "0                           True                    NaN     11:0-20:0   \n",
       "1                            NaN                    NaN           NaN   \n",
       "2                            NaN                    NaN           NaN   \n",
       "3                           True                    NaN      7:0-16:0   \n",
       "4                            NaN                    NaN      9:0-16:0   \n",
       "\n",
       "  attributes.GoodForMeal.latenight attributes.WheelchairAccessible  \\\n",
       "0                              NaN                             NaN   \n",
       "1                              NaN                             NaN   \n",
       "2                              NaN                             NaN   \n",
       "3                              NaN                             NaN   \n",
       "4                              NaN                             NaN   \n",
       "\n",
       "  attributes.DietaryRestrictions.vegan attributes.BusinessParking.valet  \\\n",
       "0                                  NaN                            False   \n",
       "1                                  NaN                              NaN   \n",
       "2                                  NaN                              NaN   \n",
       "3                                  NaN                            False   \n",
       "4                                  NaN                              NaN   \n",
       "\n",
       "                     address attributes.BusinessParking.garage  \\\n",
       "0            10913 Bailey Rd                             False   \n",
       "1  8880 E Via Linda, Ste 107                               NaN   \n",
       "2      3554 Rue Notre-Dame O                               NaN   \n",
       "3             1015 Sharp Cir                             False   \n",
       "4         4827 E Downing Cir                               NaN   \n",
       "\n",
       "  attributes.BikeParking attributes.RestaurantsTakeOut attributes.CoatCheck  \\\n",
       "0                   True                           NaN                  NaN   \n",
       "1                    NaN                           NaN                  NaN   \n",
       "2                    NaN                           NaN                  NaN   \n",
       "3                   True                           NaN                  NaN   \n",
       "4                    NaN                           NaN                  NaN   \n",
       "\n",
       "  attributes.BusinessAcceptsCreditCards attributes.Music.jukebox  \\\n",
       "0                                  True                      NaN   \n",
       "1                                   NaN                      NaN   \n",
       "2                                   NaN                      NaN   \n",
       "3                                  True                      NaN   \n",
       "4                                  True                      NaN   \n",
       "\n",
       "  attributes.Music attributes.GoodForMeal.dessert  \\\n",
       "0              NaN                            NaN   \n",
       "1              NaN                            NaN   \n",
       "2              NaN                            NaN   \n",
       "3              NaN                            NaN   \n",
       "4              NaN                            NaN   \n",
       "\n",
       "  attributes.BestNights.saturday attributes.DietaryRestrictions.vegetarian  \\\n",
       "0                            NaN                                       NaN   \n",
       "1                            NaN                                       NaN   \n",
       "2                            NaN                                       NaN   \n",
       "3                            NaN                                       NaN   \n",
       "4                            NaN                                       NaN   \n",
       "\n",
       "  attributes.Ambience.hipster attributes.HairSpecializesIn.asian  \\\n",
       "0                         NaN                                NaN   \n",
       "1                         NaN                                NaN   \n",
       "2                         NaN                                NaN   \n",
       "3                         NaN                                NaN   \n",
       "4                         NaN                                NaN   \n",
       "\n",
       "  attributes.HairSpecializesIn.coloring attributes.AcceptsInsurance  \\\n",
       "0                                   NaN                         NaN   \n",
       "1                                   NaN                         NaN   \n",
       "2                                   NaN                         NaN   \n",
       "3                                   NaN                         NaN   \n",
       "4                                   NaN                         NaN   \n",
       "\n",
       "  attributes.Ambience.casual hours.Sunday attributes.WiFi  \\\n",
       "0                        NaN    13:0-18:0             NaN   \n",
       "1                        NaN          NaN             NaN   \n",
       "2                        NaN          NaN             NaN   \n",
       "3                        NaN          NaN             NaN   \n",
       "4                        NaN          NaN             NaN   \n",
       "\n",
       "  attributes.Music.live attributes.HairSpecializesIn  \\\n",
       "0                   NaN                          NaN   \n",
       "1                   NaN                          NaN   \n",
       "2                   NaN                          NaN   \n",
       "3                   NaN                          NaN   \n",
       "4                   NaN                          NaN   \n",
       "\n",
       "  attributes.RestaurantsDelivery attributes.DietaryRestrictions  \\\n",
       "0                            NaN                            NaN   \n",
       "1                            NaN                            NaN   \n",
       "2                            NaN                            NaN   \n",
       "3                            NaN                            NaN   \n",
       "4                            NaN                            NaN   \n",
       "\n",
       "  attributes.BestNights.sunday attributes.Smoking  \\\n",
       "0                          NaN                NaN   \n",
       "1                          NaN                NaN   \n",
       "2                          NaN                NaN   \n",
       "3                          NaN                NaN   \n",
       "4                          NaN                NaN   \n",
       "\n",
       "  attributes.BestNights.monday attributes.Alcohol  \\\n",
       "0                          NaN                NaN   \n",
       "1                          NaN                NaN   \n",
       "2                          NaN                NaN   \n",
       "3                          NaN                NaN   \n",
       "4                          NaN                NaN   \n",
       "\n",
       "  attributes.BusinessParking.validated  \n",
       "0                                False  \n",
       "1                                  NaN  \n",
       "2                                  NaN  \n",
       "3                                False  \n",
       "4                                  NaN  "
      ]
     },
     "execution_count": 52,
     "metadata": {},
     "output_type": "execute_result"
    }
   ],
   "source": [
    "businesses_df = pd.read_csv(data_dir + 'business.csv')\n",
    "\n",
    "# Dropping hours and attributes as their sub dictionaries are already added as features.\n",
    "businesses_df.drop(['Unnamed: 0', 'hours', 'attributes'], axis=1, inplace=True)\n",
    "businesses_df.head()"
   ]
  },
  {
   "cell_type": "code",
   "execution_count": 3,
   "metadata": {
    "ExecuteTime": {
     "end_time": "2020-11-05T07:03:02.324823Z",
     "start_time": "2020-11-05T07:03:02.137918Z"
    },
    "colab": {
     "base_uri": "https://localhost:8080/"
    },
    "id": "XaYvqVBUIn-8",
    "outputId": "0b61bb46-c16b-42b8-baeb-bc5626268a94",
    "scrolled": true
   },
   "outputs": [
    {
     "name": "stdout",
     "output_type": "stream",
     "text": [
      "Total Businesses:  209393\n",
      "Open Businesses:  168903\n"
     ]
    }
   ],
   "source": [
    "print('Total Businesses: ', len(businesses_df))\n",
    "print('Open Businesses: ', len(businesses_df[businesses_df['is_open'] == 1]))"
   ]
  },
  {
   "cell_type": "markdown",
   "metadata": {},
   "source": [
    "Filtering **Open** businesses only."
   ]
  },
  {
   "cell_type": "code",
   "execution_count": 59,
   "metadata": {
    "ExecuteTime": {
     "end_time": "2020-11-05T07:04:31.052686Z",
     "start_time": "2020-11-05T07:04:30.908678Z"
    },
    "id": "QSLlHn88OVh0"
   },
   "outputs": [],
   "source": [
    "businesses_df = businesses_df[businesses_df['is_open'] == 1]"
   ]
  },
  {
   "cell_type": "code",
   "execution_count": 5,
   "metadata": {},
   "outputs": [
    {
     "data": {
      "text/plain": [
       "[1.0, 1.5, 2.0, 2.5, 3.0, 3.5, 4.0, 4.5, 5.0]"
      ]
     },
     "execution_count": 5,
     "metadata": {},
     "output_type": "execute_result"
    }
   ],
   "source": [
    "sorted(businesses_df['stars'].unique())"
   ]
  },
  {
   "cell_type": "markdown",
   "metadata": {},
   "source": [
    ".5 incremental scale for business stars from 1 to 5."
   ]
  },
  {
   "cell_type": "code",
   "execution_count": 6,
   "metadata": {},
   "outputs": [
    {
     "data": {
      "text/html": [
       "<div>\n",
       "<style scoped>\n",
       "    .dataframe tbody tr th:only-of-type {\n",
       "        vertical-align: middle;\n",
       "    }\n",
       "\n",
       "    .dataframe tbody tr th {\n",
       "        vertical-align: top;\n",
       "    }\n",
       "\n",
       "    .dataframe thead th {\n",
       "        text-align: right;\n",
       "    }\n",
       "</style>\n",
       "<table border=\"1\" class=\"dataframe\">\n",
       "  <thead>\n",
       "    <tr style=\"text-align: right;\">\n",
       "      <th></th>\n",
       "      <th>business_id</th>\n",
       "    </tr>\n",
       "    <tr>\n",
       "      <th>stars</th>\n",
       "      <th></th>\n",
       "    </tr>\n",
       "  </thead>\n",
       "  <tbody>\n",
       "    <tr>\n",
       "      <th>1.0</th>\n",
       "      <td>5065</td>\n",
       "    </tr>\n",
       "    <tr>\n",
       "      <th>1.5</th>\n",
       "      <td>4961</td>\n",
       "    </tr>\n",
       "    <tr>\n",
       "      <th>2.0</th>\n",
       "      <td>10616</td>\n",
       "    </tr>\n",
       "    <tr>\n",
       "      <th>2.5</th>\n",
       "      <td>17068</td>\n",
       "    </tr>\n",
       "    <tr>\n",
       "      <th>3.0</th>\n",
       "      <td>21550</td>\n",
       "    </tr>\n",
       "    <tr>\n",
       "      <th>3.5</th>\n",
       "      <td>29288</td>\n",
       "    </tr>\n",
       "    <tr>\n",
       "      <th>4.0</th>\n",
       "      <td>31037</td>\n",
       "    </tr>\n",
       "    <tr>\n",
       "      <th>4.5</th>\n",
       "      <td>25072</td>\n",
       "    </tr>\n",
       "    <tr>\n",
       "      <th>5.0</th>\n",
       "      <td>24246</td>\n",
       "    </tr>\n",
       "  </tbody>\n",
       "</table>\n",
       "</div>"
      ],
      "text/plain": [
       "       business_id\n",
       "stars             \n",
       "1.0           5065\n",
       "1.5           4961\n",
       "2.0          10616\n",
       "2.5          17068\n",
       "3.0          21550\n",
       "3.5          29288\n",
       "4.0          31037\n",
       "4.5          25072\n",
       "5.0          24246"
      ]
     },
     "execution_count": 6,
     "metadata": {},
     "output_type": "execute_result"
    }
   ],
   "source": [
    "businesses_df[['stars', 'business_id']].groupby(by='stars').count()"
   ]
  },
  {
   "cell_type": "code",
   "execution_count": 7,
   "metadata": {},
   "outputs": [
    {
     "data": {
      "text/plain": [
       "3.562805278769471"
      ]
     },
     "execution_count": 7,
     "metadata": {},
     "output_type": "execute_result"
    }
   ],
   "source": [
    "businesses_df['stars'].mean()"
   ]
  },
  {
   "cell_type": "markdown",
   "metadata": {},
   "source": [
    "We can divide the businesses in 3 categories: low rating ( < 3), average/medium rating (3 - 4), high rating ( > 4)"
   ]
  },
  {
   "cell_type": "code",
   "execution_count": 8,
   "metadata": {
    "ExecuteTime": {
     "end_time": "2020-11-05T07:04:33.692809Z",
     "start_time": "2020-11-05T07:04:32.711465Z"
    },
    "colab": {
     "base_uri": "https://localhost:8080/",
     "height": 394
    },
    "id": "7BWlTO4vKDr2",
    "outputId": "81d716f4-f796-43cc-bd11-c73c5eac5e95"
   },
   "outputs": [
    {
     "data": {
      "text/html": [
       "<div>\n",
       "<style scoped>\n",
       "    .dataframe tbody tr th:only-of-type {\n",
       "        vertical-align: middle;\n",
       "    }\n",
       "\n",
       "    .dataframe tbody tr th {\n",
       "        vertical-align: top;\n",
       "    }\n",
       "\n",
       "    .dataframe thead th {\n",
       "        text-align: right;\n",
       "    }\n",
       "</style>\n",
       "<table border=\"1\" class=\"dataframe\">\n",
       "  <thead>\n",
       "    <tr style=\"text-align: right;\">\n",
       "      <th></th>\n",
       "      <th>business_id</th>\n",
       "    </tr>\n",
       "    <tr>\n",
       "      <th>rating_category</th>\n",
       "      <th></th>\n",
       "    </tr>\n",
       "  </thead>\n",
       "  <tbody>\n",
       "    <tr>\n",
       "      <th>high</th>\n",
       "      <td>80355</td>\n",
       "    </tr>\n",
       "    <tr>\n",
       "      <th>low</th>\n",
       "      <td>37710</td>\n",
       "    </tr>\n",
       "    <tr>\n",
       "      <th>medium</th>\n",
       "      <td>50838</td>\n",
       "    </tr>\n",
       "  </tbody>\n",
       "</table>\n",
       "</div>"
      ],
      "text/plain": [
       "                 business_id\n",
       "rating_category             \n",
       "high                   80355\n",
       "low                    37710\n",
       "medium                 50838"
      ]
     },
     "execution_count": 8,
     "metadata": {},
     "output_type": "execute_result"
    }
   ],
   "source": [
    "businesses_df['rating_category'] = businesses_df['stars'].apply(lambda x: 'low' if x < 3 else ('medium' if x < 4 else 'high'))\n",
    "businesses_df[['rating_category', 'business_id']].groupby(by='rating_category').count()"
   ]
  },
  {
   "cell_type": "code",
   "execution_count": 16,
   "metadata": {
    "ExecuteTime": {
     "end_time": "2020-11-04T21:16:33.644111Z",
     "start_time": "2020-11-04T21:16:33.341556Z"
    },
    "colab": {
     "base_uri": "https://localhost:8080/",
     "height": 441
    },
    "id": "rk6fKkTNJThd",
    "outputId": "ee703ca3-618d-41fb-a381-f06806a06817"
   },
   "outputs": [
    {
     "data": {
      "image/png": "[encoded data removed]",
      "text/plain": [
       "<Figure size 576x432 with 1 Axes>"
      ]
     },
     "metadata": {
      "needs_background": "light"
     },
     "output_type": "display_data"
    }
   ],
   "source": [
    "fig = businesses_df.groupby(by='state')['business_id'].count().sort_values(ascending=False).plot.bar(figsize=(8, 6), title='#businesses per State').get_figure()\n",
    "fig.savefig('businesses per State')"
   ]
  },
  {
   "cell_type": "code",
   "execution_count": 11,
   "metadata": {},
   "outputs": [
    {
     "data": {
      "text/plain": [
       "state\n",
       "AZ    49415\n",
       "NV    31180\n",
       "ON    28433\n",
       "OH    13762\n",
       "NC    13433\n",
       "PA    10206\n",
       "QC     8215\n",
       "Name: business_id, dtype: int64"
      ]
     },
     "execution_count": 11,
     "metadata": {},
     "output_type": "execute_result"
    }
   ],
   "source": [
    "businesses_df.groupby(by='state')['business_id'].count().sort_values(ascending=False).nlargest(7)"
   ]
  },
  {
   "cell_type": "markdown",
   "metadata": {},
   "source": [
    "We can filter out the businesses for top 5 or top 7 States only."
   ]
  },
  {
   "cell_type": "markdown",
   "metadata": {},
   "source": [
    "Or we can focus on top 3 and then filter out the cities from them (discuss)"
   ]
  },
  {
   "cell_type": "code",
   "execution_count": 20,
   "metadata": {
    "ExecuteTime": {
     "end_time": "2020-11-04T21:16:42.703258Z",
     "start_time": "2020-11-04T21:16:42.381878Z"
    },
    "colab": {
     "base_uri": "https://localhost:8080/",
     "height": 497
    },
    "id": "KjKNqbDCOzUZ",
    "outputId": "907dd64b-f23b-4f09-9ebf-a2231acc63af"
   },
   "outputs": [
    {
     "data": {
      "text/plain": [
       "<AxesSubplot:title={'center':'#businesses in Arizona State'}, xlabel='city'>"
      ]
     },
     "execution_count": 20,
     "metadata": {},
     "output_type": "execute_result"
    },
    {
     "data": {
      "image/png": "[encoded data removed]",
      "text/plain": [
       "<Figure size 576x432 with 1 Axes>"
      ]
     },
     "metadata": {
      "needs_background": "light"
     },
     "output_type": "display_data"
    }
   ],
   "source": [
    "businesses_df[businesses_df['state'] == 'AZ'].groupby(by='city')['business_id'].count().sort_values(ascending=False).nlargest(20).plot.bar(figsize=(8, 6), \n",
    "                                                                                                                                           title='#businesses in Arizona State')"
   ]
  },
  {
   "cell_type": "markdown",
   "metadata": {},
   "source": [
    "There are 1600 Categories.\n",
    "There are lot of typos for example **Active Life**, **Active Lif** being 2 different Categories.\n",
    "\n",
    "yelp maintains a blog for all it categories https://blog.yelp.com/2018/01/yelp_category_list\n",
    "It was last updated on April 8, 2020.\n",
    "\n",
    "From the blog it looks like there are 22 broad Categories and each of the above sub category can be classified into one of them."
   ]
  },
  {
   "cell_type": "code",
   "execution_count": 60,
   "metadata": {
    "colab": {
     "base_uri": "https://localhost:8080/"
    },
    "id": "WjlQLKjMRcob",
    "outputId": "3e7e6172-8a00-4ef9-938a-f556e2818558"
   },
   "outputs": [
    {
     "data": {
      "text/plain": [
       "502"
      ]
     },
     "execution_count": 60,
     "metadata": {},
     "output_type": "execute_result"
    }
   ],
   "source": [
    "# businesses with no categories\n",
    "businesses_df[businesses_df['categories'].isna()]['business_id'].count()"
   ]
  },
  {
   "cell_type": "code",
   "execution_count": 53,
   "metadata": {},
   "outputs": [],
   "source": [
    "doc_result = docx2python(\"Categories.docx\")\n",
    "categories_to_subcategories = {}\n",
    "k = None\n",
    "for i in doc_result.body[0][0][0]:\n",
    "    if len(re.findall('\\t', i)) == 0:\n",
    "        k = ' '.join(re.findall(r'\\w+', i))\n",
    "        categories_to_subcategories[k] = [k]\n",
    "    \n",
    "    categories_to_subcategories[k].append(' '.join(re.findall(r'\\w+', i)))\n",
    "# categories_to_subcategories"
   ]
  },
  {
   "cell_type": "code",
   "execution_count": 54,
   "metadata": {},
   "outputs": [],
   "source": [
    "subcategories_to_categories = {}\n",
    "for k, v in categories_to_subcategories.items():\n",
    "    for x in set(v):\n",
    "        subcategories_to_categories.setdefault(x.lower(), []).append(k.lower())\n",
    "# subcategories_to_categories"
   ]
  },
  {
   "cell_type": "code",
   "execution_count": 55,
   "metadata": {},
   "outputs": [],
   "source": [
    "businesses_df['categories'] = businesses_df['categories'].apply(lambda x: re.sub(r\"[^a-zA-Z0-9]\" ,\" \", x) if type(x) is str else x)"
   ]
  },
  {
   "cell_type": "code",
   "execution_count": 56,
   "metadata": {},
   "outputs": [],
   "source": [
    "# https://stackoverflow.com/questions/54481198/python-match-multiple-substrings-in-a-string\n",
    "def clean_categories(string):\n",
    "    if type(string) is str:\n",
    "        categories = []\n",
    "        for key, values in categories_to_subcategories.items():\n",
    "            pattern = r'\\b({})\\b'.format('|'.join(map(re.escape, values)))\n",
    "            matches = set(map(str.lower, re.findall(pattern, string, re.IGNORECASE)))\n",
    "            categories.extend(list(filter(None, [x.lower() for x in values if x.lower() in matches])))\n",
    "        return list(set(categories))\n",
    "    else:\n",
    "        return string"
   ]
  },
  {
   "cell_type": "code",
   "execution_count": 57,
   "metadata": {},
   "outputs": [
    {
     "data": {
      "text/plain": [
       "524"
      ]
     },
     "execution_count": 57,
     "metadata": {},
     "output_type": "execute_result"
    }
   ],
   "source": [
    "businesses_df['cleaned_categories'] = businesses_df['categories'].apply(clean_categories)\n",
    "businesses_df['cleaned_categories'] = businesses_df['cleaned_categories'].apply(lambda x: x if type(x) is list else math.nan)\n",
    "businesses_df['parent_categories'] = businesses_df['cleaned_categories'].apply(lambda x: list(set([subcategories_to_categories[k][0] for k in x])) if type(x) is list else x)\n",
    "len(businesses_df['cleaned_categories'][businesses_df['cleaned_categories'].isna()])"
   ]
  },
  {
   "cell_type": "markdown",
   "metadata": {},
   "source": [
    "Top 20 Subcategoris"
   ]
  },
  {
   "cell_type": "code",
   "execution_count": 61,
   "metadata": {},
   "outputs": [
    {
     "data": {
      "image/png": "[encoded data removed]",
      "text/plain": [
       "<Figure size 864x432 with 1 Axes>"
      ]
     },
     "metadata": {
      "needs_background": "light"
     },
     "output_type": "display_data"
    }
   ],
   "source": [
    "fig = businesses_df[['cleaned_categories', 'business_id']].explode('cleaned_categories').reset_index()[['cleaned_categories', 'business_id']].groupby(by='cleaned_categories')['business_id'].count().nlargest(20).sort_values(ascending=False).plot.bar(\n",
    "    title='#businesses per sub-category (Top 20)', figsize=(12, 6)).get_figure()\n",
    "fig.savefig('businesses per sub-category')"
   ]
  },
  {
   "cell_type": "markdown",
   "metadata": {},
   "source": [
    "Count per Parent Category"
   ]
  },
  {
   "cell_type": "code",
   "execution_count": 35,
   "metadata": {},
   "outputs": [
    {
     "data": {
      "image/png": "[encoded data removed]",
      "text/plain": [
       "<Figure size 864x432 with 1 Axes>"
      ]
     },
     "metadata": {
      "needs_background": "light"
     },
     "output_type": "display_data"
    }
   ],
   "source": [
    "fig = businesses_df[['parent_categories', 'business_id']].explode('parent_categories').reset_index()[['parent_categories', 'business_id']].groupby(by='parent_categories')['business_id'].count().sort_values(ascending=False).plot.bar(\n",
    "    title='#businesses per parent-category', figsize=(12, 6)).get_figure()\n",
    "fig.savefig('businesses per parent-category')"
   ]
  },
  {
   "cell_type": "code",
   "execution_count": 36,
   "metadata": {
    "colab": {
     "base_uri": "https://localhost:8080/",
     "height": 178
    },
    "id": "WZz4q-RQZtrP",
    "outputId": "803e24c2-664b-48aa-88cd-3db368ba1349"
   },
   "outputs": [],
   "source": [
    "del(businesses_df)"
   ]
  },
  {
   "cell_type": "markdown",
   "metadata": {
    "id": "TktELliLXdK0"
   },
   "source": [
    "## Exploring Users"
   ]
  },
  {
   "cell_type": "code",
   "execution_count": 37,
   "metadata": {
    "ExecuteTime": {
     "end_time": "2020-11-04T21:17:37.646565Z",
     "start_time": "2020-11-04T21:17:15.497351Z"
    },
    "colab": {
     "base_uri": "https://localhost:8080/"
    },
    "id": "K_752mj2XegZ",
    "outputId": "4d36c167-8da0-4bd3-fbac-ca36830065c2"
   },
   "outputs": [
    {
     "name": "stderr",
     "output_type": "stream",
     "text": [
      "/geode2/home/u100/vimohan/Carbonate/env/lib/python3.8/site-packages/IPython/core/interactiveshell.py:3146: DtypeWarning: Columns (4) have mixed types.Specify dtype option on import or set low_memory=False.\n",
      "  has_raised = await self.run_ast_nodes(code_ast.body, cell_name,\n"
     ]
    },
    {
     "data": {
      "text/html": [
       "<div>\n",
       "<style scoped>\n",
       "    .dataframe tbody tr th:only-of-type {\n",
       "        vertical-align: middle;\n",
       "    }\n",
       "\n",
       "    .dataframe tbody tr th {\n",
       "        vertical-align: top;\n",
       "    }\n",
       "\n",
       "    .dataframe thead th {\n",
       "        text-align: right;\n",
       "    }\n",
       "</style>\n",
       "<table border=\"1\" class=\"dataframe\">\n",
       "  <thead>\n",
       "    <tr style=\"text-align: right;\">\n",
       "      <th></th>\n",
       "      <th>average_stars</th>\n",
       "      <th>compliment_photos</th>\n",
       "      <th>compliment_note</th>\n",
       "      <th>elite</th>\n",
       "      <th>compliment_cool</th>\n",
       "      <th>compliment_hot</th>\n",
       "      <th>yelping_since</th>\n",
       "      <th>user_id</th>\n",
       "      <th>compliment_funny</th>\n",
       "      <th>cool</th>\n",
       "      <th>review_count</th>\n",
       "      <th>useful</th>\n",
       "      <th>name</th>\n",
       "      <th>compliment_writer</th>\n",
       "      <th>funny</th>\n",
       "      <th>compliment_cute</th>\n",
       "      <th>compliment_profile</th>\n",
       "      <th>compliment_more</th>\n",
       "      <th>compliment_plain</th>\n",
       "      <th>fans</th>\n",
       "      <th>compliment_list</th>\n",
       "      <th>friends</th>\n",
       "    </tr>\n",
       "  </thead>\n",
       "  <tbody>\n",
       "    <tr>\n",
       "      <th>0</th>\n",
       "      <td>3.57</td>\n",
       "      <td>0</td>\n",
       "      <td>11</td>\n",
       "      <td>NaN</td>\n",
       "      <td>22</td>\n",
       "      <td>3</td>\n",
       "      <td>2007-07-06 03:27:11</td>\n",
       "      <td>ntlvfPzc8eglqvk92iDIAw</td>\n",
       "      <td>22</td>\n",
       "      <td>227</td>\n",
       "      <td>553</td>\n",
       "      <td>628</td>\n",
       "      <td>Rafael</td>\n",
       "      <td>10</td>\n",
       "      <td>225</td>\n",
       "      <td>0</td>\n",
       "      <td>1</td>\n",
       "      <td>2</td>\n",
       "      <td>15</td>\n",
       "      <td>14</td>\n",
       "      <td>1</td>\n",
       "      <td>oeMvJh94PiGQnx_6GlndPQ, wm1z1PaJKvHgSDRKfwhfDg...</td>\n",
       "    </tr>\n",
       "    <tr>\n",
       "      <th>1</th>\n",
       "      <td>3.84</td>\n",
       "      <td>5</td>\n",
       "      <td>33</td>\n",
       "      <td>2008,2009,2010,2011,2012,2013</td>\n",
       "      <td>63</td>\n",
       "      <td>36</td>\n",
       "      <td>2008-04-28 01:29:25</td>\n",
       "      <td>FOBRPlBHa3WPHFB5qYDlVg</td>\n",
       "      <td>63</td>\n",
       "      <td>400</td>\n",
       "      <td>564</td>\n",
       "      <td>790</td>\n",
       "      <td>Michelle</td>\n",
       "      <td>21</td>\n",
       "      <td>316</td>\n",
       "      <td>2</td>\n",
       "      <td>5</td>\n",
       "      <td>4</td>\n",
       "      <td>37</td>\n",
       "      <td>27</td>\n",
       "      <td>1</td>\n",
       "      <td>ly7EnE8leJmyqyePVYFlug, pRlR63iDytsnnniPb3AOug...</td>\n",
       "    </tr>\n",
       "    <tr>\n",
       "      <th>2</th>\n",
       "      <td>3.44</td>\n",
       "      <td>1</td>\n",
       "      <td>3</td>\n",
       "      <td>2010</td>\n",
       "      <td>17</td>\n",
       "      <td>9</td>\n",
       "      <td>2008-08-28 23:40:05</td>\n",
       "      <td>zZUnPeh2hEp0WydbAZEOOg</td>\n",
       "      <td>17</td>\n",
       "      <td>103</td>\n",
       "      <td>60</td>\n",
       "      <td>151</td>\n",
       "      <td>Martin</td>\n",
       "      <td>4</td>\n",
       "      <td>125</td>\n",
       "      <td>1</td>\n",
       "      <td>0</td>\n",
       "      <td>6</td>\n",
       "      <td>7</td>\n",
       "      <td>5</td>\n",
       "      <td>0</td>\n",
       "      <td>Uwlk0txjQBPw_JhHsQnyeg, Ybxr1tSCkv3lYA0I1qmnPQ...</td>\n",
       "    </tr>\n",
       "    <tr>\n",
       "      <th>3</th>\n",
       "      <td>3.08</td>\n",
       "      <td>0</td>\n",
       "      <td>7</td>\n",
       "      <td>2009</td>\n",
       "      <td>7</td>\n",
       "      <td>2</td>\n",
       "      <td>2008-09-20 00:08:14</td>\n",
       "      <td>QaELAmRcDc5TfJEylaaP8g</td>\n",
       "      <td>7</td>\n",
       "      <td>84</td>\n",
       "      <td>206</td>\n",
       "      <td>233</td>\n",
       "      <td>John</td>\n",
       "      <td>2</td>\n",
       "      <td>160</td>\n",
       "      <td>0</td>\n",
       "      <td>0</td>\n",
       "      <td>1</td>\n",
       "      <td>14</td>\n",
       "      <td>6</td>\n",
       "      <td>0</td>\n",
       "      <td>iog3Nyg1i4jeumiTVG_BSA, M92xWY2Vr9w0xoH8bPplfQ...</td>\n",
       "    </tr>\n",
       "    <tr>\n",
       "      <th>4</th>\n",
       "      <td>4.37</td>\n",
       "      <td>31</td>\n",
       "      <td>22</td>\n",
       "      <td>2009,2010,2011,2012,2014,2015,2016,2017,2018</td>\n",
       "      <td>31</td>\n",
       "      <td>8</td>\n",
       "      <td>2008-08-09 00:30:27</td>\n",
       "      <td>xvu8G900tezTzbbfqmTKvA</td>\n",
       "      <td>31</td>\n",
       "      <td>512</td>\n",
       "      <td>485</td>\n",
       "      <td>1265</td>\n",
       "      <td>Anne</td>\n",
       "      <td>19</td>\n",
       "      <td>400</td>\n",
       "      <td>1</td>\n",
       "      <td>2</td>\n",
       "      <td>9</td>\n",
       "      <td>28</td>\n",
       "      <td>78</td>\n",
       "      <td>1</td>\n",
       "      <td>3W3ZMSthojCUirKEqAwGNw, eTIbuu23j9tOgmIa9POyLQ...</td>\n",
       "    </tr>\n",
       "  </tbody>\n",
       "</table>\n",
       "</div>"
      ],
      "text/plain": [
       "   average_stars  compliment_photos  compliment_note  \\\n",
       "0           3.57                  0               11   \n",
       "1           3.84                  5               33   \n",
       "2           3.44                  1                3   \n",
       "3           3.08                  0                7   \n",
       "4           4.37                 31               22   \n",
       "\n",
       "                                          elite  compliment_cool  \\\n",
       "0                                           NaN               22   \n",
       "1                 2008,2009,2010,2011,2012,2013               63   \n",
       "2                                          2010               17   \n",
       "3                                          2009                7   \n",
       "4  2009,2010,2011,2012,2014,2015,2016,2017,2018               31   \n",
       "\n",
       "   compliment_hot        yelping_since                 user_id  \\\n",
       "0               3  2007-07-06 03:27:11  ntlvfPzc8eglqvk92iDIAw   \n",
       "1              36  2008-04-28 01:29:25  FOBRPlBHa3WPHFB5qYDlVg   \n",
       "2               9  2008-08-28 23:40:05  zZUnPeh2hEp0WydbAZEOOg   \n",
       "3               2  2008-09-20 00:08:14  QaELAmRcDc5TfJEylaaP8g   \n",
       "4               8  2008-08-09 00:30:27  xvu8G900tezTzbbfqmTKvA   \n",
       "\n",
       "   compliment_funny  cool  review_count  useful      name  compliment_writer  \\\n",
       "0                22   227           553     628    Rafael                 10   \n",
       "1                63   400           564     790  Michelle                 21   \n",
       "2                17   103            60     151    Martin                  4   \n",
       "3                 7    84           206     233      John                  2   \n",
       "4                31   512           485    1265      Anne                 19   \n",
       "\n",
       "   funny  compliment_cute  compliment_profile  compliment_more  \\\n",
       "0    225                0                   1                2   \n",
       "1    316                2                   5                4   \n",
       "2    125                1                   0                6   \n",
       "3    160                0                   0                1   \n",
       "4    400                1                   2                9   \n",
       "\n",
       "   compliment_plain  fans  compliment_list  \\\n",
       "0                15    14                1   \n",
       "1                37    27                1   \n",
       "2                 7     5                0   \n",
       "3                14     6                0   \n",
       "4                28    78                1   \n",
       "\n",
       "                                             friends  \n",
       "0  oeMvJh94PiGQnx_6GlndPQ, wm1z1PaJKvHgSDRKfwhfDg...  \n",
       "1  ly7EnE8leJmyqyePVYFlug, pRlR63iDytsnnniPb3AOug...  \n",
       "2  Uwlk0txjQBPw_JhHsQnyeg, Ybxr1tSCkv3lYA0I1qmnPQ...  \n",
       "3  iog3Nyg1i4jeumiTVG_BSA, M92xWY2Vr9w0xoH8bPplfQ...  \n",
       "4  3W3ZMSthojCUirKEqAwGNw, eTIbuu23j9tOgmIa9POyLQ...  "
      ]
     },
     "execution_count": 37,
     "metadata": {},
     "output_type": "execute_result"
    }
   ],
   "source": [
    "users_df = pd.read_csv(data_dir + 'user.csv')\n",
    "users_df.drop(['Unnamed: 0'], axis=1, inplace=True)\n",
    "users_df.head()"
   ]
  },
  {
   "cell_type": "code",
   "execution_count": 38,
   "metadata": {
    "ExecuteTime": {
     "end_time": "2020-11-04T21:17:40.121792Z",
     "start_time": "2020-11-04T21:17:38.761162Z"
    },
    "id": "wWIat8q3Xtfg"
   },
   "outputs": [],
   "source": [
    "users_df['year'] = pd.DatetimeIndex(pd.to_datetime(users_df['yelping_since'], format='%Y-%m-%d %H:%M:%S')).year"
   ]
  },
  {
   "cell_type": "code",
   "execution_count": 24,
   "metadata": {},
   "outputs": [
    {
     "data": {
      "text/html": [
       "<div>\n",
       "<style scoped>\n",
       "    .dataframe tbody tr th:only-of-type {\n",
       "        vertical-align: middle;\n",
       "    }\n",
       "\n",
       "    .dataframe tbody tr th {\n",
       "        vertical-align: top;\n",
       "    }\n",
       "\n",
       "    .dataframe thead th {\n",
       "        text-align: right;\n",
       "    }\n",
       "</style>\n",
       "<table border=\"1\" class=\"dataframe\">\n",
       "  <thead>\n",
       "    <tr style=\"text-align: right;\">\n",
       "      <th></th>\n",
       "      <th>user_id</th>\n",
       "    </tr>\n",
       "    <tr>\n",
       "      <th>year</th>\n",
       "      <th></th>\n",
       "    </tr>\n",
       "  </thead>\n",
       "  <tbody>\n",
       "    <tr>\n",
       "      <th>2004</th>\n",
       "      <td>82</td>\n",
       "    </tr>\n",
       "    <tr>\n",
       "      <th>2005</th>\n",
       "      <td>1022</td>\n",
       "    </tr>\n",
       "    <tr>\n",
       "      <th>2006</th>\n",
       "      <td>6052</td>\n",
       "    </tr>\n",
       "    <tr>\n",
       "      <th>2007</th>\n",
       "      <td>17155</td>\n",
       "    </tr>\n",
       "    <tr>\n",
       "      <th>2008</th>\n",
       "      <td>34327</td>\n",
       "    </tr>\n",
       "    <tr>\n",
       "      <th>2009</th>\n",
       "      <td>68314</td>\n",
       "    </tr>\n",
       "    <tr>\n",
       "      <th>2010</th>\n",
       "      <td>115106</td>\n",
       "    </tr>\n",
       "    <tr>\n",
       "      <th>2011</th>\n",
       "      <td>185076</td>\n",
       "    </tr>\n",
       "    <tr>\n",
       "      <th>2012</th>\n",
       "      <td>203180</td>\n",
       "    </tr>\n",
       "    <tr>\n",
       "      <th>2013</th>\n",
       "      <td>221380</td>\n",
       "    </tr>\n",
       "    <tr>\n",
       "      <th>2014</th>\n",
       "      <td>250827</td>\n",
       "    </tr>\n",
       "    <tr>\n",
       "      <th>2015</th>\n",
       "      <td>267267</td>\n",
       "    </tr>\n",
       "    <tr>\n",
       "      <th>2016</th>\n",
       "      <td>241414</td>\n",
       "    </tr>\n",
       "    <tr>\n",
       "      <th>2017</th>\n",
       "      <td>158881</td>\n",
       "    </tr>\n",
       "    <tr>\n",
       "      <th>2018</th>\n",
       "      <td>122892</td>\n",
       "    </tr>\n",
       "    <tr>\n",
       "      <th>2019</th>\n",
       "      <td>75728</td>\n",
       "    </tr>\n",
       "  </tbody>\n",
       "</table>\n",
       "</div>"
      ],
      "text/plain": [
       "      user_id\n",
       "year         \n",
       "2004       82\n",
       "2005     1022\n",
       "2006     6052\n",
       "2007    17155\n",
       "2008    34327\n",
       "2009    68314\n",
       "2010   115106\n",
       "2011   185076\n",
       "2012   203180\n",
       "2013   221380\n",
       "2014   250827\n",
       "2015   267267\n",
       "2016   241414\n",
       "2017   158881\n",
       "2018   122892\n",
       "2019    75728"
      ]
     },
     "execution_count": 24,
     "metadata": {},
     "output_type": "execute_result"
    }
   ],
   "source": [
    "users_df[['year', 'user_id']].groupby(by='year').count()"
   ]
  },
  {
   "cell_type": "code",
   "execution_count": 43,
   "metadata": {
    "ExecuteTime": {
     "end_time": "2020-11-04T21:17:41.727891Z",
     "start_time": "2020-11-04T21:17:41.336776Z"
    },
    "colab": {
     "base_uri": "https://localhost:8080/",
     "height": 394
    },
    "id": "HgQePJPGdgIv",
    "outputId": "0aeadc77-ff7c-4d08-db6c-d139530c13d9"
   },
   "outputs": [
    {
     "data": {
      "image/png": "[encoded data removed]",
      "text/plain": [
       "<Figure size 864x432 with 1 Axes>"
      ]
     },
     "metadata": {
      "needs_background": "light"
     },
     "output_type": "display_data"
    }
   ],
   "source": [
    "fig = users_df['year'].plot.hist(bins=len(users_df['year'].unique()), figsize=(12, 6), title='distribution of users across years').get_figure()\n",
    "fig.savefig('distribution of users')"
   ]
  },
  {
   "cell_type": "markdown",
   "metadata": {},
   "source": [
    "Filtering Users from 2010 - Present"
   ]
  },
  {
   "cell_type": "code",
   "execution_count": 26,
   "metadata": {
    "ExecuteTime": {
     "end_time": "2020-11-04T21:17:43.407381Z",
     "start_time": "2020-11-04T21:17:42.949387Z"
    },
    "colab": {
     "base_uri": "https://localhost:8080/",
     "height": 394
    },
    "id": "8pft9nJWeHU8",
    "outputId": "2ceafbf5-b3f6-4ef5-9a65-a90c8fc84413"
   },
   "outputs": [
    {
     "data": {
      "text/plain": [
       "<AxesSubplot:ylabel='Frequency'>"
      ]
     },
     "execution_count": 26,
     "metadata": {},
     "output_type": "execute_result"
    },
    {
     "data": {
      "image/png": "[encoded data removed]",
      "text/plain": [
       "<Figure size 864x432 with 1 Axes>"
      ]
     },
     "metadata": {
      "needs_background": "light"
     },
     "output_type": "display_data"
    }
   ],
   "source": [
    "users_df['average_stars'].plot.hist(bins=60)"
   ]
  },
  {
   "cell_type": "code",
   "execution_count": 46,
   "metadata": {
    "ExecuteTime": {
     "end_time": "2020-11-04T21:17:45.830855Z",
     "start_time": "2020-11-04T21:17:44.592248Z"
    },
    "colab": {
     "base_uri": "https://localhost:8080/",
     "height": 394
    },
    "id": "CRgG9NgRfuCt",
    "outputId": "d2cc6055-2355-4bd9-8056-96ab5a5207b1"
   },
   "outputs": [
    {
     "data": {
      "image/png": "[encoded data removed]",
      "text/plain": [
       "<Figure size 864x432 with 1 Axes>"
      ]
     },
     "metadata": {
      "needs_background": "light"
     },
     "output_type": "display_data"
    }
   ],
   "source": [
    "fig = users_df['average_stars'].apply(lambda x: round(x)).plot.hist(bins=10, figsize=(12, 6), title='#users per rounded average stars').get_figure()\n",
    "fig.savefig('users per rounded average stars')"
   ]
  },
  {
   "cell_type": "code",
   "execution_count": 47,
   "metadata": {
    "id": "3REG4Fedgumr"
   },
   "outputs": [],
   "source": [
    "del(users_df)"
   ]
  },
  {
   "cell_type": "markdown",
   "metadata": {
    "id": "M7TKIAIogqW_"
   },
   "source": [
    "## Exploring Reviews"
   ]
  },
  {
   "cell_type": "code",
   "execution_count": 48,
   "metadata": {
    "colab": {
     "base_uri": "https://localhost:8080/"
    },
    "id": "HBIqnydmgtsR",
    "outputId": "b026adad-9667-4025-cde3-13e3856a6725"
   },
   "outputs": [
    {
     "data": {
      "text/html": [
       "<div>\n",
       "<style scoped>\n",
       "    .dataframe tbody tr th:only-of-type {\n",
       "        vertical-align: middle;\n",
       "    }\n",
       "\n",
       "    .dataframe tbody tr th {\n",
       "        vertical-align: top;\n",
       "    }\n",
       "\n",
       "    .dataframe thead th {\n",
       "        text-align: right;\n",
       "    }\n",
       "</style>\n",
       "<table border=\"1\" class=\"dataframe\">\n",
       "  <thead>\n",
       "    <tr style=\"text-align: right;\">\n",
       "      <th></th>\n",
       "      <th>user_id</th>\n",
       "      <th>text</th>\n",
       "      <th>review_id</th>\n",
       "      <th>cool</th>\n",
       "      <th>stars</th>\n",
       "      <th>funny</th>\n",
       "      <th>useful</th>\n",
       "      <th>business_id</th>\n",
       "      <th>date</th>\n",
       "    </tr>\n",
       "  </thead>\n",
       "  <tbody>\n",
       "    <tr>\n",
       "      <th>0</th>\n",
       "      <td>OwjRMXRC0KyPrIlcjaXeFQ</td>\n",
       "      <td>As someone who has worked with many museums, I...</td>\n",
       "      <td>xQY8N_XvtGbearJ5X4QryQ</td>\n",
       "      <td>0</td>\n",
       "      <td>2.0</td>\n",
       "      <td>0</td>\n",
       "      <td>5</td>\n",
       "      <td>-MhfebM0QIsKt87iDN-FNw</td>\n",
       "      <td>2015-04-15</td>\n",
       "    </tr>\n",
       "    <tr>\n",
       "      <th>1</th>\n",
       "      <td>nIJD_7ZXHq-FX8byPMOkMQ</td>\n",
       "      <td>I am actually horrified this place is still in...</td>\n",
       "      <td>UmFMZ8PyXZTY2QcwzsfQYA</td>\n",
       "      <td>0</td>\n",
       "      <td>1.0</td>\n",
       "      <td>1</td>\n",
       "      <td>1</td>\n",
       "      <td>lbrU8StCq3yDfr-QMnGrmQ</td>\n",
       "      <td>2013-12-07</td>\n",
       "    </tr>\n",
       "    <tr>\n",
       "      <th>2</th>\n",
       "      <td>V34qejxNsCbcgD8C0HVk-Q</td>\n",
       "      <td>I love Deagan's. I do. I really do. The atmosp...</td>\n",
       "      <td>LG2ZaYiOgpr2DK_90pYjNw</td>\n",
       "      <td>0</td>\n",
       "      <td>5.0</td>\n",
       "      <td>0</td>\n",
       "      <td>1</td>\n",
       "      <td>HQl28KMwrEKHqhFrrDqVNQ</td>\n",
       "      <td>2015-12-05</td>\n",
       "    </tr>\n",
       "    <tr>\n",
       "      <th>3</th>\n",
       "      <td>ofKDkJKXSKZXu5xJNGiiBQ</td>\n",
       "      <td>Dismal, lukewarm, defrosted-tasting \"TexMex\" g...</td>\n",
       "      <td>i6g_oA9Yf9Y31qt0wibXpw</td>\n",
       "      <td>0</td>\n",
       "      <td>1.0</td>\n",
       "      <td>0</td>\n",
       "      <td>0</td>\n",
       "      <td>5JxlZaqCnk1MnbgRirs40Q</td>\n",
       "      <td>2011-05-27</td>\n",
       "    </tr>\n",
       "    <tr>\n",
       "      <th>4</th>\n",
       "      <td>UgMW8bLE0QMJDCkQ1Ax5Mg</td>\n",
       "      <td>Oh happy day, finally have a Canes near my cas...</td>\n",
       "      <td>6TdNDKywdbjoTkizeMce8A</td>\n",
       "      <td>0</td>\n",
       "      <td>4.0</td>\n",
       "      <td>0</td>\n",
       "      <td>0</td>\n",
       "      <td>IS4cv902ykd8wj1TR0N3-A</td>\n",
       "      <td>2017-01-14</td>\n",
       "    </tr>\n",
       "  </tbody>\n",
       "</table>\n",
       "</div>"
      ],
      "text/plain": [
       "                  user_id                                               text  \\\n",
       "0  OwjRMXRC0KyPrIlcjaXeFQ  As someone who has worked with many museums, I...   \n",
       "1  nIJD_7ZXHq-FX8byPMOkMQ  I am actually horrified this place is still in...   \n",
       "2  V34qejxNsCbcgD8C0HVk-Q  I love Deagan's. I do. I really do. The atmosp...   \n",
       "3  ofKDkJKXSKZXu5xJNGiiBQ  Dismal, lukewarm, defrosted-tasting \"TexMex\" g...   \n",
       "4  UgMW8bLE0QMJDCkQ1Ax5Mg  Oh happy day, finally have a Canes near my cas...   \n",
       "\n",
       "                review_id  cool  stars  funny  useful             business_id  \\\n",
       "0  xQY8N_XvtGbearJ5X4QryQ     0    2.0      0       5  -MhfebM0QIsKt87iDN-FNw   \n",
       "1  UmFMZ8PyXZTY2QcwzsfQYA     0    1.0      1       1  lbrU8StCq3yDfr-QMnGrmQ   \n",
       "2  LG2ZaYiOgpr2DK_90pYjNw     0    5.0      0       1  HQl28KMwrEKHqhFrrDqVNQ   \n",
       "3  i6g_oA9Yf9Y31qt0wibXpw     0    1.0      0       0  5JxlZaqCnk1MnbgRirs40Q   \n",
       "4  6TdNDKywdbjoTkizeMce8A     0    4.0      0       0  IS4cv902ykd8wj1TR0N3-A   \n",
       "\n",
       "        date  \n",
       "0 2015-04-15  \n",
       "1 2013-12-07  \n",
       "2 2015-12-05  \n",
       "3 2011-05-27  \n",
       "4 2017-01-14  "
      ]
     },
     "execution_count": 48,
     "metadata": {},
     "output_type": "execute_result"
    }
   ],
   "source": [
    "reviews_df = pd.read_csv(data_dir + 'review.csv')\n",
    "# reviews_df.drop(['cool', 'useful', 'funny'], axis=1, inplace=True)\n",
    "for c in reviews_df.columns:\n",
    "    reviews_df[c] = reviews_df[c].apply(lambda x: x[2:-1] if type(x) is str else x)\n",
    "reviews_df['date'] = pd.to_datetime(pd.to_datetime(reviews_df['date'], format='%Y-%m-%d %H:%M:%S').dt.date, \n",
    "                                    format='%Y-%m-%d')\n",
    "reviews_df.head()"
   ]
  },
  {
   "cell_type": "code",
   "execution_count": 30,
   "metadata": {},
   "outputs": [
    {
     "data": {
      "text/plain": [
       "date\n",
       "2004         12\n",
       "2005        875\n",
       "2006       5030\n",
       "2007      21130\n",
       "2008      56996\n",
       "2009     100760\n",
       "2010     186752\n",
       "2011     302523\n",
       "2012     367367\n",
       "2013     491678\n",
       "2014     702060\n",
       "2015     940603\n",
       "2016    1094154\n",
       "2017    1217292\n",
       "2018    1318054\n",
       "2019    1215836\n",
       "Name: review_id, dtype: int64"
      ]
     },
     "execution_count": 30,
     "metadata": {},
     "output_type": "execute_result"
    }
   ],
   "source": [
    "reviews_df.groupby(reviews_df[\"date\"].dt.year)['review_id'].count()"
   ]
  },
  {
   "cell_type": "code",
   "execution_count": 50,
   "metadata": {
    "id": "muF_tJ__v2H6"
   },
   "outputs": [
    {
     "data": {
      "image/png": "[encoded data removed]",
      "text/plain": [
       "<Figure size 864x432 with 1 Axes>"
      ]
     },
     "metadata": {
      "needs_background": "light"
     },
     "output_type": "display_data"
    }
   ],
   "source": [
    "fig = reviews_df.groupby(reviews_df[\"date\"].dt.year)['review_id'].count().plot(kind=\"bar\", title='#reviews per year', figsize=(12, 6)).get_figure()\n",
    "fig.savefig('reviews per year')"
   ]
  },
  {
   "cell_type": "code",
   "execution_count": 32,
   "metadata": {
    "colab": {
     "base_uri": "https://localhost:8080/"
    },
    "id": "KPDdpx6WyGOa",
    "outputId": "5ba3c036-4f75-42be-d4c2-b553002ddd93"
   },
   "outputs": [
    {
     "data": {
      "text/plain": [
       "array([2., 1., 5., 4., 3.])"
      ]
     },
     "execution_count": 32,
     "metadata": {},
     "output_type": "execute_result"
    }
   ],
   "source": [
    "reviews_df['stars'].unique()"
   ]
  },
  {
   "cell_type": "code",
   "execution_count": 51,
   "metadata": {
    "colab": {
     "base_uri": "https://localhost:8080/",
     "height": 405
    },
    "id": "mig7H1_ZxgGH",
    "outputId": "0c27d862-a9c1-4509-c217-df99c4d28dda"
   },
   "outputs": [
    {
     "data": {
      "image/png": "[encoded data removed]",
      "text/plain": [
       "<Figure size 864x432 with 1 Axes>"
      ]
     },
     "metadata": {
      "needs_background": "light"
     },
     "output_type": "display_data"
    }
   ],
   "source": [
    "fig = reviews_df['stars'].plot.hist(bins=5, figsize=(12, 6), title='#reviews per stars').get_figure()\n",
    "fig.savefig('reviews per stars')"
   ]
  },
  {
   "cell_type": "code",
   "execution_count": 34,
   "metadata": {},
   "outputs": [
    {
     "data": {
      "text/html": [
       "<div>\n",
       "<style scoped>\n",
       "    .dataframe tbody tr th:only-of-type {\n",
       "        vertical-align: middle;\n",
       "    }\n",
       "\n",
       "    .dataframe tbody tr th {\n",
       "        vertical-align: top;\n",
       "    }\n",
       "\n",
       "    .dataframe thead th {\n",
       "        text-align: right;\n",
       "    }\n",
       "</style>\n",
       "<table border=\"1\" class=\"dataframe\">\n",
       "  <thead>\n",
       "    <tr style=\"text-align: right;\">\n",
       "      <th></th>\n",
       "      <th>review_id</th>\n",
       "    </tr>\n",
       "    <tr>\n",
       "      <th>stars</th>\n",
       "      <th></th>\n",
       "    </tr>\n",
       "  </thead>\n",
       "  <tbody>\n",
       "    <tr>\n",
       "      <th>1.0</th>\n",
       "      <td>1283897</td>\n",
       "    </tr>\n",
       "    <tr>\n",
       "      <th>2.0</th>\n",
       "      <td>635072</td>\n",
       "    </tr>\n",
       "    <tr>\n",
       "      <th>3.0</th>\n",
       "      <td>842289</td>\n",
       "    </tr>\n",
       "    <tr>\n",
       "      <th>4.0</th>\n",
       "      <td>1673404</td>\n",
       "    </tr>\n",
       "    <tr>\n",
       "      <th>5.0</th>\n",
       "      <td>3586460</td>\n",
       "    </tr>\n",
       "  </tbody>\n",
       "</table>\n",
       "</div>"
      ],
      "text/plain": [
       "       review_id\n",
       "stars           \n",
       "1.0      1283897\n",
       "2.0       635072\n",
       "3.0       842289\n",
       "4.0      1673404\n",
       "5.0      3586460"
      ]
     },
     "execution_count": 34,
     "metadata": {},
     "output_type": "execute_result"
    }
   ],
   "source": [
    "reviews_df[['stars', 'review_id']].groupby('stars').count()"
   ]
  },
  {
   "cell_type": "code",
   "execution_count": 35,
   "metadata": {},
   "outputs": [
    {
     "data": {
      "text/plain": [
       "3.7035746370644906"
      ]
     },
     "execution_count": 35,
     "metadata": {},
     "output_type": "execute_result"
    }
   ],
   "source": [
    "reviews_df['stars'].mean()"
   ]
  },
  {
   "cell_type": "markdown",
   "metadata": {},
   "source": [
    "We can divide it into three categories like businesses (discuss)"
   ]
  },
  {
   "cell_type": "code",
   "execution_count": 36,
   "metadata": {},
   "outputs": [
    {
     "data": {
      "text/html": [
       "<div>\n",
       "<style scoped>\n",
       "    .dataframe tbody tr th:only-of-type {\n",
       "        vertical-align: middle;\n",
       "    }\n",
       "\n",
       "    .dataframe tbody tr th {\n",
       "        vertical-align: top;\n",
       "    }\n",
       "\n",
       "    .dataframe thead th {\n",
       "        text-align: right;\n",
       "    }\n",
       "</style>\n",
       "<table border=\"1\" class=\"dataframe\">\n",
       "  <thead>\n",
       "    <tr style=\"text-align: right;\">\n",
       "      <th></th>\n",
       "      <th>business_id</th>\n",
       "    </tr>\n",
       "    <tr>\n",
       "      <th>rating_category</th>\n",
       "      <th></th>\n",
       "    </tr>\n",
       "  </thead>\n",
       "  <tbody>\n",
       "    <tr>\n",
       "      <th>high</th>\n",
       "      <td>5259864</td>\n",
       "    </tr>\n",
       "    <tr>\n",
       "      <th>low</th>\n",
       "      <td>1918969</td>\n",
       "    </tr>\n",
       "    <tr>\n",
       "      <th>medium</th>\n",
       "      <td>842289</td>\n",
       "    </tr>\n",
       "  </tbody>\n",
       "</table>\n",
       "</div>"
      ],
      "text/plain": [
       "                 business_id\n",
       "rating_category             \n",
       "high                 5259864\n",
       "low                  1918969\n",
       "medium                842289"
      ]
     },
     "execution_count": 36,
     "metadata": {},
     "output_type": "execute_result"
    }
   ],
   "source": [
    "reviews_df['rating_category'] = reviews_df['stars'].apply(lambda x: 'low' if x < 3 else ('medium' if x < 4 else 'high'))\n",
    "reviews_df[['rating_category', 'business_id']].groupby(by='rating_category').count()"
   ]
  },
  {
   "cell_type": "code",
   "execution_count": 37,
   "metadata": {
    "id": "joWG0ljb3cPM"
   },
   "outputs": [
    {
     "data": {
      "text/plain": [
       "user_id                 business_id             date      \n",
       "YRcaNlwQ6XXPFDXWtuMGdA  epQzqMPbNjh5t0Td3T6TJA  2009-08-07    4\n",
       "Pwmt1oPZ_jdnZlNZP0EwoA  oEqvC02g0ObZgQnvif9mUw  2014-07-17    4\n",
       "2QvfdfB5TKQlDSJmzieC5g  t0aja59cII8eEVmC_x4sBw  2010-04-16    4\n",
       "Z8D6JrC5SMogGi4AyBXGOA  kjY3355lQ-M2JHVwrey2qg  2014-04-21    3\n",
       "0IGM3UHkx7wA50CGx2y2hw  kjY3355lQ-M2JHVwrey2qg  2019-10-09    3\n",
       "                                                             ..\n",
       "eVY-SWScYZmbQ11oGj1Vwg  N0CoaG3cBrTGm2ecLYSzqA  2019-01-06    1\n",
       "                        RV657EzugeDNfHaRFZYa_A  2017-04-08    1\n",
       "eVY3Cg0_iaM3mPwQKMJnqQ  VbRhikPI-Mmweau5WBv5CQ  2015-05-06    1\n",
       "eVYDOW4tqeGrd2_pU3-xFA  t8DeC89bZFquyKoWi492xw  2018-09-07    1\n",
       "---1lKK3aKOuomHnwAkAow  --9e1ONYQuAa-CB_Rrw7Tw  2008-11-11    1\n",
       "Name: text, Length: 8019562, dtype: int64"
      ]
     },
     "execution_count": 37,
     "metadata": {},
     "output_type": "execute_result"
    }
   ],
   "source": [
    "res = reviews_df[['user_id', 'business_id', 'date','text']].groupby(by=['user_id', 'business_id', 'date'])['text'].count().sort_values(ascending=False)\n",
    "res"
   ]
  },
  {
   "cell_type": "markdown",
   "metadata": {},
   "source": [
    "Looks like there are multiple reviews on the same date from same user on the same business"
   ]
  },
  {
   "cell_type": "code",
   "execution_count": 38,
   "metadata": {},
   "outputs": [
    {
     "data": {
      "text/html": [
       "<div>\n",
       "<style scoped>\n",
       "    .dataframe tbody tr th:only-of-type {\n",
       "        vertical-align: middle;\n",
       "    }\n",
       "\n",
       "    .dataframe tbody tr th {\n",
       "        vertical-align: top;\n",
       "    }\n",
       "\n",
       "    .dataframe thead th {\n",
       "        text-align: right;\n",
       "    }\n",
       "</style>\n",
       "<table border=\"1\" class=\"dataframe\">\n",
       "  <thead>\n",
       "    <tr style=\"text-align: right;\">\n",
       "      <th></th>\n",
       "      <th>user_id</th>\n",
       "      <th>text</th>\n",
       "      <th>review_id</th>\n",
       "      <th>cool</th>\n",
       "      <th>stars</th>\n",
       "      <th>funny</th>\n",
       "      <th>useful</th>\n",
       "      <th>business_id</th>\n",
       "      <th>date</th>\n",
       "      <th>rating_category</th>\n",
       "    </tr>\n",
       "  </thead>\n",
       "  <tbody>\n",
       "    <tr>\n",
       "      <th>2416046</th>\n",
       "      <td>YRcaNlwQ6XXPFDXWtuMGdA</td>\n",
       "      <td>This is the location closest to my house.  The...</td>\n",
       "      <td>o6ai4rXm79H0o73BMgOqfQ</td>\n",
       "      <td>0</td>\n",
       "      <td>1.0</td>\n",
       "      <td>0</td>\n",
       "      <td>0</td>\n",
       "      <td>epQzqMPbNjh5t0Td3T6TJA</td>\n",
       "      <td>2009-08-07</td>\n",
       "      <td>low</td>\n",
       "    </tr>\n",
       "    <tr>\n",
       "      <th>2435228</th>\n",
       "      <td>YRcaNlwQ6XXPFDXWtuMGdA</td>\n",
       "      <td>I drove the Mazda 3 hatch here.  The car was p...</td>\n",
       "      <td>n4_SnHA4PhnVxztER2pdvQ</td>\n",
       "      <td>0</td>\n",
       "      <td>2.0</td>\n",
       "      <td>1</td>\n",
       "      <td>1</td>\n",
       "      <td>epQzqMPbNjh5t0Td3T6TJA</td>\n",
       "      <td>2009-08-07</td>\n",
       "      <td>low</td>\n",
       "    </tr>\n",
       "    <tr>\n",
       "      <th>2445851</th>\n",
       "      <td>YRcaNlwQ6XXPFDXWtuMGdA</td>\n",
       "      <td>I got into Zipcar through participating in the...</td>\n",
       "      <td>HTK2w35Hm_ZjY91C3Ve36A</td>\n",
       "      <td>1</td>\n",
       "      <td>4.0</td>\n",
       "      <td>0</td>\n",
       "      <td>3</td>\n",
       "      <td>epQzqMPbNjh5t0Td3T6TJA</td>\n",
       "      <td>2009-08-07</td>\n",
       "      <td>high</td>\n",
       "    </tr>\n",
       "    <tr>\n",
       "      <th>2449521</th>\n",
       "      <td>YRcaNlwQ6XXPFDXWtuMGdA</td>\n",
       "      <td>I've driven both the Matrix and Mini from this...</td>\n",
       "      <td>ThjiXoC6bABxmVm8CjGIWA</td>\n",
       "      <td>0</td>\n",
       "      <td>4.0</td>\n",
       "      <td>0</td>\n",
       "      <td>2</td>\n",
       "      <td>epQzqMPbNjh5t0Td3T6TJA</td>\n",
       "      <td>2009-08-07</td>\n",
       "      <td>high</td>\n",
       "    </tr>\n",
       "  </tbody>\n",
       "</table>\n",
       "</div>"
      ],
      "text/plain": [
       "                        user_id  \\\n",
       "2416046  YRcaNlwQ6XXPFDXWtuMGdA   \n",
       "2435228  YRcaNlwQ6XXPFDXWtuMGdA   \n",
       "2445851  YRcaNlwQ6XXPFDXWtuMGdA   \n",
       "2449521  YRcaNlwQ6XXPFDXWtuMGdA   \n",
       "\n",
       "                                                      text  \\\n",
       "2416046  This is the location closest to my house.  The...   \n",
       "2435228  I drove the Mazda 3 hatch here.  The car was p...   \n",
       "2445851  I got into Zipcar through participating in the...   \n",
       "2449521  I've driven both the Matrix and Mini from this...   \n",
       "\n",
       "                      review_id  cool  stars  funny  useful  \\\n",
       "2416046  o6ai4rXm79H0o73BMgOqfQ     0    1.0      0       0   \n",
       "2435228  n4_SnHA4PhnVxztER2pdvQ     0    2.0      1       1   \n",
       "2445851  HTK2w35Hm_ZjY91C3Ve36A     1    4.0      0       3   \n",
       "2449521  ThjiXoC6bABxmVm8CjGIWA     0    4.0      0       2   \n",
       "\n",
       "                    business_id       date rating_category  \n",
       "2416046  epQzqMPbNjh5t0Td3T6TJA 2009-08-07             low  \n",
       "2435228  epQzqMPbNjh5t0Td3T6TJA 2009-08-07             low  \n",
       "2445851  epQzqMPbNjh5t0Td3T6TJA 2009-08-07            high  \n",
       "2449521  epQzqMPbNjh5t0Td3T6TJA 2009-08-07            high  "
      ]
     },
     "execution_count": 38,
     "metadata": {},
     "output_type": "execute_result"
    }
   ],
   "source": [
    "reviews_df[(reviews_df['user_id'] == 'YRcaNlwQ6XXPFDXWtuMGdA') & \n",
    "           (reviews_df['business_id'] == 'epQzqMPbNjh5t0Td3T6TJA') &\n",
    "          (reviews_df['date'] == '2009-08-07')]#[['text', 'stars']]"
   ]
  },
  {
   "cell_type": "markdown",
   "metadata": {},
   "source": [
    "looks weird"
   ]
  },
  {
   "cell_type": "code",
   "execution_count": 39,
   "metadata": {},
   "outputs": [
    {
     "data": {
      "text/plain": [
       "1537"
      ]
     },
     "execution_count": 39,
     "metadata": {},
     "output_type": "execute_result"
    }
   ],
   "source": [
    "res = res[res > 1].index.values\n",
    "len(res)"
   ]
  },
  {
   "cell_type": "markdown",
   "metadata": {},
   "source": [
    "I think we can ignore these"
   ]
  },
  {
   "cell_type": "code",
   "execution_count": 40,
   "metadata": {},
   "outputs": [],
   "source": [
    "unzipped_res = list(zip(*res))\n",
    "u, b, d = unzipped_res[0], unzipped_res[1], unzipped_res[2]\n",
    "reviews_df = reviews_df[~((reviews_df['user_id'].isin(u)) & (reviews_df['business_id'].isin(b)) & (reviews_df['date'].isin(d)))]"
   ]
  },
  {
   "cell_type": "markdown",
   "metadata": {},
   "source": [
    "Selecting Most recent review if multiple reviews are present from a user on the same business"
   ]
  },
  {
   "cell_type": "code",
   "execution_count": 41,
   "metadata": {},
   "outputs": [],
   "source": [
    "idx = reviews_df.groupby(['user_id', 'business_id'])['date'].transform(max) == reviews_df['date']\n",
    "reviews_df = reviews_df[idx]"
   ]
  },
  {
   "cell_type": "code",
   "execution_count": 42,
   "metadata": {},
   "outputs": [],
   "source": [
    "# Check Again\n",
    "# reviews_df['len_of_review'] = reviews_df['text'].apply(lambda x: len(x) if len(x) < 7000 else 7000)\n",
    "# reviews_df[['len_of_review', 'stars']].plot.scatter(y='len_of_review', x='stars')"
   ]
  },
  {
   "cell_type": "code",
   "execution_count": 43,
   "metadata": {
    "id": "zhhNgkg28AEr"
   },
   "outputs": [],
   "source": [
    "del(reviews_df)"
   ]
  },
  {
   "cell_type": "markdown",
   "metadata": {
    "id": "rqCwgXfE3O36"
   },
   "source": [
    "## Exploring Tip"
   ]
  },
  {
   "cell_type": "code",
   "execution_count": 57,
   "metadata": {
    "colab": {
     "base_uri": "https://localhost:8080/"
    },
    "id": "hjMAvvPp7-8-",
    "outputId": "49354902-019c-47b0-c69d-33a131a08bac"
   },
   "outputs": [
    {
     "data": {
      "text/html": [
       "<div>\n",
       "<style scoped>\n",
       "    .dataframe tbody tr th:only-of-type {\n",
       "        vertical-align: middle;\n",
       "    }\n",
       "\n",
       "    .dataframe tbody tr th {\n",
       "        vertical-align: top;\n",
       "    }\n",
       "\n",
       "    .dataframe thead th {\n",
       "        text-align: right;\n",
       "    }\n",
       "</style>\n",
       "<table border=\"1\" class=\"dataframe\">\n",
       "  <thead>\n",
       "    <tr style=\"text-align: right;\">\n",
       "      <th></th>\n",
       "      <th>text</th>\n",
       "      <th>business_id</th>\n",
       "      <th>compliment_count</th>\n",
       "      <th>date</th>\n",
       "      <th>user_id</th>\n",
       "    </tr>\n",
       "  </thead>\n",
       "  <tbody>\n",
       "    <tr>\n",
       "      <th>0</th>\n",
       "      <td>Here for a quick mtg</td>\n",
       "      <td>UYX5zL_Xj9WEc_Wp-FrqHw</td>\n",
       "      <td>0</td>\n",
       "      <td>2013-11-26</td>\n",
       "      <td>hf27xTME3EiCp6NL6VtWZQ</td>\n",
       "    </tr>\n",
       "    <tr>\n",
       "      <th>1</th>\n",
       "      <td>Cucumber strawberry refresher</td>\n",
       "      <td>Ch3HkwQYv1YKw_FO06vBWA</td>\n",
       "      <td>0</td>\n",
       "      <td>2014-06-15</td>\n",
       "      <td>uEvusDwoSymbJJ0auR3muQ</td>\n",
       "    </tr>\n",
       "    <tr>\n",
       "      <th>2</th>\n",
       "      <td>Very nice good service good food</td>\n",
       "      <td>rDoT-MgxGRiYqCmi0bG10g</td>\n",
       "      <td>0</td>\n",
       "      <td>2016-07-18</td>\n",
       "      <td>AY-laIws3S7YXNl_f_D6rQ</td>\n",
       "    </tr>\n",
       "    <tr>\n",
       "      <th>3</th>\n",
       "      <td>t's a small place. The staff is friendly</td>\n",
       "      <td>OHXnDV01gLokiX1ELaQufA</td>\n",
       "      <td>0</td>\n",
       "      <td>2014-06-06</td>\n",
       "      <td>Ue_7yUlkEbX4AhnYdUfL7g</td>\n",
       "    </tr>\n",
       "    <tr>\n",
       "      <th>4</th>\n",
       "      <td>8 sandwiches, $24 total...what a bargain!!! An...</td>\n",
       "      <td>GMrwDXRlAZU2zj5nH6l4vQ</td>\n",
       "      <td>0</td>\n",
       "      <td>2011-04-08</td>\n",
       "      <td>LltbT_fUMqZ-ZJP-vJ84IQ</td>\n",
       "    </tr>\n",
       "  </tbody>\n",
       "</table>\n",
       "</div>"
      ],
      "text/plain": [
       "                                                text             business_id  \\\n",
       "0                               Here for a quick mtg  UYX5zL_Xj9WEc_Wp-FrqHw   \n",
       "1                      Cucumber strawberry refresher  Ch3HkwQYv1YKw_FO06vBWA   \n",
       "2                   Very nice good service good food  rDoT-MgxGRiYqCmi0bG10g   \n",
       "3           t's a small place. The staff is friendly  OHXnDV01gLokiX1ELaQufA   \n",
       "4  8 sandwiches, $24 total...what a bargain!!! An...  GMrwDXRlAZU2zj5nH6l4vQ   \n",
       "\n",
       "   compliment_count       date                 user_id  \n",
       "0                 0 2013-11-26  hf27xTME3EiCp6NL6VtWZQ  \n",
       "1                 0 2014-06-15  uEvusDwoSymbJJ0auR3muQ  \n",
       "2                 0 2016-07-18  AY-laIws3S7YXNl_f_D6rQ  \n",
       "3                 0 2014-06-06  Ue_7yUlkEbX4AhnYdUfL7g  \n",
       "4                 0 2011-04-08  LltbT_fUMqZ-ZJP-vJ84IQ  "
      ]
     },
     "execution_count": 57,
     "metadata": {},
     "output_type": "execute_result"
    }
   ],
   "source": [
    "tips_df = pd.read_csv(data_dir + 'tip.csv')\n",
    "tips_df.drop(['Unnamed: 0'], axis=1, inplace=True)\n",
    "# for c in tips_df.columns:\n",
    "#     tips_df[c] = tips_df[c].apply(lambda x: x[2:-1] if type(x) is str else x)\n",
    "tips_df['date'] = pd.to_datetime(pd.to_datetime(tips_df['date'], format='%Y-%m-%d %H:%M:%S').dt.date, format='%Y-%m-%d')\n",
    "tips_df.head()"
   ]
  },
  {
   "cell_type": "code",
   "execution_count": 58,
   "metadata": {},
   "outputs": [
    {
     "data": {
      "text/plain": [
       "user_id                 business_id             date      \n",
       "72jwwqkbKvNc17wZIh4xqQ  VyjyHoBg3KC5BSFRlD0ZPQ  2013-05-17    19\n",
       "v15qziW5NRbveksIoiDnqQ  Xb9gBMPCrgZ2ylESj82AqQ  2019-04-22    19\n",
       "mkbx55W8B8aPLgDqex7qgg  etid3CozFvEOFcvDwHXsDw  2016-06-13    16\n",
       "BUP6Izyj6B6V4DPnIajl2g  STsW9ALww7yeVNcRxXEmXQ  2013-10-18    14\n",
       "o_dPk6REa-SPz0RD4J04Zw  XZbuPXdyA0ZtTu3AzqtQhg  2012-01-31    14\n",
       "                                                              ..\n",
       "-pJ7LCuCqhvzXJLTDSYYvQ  1lReBAd4iLe0rBLKiurw7Q  2010-11-25     0\n",
       "LIj_X_4luQAWf3i10Gx1OA  0WI53UcYIJLPagGNSxnqJg  2012-06-16     0\n",
       "GJJPGC3m5EGJHRDYW5HyZw  _J-nDE8uzOs4dW7FOVN54A  2018-06-22     0\n",
       "                        Wf2IX3BtWSyeUKnoRX2dew  2019-05-16     0\n",
       "xLoLwTzlTQ1Qj64prPoLIw  QpCYSH83E5qT9Vss28Odug  2019-05-26     0\n",
       "Name: text, Length: 1291757, dtype: int64"
      ]
     },
     "execution_count": 58,
     "metadata": {},
     "output_type": "execute_result"
    }
   ],
   "source": [
    "res = tips_df[['user_id', 'business_id', 'date','text']].groupby(by=['user_id', 'business_id', 'date'])['text'].count().sort_values(ascending=False)\n",
    "res"
   ]
  },
  {
   "cell_type": "code",
   "execution_count": 59,
   "metadata": {},
   "outputs": [
    {
     "data": {
      "text/html": [
       "<div>\n",
       "<style scoped>\n",
       "    .dataframe tbody tr th:only-of-type {\n",
       "        vertical-align: middle;\n",
       "    }\n",
       "\n",
       "    .dataframe tbody tr th {\n",
       "        vertical-align: top;\n",
       "    }\n",
       "\n",
       "    .dataframe thead th {\n",
       "        text-align: right;\n",
       "    }\n",
       "</style>\n",
       "<table border=\"1\" class=\"dataframe\">\n",
       "  <thead>\n",
       "    <tr style=\"text-align: right;\">\n",
       "      <th></th>\n",
       "      <th>text</th>\n",
       "      <th>business_id</th>\n",
       "      <th>compliment_count</th>\n",
       "      <th>date</th>\n",
       "      <th>user_id</th>\n",
       "    </tr>\n",
       "  </thead>\n",
       "  <tbody>\n",
       "    <tr>\n",
       "      <th>437277</th>\n",
       "      <td>First level fire extinguisher next to ice mach...</td>\n",
       "      <td>Xb9gBMPCrgZ2ylESj82AqQ</td>\n",
       "      <td>0</td>\n",
       "      <td>2019-04-22</td>\n",
       "      <td>v15qziW5NRbveksIoiDnqQ</td>\n",
       "    </tr>\n",
       "    <tr>\n",
       "      <th>441624</th>\n",
       "      <td>Free wifi</td>\n",
       "      <td>Xb9gBMPCrgZ2ylESj82AqQ</td>\n",
       "      <td>0</td>\n",
       "      <td>2019-04-22</td>\n",
       "      <td>v15qziW5NRbveksIoiDnqQ</td>\n",
       "    </tr>\n",
       "    <tr>\n",
       "      <th>446829</th>\n",
       "      <td>ire extinguisher next to pool and stairs and d...</td>\n",
       "      <td>Xb9gBMPCrgZ2ylESj82AqQ</td>\n",
       "      <td>0</td>\n",
       "      <td>2019-04-22</td>\n",
       "      <td>v15qziW5NRbveksIoiDnqQ</td>\n",
       "    </tr>\n",
       "    <tr>\n",
       "      <th>476238</th>\n",
       "      <td>lovely breakfast area under the stairs that a...</td>\n",
       "      <td>Xb9gBMPCrgZ2ylESj82AqQ</td>\n",
       "      <td>0</td>\n",
       "      <td>2019-04-22</td>\n",
       "      <td>v15qziW5NRbveksIoiDnqQ</td>\n",
       "    </tr>\n",
       "    <tr>\n",
       "      <th>494552</th>\n",
       "      <td>Hear the train at 3:05 AM</td>\n",
       "      <td>Xb9gBMPCrgZ2ylESj82AqQ</td>\n",
       "      <td>0</td>\n",
       "      <td>2019-04-22</td>\n",
       "      <td>v15qziW5NRbveksIoiDnqQ</td>\n",
       "    </tr>\n",
       "    <tr>\n",
       "      <th>497216</th>\n",
       "      <td>Pool closed 4/21/19, then reopened with song p...</td>\n",
       "      <td>Xb9gBMPCrgZ2ylESj82AqQ</td>\n",
       "      <td>0</td>\n",
       "      <td>2019-04-22</td>\n",
       "      <td>v15qziW5NRbveksIoiDnqQ</td>\n",
       "    </tr>\n",
       "    <tr>\n",
       "      <th>519547</th>\n",
       "      <td>Fire extinguisher second level next to smoking...</td>\n",
       "      <td>Xb9gBMPCrgZ2ylESj82AqQ</td>\n",
       "      <td>0</td>\n",
       "      <td>2019-04-22</td>\n",
       "      <td>v15qziW5NRbveksIoiDnqQ</td>\n",
       "    </tr>\n",
       "    <tr>\n",
       "      <th>527456</th>\n",
       "      <td>They have pool towels next to the pool jets</td>\n",
       "      <td>Xb9gBMPCrgZ2ylESj82AqQ</td>\n",
       "      <td>0</td>\n",
       "      <td>2019-04-22</td>\n",
       "      <td>v15qziW5NRbveksIoiDnqQ</td>\n",
       "    </tr>\n",
       "    <tr>\n",
       "      <th>540435</th>\n",
       "      <td>Fire extinguisher I asked machine, second level</td>\n",
       "      <td>Xb9gBMPCrgZ2ylESj82AqQ</td>\n",
       "      <td>0</td>\n",
       "      <td>2019-04-22</td>\n",
       "      <td>v15qziW5NRbveksIoiDnqQ</td>\n",
       "    </tr>\n",
       "    <tr>\n",
       "      <th>545988</th>\n",
       "      <td>Second level fire extinguisher next to designa...</td>\n",
       "      <td>Xb9gBMPCrgZ2ylESj82AqQ</td>\n",
       "      <td>0</td>\n",
       "      <td>2019-04-22</td>\n",
       "      <td>v15qziW5NRbveksIoiDnqQ</td>\n",
       "    </tr>\n",
       "    <tr>\n",
       "      <th>548476</th>\n",
       "      <td>Fire extinguisher second Level now smoking nex...</td>\n",
       "      <td>Xb9gBMPCrgZ2ylESj82AqQ</td>\n",
       "      <td>0</td>\n",
       "      <td>2019-04-22</td>\n",
       "      <td>v15qziW5NRbveksIoiDnqQ</td>\n",
       "    </tr>\n",
       "    <tr>\n",
       "      <th>553046</th>\n",
       "      <td>/21/19@11am-4pm, the pool it self was slimy/sl...</td>\n",
       "      <td>Xb9gBMPCrgZ2ylESj82AqQ</td>\n",
       "      <td>0</td>\n",
       "      <td>2019-04-22</td>\n",
       "      <td>v15qziW5NRbveksIoiDnqQ</td>\n",
       "    </tr>\n",
       "    <tr>\n",
       "      <th>556836</th>\n",
       "      <td>Make sure that you sign up with the online dea...</td>\n",
       "      <td>Xb9gBMPCrgZ2ylESj82AqQ</td>\n",
       "      <td>0</td>\n",
       "      <td>2019-04-22</td>\n",
       "      <td>v15qziW5NRbveksIoiDnqQ</td>\n",
       "    </tr>\n",
       "    <tr>\n",
       "      <th>557727</th>\n",
       "      <td>Fire extinguisher second level past ice machin...</td>\n",
       "      <td>Xb9gBMPCrgZ2ylESj82AqQ</td>\n",
       "      <td>0</td>\n",
       "      <td>2019-04-22</td>\n",
       "      <td>v15qziW5NRbveksIoiDnqQ</td>\n",
       "    </tr>\n",
       "    <tr>\n",
       "      <th>573501</th>\n",
       "      <td>fire extinguisher second level next to linen s...</td>\n",
       "      <td>Xb9gBMPCrgZ2ylESj82AqQ</td>\n",
       "      <td>0</td>\n",
       "      <td>2019-04-22</td>\n",
       "      <td>v15qziW5NRbveksIoiDnqQ</td>\n",
       "    </tr>\n",
       "    <tr>\n",
       "      <th>578201</th>\n",
       "      <td>his is like the second day, that I know of tha...</td>\n",
       "      <td>Xb9gBMPCrgZ2ylESj82AqQ</td>\n",
       "      <td>0</td>\n",
       "      <td>2019-04-22</td>\n",
       "      <td>v15qziW5NRbveksIoiDnqQ</td>\n",
       "    </tr>\n",
       "    <tr>\n",
       "      <th>580675</th>\n",
       "      <td>Second ice machine, the ice and vending machin...</td>\n",
       "      <td>Xb9gBMPCrgZ2ylESj82AqQ</td>\n",
       "      <td>0</td>\n",
       "      <td>2019-04-22</td>\n",
       "      <td>v15qziW5NRbveksIoiDnqQ</td>\n",
       "    </tr>\n",
       "    <tr>\n",
       "      <th>585711</th>\n",
       "      <td>hat are your step because that's where garbage...</td>\n",
       "      <td>Xb9gBMPCrgZ2ylESj82AqQ</td>\n",
       "      <td>0</td>\n",
       "      <td>2019-04-22</td>\n",
       "      <td>v15qziW5NRbveksIoiDnqQ</td>\n",
       "    </tr>\n",
       "    <tr>\n",
       "      <th>593250</th>\n",
       "      <td>What is this, if you can tip me on the behalf ...</td>\n",
       "      <td>Xb9gBMPCrgZ2ylESj82AqQ</td>\n",
       "      <td>0</td>\n",
       "      <td>2019-04-22</td>\n",
       "      <td>v15qziW5NRbveksIoiDnqQ</td>\n",
       "    </tr>\n",
       "  </tbody>\n",
       "</table>\n",
       "</div>"
      ],
      "text/plain": [
       "                                                     text  \\\n",
       "437277  First level fire extinguisher next to ice mach...   \n",
       "441624                                          Free wifi   \n",
       "446829  ire extinguisher next to pool and stairs and d...   \n",
       "476238   lovely breakfast area under the stairs that a...   \n",
       "494552                          Hear the train at 3:05 AM   \n",
       "497216  Pool closed 4/21/19, then reopened with song p...   \n",
       "519547  Fire extinguisher second level next to smoking...   \n",
       "527456        They have pool towels next to the pool jets   \n",
       "540435    Fire extinguisher I asked machine, second level   \n",
       "545988  Second level fire extinguisher next to designa...   \n",
       "548476  Fire extinguisher second Level now smoking nex...   \n",
       "553046  /21/19@11am-4pm, the pool it self was slimy/sl...   \n",
       "556836  Make sure that you sign up with the online dea...   \n",
       "557727  Fire extinguisher second level past ice machin...   \n",
       "573501  fire extinguisher second level next to linen s...   \n",
       "578201  his is like the second day, that I know of tha...   \n",
       "580675  Second ice machine, the ice and vending machin...   \n",
       "585711  hat are your step because that's where garbage...   \n",
       "593250  What is this, if you can tip me on the behalf ...   \n",
       "\n",
       "                   business_id  compliment_count       date  \\\n",
       "437277  Xb9gBMPCrgZ2ylESj82AqQ                 0 2019-04-22   \n",
       "441624  Xb9gBMPCrgZ2ylESj82AqQ                 0 2019-04-22   \n",
       "446829  Xb9gBMPCrgZ2ylESj82AqQ                 0 2019-04-22   \n",
       "476238  Xb9gBMPCrgZ2ylESj82AqQ                 0 2019-04-22   \n",
       "494552  Xb9gBMPCrgZ2ylESj82AqQ                 0 2019-04-22   \n",
       "497216  Xb9gBMPCrgZ2ylESj82AqQ                 0 2019-04-22   \n",
       "519547  Xb9gBMPCrgZ2ylESj82AqQ                 0 2019-04-22   \n",
       "527456  Xb9gBMPCrgZ2ylESj82AqQ                 0 2019-04-22   \n",
       "540435  Xb9gBMPCrgZ2ylESj82AqQ                 0 2019-04-22   \n",
       "545988  Xb9gBMPCrgZ2ylESj82AqQ                 0 2019-04-22   \n",
       "548476  Xb9gBMPCrgZ2ylESj82AqQ                 0 2019-04-22   \n",
       "553046  Xb9gBMPCrgZ2ylESj82AqQ                 0 2019-04-22   \n",
       "556836  Xb9gBMPCrgZ2ylESj82AqQ                 0 2019-04-22   \n",
       "557727  Xb9gBMPCrgZ2ylESj82AqQ                 0 2019-04-22   \n",
       "573501  Xb9gBMPCrgZ2ylESj82AqQ                 0 2019-04-22   \n",
       "578201  Xb9gBMPCrgZ2ylESj82AqQ                 0 2019-04-22   \n",
       "580675  Xb9gBMPCrgZ2ylESj82AqQ                 0 2019-04-22   \n",
       "585711  Xb9gBMPCrgZ2ylESj82AqQ                 0 2019-04-22   \n",
       "593250  Xb9gBMPCrgZ2ylESj82AqQ                 0 2019-04-22   \n",
       "\n",
       "                       user_id  \n",
       "437277  v15qziW5NRbveksIoiDnqQ  \n",
       "441624  v15qziW5NRbveksIoiDnqQ  \n",
       "446829  v15qziW5NRbveksIoiDnqQ  \n",
       "476238  v15qziW5NRbveksIoiDnqQ  \n",
       "494552  v15qziW5NRbveksIoiDnqQ  \n",
       "497216  v15qziW5NRbveksIoiDnqQ  \n",
       "519547  v15qziW5NRbveksIoiDnqQ  \n",
       "527456  v15qziW5NRbveksIoiDnqQ  \n",
       "540435  v15qziW5NRbveksIoiDnqQ  \n",
       "545988  v15qziW5NRbveksIoiDnqQ  \n",
       "548476  v15qziW5NRbveksIoiDnqQ  \n",
       "553046  v15qziW5NRbveksIoiDnqQ  \n",
       "556836  v15qziW5NRbveksIoiDnqQ  \n",
       "557727  v15qziW5NRbveksIoiDnqQ  \n",
       "573501  v15qziW5NRbveksIoiDnqQ  \n",
       "578201  v15qziW5NRbveksIoiDnqQ  \n",
       "580675  v15qziW5NRbveksIoiDnqQ  \n",
       "585711  v15qziW5NRbveksIoiDnqQ  \n",
       "593250  v15qziW5NRbveksIoiDnqQ  "
      ]
     },
     "execution_count": 59,
     "metadata": {},
     "output_type": "execute_result"
    }
   ],
   "source": [
    "tips_df[(tips_df['user_id'] == 'v15qziW5NRbveksIoiDnqQ') & \n",
    "           (tips_df['business_id'] == 'Xb9gBMPCrgZ2ylESj82AqQ') &\n",
    "          (tips_df['date'] == '2019-04-22')]"
   ]
  },
  {
   "cell_type": "code",
   "execution_count": 60,
   "metadata": {},
   "outputs": [
    {
     "data": {
      "text/plain": [
       "25154"
      ]
     },
     "execution_count": 60,
     "metadata": {},
     "output_type": "execute_result"
    }
   ],
   "source": [
    "res = res[res > 1].index.values\n",
    "len(res)"
   ]
  },
  {
   "cell_type": "code",
   "execution_count": 61,
   "metadata": {
    "colab": {
     "base_uri": "https://localhost:8080/"
    },
    "id": "hReFwtq5-a1m",
    "outputId": "4907094a-6fdb-4ea8-ec80-86435b949af4"
   },
   "outputs": [],
   "source": [
    "unzipped_res = list(zip(*res))\n",
    "u, b, d = unzipped_res[0], unzipped_res[1], unzipped_res[2]\n",
    "tips_df = tips_df[~((tips_df['user_id'].isin(u)) & (tips_df['business_id'].isin(b)) & (tips_df['date'].isin(d)))]"
   ]
  },
  {
   "cell_type": "code",
   "execution_count": 62,
   "metadata": {},
   "outputs": [
    {
     "data": {
      "text/plain": [
       "user_id                 business_id           \n",
       "wxeTtPILiMl1L-yBB-D2HA  LBPl8N3ytjObk9-8NTfjVQ    104\n",
       "jnLX1hU69HxLvQQ76Hfvvg  ZwmHWcscwVcWkhZJoxbvUQ     71\n",
       "ztKdCT5La4wX8pOPutJBJQ  dA-8GCVKxUuyA8IdhQQp6w     62\n",
       "i7NpX00x1o4HohNKlYl8YQ  55hXQybFQruQgWoEYl9cvQ     60\n",
       "u0Tsdqtjq--k5RV1mq1hrg  ccGIAOl08zHt2lcn_UxPfw     55\n",
       "                                                 ... \n",
       "pQ7cqiX9Ocs9Rk9yBDguRQ  uuaH1UNcqcV-alT6nh42WA      0\n",
       "cUm-VQnFLSh93r1j8eowXQ  ffjnm1Es9fuPF1dnWEcWkA      0\n",
       "GJJPGC3m5EGJHRDYW5HyZw  Wf2IX3BtWSyeUKnoRX2dew      0\n",
       "                        _J-nDE8uzOs4dW7FOVN54A      0\n",
       "xLoLwTzlTQ1Qj64prPoLIw  QpCYSH83E5qT9Vss28Odug      0\n",
       "Name: text, Length: 983192, dtype: int64"
      ]
     },
     "execution_count": 62,
     "metadata": {},
     "output_type": "execute_result"
    }
   ],
   "source": [
    "tips_df[['user_id', 'business_id', 'text']].groupby(by=['user_id', 'business_id'])['text'].count().sort_values(ascending=False)"
   ]
  },
  {
   "cell_type": "markdown",
   "metadata": {},
   "source": [
    "Selecting Most recent tip if multiple tips are present from a user on the same business"
   ]
  },
  {
   "cell_type": "code",
   "execution_count": 63,
   "metadata": {},
   "outputs": [
    {
     "name": "stdout",
     "output_type": "stream",
     "text": [
      "1090508 1090508\n"
     ]
    }
   ],
   "source": [
    "idx = tips_df.groupby(['user_id', 'business_id'])['date'].transform(max) == tips_df['date']\n",
    "print(len(tips_df), len(idx))\n",
    "tips_df = tips_df[idx]"
   ]
  },
  {
   "cell_type": "code",
   "execution_count": 64,
   "metadata": {},
   "outputs": [
    {
     "data": {
      "text/plain": [
       "(983192, 1090508)"
      ]
     },
     "execution_count": 64,
     "metadata": {},
     "output_type": "execute_result"
    }
   ],
   "source": [
    "idx.sum(), len(idx)"
   ]
  },
  {
   "cell_type": "code",
   "execution_count": 65,
   "metadata": {},
   "outputs": [],
   "source": [
    "# tips_df.to_csv('tips_cleaned.csv', index=False)"
   ]
  },
  {
   "cell_type": "code",
   "execution_count": 66,
   "metadata": {
    "colab": {
     "base_uri": "https://localhost:8080/"
    },
    "id": "TksKqe1UC9ep",
    "outputId": "0da71366-103b-42a4-c964-d64d680b8484"
   },
   "outputs": [],
   "source": [
    "# tips_df.drop(['compliment_count', 'date'], axis = 1, inplace=True)\n",
    "# tips_df.columns"
   ]
  },
  {
   "cell_type": "code",
   "execution_count": 67,
   "metadata": {
    "colab": {
     "base_uri": "https://localhost:8080/"
    },
    "id": "UOQ0y28K8chl",
    "outputId": "25b8060c-c25a-4651-d315-75930aa6454f"
   },
   "outputs": [],
   "source": [
    "# tips_df['compliment_count'].nlargest(20)"
   ]
  },
  {
   "cell_type": "code",
   "execution_count": 68,
   "metadata": {
    "colab": {
     "base_uri": "https://localhost:8080/",
     "height": 754
    },
    "id": "0uMJhPsTDJcw",
    "outputId": "3108558c-6f7d-4c24-a675-ea0fc8ee85f1"
   },
   "outputs": [],
   "source": [
    "# reviews_df.merge(tips_df, on=['user_id', 'business_id'])"
   ]
  },
  {
   "cell_type": "code",
   "execution_count": 69,
   "metadata": {
    "id": "wL3-vwj49B8K"
   },
   "outputs": [],
   "source": [
    "# businesses_df = pd.read_csv(data_dir + 'yelp_academic_dataset_business.csv')\n",
    "# businesses_df.columns"
   ]
  },
  {
   "cell_type": "code",
   "execution_count": 70,
   "metadata": {
    "id": "Tx87BwZNAV67"
   },
   "outputs": [],
   "source": [
    "del(tips_df)"
   ]
  },
  {
   "cell_type": "code",
   "execution_count": null,
   "metadata": {},
   "outputs": [],
   "source": []
  }
 ],
 "metadata": {
  "colab": {
   "collapsed_sections": [],
   "name": "EDA.ipynb",
   "provenance": []
  },
  "kernelspec": {
   "display_name": "Python 3",
   "language": "python",
   "name": "python3"
  },
  "language_info": {
   "codemirror_mode": {
    "name": "ipython",
    "version": 3
   },
   "file_extension": ".py",
   "mimetype": "text/x-python",
   "name": "python",
   "nbconvert_exporter": "python",
   "pygments_lexer": "ipython3",
   "version": "3.8.5"
  },
  "varInspector": {
   "cols": {
    "lenName": 16,
    "lenType": 16,
    "lenVar": 40
   },
   "kernels_config": {
    "python": {
     "delete_cmd_postfix": "",
     "delete_cmd_prefix": "del ",
     "library": "var_list.py",
     "varRefreshCmd": "print(var_dic_list())"
    },
    "r": {
     "delete_cmd_postfix": ") ",
     "delete_cmd_prefix": "rm(",
     "library": "var_list.r",
     "varRefreshCmd": "cat(var_dic_list()) "
    }
   },
   "types_to_exclude": [
    "module",
    "function",
    "builtin_function_or_method",
    "instance",
    "_Feature"
   ],
   "window_display": false
  }
 },
 "nbformat": 4,
 "nbformat_minor": 4
}
