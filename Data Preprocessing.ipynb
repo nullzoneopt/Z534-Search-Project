{
 "cells": [
  {
   "cell_type": "code",
   "execution_count": 1,
   "metadata": {},
   "outputs": [],
   "source": [
    "import pickle\n",
    "import re\n",
    "import math\n",
    "from docx2python import docx2python\n",
    "import pandas as pd\n",
    "pd.set_option('display.max_columns', None)\n",
    "\n",
    "# from google.colab import drive\n",
    "# drive.mount('/content/drive')"
   ]
  },
  {
   "cell_type": "code",
   "execution_count": 2,
   "metadata": {},
   "outputs": [],
   "source": [
    "doc_result = docx2python(\"Categories.docx\")\n",
    "categories_to_subcategories = {}\n",
    "k = None\n",
    "for i in doc_result.body[0][0][0]:\n",
    "    if len(re.findall('\\t', i)) == 0:\n",
    "        k = ' '.join(re.findall(r'\\w+', i))\n",
    "        categories_to_subcategories[k] = [k]\n",
    "    \n",
    "    categories_to_subcategories[k].append(' '.join(re.findall(r'\\w+', i)))\n",
    "\n",
    "subcategories_to_categories = {}\n",
    "for k, v in categories_to_subcategories.items():\n",
    "    for x in set(v):\n",
    "        subcategories_to_categories.setdefault(x.lower(), []).append(k.lower())\n",
    "\n",
    "# https://stackoverflow.com/questions/54481198/python-match-multiple-substrings-in-a-string\n",
    "def clean_categories(string):\n",
    "    if type(string) is str:\n",
    "        categories = []\n",
    "        for key, values in categories_to_subcategories.items():\n",
    "            pattern = r'\\b({})\\b'.format('|'.join(map(re.escape, values)))\n",
    "            matches = set(map(str.lower, re.findall(pattern, string, re.IGNORECASE)))\n",
    "            categories.extend(list(filter(None, [x.lower() for x in values if x.lower() in matches])))\n",
    "        return list(set(categories))\n",
    "    else:\n",
    "        return string"
   ]
  },
  {
   "cell_type": "markdown",
   "metadata": {},
   "source": [
    "modift nlargest to filter top k"
   ]
  },
  {
   "cell_type": "code",
   "execution_count": 8,
   "metadata": {},
   "outputs": [
    {
     "name": "stderr",
     "output_type": "stream",
     "text": [
      "/geode2/home/u100/vimohan/Carbonate/env/lib/python3.8/site-packages/IPython/core/interactiveshell.py:3146: DtypeWarning: Columns (2,9,26,27,32,38,44,59,80,93,104) have mixed types.Specify dtype option on import or set low_memory=False.\n",
      "  has_raised = await self.run_ast_nodes(code_ast.body, cell_name,\n"
     ]
    }
   ],
   "source": [
    "businesses_df = pd.read_csv('../dataset/business.csv')\n",
    "\n",
    "# Dropping hours and attributes as their sub dictionaries are already added as features.\n",
    "businesses_df.drop(['Unnamed: 0', 'hours', 'attributes'], axis=1, inplace=True)\n",
    "businesses_df = businesses_df[businesses_df['is_open'] == 1]\n",
    "\n",
    "businesses_df['rating_category'] = businesses_df['stars'].apply(lambda x: 'low' if x < 3 else ('medium' if x < 4 else 'high'))\n",
    "\n",
    "businesses_df = businesses_df[businesses_df['state'].isin(businesses_df.groupby(by='state')['business_id'].count().sort_values(ascending=False).nlargest(3).keys().values)]\n",
    "\n",
    "businesses_df['cleaned_categories'] = businesses_df['categories'].apply(clean_categories)\n",
    "businesses_df['cleaned_categories'] = businesses_df['cleaned_categories'].apply(lambda x: x if type(x) is list else math.nan)\n",
    "businesses_df['parent_categories'] = businesses_df['cleaned_categories'].apply(lambda x: list(set([subcategories_to_categories[k][0] for k in x])) if type(x) is list else x)\n",
    "\n",
    "selected_parent_categories = businesses_df[['parent_categories', 'business_id']].explode('parent_categories').reset_index()[['parent_categories', 'business_id']].groupby(\n",
    "    by='parent_categories')['business_id'].count().nlargest(3).index.values\n",
    "\n",
    "businesses_df = businesses_df[businesses_df['business_id'].isin(\n",
    "    pd.concat([businesses_df[['parent_categories', 'business_id']].explode('parent_categories').reset_index()[['parent_categories', 'business_id']].groupby(\n",
    "        by='parent_categories').get_group(name)['business_id'] for name in selected_parent_categories]))]\n",
    "\n",
    "businesses_df.to_pickle(\"business_curtailed.pkl\")\n",
    "businesses_df['business_id'].to_pickle(\"business_ids.pkl\")\n",
    "\n",
    "del(businesses_df)"
   ]
  },
  {
   "cell_type": "code",
   "execution_count": 9,
   "metadata": {},
   "outputs": [
    {
     "name": "stderr",
     "output_type": "stream",
     "text": [
      "/geode2/home/u100/vimohan/Carbonate/env/lib/python3.8/site-packages/IPython/core/interactiveshell.py:3146: DtypeWarning: Columns (4) have mixed types.Specify dtype option on import or set low_memory=False.\n",
      "  has_raised = await self.run_ast_nodes(code_ast.body, cell_name,\n"
     ]
    }
   ],
   "source": [
    "users_df = pd.read_csv('../dataset/user.csv')\n",
    "users_df.drop(['Unnamed: 0'], axis=1, inplace=True)\n",
    "users_df['year'] = pd.DatetimeIndex(pd.to_datetime(users_df['yelping_since'], format='%Y-%m-%d %H:%M:%S')).year\n",
    "users_df = users_df[users_df['year'] >= 2010]\n",
    "users_df.to_pickle(\"user_curtailed.pkl\")\n",
    "\n",
    "users_df['user_id'].to_pickle(\"user_ids.pkl\")\n",
    "del(users_df)"
   ]
  },
  {
   "cell_type": "code",
   "execution_count": 30,
   "metadata": {},
   "outputs": [],
   "source": [
    "user_ids = pd.read_pickle('../pkl/user_ids.pkl')\n",
    "business_ids = pd.read_pickle('../pkl/business_ids.pkl')\n",
    "reviews_df = pd.read_csv('../dataset/review.csv')\n",
    "# reviews_df.drop(['cool', 'useful', 'funny'], axis=1, inplace=True)\n",
    "for c in reviews_df.columns:\n",
    "    reviews_df[c] = reviews_df[c].apply(lambda x: x[2:-1] if type(x) is str else x)\n",
    "reviews_df['date'] = pd.to_datetime(pd.to_datetime(reviews_df['date'], format='%Y-%m-%d %H:%M:%S').dt.date, format='%Y-%m-%d')\n",
    "reviews_df = reviews_df[(reviews_df['user_id'].isin(user_ids)) & (reviews_df['business_id'].isin(business_ids))]\n",
    "\n",
    "reviews_df['rating_category'] = reviews_df['stars'].apply(lambda x: 'low' if x < 3 else ('medium' if x < 4 else 'high'))\n",
    "reviews_df[['rating_category', 'business_id']].groupby(by='rating_category').count()\n",
    "res = reviews_df[['user_id', 'business_id', 'date', 'text']].groupby(by=['user_id', 'business_id', 'date'])['text'].count().sort_values(ascending=False)\n",
    "res = res[res > 1].index.values\n",
    "\n",
    "res = list(zip(*res))\n",
    "u, b, d = list(res[0]), list(res[1]), list(res[2])\n",
    "\n",
    "reviews_df = reviews_df[~((reviews_df['user_id'].isin(u)) & (reviews_df['business_id'].isin(b)) & (reviews_df['date'].isin(d)))]\n",
    "\n",
    "idx = reviews_df.groupby(['user_id', 'business_id'])['date'].transform(max) == reviews_df['date']\n",
    "reviews_df = reviews_df[idx]\n",
    "\n",
    "reviews_df.to_pickle(\"reviews_curtailed.pkl\")\n",
    "reviews_df['review_id'].to_pickle(\"reviews_id.pkl\")\n",
    "del(reviews_df)"
   ]
  },
  {
   "cell_type": "markdown",
   "metadata": {},
   "source": [
    "##### Generating a bigger Data set for review text data.\n",
    "\n",
    "Including data from **Top 7 states** instead of just 3"
   ]
  },
  {
   "cell_type": "code",
   "execution_count": 8,
   "metadata": {},
   "outputs": [
    {
     "name": "stderr",
     "output_type": "stream",
     "text": [
      "/geode2/home/u100/vimohan/Carbonate/env/lib/python3.8/site-packages/IPython/core/interactiveshell.py:3146: DtypeWarning: Columns (2,9,26,27,32,38,44,59,80,93,104) have mixed types.Specify dtype option on import or set low_memory=False.\n",
      "  has_raised = await self.run_ast_nodes(code_ast.body, cell_name,\n"
     ]
    }
   ],
   "source": [
    "businesses_df = pd.read_csv('../dataset/business.csv')\n",
    "\n",
    "# Dropping hours and attributes as their sub dictionaries are already added as features.\n",
    "businesses_df.drop(['Unnamed: 0', 'hours', 'attributes'], axis=1, inplace=True)\n",
    "businesses_df = businesses_df[businesses_df['is_open'] == 1]\n",
    "\n",
    "businesses_df['rating_category'] = businesses_df['stars'].apply(lambda x: 'low' if x < 3 else ('medium' if x < 4 else 'high'))\n",
    "\n",
    "businesses_df = businesses_df[businesses_df['state'].isin(businesses_df.groupby(by='state')['business_id'].count().sort_values(ascending=False).nlargest(7).keys().values)]\n",
    "\n",
    "businesses_df['cleaned_categories'] = businesses_df['categories'].apply(clean_categories)\n",
    "businesses_df['cleaned_categories'] = businesses_df['cleaned_categories'].apply(lambda x: x if type(x) is list else math.nan)\n",
    "businesses_df['parent_categories'] = businesses_df['cleaned_categories'].apply(lambda x: list(set([subcategories_to_categories[k][0] for k in x])) if type(x) is list else x)\n",
    "\n",
    "selected_parent_categories = businesses_df[['parent_categories', 'business_id']].explode('parent_categories').reset_index()[['parent_categories', 'business_id']].groupby(\n",
    "    by='parent_categories')['business_id'].count().nlargest(3).index.values\n",
    "\n",
    "businesses_df = businesses_df[businesses_df['business_id'].isin(\n",
    "    pd.concat([businesses_df[['parent_categories', 'business_id']].explode('parent_categories').reset_index()[['parent_categories', 'business_id']].groupby(\n",
    "        by='parent_categories').get_group(name)['business_id'] for name in selected_parent_categories]))]\n",
    "\n",
    "businesses_df.to_pickle(\"business_curtailed_4gb.pkl\")\n",
    "businesses_df['business_id'].to_pickle(\"business_ids_4gb.pkl\")\n",
    "\n",
    "del(businesses_df)"
   ]
  },
  {
   "cell_type": "code",
   "execution_count": 9,
   "metadata": {},
   "outputs": [
    {
     "name": "stderr",
     "output_type": "stream",
     "text": [
      "/geode2/home/u100/vimohan/Carbonate/env/lib/python3.8/site-packages/IPython/core/interactiveshell.py:3146: DtypeWarning: Columns (4) have mixed types.Specify dtype option on import or set low_memory=False.\n",
      "  has_raised = await self.run_ast_nodes(code_ast.body, cell_name,\n"
     ]
    }
   ],
   "source": [
    "users_df = pd.read_csv('../dataset/user.csv')\n",
    "users_df.drop(['Unnamed: 0'], axis=1, inplace=True)\n",
    "users_df['year'] = pd.DatetimeIndex(pd.to_datetime(users_df['yelping_since'], format='%Y-%m-%d %H:%M:%S')).year\n",
    "users_df = users_df[users_df['year'] >= 2010]\n",
    "users_df.to_pickle(\"user_curtailed_4gb.pkl\")\n",
    "\n",
    "users_df['user_id'].to_pickle(\"user_ids_4gb.pkl\")\n",
    "del(users_df)"
   ]
  },
  {
   "cell_type": "code",
   "execution_count": 30,
   "metadata": {},
   "outputs": [],
   "source": [
    "user_ids = pd.read_pickle('../pkl/user_ids_4gb.pkl')\n",
    "business_ids = pd.read_pickle('../pkl/business_ids_4gb.pkl')\n",
    "reviews_df = pd.read_csv('../dataset/review.csv')\n",
    "# reviews_df.drop(['cool', 'useful', 'funny'], axis=1, inplace=True)\n",
    "for c in reviews_df.columns:\n",
    "    reviews_df[c] = reviews_df[c].apply(lambda x: x[2:-1] if type(x) is str else x)\n",
    "reviews_df['date'] = pd.to_datetime(pd.to_datetime(reviews_df['date'], format='%Y-%m-%d %H:%M:%S').dt.date, format='%Y-%m-%d')\n",
    "reviews_df = reviews_df[(reviews_df['user_id'].isin(user_ids)) & (reviews_df['business_id'].isin(business_ids))]\n",
    "\n",
    "reviews_df['rating_category'] = reviews_df['stars'].apply(lambda x: 'low' if x < 3 else ('medium' if x < 4 else 'high'))\n",
    "reviews_df[['rating_category', 'business_id']].groupby(by='rating_category').count()\n",
    "res = reviews_df[['user_id', 'business_id', 'date', 'text']].groupby(by=['user_id', 'business_id', 'date'])['text'].count().sort_values(ascending=False)\n",
    "res = res[res > 1].index.values\n",
    "\n",
    "res = list(zip(*res))\n",
    "u, b, d = list(res[0]), list(res[1]), list(res[2])\n",
    "\n",
    "reviews_df = reviews_df[~((reviews_df['user_id'].isin(u)) & (reviews_df['business_id'].isin(b)) & (reviews_df['date'].isin(d)))]\n",
    "\n",
    "idx = reviews_df.groupby(['user_id', 'business_id'])['date'].transform(max) == reviews_df['date']\n",
    "reviews_df = reviews_df[idx]\n",
    "\n",
    "reviews_df.to_pickle(\"reviews_curtailed_4gb.pkl\")\n",
    "#reviews_df['review_id'].to_pickle(\"reviews_id.pkl\")\n",
    "del(reviews_df)"
   ]
  }
 ],
 "metadata": {
  "kernelspec": {
   "display_name": "Python 3",
   "language": "python",
   "name": "python3"
  },
  "language_info": {
   "codemirror_mode": {
    "name": "ipython",
    "version": 3
   },
   "file_extension": ".py",
   "mimetype": "text/x-python",
   "name": "python",
   "nbconvert_exporter": "python",
   "pygments_lexer": "ipython3",
   "version": "3.7.9"
  }
 },
 "nbformat": 4,
 "nbformat_minor": 4
}
